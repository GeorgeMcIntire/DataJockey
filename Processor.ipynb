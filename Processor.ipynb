{
 "cells": [
  {
   "cell_type": "markdown",
   "id": "63099da7",
   "metadata": {},
   "source": [
    "# Music ETL Process Notebook\n",
    "\n",
    "This code is the notebook version of the `processor.py` file which is the ETL script I use whenever I have a new batch of songs that need to processed, analyzed, and uploaded to my database.\n",
    "\n",
    "Here I annotate each step of the process with explanations of what this code does."
   ]
  },
  {
   "cell_type": "code",
   "execution_count": 1,
   "id": "f9cef199",
   "metadata": {},
   "outputs": [],
   "source": [
    "#Imports\n",
    "import sqlite3\n",
    "import pandas as pd\n",
    "import numpy as np\n",
    "import matchering as mg\n",
    "import json\n",
    "from glob import glob\n",
    "from tqdm import tqdm\n",
    "from io import StringIO\n",
    "import sys\n",
    "import pathlib\n",
    "\n",
    "import taglib\n",
    "from datetime import datetime\n",
    "import shutil\n",
    "import os\n",
    "from essentia.standard import MusicExtractor, YamlOutput,MetadataReader, PCA, YamlInput\n",
    "import warnings\n",
    "from zipfile import ZipFile\n",
    "warnings.filterwarnings('ignore')\n",
    "pd.set_option('max_colwidth', 100)"
   ]
  },
  {
   "cell_type": "code",
   "execution_count": 2,
   "id": "ab31690e",
   "metadata": {},
   "outputs": [],
   "source": [
    "#Import utility functions from project_tools package\n",
    "from project_tools.utils import effnet_config, json_opener, adapt_array, convert_array, tag_cleaner, digit2letters\n",
    "from project_tools.models import Activator, Classifier"
   ]
  },
  {
   "cell_type": "markdown",
   "id": "4b1a623d",
   "metadata": {},
   "source": [
    "Since my sqlite database holds numpy arrays, which aren't a native data type, I need to register two functions `adapt_array` and `convert_array` which are used to handle the arrays."
   ]
  },
  {
   "cell_type": "code",
   "execution_count": 3,
   "id": "cf77a590",
   "metadata": {},
   "outputs": [],
   "source": [
    "\n",
    "sqlite3.register_adapter(np.ndarray, adapt_array)\n",
    "sqlite3.register_converter(\"array\", convert_array)"
   ]
  },
  {
   "cell_type": "markdown",
   "id": "45d16eff",
   "metadata": {},
   "source": [
    "Connect to the `jaage.db` database"
   ]
  },
  {
   "cell_type": "code",
   "execution_count": 4,
   "id": "069e3e31",
   "metadata": {},
   "outputs": [],
   "source": [
    "conn = sqlite3.connect(\"jaage.db\", detect_types= sqlite3.PARSE_DECLTYPES)\n",
    "cur = conn.cursor()"
   ]
  },
  {
   "cell_type": "markdown",
   "id": "ddf26c81",
   "metadata": {},
   "source": [
    "`Loading Dock` is the directory in my hard drive which is the staging area for newly downloaded songs.\n",
    "\n",
    "`DJ Hub` is where the original files are sent to after being processed."
   ]
  },
  {
   "cell_type": "code",
   "execution_count": 5,
   "id": "4a54012a",
   "metadata": {},
   "outputs": [],
   "source": [
    "load_path = \"../../../../Volumes/LaCie/Loading Dock/\"\n",
    "dj_hub  = \"../../../../Volumes/LaCie/DJ Hub/\""
   ]
  },
  {
   "cell_type": "markdown",
   "id": "be16fb48",
   "metadata": {},
   "source": [
    "Sometimes downloaded songs are packaged as zip files, so if that is the case I unzip them."
   ]
  },
  {
   "cell_type": "code",
   "execution_count": 6,
   "id": "d0d9e0db",
   "metadata": {},
   "outputs": [
    {
     "data": {
      "text/plain": [
       "[]"
      ]
     },
     "execution_count": 6,
     "metadata": {},
     "output_type": "execute_result"
    }
   ],
   "source": [
    "zip_files = glob(load_path+\"*.zip\")\n",
    "zip_files"
   ]
  },
  {
   "cell_type": "code",
   "execution_count": 7,
   "id": "e796a662",
   "metadata": {},
   "outputs": [],
   "source": [
    "if len(zip_files) > 0:\n",
    "    for z in zip_files:\n",
    "        zf = ZipFile(z)\n",
    "        zf.extractall(path=load_path)\n",
    "        shutil.move(z,dj_hub)"
   ]
  },
  {
   "cell_type": "markdown",
   "id": "b6574c33",
   "metadata": {},
   "source": [
    "Collect all the music files."
   ]
  },
  {
   "cell_type": "code",
   "execution_count": 8,
   "id": "41a018cb",
   "metadata": {},
   "outputs": [],
   "source": [
    "loading_files = pathlib.Path(load_path).glob(\"*[.wav, .mp3, .aiff]\")"
   ]
  },
  {
   "cell_type": "code",
   "execution_count": 9,
   "id": "2c07c5c4",
   "metadata": {},
   "outputs": [
    {
     "name": "stdout",
     "output_type": "stream",
     "text": [
      "There are 7 files for the ETL pipeline\n"
     ]
    }
   ],
   "source": [
    "len_loading_files = len(list(loading_files))\n",
    "print(\"There are {} files for the ETL pipeline\".format(len_loading_files))"
   ]
  },
  {
   "cell_type": "code",
   "execution_count": 10,
   "id": "efb89027",
   "metadata": {},
   "outputs": [],
   "source": [
    "loading_files = pathlib.Path(load_path).glob(\"*[.wav, .mp3, .aiff]\")"
   ]
  },
  {
   "cell_type": "markdown",
   "id": "6062944e",
   "metadata": {},
   "source": [
    "## Process Steps\n",
    "\n",
    "### 1. Mastering\n",
    "\n",
    "\n",
    "### 2. Essentia Features Extraction\n",
    "\n",
    "\n",
    "### 3. Effnet Embeddings and Genre Activations\n",
    "\n",
    "### 4. Style, Mood, and Genre Classification\n",
    "\n"
   ]
  },
  {
   "cell_type": "code",
   "execution_count": null,
   "id": "e3ce2206",
   "metadata": {},
   "outputs": [],
   "source": []
  },
  {
   "cell_type": "markdown",
   "id": "74ae074f",
   "metadata": {},
   "source": [
    "### Mastering\n",
    "\n",
    "Here I use the [matchering](https://github.com/sergree/matchering) package to adjust the sound and levels of the fresh batch of songs to make them more appropriate for DJing.\n",
    "\n",
    "\n",
    "The tool works by taking the sound of an existing song and adjusts new songs on based on it."
   ]
  },
  {
   "cell_type": "code",
   "execution_count": 11,
   "id": "07c8a0cb",
   "metadata": {},
   "outputs": [],
   "source": [
    "#The song used to adjust other songs.\n",
    "ref_file = '../../../../Volumes/LaCie/DJ Hub/Rayko - Magnetized (Rayko rework).wav'\n",
    "#The directory where all my music is stored.\n",
    "collection = \"Collection\"\n"
   ]
  },
  {
   "cell_type": "markdown",
   "id": "730cfe33",
   "metadata": {},
   "source": [
    "- Loop over the new files in the `loading_files` list, \n",
    "\n",
    "- Process them using matchering, \n",
    "\n",
    "- Then move them to collection\n",
    "\n",
    "- Move original files to DJ Hub"
   ]
  },
  {
   "cell_type": "code",
   "execution_count": 12,
   "id": "5611f5a1",
   "metadata": {},
   "outputs": [
    {
     "name": "stderr",
     "output_type": "stream",
     "text": [
      "6it [03:43, 33.66s/it]"
     ]
    },
    {
     "name": "stdout",
     "output_type": "stream",
     "text": [
      "../../../../Volumes/LaCie/Loading Dock/Istanbul 70 by Barış K - ISTANBUL70 - Disco, Psych, Folk edits by Barış K Vol.5 - 01 Şenay - Dalkavuk (Barış K edit).aiff already exists\n"
     ]
    },
    {
     "name": "stderr",
     "output_type": "stream",
     "text": [
      "7it [04:13, 36.18s/it]"
     ]
    },
    {
     "name": "stdout",
     "output_type": "stream",
     "text": [
      "../../../../Volumes/LaCie/Loading Dock/Istanbul 70 by Barış K - ISTANBUL70 - Disco, Psych, Folk edits by Barış K Vol.5 - 02 Modern Folk Üçlüsü feat. Ayşegül Aldinç - Dönme Dolap (Barış K edit).aiff already exists\n"
     ]
    },
    {
     "name": "stderr",
     "output_type": "stream",
     "text": [
      "\n"
     ]
    }
   ],
   "source": [
    "new_file_paths = []\n",
    "for f in tqdm(loading_files):\n",
    "    out_stem = f.stem\n",
    "    out_path = f.parent.parent/collection/f.stem\n",
    "    out_path = out_path.as_posix() +\".wav\"\n",
    "    \n",
    "    mg.process(target= f.as_posix(),\n",
    "              reference=ref_file, \n",
    "              results = [mg.pcm24(out_path)])\n",
    "    \n",
    "    load_tags = taglib.File(f.as_posix())\n",
    "    mastered_tags = taglib.File(out_path)\n",
    "    mastered_tags.tags = load_tags.tags\n",
    "    mastered_tags.save()\n",
    "    \n",
    "    new_file_paths.append(out_path)\n",
    "    \n",
    "    try:\n",
    "        shutil.move(f.as_posix(), dj_hub)\n",
    "    except:\n",
    "        print(f, \"already exists\")\n",
    "        os.remove(f.as_posix())\n",
    "    "
   ]
  },
  {
   "cell_type": "code",
   "execution_count": null,
   "id": "56f2516a",
   "metadata": {},
   "outputs": [],
   "source": []
  },
  {
   "cell_type": "markdown",
   "id": "4ec9b99a",
   "metadata": {},
   "source": [
    "**Before I move on to the next step I head over to RekordBox (the program I use to manage my library) and upload the new batch of songs on there and edit their metadata tags**"
   ]
  },
  {
   "cell_type": "code",
   "execution_count": null,
   "id": "9f4807d9",
   "metadata": {},
   "outputs": [],
   "source": []
  },
  {
   "cell_type": "markdown",
   "id": "570ce2cb",
   "metadata": {},
   "source": [
    "### Music Extraction"
   ]
  },
  {
   "cell_type": "markdown",
   "id": "da469530",
   "metadata": {},
   "source": [
    "I use essentia to extract a variety of musical features and metadata from the songs.\n",
    "\n",
    "The full description of what the `MusicExtractor` tool does can be found [here](https://essentia.upf.edu/tutorial_extractors_musicextractor.html) "
   ]
  },
  {
   "cell_type": "code",
   "execution_count": 13,
   "id": "7dedacde",
   "metadata": {},
   "outputs": [
    {
     "data": {
      "text/plain": [
       "7"
      ]
     },
     "execution_count": 13,
     "metadata": {},
     "output_type": "execute_result"
    }
   ],
   "source": [
    "copied_paths = new_file_paths[:]\n",
    "new_file_paths = []\n",
    "for i in copied_paths:\n",
    "    if os.path.exists(i):\n",
    "        new_file_paths.append(i)\n",
    "        \n",
    "len(new_file_paths)"
   ]
  },
  {
   "cell_type": "markdown",
   "id": "f272c543",
   "metadata": {},
   "source": [
    "Initialize the extractor object"
   ]
  },
  {
   "cell_type": "code",
   "execution_count": 15,
   "id": "f5916139",
   "metadata": {},
   "outputs": [],
   "source": [
    "music_ext = MusicExtractor(lowlevelStats=['mean', 'stdev'],\n",
    "                                    rhythmStats=['mean', 'stdev', \"max\", \"min\", \"median\"],\n",
    "                                    tonalStats=['mean', 'stdev'],\n",
    "                           mfccStats = [\"mean\", \"cov\"],\n",
    "                           gfccStats = [\"mean\", \"cov\"])"
   ]
  },
  {
   "cell_type": "markdown",
   "id": "c24bb81d",
   "metadata": {},
   "source": [
    "Iterate the new batch, extract their data, and collect it in a list called `extracted_files`"
   ]
  },
  {
   "cell_type": "code",
   "execution_count": 16,
   "id": "054a1714",
   "metadata": {},
   "outputs": [
    {
     "name": "stderr",
     "output_type": "stream",
     "text": [
      "  0%|                                                                                                                                           | 0/7 [00:00<?, ?it/s][   INFO   ] MusicExtractor: Read metadata\n",
      "[   INFO   ] MusicExtractor: Compute md5 audio hash, codec, length, and EBU 128 loudness\n",
      "[   INFO   ] MusicExtractor: Replay gain\n",
      "[   INFO   ] MusicExtractor: Compute audio features\n",
      "[   INFO   ] MusicExtractor: Compute aggregation\n",
      "[   INFO   ] All done\n",
      " 14%|██████████████████▋                                                                                                                | 1/7 [00:14<01:29, 14.92s/it][   INFO   ] MusicExtractor: Read metadata\n",
      "[   INFO   ] MusicExtractor: Compute md5 audio hash, codec, length, and EBU 128 loudness\n",
      "[   INFO   ] MusicExtractor: Replay gain\n",
      "[   INFO   ] MusicExtractor: Compute audio features\n",
      "[   INFO   ] MusicExtractor: Compute aggregation\n",
      "[   INFO   ] All done\n",
      " 29%|█████████████████████████████████████▍                                                                                             | 2/7 [00:27<01:07, 13.51s/it][   INFO   ] MusicExtractor: Read metadata\n",
      " 43%|████████████████████████████████████████████████████████▏                                                                          | 3/7 [00:37<00:48, 12.05s/it][   INFO   ] MusicExtractor: Compute md5 audio hash, codec, length, and EBU 128 loudness\n",
      "[   INFO   ] MusicExtractor: Replay gain\n",
      "[   INFO   ] MusicExtractor: Compute audio features\n",
      "[   INFO   ] MusicExtractor: Compute aggregation\n",
      "[   INFO   ] All done\n",
      "[   INFO   ] MusicExtractor: Read metadata\n",
      "[   INFO   ] MusicExtractor: Compute md5 audio hash, codec, length, and EBU 128 loudness\n",
      "[   INFO   ] MusicExtractor: Replay gain\n",
      "[   INFO   ] MusicExtractor: Compute audio features\n",
      "[   INFO   ] MusicExtractor: Compute aggregation\n",
      "[   INFO   ] All done\n",
      " 57%|██████████████████████████████████████████████████████████████████████████▊                                                        | 4/7 [00:49<00:36, 12.05s/it][   INFO   ] MusicExtractor: Read metadata\n",
      "[   INFO   ] MusicExtractor: Compute md5 audio hash, codec, length, and EBU 128 loudness\n",
      "[   INFO   ] MusicExtractor: Replay gain\n",
      "[   INFO   ] MusicExtractor: Compute audio features\n",
      "[   INFO   ] MusicExtractor: Compute aggregation\n",
      "[   INFO   ] All done\n",
      " 71%|█████████████████████████████████████████████████████████████████████████████████████████████▌                                     | 5/7 [01:00<00:23, 11.64s/it][   INFO   ] MusicExtractor: Read metadata\n",
      "[   INFO   ] MusicExtractor: Compute md5 audio hash, codec, length, and EBU 128 loudness\n",
      "[   INFO   ] MusicExtractor: Replay gain\n",
      "[   INFO   ] MusicExtractor: Compute audio features\n",
      "[   INFO   ] MusicExtractor: Compute aggregation\n",
      "[   INFO   ] All done\n",
      " 86%|████████████████████████████████████████████████████████████████████████████████████████████████████████████████▎                  | 6/7 [01:13<00:11, 11.96s/it][   INFO   ] MusicExtractor: Read metadata\n",
      "[   INFO   ] MusicExtractor: Compute md5 audio hash, codec, length, and EBU 128 loudness\n",
      "[   INFO   ] MusicExtractor: Replay gain\n",
      "[   INFO   ] MusicExtractor: Compute audio features\n",
      "[   INFO   ] MusicExtractor: Compute aggregation\n",
      "[   INFO   ] All done\n",
      "100%|███████████████████████████████████████████████████████████████████████████████████████████████████████████████████████████████████| 7/7 [01:25<00:00, 12.27s/it]\n"
     ]
    }
   ],
   "source": [
    "out_dir = 'temp_features/'\n",
    "extracted_files = []\n",
    "id_2_paths = {}\n",
    "\n",
    "for fil in tqdm(new_file_paths, total = len(new_file_paths)):\n",
    "    try:\n",
    "        features, _ = music_ext(fil)\n",
    "        idd = features['metadata.audio_properties.md5_encoded']\n",
    "        YamlOutput(filename= out_dir+\"features.json\", format=\"json\")(features)\n",
    "        json_data = json_opener(out_dir+\"features.json\")\n",
    "        id_2_paths[idd] = fil\n",
    "        extracted_files.append(json_data)\n",
    "    except Exception as e:\n",
    "        print(e)"
   ]
  },
  {
   "cell_type": "markdown",
   "id": "ebdbb41e",
   "metadata": {},
   "source": [
    "Convert `extracted_files` to a pandas dataframe for easier data handling."
   ]
  },
  {
   "cell_type": "code",
   "execution_count": 17,
   "id": "3fc90893",
   "metadata": {},
   "outputs": [],
   "source": [
    "extracted = pd.json_normalize(extracted_files)\n",
    "extracted.columns = extracted.columns.str.replace(\".\", \"_\")"
   ]
  },
  {
   "cell_type": "markdown",
   "id": "c49210be",
   "metadata": {},
   "source": [
    "Rename the `metadata_audio_properties_md5_encoded` column to `sid`. This property serves as the unique ids for my songs, `sid` is short for song id."
   ]
  },
  {
   "cell_type": "code",
   "execution_count": 18,
   "id": "b99082a1",
   "metadata": {},
   "outputs": [],
   "source": [
    "extracted.rename(columns={\"metadata_audio_properties_md5_encoded\":\"sid\"}, inplace=True)"
   ]
  },
  {
   "cell_type": "markdown",
   "id": "51b963de",
   "metadata": {},
   "source": [
    "Load in array of column names which are used to filter unnecessary data in the `extracted` dataframe."
   ]
  },
  {
   "cell_type": "code",
   "execution_count": 19,
   "id": "435ff478",
   "metadata": {},
   "outputs": [
    {
     "data": {
      "text/plain": [
       "(7, 158)"
      ]
     },
     "execution_count": 19,
     "metadata": {},
     "output_type": "execute_result"
    }
   ],
   "source": [
    "drop_cols = np.load(\"drop_cols.pkl\", allow_pickle=True).tolist()\n",
    "extracted.drop(drop_cols, axis = 1, inplace=True, \n",
    "               errors=\"ignore\"\n",
    "              )\n",
    "extracted.set_index(\"sid\", inplace=True)\n",
    "extracted.shape"
   ]
  },
  {
   "cell_type": "markdown",
   "id": "faaeebd2",
   "metadata": {},
   "source": [
    "Separate the metadata from the whole dataset, by creating a new dataframe called `meta_df`"
   ]
  },
  {
   "cell_type": "code",
   "execution_count": 20,
   "id": "52410de0",
   "metadata": {},
   "outputs": [],
   "source": [
    "cols = extracted.columns\n",
    "\n",
    "meta_cols = cols[cols.str.startswith(\"meta\")]\n",
    "non_meta_cols = cols[~cols.str.startswith(\"meta\")]\n",
    "\n",
    "meta_df = extracted[meta_cols].copy()\n",
    "extracted.drop(meta_cols, axis = 1, inplace=True)"
   ]
  },
  {
   "cell_type": "markdown",
   "id": "0e707191",
   "metadata": {},
   "source": [
    "This process right is used divide the remaining data in `extracted` into a dataframe where the values are lists and another where they are not."
   ]
  },
  {
   "cell_type": "code",
   "execution_count": 21,
   "id": "72e63687",
   "metadata": {},
   "outputs": [],
   "source": [
    "list_cols = extracted.columns[extracted.iloc[0].apply(lambda x:type(x)) == list]\n",
    "no_list_cols = extracted.columns[extracted.iloc[0].apply(lambda x:type(x)) != list]\n",
    "list_data = extracted[list_cols]\n",
    "no_list_data = extracted[no_list_cols]"
   ]
  },
  {
   "cell_type": "markdown",
   "id": "9dcb4955",
   "metadata": {},
   "source": [
    "`tag_cleaner` is used to deal with null values and empty lists in `meta_df`"
   ]
  },
  {
   "cell_type": "code",
   "execution_count": 22,
   "id": "f6c7b7df",
   "metadata": {},
   "outputs": [],
   "source": [
    "meta_df = meta_df.applymap(tag_cleaner)"
   ]
  },
  {
   "cell_type": "code",
   "execution_count": 23,
   "id": "845746ac",
   "metadata": {},
   "outputs": [],
   "source": [
    "meta_df.columns = meta_df.columns.str.split(\"_\").map(lambda x:x[-1])"
   ]
  },
  {
   "cell_type": "code",
   "execution_count": 24,
   "id": "d2ee7812",
   "metadata": {},
   "outputs": [],
   "source": [
    "meta_df.rename(columns={\"name\":\"file_name\"}, inplace=True)"
   ]
  },
  {
   "cell_type": "markdown",
   "id": "0a5ea963",
   "metadata": {},
   "source": [
    "The clean version of `meta_df`"
   ]
  },
  {
   "cell_type": "code",
   "execution_count": 25,
   "id": "5089280b",
   "metadata": {},
   "outputs": [
    {
     "data": {
      "text/html": [
       "<div>\n",
       "<style scoped>\n",
       "    .dataframe tbody tr th:only-of-type {\n",
       "        vertical-align: middle;\n",
       "    }\n",
       "\n",
       "    .dataframe tbody tr th {\n",
       "        vertical-align: top;\n",
       "    }\n",
       "\n",
       "    .dataframe thead th {\n",
       "        text-align: right;\n",
       "    }\n",
       "</style>\n",
       "<table border=\"1\" class=\"dataframe\">\n",
       "  <thead>\n",
       "    <tr style=\"text-align: right;\">\n",
       "      <th></th>\n",
       "      <th>length</th>\n",
       "      <th>gain</th>\n",
       "      <th>codec</th>\n",
       "      <th>file_name</th>\n",
       "      <th>artist</th>\n",
       "      <th>date</th>\n",
       "      <th>title</th>\n",
       "      <th>album</th>\n",
       "      <th>bpm</th>\n",
       "      <th>composer</th>\n",
       "      <th>genre</th>\n",
       "      <th>initialkey</th>\n",
       "      <th>tracktotal</th>\n",
       "    </tr>\n",
       "    <tr>\n",
       "      <th>sid</th>\n",
       "      <th></th>\n",
       "      <th></th>\n",
       "      <th></th>\n",
       "      <th></th>\n",
       "      <th></th>\n",
       "      <th></th>\n",
       "      <th></th>\n",
       "      <th></th>\n",
       "      <th></th>\n",
       "      <th></th>\n",
       "      <th></th>\n",
       "      <th></th>\n",
       "      <th></th>\n",
       "    </tr>\n",
       "  </thead>\n",
       "  <tbody>\n",
       "    <tr>\n",
       "      <th>de5515fdc54bd7cad645c5446b3e748f</th>\n",
       "      <td>383.280182</td>\n",
       "      <td>-13.448420</td>\n",
       "      <td>pcm_s24le</td>\n",
       "      <td>COEO - Emergency Loop.wav</td>\n",
       "      <td>Gazzz696</td>\n",
       "      <td>2019</td>\n",
       "      <td>COEO - Emergency Loop</td>\n",
       "      <td>NaN</td>\n",
       "      <td>NaN</td>\n",
       "      <td>NaN</td>\n",
       "      <td>NaN</td>\n",
       "      <td>NaN</td>\n",
       "      <td>NaN</td>\n",
       "    </tr>\n",
       "    <tr>\n",
       "      <th>a7cf765cb13c65ced228eb13383cba15</th>\n",
       "      <td>322.037537</td>\n",
       "      <td>-13.170233</td>\n",
       "      <td>pcm_s24le</td>\n",
       "      <td>Ezirk - Yabai Gang.wav</td>\n",
       "      <td>Funk'n Disco &amp; Stuff</td>\n",
       "      <td>2021</td>\n",
       "      <td>Ezirk - Yabai Gang</td>\n",
       "      <td>NaN</td>\n",
       "      <td>NaN</td>\n",
       "      <td>NaN</td>\n",
       "      <td>NaN</td>\n",
       "      <td>NaN</td>\n",
       "      <td>NaN</td>\n",
       "    </tr>\n",
       "    <tr>\n",
       "      <th>03617d81828c17cf15b7e25f05a6f9a1</th>\n",
       "      <td>265.785126</td>\n",
       "      <td>-12.738928</td>\n",
       "      <td>pcm_s24le</td>\n",
       "      <td>Hamid El Shaeri - Dari Demouek (V4YS Rework).wav</td>\n",
       "      <td>Hamid El Shaeri</td>\n",
       "      <td>NaN</td>\n",
       "      <td>Dari Demouek (V4YS Rework)</td>\n",
       "      <td>NaN</td>\n",
       "      <td>NaN</td>\n",
       "      <td>NaN</td>\n",
       "      <td>NaN</td>\n",
       "      <td>NaN</td>\n",
       "      <td>NaN</td>\n",
       "    </tr>\n",
       "    <tr>\n",
       "      <th>dbe511f964f95849e05848d5dae6ee5d</th>\n",
       "      <td>315.583984</td>\n",
       "      <td>-11.940247</td>\n",
       "      <td>pcm_s24le</td>\n",
       "      <td>Herbert Leonard  - Chante Avec Moi (Les Aristos Remlx).wav</td>\n",
       "      <td>Herbert Leonard</td>\n",
       "      <td>2022</td>\n",
       "      <td>Chante Avec Moi (Les Aristos Remlx)</td>\n",
       "      <td>Collection 80's</td>\n",
       "      <td>124</td>\n",
       "      <td>Les Aristos</td>\n",
       "      <td>French Remix</td>\n",
       "      <td>10A</td>\n",
       "      <td>1</td>\n",
       "    </tr>\n",
       "    <tr>\n",
       "      <th>6b4bd633ec076c4d3e3046044bd647b7</th>\n",
       "      <td>284.165802</td>\n",
       "      <td>-12.149185</td>\n",
       "      <td>pcm_s24le</td>\n",
       "      <td>Herbert Leonard - Chante avec moi (Absolut Bibiche ReWork).wav</td>\n",
       "      <td>Herbert Leonard</td>\n",
       "      <td>2022</td>\n",
       "      <td>Chante avec moi (Absolut Bibiche ReWork)</td>\n",
       "      <td>Ced ReWrk Prod</td>\n",
       "      <td>NaN</td>\n",
       "      <td>NaN</td>\n",
       "      <td>Funk</td>\n",
       "      <td>NaN</td>\n",
       "      <td>NaN</td>\n",
       "    </tr>\n",
       "  </tbody>\n",
       "</table>\n",
       "</div>"
      ],
      "text/plain": [
       "                                      length       gain      codec  \\\n",
       "sid                                                                  \n",
       "de5515fdc54bd7cad645c5446b3e748f  383.280182 -13.448420  pcm_s24le   \n",
       "a7cf765cb13c65ced228eb13383cba15  322.037537 -13.170233  pcm_s24le   \n",
       "03617d81828c17cf15b7e25f05a6f9a1  265.785126 -12.738928  pcm_s24le   \n",
       "dbe511f964f95849e05848d5dae6ee5d  315.583984 -11.940247  pcm_s24le   \n",
       "6b4bd633ec076c4d3e3046044bd647b7  284.165802 -12.149185  pcm_s24le   \n",
       "\n",
       "                                                                                       file_name  \\\n",
       "sid                                                                                                \n",
       "de5515fdc54bd7cad645c5446b3e748f                                       COEO - Emergency Loop.wav   \n",
       "a7cf765cb13c65ced228eb13383cba15                                          Ezirk - Yabai Gang.wav   \n",
       "03617d81828c17cf15b7e25f05a6f9a1                Hamid El Shaeri - Dari Demouek (V4YS Rework).wav   \n",
       "dbe511f964f95849e05848d5dae6ee5d      Herbert Leonard  - Chante Avec Moi (Les Aristos Remlx).wav   \n",
       "6b4bd633ec076c4d3e3046044bd647b7  Herbert Leonard - Chante avec moi (Absolut Bibiche ReWork).wav   \n",
       "\n",
       "                                                artist  date  \\\n",
       "sid                                                            \n",
       "de5515fdc54bd7cad645c5446b3e748f              Gazzz696  2019   \n",
       "a7cf765cb13c65ced228eb13383cba15  Funk'n Disco & Stuff  2021   \n",
       "03617d81828c17cf15b7e25f05a6f9a1       Hamid El Shaeri   NaN   \n",
       "dbe511f964f95849e05848d5dae6ee5d       Herbert Leonard  2022   \n",
       "6b4bd633ec076c4d3e3046044bd647b7      Herbert Leonard   2022   \n",
       "\n",
       "                                                                     title  \\\n",
       "sid                                                                          \n",
       "de5515fdc54bd7cad645c5446b3e748f                     COEO - Emergency Loop   \n",
       "a7cf765cb13c65ced228eb13383cba15                        Ezirk - Yabai Gang   \n",
       "03617d81828c17cf15b7e25f05a6f9a1                Dari Demouek (V4YS Rework)   \n",
       "dbe511f964f95849e05848d5dae6ee5d       Chante Avec Moi (Les Aristos Remlx)   \n",
       "6b4bd633ec076c4d3e3046044bd647b7  Chante avec moi (Absolut Bibiche ReWork)   \n",
       "\n",
       "                                            album  bpm     composer  \\\n",
       "sid                                                                   \n",
       "de5515fdc54bd7cad645c5446b3e748f              NaN  NaN          NaN   \n",
       "a7cf765cb13c65ced228eb13383cba15              NaN  NaN          NaN   \n",
       "03617d81828c17cf15b7e25f05a6f9a1              NaN  NaN          NaN   \n",
       "dbe511f964f95849e05848d5dae6ee5d  Collection 80's  124  Les Aristos   \n",
       "6b4bd633ec076c4d3e3046044bd647b7   Ced ReWrk Prod  NaN          NaN   \n",
       "\n",
       "                                         genre initialkey tracktotal  \n",
       "sid                                                                   \n",
       "de5515fdc54bd7cad645c5446b3e748f           NaN        NaN        NaN  \n",
       "a7cf765cb13c65ced228eb13383cba15           NaN        NaN        NaN  \n",
       "03617d81828c17cf15b7e25f05a6f9a1           NaN        NaN        NaN  \n",
       "dbe511f964f95849e05848d5dae6ee5d  French Remix        10A          1  \n",
       "6b4bd633ec076c4d3e3046044bd647b7         Funk         NaN        NaN  "
      ]
     },
     "execution_count": 25,
     "metadata": {},
     "output_type": "execute_result"
    }
   ],
   "source": [
    "meta_df.head()"
   ]
  },
  {
   "cell_type": "markdown",
   "id": "8a8c3633",
   "metadata": {},
   "source": [
    "Before uploading `meta_df` to the `tags` table in the db, I need to make sure the column name are aligned. I import the columns from `tags` and use that to filter `meta_df`"
   ]
  },
  {
   "cell_type": "code",
   "execution_count": 26,
   "id": "3cac5eb1",
   "metadata": {},
   "outputs": [],
   "source": [
    "tags_cols = pd.read_sql(\"SELECT * FROM tags LIMIT 1\", con = conn).set_index('sid').columns.tolist()"
   ]
  },
  {
   "cell_type": "code",
   "execution_count": 27,
   "id": "8592d9a4",
   "metadata": {},
   "outputs": [
    {
     "data": {
      "text/plain": [
       "['length',\n",
       " 'gain',\n",
       " 'codec',\n",
       " 'file_name',\n",
       " 'artist',\n",
       " 'date',\n",
       " 'title',\n",
       " 'album',\n",
       " 'bpm',\n",
       " 'genre',\n",
       " 'initialkey']"
      ]
     },
     "execution_count": 27,
     "metadata": {},
     "output_type": "execute_result"
    }
   ],
   "source": [
    "meta_cols = [i for i in meta_df.columns if i in tags_cols]\n",
    "meta_cols"
   ]
  },
  {
   "cell_type": "markdown",
   "id": "5cd8165e",
   "metadata": {},
   "source": [
    "Append `meta_df` to the `tags` table in the db."
   ]
  },
  {
   "cell_type": "code",
   "execution_count": 28,
   "id": "a26a3a45",
   "metadata": {},
   "outputs": [],
   "source": [
    "meta_df[meta_cols].to_sql(\"tags\", con=conn, if_exists = \"append\")"
   ]
  },
  {
   "cell_type": "markdown",
   "id": "1624c52c",
   "metadata": {},
   "source": [
    "Now it's time to update the `files` table which is how I connect the song paths to their unique ids."
   ]
  },
  {
   "cell_type": "code",
   "execution_count": 29,
   "id": "1c0a1c65",
   "metadata": {},
   "outputs": [],
   "source": [
    "files = pd.DataFrame(id_2_paths.items(), columns=[\"sid\", \"file_path\"])"
   ]
  },
  {
   "cell_type": "code",
   "execution_count": 30,
   "id": "03bcbc58",
   "metadata": {},
   "outputs": [],
   "source": [
    "files.to_sql(\"files\", con = conn, if_exists=\"append\", index = False)"
   ]
  },
  {
   "cell_type": "markdown",
   "id": "b2a6e179",
   "metadata": {},
   "source": [
    "Divide the `no_list_data` dataframe into three sections: tonal, lowlevel, rhythm. These features are explained on the essentia website."
   ]
  },
  {
   "cell_type": "code",
   "execution_count": 31,
   "id": "41c25a84",
   "metadata": {},
   "outputs": [],
   "source": [
    "cols = no_list_data.columns\n",
    "tonal_cols = cols[cols.str.startswith(\"tonal\")]\n",
    "lowlevel_cols = cols[cols.str.startswith(\"lowlevel\")]\n",
    "rhythm_cols = cols[cols.str.startswith(\"rhyt\")]\n",
    "\n",
    "tonal_df = no_list_data[tonal_cols]\n",
    "lowlevel_df = no_list_data[lowlevel_cols]\n",
    "rhythm_df = no_list_data[rhythm_cols]"
   ]
  },
  {
   "cell_type": "markdown",
   "id": "6a973f45",
   "metadata": {},
   "source": [
    "Use those dataframes to update their corresponding tables in the db."
   ]
  },
  {
   "cell_type": "code",
   "execution_count": 32,
   "id": "54044558",
   "metadata": {},
   "outputs": [],
   "source": [
    "tonal_df.to_sql(\"tonal_features\", con=conn, if_exists=\"append\")\n",
    "lowlevel_df.to_sql(\"lowlevel_features\", con=conn, if_exists=\"append\")\n",
    "rhythm_df.to_sql(\"rhythm_features\", con=conn, if_exists=\"append\")"
   ]
  },
  {
   "cell_type": "markdown",
   "id": "56ef41da",
   "metadata": {},
   "source": [
    "Upload the dataframes with list values to the db."
   ]
  },
  {
   "cell_type": "code",
   "execution_count": 33,
   "id": "e6f46702",
   "metadata": {},
   "outputs": [
    {
     "name": "stderr",
     "output_type": "stream",
     "text": [
      "100%|█████████████████████████████████████████████████████████████████████████████████████████████████████████████████████████████████| 24/24 [00:00<00:00, 81.64it/s]\n"
     ]
    }
   ],
   "source": [
    "for col in tqdm(list_cols):\n",
    "    ser = list_data[col].apply(pd.Series)\n",
    "    ser.columns = col + \"_\"+ ser.columns.astype(str)\n",
    "    ser.to_sql(col+\"_tbl\", con = conn,if_exists=\"append\")"
   ]
  },
  {
   "cell_type": "code",
   "execution_count": null,
   "id": "f0d8c43a",
   "metadata": {},
   "outputs": [],
   "source": []
  },
  {
   "cell_type": "markdown",
   "id": "7024ea97",
   "metadata": {},
   "source": [
    "### EffNet Embbedings and Genre Classifications\n",
    "\n",
    "I use the [discogs-effnet model](https://essentia.upf.edu/models.html#discogs-effnet) to generate Nx1280 embeddings and activation scores for 400 genres.\n",
    "\n",
    "Those embeddings are then used later on as the input data for the other classification models.\n",
    "\n",
    "The metadata on this model can be found [here](https://essentia.upf.edu/models/music-style-classification/discogs-effnet/discogs-effnet-bs64-1.json)"
   ]
  },
  {
   "cell_type": "code",
   "execution_count": 34,
   "id": "6ccdd9d5",
   "metadata": {},
   "outputs": [],
   "source": [
    "path2id = {v:k for k, v in id_2_paths.items()}"
   ]
  },
  {
   "cell_type": "markdown",
   "id": "6a2880ba",
   "metadata": {},
   "source": [
    "Initialize the `Activator` which is the tool I used to preprocess the raw song data, generate the predictions and then upload them to the database."
   ]
  },
  {
   "cell_type": "code",
   "execution_count": 35,
   "id": "6d841027",
   "metadata": {},
   "outputs": [],
   "source": [
    "act = Activator(input_length=2.05, \n",
    "                model_path=\"onnx_models/discogs-effnet-bsdynamic-1.onnx\",\n",
    "                   pathid_dict=path2id)"
   ]
  },
  {
   "cell_type": "markdown",
   "id": "d6fa6f87",
   "metadata": {},
   "source": [
    "Grab the columns names from the `effnet_genres` table"
   ]
  },
  {
   "cell_type": "code",
   "execution_count": 36,
   "id": "4b830993",
   "metadata": {},
   "outputs": [],
   "source": [
    "gcols = pd.read_sql_query(\"SELECT * FROM effnet_genres LIMIT 1 \", con = conn).columns[1:].tolist()\n",
    "# gcols[:5]"
   ]
  },
  {
   "cell_type": "markdown",
   "id": "f788ff8d",
   "metadata": {},
   "source": [
    "- Iterate over the new batch of songs\n",
    "\n",
    "- Generate the activations and embeddings.\n",
    "\n",
    "- Upload them to their corresponding tables in the database."
   ]
  },
  {
   "cell_type": "code",
   "execution_count": 37,
   "id": "6a0fb205",
   "metadata": {},
   "outputs": [
    {
     "name": "stderr",
     "output_type": "stream",
     "text": [
      "100%|███████████████████████████████████████████████████████████████████████████████████████████████████████████████████████████████████| 7/7 [00:10<00:00,  1.43s/it]\n"
     ]
    }
   ],
   "source": [
    "for song in act.batch_inference():\n",
    "    with conn:\n",
    "        sid, sf, output = song\n",
    "        genre_acts = output[\"activations\"]\n",
    "        embeds = output[\"embeddings\"]\n",
    "        genre_acts = [np.expand_dims(genre_acts[:, i], 0) for i in range(400)]\n",
    "        genre_acts = pd.DataFrame(index = [sid], data = [genre_acts], columns=gcols)\n",
    "        cur.execute(\"INSERT INTO effnet_embeddings (sid, effnet_embedding) values (?,?)\", \n",
    "                    (sid, np.expand_dims(embeds,0)))\n",
    "        genre_acts.to_sql(\"effnet_genres\", con=conn, if_exists=\"append\", index=False)\n",
    "    conn.commit()"
   ]
  },
  {
   "cell_type": "markdown",
   "id": "d532806f",
   "metadata": {},
   "source": [
    "### Classification Head Models\n",
    "\n",
    "This section is where I use the discogs-effnet embeddings to generate predictions from a variety of music [style and mood classification models](https://essentia.upf.edu/models.html#classification-heads).\n",
    "\n",
    "These models classify attributes such as danceability, happiness, relaxedness, and more.\n"
   ]
  },
  {
   "cell_type": "markdown",
   "id": "7d53a3ee",
   "metadata": {},
   "source": [
    "The `onnx_models` directory hosts all the downloaded models. The `json_info` subdirectory hosts all their corresponding metadata."
   ]
  },
  {
   "cell_type": "markdown",
   "id": "75ef0bfd",
   "metadata": {},
   "source": [
    "I collect all the models and their metadata here.\n",
    "\n",
    "I have other models but for now I'm only working with the effnet ones."
   ]
  },
  {
   "cell_type": "code",
   "execution_count": 38,
   "id": "a117e36f",
   "metadata": {},
   "outputs": [],
   "source": [
    "model_paths = sorted(glob(\"onnx_models/*.onnx\"))\n",
    "model_infos = sorted(glob(\"onnx_models/json_info/*.json\"))\n",
    "effnet_models = [{\"model\": model_paths[i], \n",
    "                  \"json\":model_infos[i]} for i in range(len(model_paths)) if \"effnet\" in model_paths[i]]"
   ]
  },
  {
   "cell_type": "code",
   "execution_count": 39,
   "id": "59de0bd5",
   "metadata": {},
   "outputs": [],
   "source": [
    "effnet_models = effnet_models[:2] + effnet_models[4:]"
   ]
  },
  {
   "cell_type": "code",
   "execution_count": 40,
   "id": "9d839c4f",
   "metadata": {},
   "outputs": [],
   "source": [
    "new_ids = list(path2id.values())"
   ]
  },
  {
   "cell_type": "markdown",
   "id": "d420708b",
   "metadata": {},
   "source": [
    "- Iterate over all the models.\n",
    "\n",
    "- Generate batch inferences from them. The models are feed data queried from the database."
   ]
  },
  {
   "cell_type": "code",
   "execution_count": 58,
   "id": "2b557208",
   "metadata": {},
   "outputs": [
    {
     "name": "stderr",
     "output_type": "stream",
     "text": [
      "100%|████████████████████████████████████████████████████████████████████████████████████████████████████████████████████████████████████████████████████████████████████████████████████████████████| 76/76 [00:00<00:00, 2858.21it/s]\n"
     ]
    },
    {
     "name": "stdout",
     "output_type": "stream",
     "text": [
      "Completed =>  approachability_2c_effnet_discogs_1_activations \n",
      "\n",
      "\n"
     ]
    },
    {
     "name": "stderr",
     "output_type": "stream",
     "text": [
      "100%|████████████████████████████████████████████████████████████████████████████████████████████████████████████████████████████████████████████████████████████████████████████████████████████████| 76/76 [00:00<00:00, 3084.17it/s]\n"
     ]
    },
    {
     "name": "stdout",
     "output_type": "stream",
     "text": [
      "Completed =>  danceability_effnet_discogs_1_activations \n",
      "\n",
      "\n"
     ]
    },
    {
     "name": "stderr",
     "output_type": "stream",
     "text": [
      "100%|████████████████████████████████████████████████████████████████████████████████████████████████████████████████████████████████████████████████████████████████████████████████████████████████| 76/76 [00:00<00:00, 2784.60it/s]\n"
     ]
    },
    {
     "name": "stdout",
     "output_type": "stream",
     "text": [
      "Completed =>  engagement_2c_effnet_discogs_1_activations \n",
      "\n",
      "\n"
     ]
    },
    {
     "name": "stderr",
     "output_type": "stream",
     "text": [
      "100%|████████████████████████████████████████████████████████████████████████████████████████████████████████████████████████████████████████████████████████████████████████████████████████████████| 76/76 [00:00<00:00, 2033.94it/s]\n"
     ]
    },
    {
     "name": "stdout",
     "output_type": "stream",
     "text": [
      "Completed =>  genre_electronic_effnet_discogs_1_activations \n",
      "\n",
      "\n"
     ]
    },
    {
     "name": "stderr",
     "output_type": "stream",
     "text": [
      "100%|████████████████████████████████████████████████████████████████████████████████████████████████████████████████████████████████████████████████████████████████████████████████████████████████| 76/76 [00:00<00:00, 2920.16it/s]\n"
     ]
    },
    {
     "name": "stdout",
     "output_type": "stream",
     "text": [
      "Completed =>  mood_acoustic_effnet_discogs_1_activations \n",
      "\n",
      "\n"
     ]
    },
    {
     "name": "stderr",
     "output_type": "stream",
     "text": [
      "100%|████████████████████████████████████████████████████████████████████████████████████████████████████████████████████████████████████████████████████████████████████████████████████████████████| 76/76 [00:00<00:00, 2603.60it/s]\n"
     ]
    },
    {
     "name": "stdout",
     "output_type": "stream",
     "text": [
      "Completed =>  mood_aggressive_effnet_discogs_1_activations \n",
      "\n",
      "\n"
     ]
    },
    {
     "name": "stderr",
     "output_type": "stream",
     "text": [
      "100%|████████████████████████████████████████████████████████████████████████████████████████████████████████████████████████████████████████████████████████████████████████████████████████████████| 76/76 [00:00<00:00, 2482.26it/s]\n"
     ]
    },
    {
     "name": "stdout",
     "output_type": "stream",
     "text": [
      "Completed =>  mood_happy_effnet_discogs_1_activations \n",
      "\n",
      "\n"
     ]
    },
    {
     "name": "stderr",
     "output_type": "stream",
     "text": [
      "100%|████████████████████████████████████████████████████████████████████████████████████████████████████████████████████████████████████████████████████████████████████████████████████████████████| 76/76 [00:00<00:00, 2885.58it/s]\n"
     ]
    },
    {
     "name": "stdout",
     "output_type": "stream",
     "text": [
      "Completed =>  mood_party_effnet_discogs_1_activations \n",
      "\n",
      "\n"
     ]
    },
    {
     "name": "stderr",
     "output_type": "stream",
     "text": [
      "100%|████████████████████████████████████████████████████████████████████████████████████████████████████████████████████████████████████████████████████████████████████████████████████████████████| 76/76 [00:00<00:00, 2785.50it/s]\n"
     ]
    },
    {
     "name": "stdout",
     "output_type": "stream",
     "text": [
      "Completed =>  mood_sad_effnet_discogs_1_activations \n",
      "\n",
      "\n"
     ]
    },
    {
     "name": "stderr",
     "output_type": "stream",
     "text": [
      "100%|█████████████████████████████████████████████████████████████████████████████████████████████████████████████████████████████████████████████████████████████████████████████████████████████████| 76/76 [00:00<00:00, 322.41it/s]\n"
     ]
    },
    {
     "name": "stdout",
     "output_type": "stream",
     "text": [
      "Completed =>  mtg_jamendo_genre_effnet_discogs_1_activations \n",
      "\n",
      "\n"
     ]
    },
    {
     "name": "stderr",
     "output_type": "stream",
     "text": [
      "100%|█████████████████████████████████████████████████████████████████████████████████████████████████████████████████████████████████████████████████████████████████████████████████████████████████| 76/76 [00:00<00:00, 458.82it/s]\n"
     ]
    },
    {
     "name": "stdout",
     "output_type": "stream",
     "text": [
      "Completed =>  mtg_jamendo_moodtheme_effnet_discogs_1_activations \n",
      "\n",
      "\n"
     ]
    },
    {
     "name": "stderr",
     "output_type": "stream",
     "text": [
      "100%|█████████████████████████████████████████████████████████████████████████████████████████████████████████████████████████████████████████████████████████████████████████████████████████████████| 76/76 [00:00<00:00, 464.91it/s]\n"
     ]
    },
    {
     "name": "stdout",
     "output_type": "stream",
     "text": [
      "Completed =>  mtg_jamendo_top50tags_effnet_discogs_1_activations \n",
      "\n",
      "\n"
     ]
    },
    {
     "name": "stderr",
     "output_type": "stream",
     "text": [
      "100%|████████████████████████████████████████████████████████████████████████████████████████████████████████████████████████████████████████████████████████████████████████████████████████████████| 76/76 [00:00<00:00, 2940.49it/s]"
     ]
    },
    {
     "name": "stdout",
     "output_type": "stream",
     "text": [
      "Completed =>  timbre_effnet_discogs_1_activations \n",
      "\n",
      "\n"
     ]
    },
    {
     "name": "stderr",
     "output_type": "stream",
     "text": [
      "\n"
     ]
    }
   ],
   "source": [
    "for em in effnet_models:\n",
    "    cls = Classifier(em, new_ids=new_ids)\n",
    "    cls.batch_inference()\n",
    "    cls.conn.commit()\n",
    "    print(\"Completed => \", cls.table_name, \"\\n\\n\")"
   ]
  },
  {
   "cell_type": "code",
   "execution_count": null,
   "id": "096772e3",
   "metadata": {},
   "outputs": [],
   "source": []
  }
 ],
 "metadata": {
  "kernelspec": {
   "display_name": "music",
   "language": "python",
   "name": "music"
  },
  "language_info": {
   "codemirror_mode": {
    "name": "ipython",
    "version": 3
   },
   "file_extension": ".py",
   "mimetype": "text/x-python",
   "name": "python",
   "nbconvert_exporter": "python",
   "pygments_lexer": "ipython3",
   "version": "3.7.13"
  }
 },
 "nbformat": 4,
 "nbformat_minor": 5
}
