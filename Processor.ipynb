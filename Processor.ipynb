{
 "cells": [
  {
   "cell_type": "code",
   "execution_count": 1,
   "id": "f9cef199",
   "metadata": {},
   "outputs": [],
   "source": [
    "import sqlite3\n",
    "import pandas as pd\n",
    "import numpy as np\n",
    "import matchering as mg\n",
    "import json\n",
    "from glob import glob\n",
    "from tqdm import tqdm\n",
    "from io import StringIO\n",
    "import sys\n",
    "import pathlib\n",
    "\n",
    "import taglib\n",
    "from datetime import datetime\n",
    "import shutil\n",
    "import os\n",
    "from essentia.standard import MusicExtractor, YamlOutput,MetadataReader, PCA, YamlInput\n",
    "import warnings\n",
    "from zipfile import ZipFile\n",
    "warnings.filterwarnings('ignore')\n",
    "pd.set_option('max_colwidth', 100)"
   ]
  },
  {
   "cell_type": "code",
   "execution_count": 2,
   "id": "ab31690e",
   "metadata": {},
   "outputs": [],
   "source": [
    "from project_tools.utils import effnet_config, json_opener, adapt_array, convert_array, tag_cleaner, digit2letters"
   ]
  },
  {
   "cell_type": "code",
   "execution_count": 3,
   "id": "8f8aab4b",
   "metadata": {},
   "outputs": [],
   "source": [
    "from project_tools.models import Activator, Classifier"
   ]
  },
  {
   "cell_type": "code",
   "execution_count": 4,
   "id": "cf77a590",
   "metadata": {},
   "outputs": [],
   "source": [
    "sqlite3.register_adapter(np.ndarray, adapt_array)\n",
    "sqlite3.register_converter(\"array\", convert_array)"
   ]
  },
  {
   "cell_type": "code",
   "execution_count": 5,
   "id": "069e3e31",
   "metadata": {},
   "outputs": [],
   "source": [
    "conn = sqlite3.connect(\"jaage.db\", detect_types= sqlite3.PARSE_DECLTYPES)\n",
    "cur = conn.cursor()"
   ]
  },
  {
   "cell_type": "code",
   "execution_count": 6,
   "id": "4a54012a",
   "metadata": {},
   "outputs": [],
   "source": [
    "load_path = \"../../../../Volumes/LaCie/Loading Dock/\"\n",
    "dj_hub  = \"../../../../Volumes/LaCie/DJ Hub/\""
   ]
  },
  {
   "cell_type": "code",
   "execution_count": 7,
   "id": "d0d9e0db",
   "metadata": {},
   "outputs": [
    {
     "data": {
      "text/plain": [
       "['../../../../Volumes/LaCie/Loading Dock/(W)DaveeS - House Anthology 1990 - 2000 (Disc 2).zip',\n",
       " '../../../../Volumes/LaCie/Loading Dock/Dharma Collective - Balearic Edits.zip',\n",
       " '../../../../Volumes/LaCie/Loading Dock/DiscoGram - DG030 (Also on vinyl).zip',\n",
       " '../../../../Volumes/LaCie/Loading Dock/Nico Raibak - Universal Stereo EP.zip',\n",
       " '../../../../Volumes/LaCie/Loading Dock/Saltywax - ZISSOU009 - Saltywax - Keep Dancing EP.zip',\n",
       " '../../../../Volumes/LaCie/Loading Dock/Tucan Discos - East Asia Pack.zip',\n",
       " '../../../../Volumes/LaCie/Loading Dock/Tuesday Brunch - Editz.zip']"
      ]
     },
     "execution_count": 7,
     "metadata": {},
     "output_type": "execute_result"
    }
   ],
   "source": [
    "zip_files = glob(load_path+\"*.zip\")\n",
    "zip_files"
   ]
  },
  {
   "cell_type": "code",
   "execution_count": 8,
   "id": "e796a662",
   "metadata": {},
   "outputs": [],
   "source": [
    "if len(zip_files) > 0:\n",
    "    for z in zip_files:\n",
    "        zf = ZipFile(z)\n",
    "        zf.extractall(path=load_path)\n",
    "        shutil.move(z,dj_hub)"
   ]
  },
  {
   "cell_type": "code",
   "execution_count": 18,
   "id": "41a018cb",
   "metadata": {},
   "outputs": [],
   "source": [
    "loading_files = pathlib.Path(load_path).glob(\"*[.wav, .mp3, .aiff]\")"
   ]
  },
  {
   "cell_type": "code",
   "execution_count": 19,
   "id": "2c07c5c4",
   "metadata": {},
   "outputs": [
    {
     "name": "stdout",
     "output_type": "stream",
     "text": [
      "There are 79 files for the ETL pipeline\n"
     ]
    }
   ],
   "source": [
    "len_loading_files = len(list(loading_files))\n",
    "print(\"There are {} files for the ETL pipeline\".format(len_loading_files))"
   ]
  },
  {
   "cell_type": "code",
   "execution_count": 20,
   "id": "efb89027",
   "metadata": {},
   "outputs": [],
   "source": [
    "loading_files = pathlib.Path(load_path).glob(\"*[.wav, .mp3, .aiff]\")"
   ]
  },
  {
   "cell_type": "markdown",
   "id": "6062944e",
   "metadata": {},
   "source": [
    "## Process\n",
    "\n",
    "1. Mastering\n",
    "    - Master\n",
    "    - Transfer tags\n",
    "    - Moved to Mastered Dir\n",
    " \n",
    "\n",
    "2. Music Extractor\n",
    "    - ETL\n",
    "\n",
    "2. Effnet Embeddings and Genre Activations\n",
    "    - ETL\n",
    "\n"
   ]
  },
  {
   "cell_type": "markdown",
   "id": "74ae074f",
   "metadata": {},
   "source": [
    "### Mastering"
   ]
  },
  {
   "cell_type": "code",
   "execution_count": 21,
   "id": "07c8a0cb",
   "metadata": {},
   "outputs": [],
   "source": [
    "ref_file = '../../../../Volumes/LaCie/DJ Hub/Rayko - Magnetized (Rayko rework).wav'\n",
    "collection = \"Collection\"\n"
   ]
  },
  {
   "cell_type": "code",
   "execution_count": 22,
   "id": "8f0c89a9",
   "metadata": {},
   "outputs": [],
   "source": [
    "new_file_paths = []"
   ]
  },
  {
   "cell_type": "code",
   "execution_count": 23,
   "id": "5611f5a1",
   "metadata": {},
   "outputs": [
    {
     "name": "stderr",
     "output_type": "stream",
     "text": [
      "79it [44:39, 33.92s/it]\n"
     ]
    }
   ],
   "source": [
    "for f in tqdm(loading_files):\n",
    "    out_stem = f.stem\n",
    "    out_path = f.parent.parent/collection/f.stem\n",
    "    out_path = out_path.as_posix() +\".wav\"\n",
    "    \n",
    "    mg.process(target= f.as_posix(),\n",
    "              reference=ref_file, \n",
    "              results = [mg.pcm24(out_path)])\n",
    "    \n",
    "    load_tags = taglib.File(f.as_posix())\n",
    "    mastered_tags = taglib.File(out_path)\n",
    "    mastered_tags.tags = load_tags.tags\n",
    "    mastered_tags.save()\n",
    "    \n",
    "    new_file_paths.append(out_path)\n",
    "    \n",
    "    try:\n",
    "        shutil.move(f.as_posix(), dj_hub)\n",
    "    except:\n",
    "        print(f, \"already exists\")\n",
    "        os.remove(f.as_posix())\n",
    "    "
   ]
  },
  {
   "cell_type": "code",
   "execution_count": null,
   "id": "56f2516a",
   "metadata": {},
   "outputs": [],
   "source": []
  },
  {
   "cell_type": "markdown",
   "id": "570ce2cb",
   "metadata": {},
   "source": [
    "### Music Extraction"
   ]
  },
  {
   "cell_type": "code",
   "execution_count": 25,
   "id": "37f9b773",
   "metadata": {},
   "outputs": [],
   "source": [
    "copied_paths = new_file_paths[:]"
   ]
  },
  {
   "cell_type": "code",
   "execution_count": 26,
   "id": "7dedacde",
   "metadata": {},
   "outputs": [
    {
     "data": {
      "text/plain": [
       "77"
      ]
     },
     "execution_count": 26,
     "metadata": {},
     "output_type": "execute_result"
    }
   ],
   "source": [
    "new_file_paths = []\n",
    "for i in copied_paths:\n",
    "    if os.path.exists(i):\n",
    "        new_file_paths.append(i)\n",
    "        \n",
    "len(new_file_paths)"
   ]
  },
  {
   "cell_type": "code",
   "execution_count": 27,
   "id": "f5916139",
   "metadata": {},
   "outputs": [],
   "source": [
    "music_ext = MusicExtractor(lowlevelStats=['mean', 'stdev'],\n",
    "                                    rhythmStats=['mean', 'stdev', \"max\", \"min\", \"median\"],\n",
    "                                    tonalStats=['mean', 'stdev'],\n",
    "                           mfccStats = [\"mean\", \"cov\"],\n",
    "                           gfccStats = [\"mean\", \"cov\"])"
   ]
  },
  {
   "cell_type": "code",
   "execution_count": 28,
   "id": "054a1714",
   "metadata": {},
   "outputs": [
    {
     "name": "stderr",
     "output_type": "stream",
     "text": [
      "  0%|                                                                                                                                                                                                           | 0/77 [00:00<?, ?it/s][   INFO   ] MusicExtractor: Read metadata\n",
      "  1%|██▌                                                                                                                                                                                                | 1/77 [00:12<15:21, 12.13s/it][   INFO   ] MusicExtractor: Compute md5 audio hash, codec, length, and EBU 128 loudness\n",
      "[   INFO   ] MusicExtractor: Replay gain\n",
      "[   INFO   ] MusicExtractor: Compute audio features\n",
      "[   INFO   ] MusicExtractor: Compute aggregation\n",
      "[   INFO   ] All done\n",
      "[   INFO   ] MusicExtractor: Read metadata\n",
      "[   INFO   ] MusicExtractor: Compute md5 audio hash, codec, length, and EBU 128 loudness\n",
      "[   INFO   ] MusicExtractor: Replay gain\n",
      "[   INFO   ] MusicExtractor: Compute audio features\n",
      "[   INFO   ] MusicExtractor: Compute aggregation\n",
      "[   INFO   ] All done\n",
      "  3%|█████                                                                                                                                                                                              | 2/77 [00:22<13:30, 10.81s/it][   INFO   ] MusicExtractor: Read metadata\n",
      "[   INFO   ] MusicExtractor: Compute md5 audio hash, codec, length, and EBU 128 loudness\n",
      "[   INFO   ] MusicExtractor: Replay gain\n",
      "[   INFO   ] MusicExtractor: Compute audio features\n",
      "[   INFO   ] MusicExtractor: Compute aggregation\n",
      "[   INFO   ] All done\n",
      "  4%|███████▌                                                                                                                                                                                           | 3/77 [00:33<13:45, 11.15s/it][   INFO   ] MusicExtractor: Read metadata\n",
      "[   INFO   ] MusicExtractor: Compute md5 audio hash, codec, length, and EBU 128 loudness\n",
      "[   INFO   ] MusicExtractor: Replay gain\n",
      "[   INFO   ] MusicExtractor: Compute audio features\n",
      "[   INFO   ] MusicExtractor: Compute aggregation\n",
      "[   INFO   ] All done\n",
      "  5%|██████████▏                                                                                                                                                                                        | 4/77 [00:44<13:30, 11.10s/it][   INFO   ] MusicExtractor: Read metadata\n",
      "[   INFO   ] MusicExtractor: Compute md5 audio hash, codec, length, and EBU 128 loudness\n",
      "[   INFO   ] MusicExtractor: Replay gain\n",
      "[   INFO   ] MusicExtractor: Compute audio features\n",
      "[   INFO   ] MusicExtractor: Compute aggregation\n",
      "[   INFO   ] All done\n",
      "  6%|████████████▋                                                                                                                                                                                      | 5/77 [00:53<12:29, 10.41s/it][   INFO   ] MusicExtractor: Read metadata\n",
      "[   INFO   ] MusicExtractor: Compute md5 audio hash, codec, length, and EBU 128 loudness\n",
      "[   INFO   ] MusicExtractor: Replay gain\n",
      "[   INFO   ] MusicExtractor: Compute audio features\n",
      "[   INFO   ] MusicExtractor: Compute aggregation\n",
      "[   INFO   ] All done\n",
      "  8%|███████████████▏                                                                                                                                                                                   | 6/77 [01:04<12:28, 10.55s/it][   INFO   ] MusicExtractor: Read metadata\n",
      "  9%|█████████████████▋                                                                                                                                                                                 | 7/77 [01:21<14:49, 12.70s/it][   INFO   ] MusicExtractor: Compute md5 audio hash, codec, length, and EBU 128 loudness\n",
      "[   INFO   ] MusicExtractor: Replay gain\n",
      "[   INFO   ] MusicExtractor: Compute audio features\n",
      "[   INFO   ] MusicExtractor: Compute aggregation\n",
      "[   INFO   ] All done\n",
      "[   INFO   ] MusicExtractor: Read metadata\n",
      "[   INFO   ] MusicExtractor: Compute md5 audio hash, codec, length, and EBU 128 loudness\n",
      "[   INFO   ] MusicExtractor: Replay gain\n",
      "[   INFO   ] MusicExtractor: Compute audio features\n",
      "[   INFO   ] MusicExtractor: Compute aggregation\n",
      "[   INFO   ] All done\n",
      " 10%|████████████████████▎                                                                                                                                                                              | 8/77 [01:31<13:42, 11.93s/it][   INFO   ] MusicExtractor: Read metadata\n",
      "[   INFO   ] MusicExtractor: Compute md5 audio hash, codec, length, and EBU 128 loudness\n",
      "[   INFO   ] MusicExtractor: Replay gain\n",
      "[   INFO   ] MusicExtractor: Compute audio features\n",
      "[   INFO   ] MusicExtractor: Compute aggregation\n",
      "[   INFO   ] All done\n",
      " 12%|██████████████████████▊                                                                                                                                                                            | 9/77 [01:39<12:03, 10.64s/it][   INFO   ] MusicExtractor: Read metadata\n",
      "[   INFO   ] MusicExtractor: Compute md5 audio hash, codec, length, and EBU 128 loudness\n",
      "[   INFO   ] MusicExtractor: Replay gain\n",
      "[   INFO   ] MusicExtractor: Compute audio features\n",
      "[   INFO   ] MusicExtractor: Compute aggregation\n",
      "[   INFO   ] All done\n",
      " 13%|█████████████████████████▏                                                                                                                                                                        | 10/77 [01:47<11:01,  9.87s/it][   INFO   ] MusicExtractor: Read metadata\n",
      "[   INFO   ] MusicExtractor: Compute md5 audio hash, codec, length, and EBU 128 loudness\n",
      "[   INFO   ] MusicExtractor: Replay gain\n",
      "[   INFO   ] MusicExtractor: Compute audio features\n",
      "[   INFO   ] MusicExtractor: Compute aggregation\n",
      "[   INFO   ] All done\n",
      " 14%|███████████████████████████▋                                                                                                                                                                      | 11/77 [01:58<11:02, 10.04s/it][   INFO   ] MusicExtractor: Read metadata\n",
      "[   INFO   ] MusicExtractor: Compute md5 audio hash, codec, length, and EBU 128 loudness\n",
      "[   INFO   ] MusicExtractor: Replay gain\n",
      "[   INFO   ] MusicExtractor: Compute audio features\n",
      "[   INFO   ] MusicExtractor: Compute aggregation\n",
      "[   INFO   ] All done\n",
      " 16%|██████████████████████████████▏                                                                                                                                                                   | 12/77 [02:07<10:27,  9.65s/it][   INFO   ] MusicExtractor: Read metadata\n",
      " 17%|████████████████████████████████▊                                                                                                                                                                 | 13/77 [02:15<09:59,  9.37s/it][   INFO   ] MusicExtractor: Compute md5 audio hash, codec, length, and EBU 128 loudness\n",
      "[   INFO   ] MusicExtractor: Replay gain\n",
      "[   INFO   ] MusicExtractor: Compute audio features\n",
      "[   INFO   ] MusicExtractor: Compute aggregation\n",
      "[   INFO   ] All done\n",
      "[   INFO   ] MusicExtractor: Read metadata\n",
      "[   INFO   ] MusicExtractor: Compute md5 audio hash, codec, length, and EBU 128 loudness\n",
      "[   INFO   ] MusicExtractor: Replay gain\n",
      "[   INFO   ] MusicExtractor: Compute audio features\n",
      "[   INFO   ] MusicExtractor: Compute aggregation\n",
      "[   INFO   ] All done\n",
      " 18%|███████████████████████████████████▎                                                                                                                                                              | 14/77 [02:24<09:43,  9.26s/it][   INFO   ] MusicExtractor: Read metadata\n",
      "[   INFO   ] MusicExtractor: Compute md5 audio hash, codec, length, and EBU 128 loudness\n",
      "[   INFO   ] MusicExtractor: Replay gain\n",
      "[   INFO   ] MusicExtractor: Compute audio features\n",
      "[   INFO   ] MusicExtractor: Compute aggregation\n",
      "[   INFO   ] All done\n",
      " 19%|█████████████████████████████████████▊                                                                                                                                                            | 15/77 [02:42<12:04, 11.68s/it][   INFO   ] MusicExtractor: Read metadata\n",
      "[   INFO   ] MusicExtractor: Compute md5 audio hash, codec, length, and EBU 128 loudness\n",
      "[   INFO   ] MusicExtractor: Replay gain\n",
      "[   INFO   ] MusicExtractor: Compute audio features\n",
      "[   INFO   ] MusicExtractor: Compute aggregation\n",
      "[   INFO   ] All done\n"
     ]
    },
    {
     "name": "stderr",
     "output_type": "stream",
     "text": [
      " 21%|████████████████████████████████████████▎                                                                                                                                                         | 16/77 [02:53<11:47, 11.60s/it][   INFO   ] MusicExtractor: Read metadata\n",
      " 22%|██████████████████████████████████████████▊                                                                                                                                                       | 17/77 [03:04<11:30, 11.50s/it][   INFO   ] MusicExtractor: Compute md5 audio hash, codec, length, and EBU 128 loudness\n",
      "[   INFO   ] MusicExtractor: Replay gain\n",
      "[   INFO   ] MusicExtractor: Compute audio features\n",
      "[   INFO   ] MusicExtractor: Compute aggregation\n",
      "[   INFO   ] All done\n",
      "[   INFO   ] MusicExtractor: Read metadata\n",
      "[   INFO   ] MusicExtractor: Compute md5 audio hash, codec, length, and EBU 128 loudness\n",
      "[   INFO   ] MusicExtractor: Replay gain\n",
      "[   INFO   ] MusicExtractor: Compute audio features\n",
      "[   INFO   ] MusicExtractor: Compute aggregation\n",
      "[   INFO   ] All done\n",
      " 23%|█████████████████████████████████████████████▎                                                                                                                                                    | 18/77 [03:16<11:15, 11.46s/it][   INFO   ] MusicExtractor: Read metadata\n",
      "[   INFO   ] MusicExtractor: Compute md5 audio hash, codec, length, and EBU 128 loudness\n",
      "[   INFO   ] MusicExtractor: Replay gain\n",
      "[   INFO   ] MusicExtractor: Compute audio features\n",
      "[   INFO   ] MusicExtractor: Compute aggregation\n",
      "[   INFO   ] All done\n",
      " 25%|███████████████████████████████████████████████▊                                                                                                                                                  | 19/77 [03:32<12:22, 12.81s/it][   INFO   ] MusicExtractor: Read metadata\n",
      "[   INFO   ] MusicExtractor: Compute md5 audio hash, codec, length, and EBU 128 loudness\n",
      "[   INFO   ] MusicExtractor: Replay gain\n",
      "[   INFO   ] MusicExtractor: Compute audio features\n",
      "[   INFO   ] MusicExtractor: Compute aggregation\n",
      "[   INFO   ] All done\n",
      " 26%|██████████████████████████████████████████████████▍                                                                                                                                               | 20/77 [03:47<12:53, 13.56s/it][   INFO   ] MusicExtractor: Read metadata\n",
      "[   INFO   ] MusicExtractor: Compute md5 audio hash, codec, length, and EBU 128 loudness\n",
      "[   INFO   ] MusicExtractor: Replay gain\n",
      "[   INFO   ] MusicExtractor: Compute audio features\n",
      "[   INFO   ] MusicExtractor: Compute aggregation\n",
      "[   INFO   ] All done\n",
      " 27%|████████████████████████████████████████████████████▉                                                                                                                                             | 21/77 [04:00<12:27, 13.36s/it][   INFO   ] MusicExtractor: Read metadata\n",
      "[   INFO   ] MusicExtractor: Compute md5 audio hash, codec, length, and EBU 128 loudness\n",
      "[   INFO   ] MusicExtractor: Replay gain\n",
      "[   INFO   ] MusicExtractor: Compute audio features\n",
      "[   INFO   ] MusicExtractor: Compute aggregation\n",
      "[   INFO   ] All done\n",
      " 29%|███████████████████████████████████████████████████████▍                                                                                                                                          | 22/77 [04:12<11:54, 12.98s/it][   INFO   ] MusicExtractor: Read metadata\n",
      " 30%|█████████████████████████████████████████████████████████▉                                                                                                                                        | 23/77 [04:25<11:36, 12.89s/it][   INFO   ] MusicExtractor: Compute md5 audio hash, codec, length, and EBU 128 loudness\n",
      "[   INFO   ] MusicExtractor: Replay gain\n",
      "[   INFO   ] MusicExtractor: Compute audio features\n",
      "[   INFO   ] MusicExtractor: Compute aggregation\n",
      "[   INFO   ] All done\n",
      "[   INFO   ] MusicExtractor: Read metadata\n",
      "[   INFO   ] MusicExtractor: Compute md5 audio hash, codec, length, and EBU 128 loudness\n",
      "[   INFO   ] MusicExtractor: Replay gain\n",
      "[   INFO   ] MusicExtractor: Compute audio features\n",
      "[   INFO   ] MusicExtractor: Compute aggregation\n",
      "[   INFO   ] All done\n",
      " 31%|████████████████████████████████████████████████████████████▍                                                                                                                                     | 24/77 [04:38<11:23, 12.89s/it][   INFO   ] MusicExtractor: Read metadata\n",
      "[   INFO   ] MusicExtractor: Compute md5 audio hash, codec, length, and EBU 128 loudness\n",
      "[   INFO   ] MusicExtractor: Replay gain\n",
      "[   INFO   ] MusicExtractor: Compute audio features\n",
      "[   INFO   ] MusicExtractor: Compute aggregation\n",
      "[   INFO   ] All done\n",
      " 32%|██████████████████████████████████████████████████████████████▉                                                                                                                                   | 25/77 [04:52<11:30, 13.27s/it][   INFO   ] MusicExtractor: Read metadata\n",
      "[   INFO   ] MusicExtractor: Compute md5 audio hash, codec, length, and EBU 128 loudness\n",
      "[   INFO   ] MusicExtractor: Replay gain\n",
      "[   INFO   ] MusicExtractor: Compute audio features\n",
      "[   INFO   ] MusicExtractor: Compute aggregation\n",
      "[   INFO   ] All done\n",
      " 34%|█████████████████████████████████████████████████████████████████▌                                                                                                                                | 26/77 [05:06<11:34, 13.62s/it][   INFO   ] MusicExtractor: Read metadata\n",
      "[   INFO   ] MusicExtractor: Compute md5 audio hash, codec, length, and EBU 128 loudness\n",
      "[   INFO   ] MusicExtractor: Replay gain\n",
      "[   INFO   ] MusicExtractor: Compute audio features\n",
      "[   INFO   ] MusicExtractor: Compute aggregation\n",
      "[   INFO   ] All done\n",
      " 35%|████████████████████████████████████████████████████████████████████                                                                                                                              | 27/77 [05:20<11:28, 13.77s/it][   INFO   ] MusicExtractor: Read metadata\n",
      "[   INFO   ] MusicExtractor: Compute md5 audio hash, codec, length, and EBU 128 loudness\n",
      "[   INFO   ] MusicExtractor: Replay gain\n",
      "[   INFO   ] MusicExtractor: Compute audio features\n",
      "[   INFO   ] MusicExtractor: Compute aggregation\n",
      "[   INFO   ] All done\n",
      " 36%|██████████████████████████████████████████████████████████████████████▌                                                                                                                           | 28/77 [05:37<11:55, 14.61s/it][   INFO   ] MusicExtractor: Read metadata\n",
      "[   INFO   ] MusicExtractor: Compute md5 audio hash, codec, length, and EBU 128 loudness\n",
      "[   INFO   ] MusicExtractor: Replay gain\n",
      "[   INFO   ] MusicExtractor: Compute audio features\n",
      "[   INFO   ] MusicExtractor: Compute aggregation\n",
      "[   INFO   ] All done\n",
      " 38%|█████████████████████████████████████████████████████████████████████████                                                                                                                         | 29/77 [05:49<11:12, 14.01s/it][   INFO   ] MusicExtractor: Read metadata\n",
      "[   INFO   ] MusicExtractor: Compute md5 audio hash, codec, length, and EBU 128 loudness\n",
      "[   INFO   ] MusicExtractor: Replay gain\n",
      "[   INFO   ] MusicExtractor: Compute audio features\n",
      "[   INFO   ] MusicExtractor: Compute aggregation\n",
      "[   INFO   ] All done\n",
      " 39%|███████████████████████████████████████████████████████████████████████████▌                                                                                                                      | 30/77 [06:05<11:26, 14.62s/it][   INFO   ] MusicExtractor: Read metadata\n",
      "[   INFO   ] MusicExtractor: Compute md5 audio hash, codec, length, and EBU 128 loudness\n",
      "[   INFO   ] MusicExtractor: Replay gain\n",
      "[   INFO   ] MusicExtractor: Compute audio features\n",
      "[   INFO   ] MusicExtractor: Compute aggregation\n",
      "[   INFO   ] All done\n",
      " 40%|██████████████████████████████████████████████████████████████████████████████                                                                                                                    | 31/77 [06:17<10:23, 13.56s/it][   INFO   ] MusicExtractor: Read metadata\n",
      "[   INFO   ] MusicExtractor: Compute md5 audio hash, codec, length, and EBU 128 loudness\n",
      "[   INFO   ] MusicExtractor: Replay gain\n",
      "[   INFO   ] MusicExtractor: Compute audio features\n",
      "[   INFO   ] MusicExtractor: Compute aggregation\n",
      "[   INFO   ] All done\n"
     ]
    },
    {
     "name": "stderr",
     "output_type": "stream",
     "text": [
      " 42%|████████████████████████████████████████████████████████████████████████████████▌                                                                                                                 | 32/77 [06:29<09:57, 13.27s/it][   INFO   ] MusicExtractor: Read metadata\n",
      "[   INFO   ] MusicExtractor: Compute md5 audio hash, codec, length, and EBU 128 loudness\n",
      "[   INFO   ] MusicExtractor: Replay gain\n",
      "[   INFO   ] MusicExtractor: Compute audio features\n",
      "[   INFO   ] MusicExtractor: Compute aggregation\n",
      "[   INFO   ] All done\n",
      " 43%|███████████████████████████████████████████████████████████████████████████████████▏                                                                                                              | 33/77 [06:47<10:48, 14.74s/it][   INFO   ] MusicExtractor: Read metadata\n",
      "[   INFO   ] MusicExtractor: Compute md5 audio hash, codec, length, and EBU 128 loudness\n",
      "[   INFO   ] MusicExtractor: Replay gain\n",
      "[   INFO   ] MusicExtractor: Compute audio features\n",
      "[   INFO   ] MusicExtractor: Compute aggregation\n",
      "[   INFO   ] All done\n",
      " 44%|█████████████████████████████████████████████████████████████████████████████████████▋                                                                                                            | 34/77 [06:59<09:56, 13.87s/it][   INFO   ] MusicExtractor: Read metadata\n",
      "[   INFO   ] MusicExtractor: Compute md5 audio hash, codec, length, and EBU 128 loudness\n",
      "[   INFO   ] MusicExtractor: Replay gain\n",
      "[   INFO   ] MusicExtractor: Compute audio features\n",
      "[   INFO   ] MusicExtractor: Compute aggregation\n",
      "[   INFO   ] All done\n",
      " 45%|████████████████████████████████████████████████████████████████████████████████████████▏                                                                                                         | 35/77 [07:14<09:56, 14.21s/it][   INFO   ] MusicExtractor: Read metadata\n",
      "[   INFO   ] MusicExtractor: Compute md5 audio hash, codec, length, and EBU 128 loudness\n",
      "[   INFO   ] MusicExtractor: Replay gain\n",
      "[   INFO   ] MusicExtractor: Compute audio features\n",
      "[   INFO   ] MusicExtractor: Compute aggregation\n",
      "[   INFO   ] All done\n",
      " 47%|██████████████████████████████████████████████████████████████████████████████████████████▋                                                                                                       | 36/77 [07:25<08:59, 13.16s/it][   INFO   ] MusicExtractor: Read metadata\n",
      "[   INFO   ] MusicExtractor: Compute md5 audio hash, codec, length, and EBU 128 loudness\n",
      "[   INFO   ] MusicExtractor: Replay gain\n",
      "[   INFO   ] MusicExtractor: Compute audio features\n",
      "[   INFO   ] MusicExtractor: Compute aggregation\n",
      "[   INFO   ] All done\n",
      " 48%|█████████████████████████████████████████████████████████████████████████████████████████████▏                                                                                                    | 37/77 [07:35<08:14, 12.36s/it][   INFO   ] MusicExtractor: Read metadata\n",
      " 49%|███████████████████████████████████████████████████████████████████████████████████████████████▋                                                                                                  | 38/77 [07:49<08:22, 12.89s/it][   INFO   ] MusicExtractor: Compute md5 audio hash, codec, length, and EBU 128 loudness\n",
      "[   INFO   ] MusicExtractor: Replay gain\n",
      "[   INFO   ] MusicExtractor: Compute audio features\n",
      "[   INFO   ] MusicExtractor: Compute aggregation\n",
      "[   INFO   ] All done\n",
      "[   INFO   ] MusicExtractor: Read metadata\n",
      "[   INFO   ] MusicExtractor: Compute md5 audio hash, codec, length, and EBU 128 loudness\n",
      "[   INFO   ] MusicExtractor: Replay gain\n",
      "[   INFO   ] MusicExtractor: Compute audio features\n",
      "[   INFO   ] MusicExtractor: Compute aggregation\n",
      "[   INFO   ] All done\n",
      " 51%|██████████████████████████████████████████████████████████████████████████████████████████████████▎                                                                                               | 39/77 [08:02<08:08, 12.85s/it][   INFO   ] MusicExtractor: Read metadata\n",
      "[   INFO   ] MusicExtractor: Compute md5 audio hash, codec, length, and EBU 128 loudness\n",
      "[   INFO   ] MusicExtractor: Replay gain\n",
      "[   INFO   ] MusicExtractor: Compute audio features\n",
      "[   INFO   ] MusicExtractor: Compute aggregation\n",
      "[   INFO   ] All done\n",
      " 52%|████████████████████████████████████████████████████████████████████████████████████████████████████▊                                                                                             | 40/77 [08:17<08:12, 13.31s/it][   INFO   ] MusicExtractor: Read metadata\n",
      "[   INFO   ] MusicExtractor: Compute md5 audio hash, codec, length, and EBU 128 loudness\n",
      "[   INFO   ] MusicExtractor: Replay gain\n",
      "[   INFO   ] MusicExtractor: Compute audio features\n",
      "[   INFO   ] MusicExtractor: Compute aggregation\n",
      "[   INFO   ] All done\n",
      " 53%|███████████████████████████████████████████████████████████████████████████████████████████████████████▎                                                                                          | 41/77 [08:28<07:37, 12.71s/it][   INFO   ] MusicExtractor: Read metadata\n",
      "[   INFO   ] MusicExtractor: Compute md5 audio hash, codec, length, and EBU 128 loudness\n",
      "[   INFO   ] MusicExtractor: Replay gain\n",
      "[   INFO   ] MusicExtractor: Compute audio features\n",
      "[   INFO   ] MusicExtractor: Compute aggregation\n",
      "[   INFO   ] All done\n",
      " 55%|█████████████████████████████████████████████████████████████████████████████████████████████████████████▊                                                                                        | 42/77 [08:38<07:02, 12.07s/it][   INFO   ] MusicExtractor: Read metadata\n",
      "[   INFO   ] MusicExtractor: Compute md5 audio hash, codec, length, and EBU 128 loudness\n",
      "[   INFO   ] MusicExtractor: Replay gain\n",
      "[   INFO   ] MusicExtractor: Compute audio features\n",
      "[   INFO   ] MusicExtractor: Compute aggregation\n",
      "[   INFO   ] All done\n",
      " 56%|████████████████████████████████████████████████████████████████████████████████████████████████████████████▎                                                                                     | 43/77 [08:51<06:53, 12.17s/it][   INFO   ] MusicExtractor: Read metadata\n",
      "[   INFO   ] MusicExtractor: Compute md5 audio hash, codec, length, and EBU 128 loudness\n",
      "[   INFO   ] MusicExtractor: Replay gain\n",
      "[   INFO   ] MusicExtractor: Compute audio features\n",
      "[   INFO   ] MusicExtractor: Compute aggregation\n",
      "[   INFO   ] All done\n",
      " 57%|██████████████████████████████████████████████████████████████████████████████████████████████████████████████▊                                                                                   | 44/77 [09:05<06:57, 12.64s/it][   INFO   ] MusicExtractor: Read metadata\n",
      "[   INFO   ] MusicExtractor: Compute md5 audio hash, codec, length, and EBU 128 loudness\n",
      "[   INFO   ] MusicExtractor: Replay gain\n",
      "[   INFO   ] MusicExtractor: Compute audio features\n",
      "[   INFO   ] MusicExtractor: Compute aggregation\n",
      "[   INFO   ] All done\n",
      " 58%|█████████████████████████████████████████████████████████████████████████████████████████████████████████████████▍                                                                                | 45/77 [09:20<07:10, 13.46s/it][   INFO   ] MusicExtractor: Read metadata\n",
      "[   INFO   ] MusicExtractor: Compute md5 audio hash, codec, length, and EBU 128 loudness\n",
      "[   INFO   ] MusicExtractor: Replay gain\n",
      "[   INFO   ] MusicExtractor: Compute audio features\n",
      "[   INFO   ] MusicExtractor: Compute aggregation\n",
      "[   INFO   ] All done\n",
      " 60%|███████████████████████████████████████████████████████████████████████████████████████████████████████████████████▉                                                                              | 46/77 [09:34<07:02, 13.64s/it][   INFO   ] MusicExtractor: Read metadata\n",
      "[   INFO   ] MusicExtractor: Compute md5 audio hash, codec, length, and EBU 128 loudness\n",
      "[   INFO   ] MusicExtractor: Replay gain\n",
      "[   INFO   ] MusicExtractor: Compute audio features\n",
      "[   INFO   ] MusicExtractor: Compute aggregation\n",
      "[   INFO   ] All done\n",
      " 61%|██████████████████████████████████████████████████████████████████████████████████████████████████████████████████████▍                                                                           | 47/77 [09:50<07:09, 14.31s/it][   INFO   ] MusicExtractor: Read metadata\n",
      "[   INFO   ] MusicExtractor: Compute md5 audio hash, codec, length, and EBU 128 loudness\n",
      "[   INFO   ] MusicExtractor: Replay gain\n",
      "[   INFO   ] MusicExtractor: Compute audio features\n",
      "[   INFO   ] MusicExtractor: Compute aggregation\n",
      "[   INFO   ] All done\n"
     ]
    },
    {
     "name": "stderr",
     "output_type": "stream",
     "text": [
      " 62%|████████████████████████████████████████████████████████████████████████████████████████████████████████████████████████▉                                                                         | 48/77 [10:08<07:24, 15.33s/it][   INFO   ] MusicExtractor: Read metadata\n",
      " 64%|███████████████████████████████████████████████████████████████████████████████████████████████████████████████████████████▍                                                                      | 49/77 [10:25<07:27, 15.98s/it][   INFO   ] MusicExtractor: Compute md5 audio hash, codec, length, and EBU 128 loudness\n",
      "[   INFO   ] MusicExtractor: Replay gain\n",
      "[   INFO   ] MusicExtractor: Compute audio features\n",
      "[   INFO   ] MusicExtractor: Compute aggregation\n",
      "[   INFO   ] All done\n",
      "[   INFO   ] MusicExtractor: Read metadata\n",
      "[   INFO   ] MusicExtractor: Compute md5 audio hash, codec, length, and EBU 128 loudness\n",
      "[   INFO   ] MusicExtractor: Replay gain\n",
      "[   INFO   ] MusicExtractor: Compute audio features\n",
      "[   INFO   ] MusicExtractor: Compute aggregation\n",
      "[   INFO   ] All done\n",
      " 65%|█████████████████████████████████████████████████████████████████████████████████████████████████████████████████████████████▉                                                                    | 50/77 [10:40<06:59, 15.53s/it][   INFO   ] MusicExtractor: Read metadata\n",
      "[   INFO   ] MusicExtractor: Compute md5 audio hash, codec, length, and EBU 128 loudness\n",
      "[   INFO   ] MusicExtractor: Replay gain\n",
      "[   INFO   ] MusicExtractor: Compute audio features\n",
      "[   INFO   ] MusicExtractor: Compute aggregation\n",
      "[   INFO   ] All done\n",
      " 66%|████████████████████████████████████████████████████████████████████████████████████████████████████████████████████████████████▍                                                                 | 51/77 [10:54<06:34, 15.16s/it][   INFO   ] MusicExtractor: Read metadata\n",
      "[   INFO   ] MusicExtractor: Compute md5 audio hash, codec, length, and EBU 128 loudness\n",
      "[   INFO   ] MusicExtractor: Replay gain\n",
      "[   INFO   ] MusicExtractor: Compute audio features\n",
      "[   INFO   ] MusicExtractor: Compute aggregation\n",
      "[   INFO   ] All done\n",
      " 68%|███████████████████████████████████████████████████████████████████████████████████████████████████████████████████████████████████                                                               | 52/77 [11:06<05:59, 14.36s/it][   INFO   ] MusicExtractor: Read metadata\n",
      "[   INFO   ] MusicExtractor: Compute md5 audio hash, codec, length, and EBU 128 loudness\n",
      "[   INFO   ] MusicExtractor: Replay gain\n",
      "[   INFO   ] MusicExtractor: Compute audio features\n",
      "[   INFO   ] MusicExtractor: Compute aggregation\n",
      "[   INFO   ] All done\n",
      " 69%|█████████████████████████████████████████████████████████████████████████████████████████████████████████████████████████████████████▌                                                            | 53/77 [11:20<05:37, 14.06s/it][   INFO   ] MusicExtractor: Read metadata\n",
      "[   INFO   ] MusicExtractor: Compute md5 audio hash, codec, length, and EBU 128 loudness\n",
      "[   INFO   ] MusicExtractor: Replay gain\n",
      "[   INFO   ] MusicExtractor: Compute audio features\n",
      "[   INFO   ] MusicExtractor: Compute aggregation\n",
      "[   INFO   ] All done\n",
      " 70%|████████████████████████████████████████████████████████████████████████████████████████████████████████████████████████████████████████                                                          | 54/77 [11:32<05:12, 13.57s/it][   INFO   ] MusicExtractor: Read metadata\n",
      "[   INFO   ] MusicExtractor: Compute md5 audio hash, codec, length, and EBU 128 loudness\n",
      "[   INFO   ] MusicExtractor: Replay gain\n",
      "[   INFO   ] MusicExtractor: Compute audio features\n",
      "[   INFO   ] MusicExtractor: Compute aggregation\n",
      "[   INFO   ] All done\n",
      " 71%|██████████████████████████████████████████████████████████████████████████████████████████████████████████████████████████████████████████▌                                                       | 55/77 [11:45<04:53, 13.35s/it][   INFO   ] MusicExtractor: Read metadata\n",
      "[   INFO   ] MusicExtractor: Compute md5 audio hash, codec, length, and EBU 128 loudness\n",
      "[   INFO   ] MusicExtractor: Replay gain\n",
      "[   INFO   ] MusicExtractor: Compute audio features\n",
      "[   INFO   ] MusicExtractor: Compute aggregation\n",
      "[   INFO   ] All done\n",
      " 73%|█████████████████████████████████████████████████████████████████████████████████████████████████████████████████████████████████████████████                                                     | 56/77 [11:56<04:26, 12.69s/it][   INFO   ] MusicExtractor: Read metadata\n",
      "[   INFO   ] MusicExtractor: Compute md5 audio hash, codec, length, and EBU 128 loudness\n",
      "[   INFO   ] MusicExtractor: Replay gain\n",
      "[   INFO   ] MusicExtractor: Compute audio features\n",
      "[   INFO   ] MusicExtractor: Compute aggregation\n",
      "[   INFO   ] All done\n",
      " 74%|███████████████████████████████████████████████████████████████████████████████████████████████████████████████████████████████████████████████▌                                                  | 57/77 [12:07<04:01, 12.08s/it][   INFO   ] MusicExtractor: Read metadata\n",
      "[   INFO   ] MusicExtractor: Compute md5 audio hash, codec, length, and EBU 128 loudness\n",
      "[   INFO   ] MusicExtractor: Replay gain\n",
      "[   INFO   ] MusicExtractor: Compute audio features\n",
      "[   INFO   ] MusicExtractor: Compute aggregation\n",
      "[   INFO   ] All done\n",
      " 75%|██████████████████████████████████████████████████████████████████████████████████████████████████████████████████████████████████████████████████▏                                               | 58/77 [12:15<03:28, 10.96s/it][   INFO   ] MusicExtractor: Read metadata\n",
      "[   INFO   ] MusicExtractor: Compute md5 audio hash, codec, length, and EBU 128 loudness\n",
      "[   INFO   ] MusicExtractor: Replay gain\n",
      "[   INFO   ] MusicExtractor: Compute audio features\n",
      "[   INFO   ] MusicExtractor: Compute aggregation\n",
      "[   INFO   ] All done\n",
      " 77%|████████████████████████████████████████████████████████████████████████████████████████████████████████████████████████████████████████████████████▋                                             | 59/77 [12:32<03:50, 12.78s/it][   INFO   ] MusicExtractor: Read metadata\n",
      " 78%|███████████████████████████████████████████████████████████████████████████████████████████████████████████████████████████████████████████████████████▏                                          | 60/77 [12:48<03:51, 13.61s/it][   INFO   ] MusicExtractor: Compute md5 audio hash, codec, length, and EBU 128 loudness\n",
      "[   INFO   ] MusicExtractor: Replay gain\n",
      "[   INFO   ] MusicExtractor: Compute audio features\n",
      "[   INFO   ] MusicExtractor: Compute aggregation\n",
      "[   INFO   ] All done\n",
      "[   INFO   ] MusicExtractor: Read metadata\n",
      "[   INFO   ] MusicExtractor: Compute md5 audio hash, codec, length, and EBU 128 loudness\n",
      "[   INFO   ] MusicExtractor: Replay gain\n",
      "[   INFO   ] MusicExtractor: Compute audio features\n",
      "[   INFO   ] MusicExtractor: Compute aggregation\n",
      "[   INFO   ] All done\n",
      " 79%|█████████████████████████████████████████████████████████████████████████████████████████████████████████████████████████████████████████████████████████▋                                        | 61/77 [13:05<03:55, 14.71s/it][   INFO   ] MusicExtractor: Read metadata\n",
      "[   INFO   ] MusicExtractor: Compute md5 audio hash, codec, length, and EBU 128 loudness\n",
      "[   INFO   ] MusicExtractor: Replay gain\n",
      "[   INFO   ] MusicExtractor: Compute audio features\n",
      "[   INFO   ] MusicExtractor: Compute aggregation\n",
      "[   INFO   ] All done\n",
      " 81%|████████████████████████████████████████████████████████████████████████████████████████████████████████████████████████████████████████████████████████████▏                                     | 62/77 [13:19<03:39, 14.60s/it][   INFO   ] MusicExtractor: Read metadata\n",
      "[   INFO   ] MusicExtractor: Compute md5 audio hash, codec, length, and EBU 128 loudness\n",
      "[   INFO   ] MusicExtractor: Replay gain\n",
      "[   INFO   ] MusicExtractor: Compute audio features\n",
      "[   INFO   ] MusicExtractor: Compute aggregation\n",
      "[   INFO   ] All done\n",
      " 82%|██████████████████████████████████████████████████████████████████████████████████████████████████████████████████████████████████████████████████████████████▋                                   | 63/77 [13:34<03:24, 14.64s/it][   INFO   ] MusicExtractor: Read metadata\n",
      "[   INFO   ] MusicExtractor: Compute md5 audio hash, codec, length, and EBU 128 loudness\n",
      "[   INFO   ] MusicExtractor: Replay gain\n",
      "[   INFO   ] MusicExtractor: Compute audio features\n",
      "[   INFO   ] MusicExtractor: Compute aggregation\n",
      "[   INFO   ] All done\n"
     ]
    },
    {
     "name": "stderr",
     "output_type": "stream",
     "text": [
      " 83%|█████████████████████████████████████████████████████████████████████████████████████████████████████████████████████████████████████████████████████████████████▏                                | 64/77 [13:51<03:20, 15.41s/it][   INFO   ] MusicExtractor: Read metadata\n",
      "[   INFO   ] MusicExtractor: Compute md5 audio hash, codec, length, and EBU 128 loudness\n",
      "[   INFO   ] MusicExtractor: Replay gain\n",
      "[   INFO   ] MusicExtractor: Compute audio features\n",
      "[   INFO   ] MusicExtractor: Compute aggregation\n",
      "[   INFO   ] All done\n",
      " 84%|███████████████████████████████████████████████████████████████████████████████████████████████████████████████████████████████████████████████████████████████████▊                              | 65/77 [14:07<03:05, 15.47s/it][   INFO   ] MusicExtractor: Read metadata\n",
      " 86%|██████████████████████████████████████████████████████████████████████████████████████████████████████████████████████████████████████████████████████████████████████▎                           | 66/77 [14:26<03:03, 16.68s/it][   INFO   ] MusicExtractor: Compute md5 audio hash, codec, length, and EBU 128 loudness\n",
      "[   INFO   ] MusicExtractor: Replay gain\n",
      "[   INFO   ] MusicExtractor: Compute audio features\n",
      "[   INFO   ] MusicExtractor: Compute aggregation\n",
      "[   INFO   ] All done\n",
      "[   INFO   ] MusicExtractor: Read metadata\n",
      "[   INFO   ] MusicExtractor: Compute md5 audio hash, codec, length, and EBU 128 loudness\n",
      "[   INFO   ] MusicExtractor: Replay gain\n",
      "[   INFO   ] MusicExtractor: Compute audio features\n",
      "[   INFO   ] MusicExtractor: Compute aggregation\n",
      "[   INFO   ] All done\n",
      " 87%|████████████████████████████████████████████████████████████████████████████████████████████████████████████████████████████████████████████████████████████████████████▊                         | 67/77 [14:44<02:48, 16.83s/it][   INFO   ] MusicExtractor: Read metadata\n",
      "[   INFO   ] MusicExtractor: Compute md5 audio hash, codec, length, and EBU 128 loudness\n",
      "[   INFO   ] MusicExtractor: Replay gain\n",
      "[   INFO   ] MusicExtractor: Compute audio features\n",
      "[   INFO   ] MusicExtractor: Compute aggregation\n",
      "[   INFO   ] All done\n",
      " 88%|███████████████████████████████████████████████████████████████████████████████████████████████████████████████████████████████████████████████████████████████████████████▎                      | 68/77 [15:01<02:33, 17.10s/it][   INFO   ] MusicExtractor: Read metadata\n",
      "[   INFO   ] MusicExtractor: Compute md5 audio hash, codec, length, and EBU 128 loudness\n",
      "[   INFO   ] MusicExtractor: Replay gain\n",
      "[   INFO   ] MusicExtractor: Compute audio features\n",
      "[   INFO   ] MusicExtractor: Compute aggregation\n",
      "[   INFO   ] All done\n",
      " 90%|█████████████████████████████████████████████████████████████████████████████████████████████████████████████████████████████████████████████████████████████████████████████▊                    | 69/77 [15:21<02:21, 17.72s/it][   INFO   ] MusicExtractor: Read metadata\n",
      "[   INFO   ] MusicExtractor: Compute md5 audio hash, codec, length, and EBU 128 loudness\n",
      "[   INFO   ] MusicExtractor: Replay gain\n",
      "[   INFO   ] MusicExtractor: Compute audio features\n",
      "[   INFO   ] MusicExtractor: Compute aggregation\n",
      "[   INFO   ] All done\n",
      " 91%|████████████████████████████████████████████████████████████████████████████████████████████████████████████████████████████████████████████████████████████████████████████████▎                 | 70/77 [15:37<02:02, 17.43s/it][   INFO   ] MusicExtractor: Read metadata\n",
      "[   INFO   ] MusicExtractor: Compute md5 audio hash, codec, length, and EBU 128 loudness\n",
      "[   INFO   ] MusicExtractor: Replay gain\n",
      "[   INFO   ] MusicExtractor: Compute audio features\n",
      "[   INFO   ] MusicExtractor: Compute aggregation\n",
      "[   INFO   ] All done\n",
      " 92%|██████████████████████████████████████████████████████████████████████████████████████████████████████████████████████████████████████████████████████████████████████████████████▉               | 71/77 [15:51<01:37, 16.22s/it][   INFO   ] MusicExtractor: Read metadata\n",
      "[   INFO   ] MusicExtractor: Compute md5 audio hash, codec, length, and EBU 128 loudness\n",
      "[   INFO   ] MusicExtractor: Replay gain\n",
      "[   INFO   ] MusicExtractor: Compute audio features\n",
      "[   INFO   ] MusicExtractor: Compute aggregation\n",
      "[   INFO   ] All done\n",
      " 94%|█████████████████████████████████████████████████████████████████████████████████████████████████████████████████████████████████████████████████████████████████████████████████████▍            | 72/77 [16:08<01:22, 16.56s/it][   INFO   ] MusicExtractor: Read metadata\n",
      " 95%|███████████████████████████████████████████████████████████████████████████████████████████████████████████████████████████████████████████████████████████████████████████████████████▉          | 73/77 [16:25<01:06, 16.54s/it][   INFO   ] MusicExtractor: Compute md5 audio hash, codec, length, and EBU 128 loudness\n",
      "[   INFO   ] MusicExtractor: Replay gain\n",
      "[   INFO   ] MusicExtractor: Compute audio features\n",
      "[   INFO   ] MusicExtractor: Compute aggregation\n",
      "[   INFO   ] All done\n",
      "[   INFO   ] MusicExtractor: Read metadata\n",
      "[   INFO   ] MusicExtractor: Compute md5 audio hash, codec, length, and EBU 128 loudness\n",
      "[   INFO   ] MusicExtractor: Replay gain\n",
      "[   INFO   ] MusicExtractor: Compute audio features\n",
      "[   INFO   ] MusicExtractor: Compute aggregation\n",
      "[   INFO   ] All done\n",
      " 96%|██████████████████████████████████████████████████████████████████████████████████████████████████████████████████████████████████████████████████████████████████████████████████████████▍       | 74/77 [16:40<00:48, 16.12s/it][   INFO   ] MusicExtractor: Read metadata\n",
      "[   INFO   ] MusicExtractor: Compute md5 audio hash, codec, length, and EBU 128 loudness\n",
      "[   INFO   ] MusicExtractor: Replay gain\n",
      "[   INFO   ] MusicExtractor: Compute audio features\n",
      "[   INFO   ] MusicExtractor: Compute aggregation\n",
      "[   INFO   ] All done\n",
      " 97%|████████████████████████████████████████████████████████████████████████████████████████████████████████████████████████████████████████████████████████████████████████████████████████████▉     | 75/77 [16:55<00:31, 15.76s/it][   INFO   ] MusicExtractor: Read metadata\n",
      "[   INFO   ] MusicExtractor: Compute md5 audio hash, codec, length, and EBU 128 loudness\n",
      "[   INFO   ] MusicExtractor: Replay gain\n",
      "[   INFO   ] MusicExtractor: Compute audio features\n",
      "[   INFO   ] MusicExtractor: Compute aggregation\n",
      "[   INFO   ] All done\n",
      " 99%|███████████████████████████████████████████████████████████████████████████████████████████████████████████████████████████████████████████████████████████████████████████████████████████████▍  | 76/77 [17:17<00:17, 17.81s/it][   INFO   ] MusicExtractor: Read metadata\n",
      "[   INFO   ] MusicExtractor: Compute md5 audio hash, codec, length, and EBU 128 loudness\n",
      "[   INFO   ] MusicExtractor: Replay gain\n",
      "[   INFO   ] MusicExtractor: Compute audio features\n",
      "[   INFO   ] MusicExtractor: Compute aggregation\n",
      "[   INFO   ] All done\n",
      "100%|██████████████████████████████████████████████████████████████████████████████████████████████████████████████████████████████████████████████████████████████████████████████████████████████████| 77/77 [17:34<00:00, 13.69s/it]\n"
     ]
    }
   ],
   "source": [
    "out_dir = 'temp_features/'\n",
    "extracted_files = []\n",
    "id_2_paths = {}\n",
    "\n",
    "for fil in tqdm(new_file_paths, total = len(new_file_paths)):\n",
    "    try:\n",
    "        features, _ = music_ext(fil)\n",
    "        idd = features['metadata.audio_properties.md5_encoded']\n",
    "        YamlOutput(filename= out_dir+\"features.json\", format=\"json\")(features)\n",
    "        json_data = json_opener(out_dir+\"features.json\")\n",
    "        id_2_paths[idd] = fil\n",
    "        extracted_files.append(json_data)\n",
    "    except Exception as e:\n",
    "        print(e)"
   ]
  },
  {
   "cell_type": "code",
   "execution_count": 29,
   "id": "3fc90893",
   "metadata": {},
   "outputs": [],
   "source": [
    "extracted = pd.json_normalize(extracted_files)\n",
    "extracted.columns = extracted.columns.str.replace(\".\", \"_\")"
   ]
  },
  {
   "cell_type": "code",
   "execution_count": 30,
   "id": "b99082a1",
   "metadata": {},
   "outputs": [],
   "source": [
    "extracted.rename(columns={\"metadata_audio_properties_md5_encoded\":\"sid\"}, inplace=True)"
   ]
  },
  {
   "cell_type": "code",
   "execution_count": 31,
   "id": "435ff478",
   "metadata": {},
   "outputs": [],
   "source": [
    "drop_cols = np.load(\"drop_cols.pkl\", allow_pickle=True).tolist()"
   ]
  },
  {
   "cell_type": "code",
   "execution_count": 32,
   "id": "8f471dd8",
   "metadata": {},
   "outputs": [],
   "source": [
    "extracted.drop(drop_cols, axis = 1, inplace=True, \n",
    "               errors=\"ignore\"\n",
    "              )"
   ]
  },
  {
   "cell_type": "code",
   "execution_count": 33,
   "id": "5ae56f1d",
   "metadata": {},
   "outputs": [],
   "source": [
    "extracted.set_index(\"sid\", inplace=True)"
   ]
  },
  {
   "cell_type": "code",
   "execution_count": 34,
   "id": "ef819338",
   "metadata": {},
   "outputs": [
    {
     "data": {
      "text/plain": [
       "(77, 155)"
      ]
     },
     "execution_count": 34,
     "metadata": {},
     "output_type": "execute_result"
    }
   ],
   "source": [
    "extracted.shape"
   ]
  },
  {
   "cell_type": "code",
   "execution_count": 35,
   "id": "52410de0",
   "metadata": {},
   "outputs": [],
   "source": [
    "cols = extracted.columns\n",
    "\n",
    "meta_cols = cols[cols.str.startswith(\"meta\")]\n",
    "non_meta_cols = cols[~cols.str.startswith(\"meta\")]\n",
    "\n",
    "meta_df = extracted[meta_cols].copy()\n",
    "extracted.drop(meta_cols, axis = 1, inplace=True)"
   ]
  },
  {
   "cell_type": "code",
   "execution_count": 36,
   "id": "72e63687",
   "metadata": {},
   "outputs": [],
   "source": [
    "list_cols = extracted.columns[extracted.iloc[0].apply(lambda x:type(x)) == list]\n",
    "no_list_cols = extracted.columns[extracted.iloc[0].apply(lambda x:type(x)) != list]\n",
    "list_data = extracted[list_cols]\n",
    "no_list_data = extracted[no_list_cols]"
   ]
  },
  {
   "cell_type": "code",
   "execution_count": 37,
   "id": "f6c7b7df",
   "metadata": {},
   "outputs": [],
   "source": [
    "meta_df = meta_df.applymap(tag_cleaner)"
   ]
  },
  {
   "cell_type": "code",
   "execution_count": 38,
   "id": "845746ac",
   "metadata": {},
   "outputs": [],
   "source": [
    "meta_df.columns = meta_df.columns.str.split(\"_\").map(lambda x:x[-1])"
   ]
  },
  {
   "cell_type": "code",
   "execution_count": 39,
   "id": "d2ee7812",
   "metadata": {},
   "outputs": [],
   "source": [
    "meta_df.rename(columns={\"name\":\"file_name\"}, inplace=True)"
   ]
  },
  {
   "cell_type": "code",
   "execution_count": 40,
   "id": "5089280b",
   "metadata": {},
   "outputs": [
    {
     "data": {
      "text/html": [
       "<div>\n",
       "<style scoped>\n",
       "    .dataframe tbody tr th:only-of-type {\n",
       "        vertical-align: middle;\n",
       "    }\n",
       "\n",
       "    .dataframe tbody tr th {\n",
       "        vertical-align: top;\n",
       "    }\n",
       "\n",
       "    .dataframe thead th {\n",
       "        text-align: right;\n",
       "    }\n",
       "</style>\n",
       "<table border=\"1\" class=\"dataframe\">\n",
       "  <thead>\n",
       "    <tr style=\"text-align: right;\">\n",
       "      <th></th>\n",
       "      <th>length</th>\n",
       "      <th>gain</th>\n",
       "      <th>codec</th>\n",
       "      <th>file_name</th>\n",
       "      <th>album</th>\n",
       "      <th>artist</th>\n",
       "      <th>bpm</th>\n",
       "      <th>initialkey</th>\n",
       "      <th>title</th>\n",
       "      <th>date</th>\n",
       "    </tr>\n",
       "    <tr>\n",
       "      <th>sid</th>\n",
       "      <th></th>\n",
       "      <th></th>\n",
       "      <th></th>\n",
       "      <th></th>\n",
       "      <th></th>\n",
       "      <th></th>\n",
       "      <th></th>\n",
       "      <th></th>\n",
       "      <th></th>\n",
       "      <th></th>\n",
       "    </tr>\n",
       "  </thead>\n",
       "  <tbody>\n",
       "    <tr>\n",
       "      <th>f39b01e73f2279bb5f23bdee3c62101f</th>\n",
       "      <td>325.667084</td>\n",
       "      <td>-11.903238</td>\n",
       "      <td>pcm_s24le</td>\n",
       "      <td>(W)DaveeS - House Anthology 1990 - 2000 (Disc 2) - 01 Separate Minds - Troubled World (U.S. Mix)...</td>\n",
       "      <td>House Anthology 1990 - 2000 (Disc 2)</td>\n",
       "      <td>Separate Minds</td>\n",
       "      <td>136</td>\n",
       "      <td>F#m</td>\n",
       "      <td>Troubled World (U.S. Mix)</td>\n",
       "      <td>NaN</td>\n",
       "    </tr>\n",
       "    <tr>\n",
       "      <th>ec141be0fa374b857779c96ba843c3d5</th>\n",
       "      <td>275.200012</td>\n",
       "      <td>-13.940763</td>\n",
       "      <td>pcm_s24le</td>\n",
       "      <td>(W)DaveeS - House Anthology 1990 - 2000 (Disc 2) - 02 Colourblind - Nothing Better (TMVS Club).wav</td>\n",
       "      <td>House Anthology 1990 - 2000 (Disc 2)</td>\n",
       "      <td>Colourblind</td>\n",
       "      <td>124</td>\n",
       "      <td>Ebm</td>\n",
       "      <td>Nothing Better (TMVS Club)</td>\n",
       "      <td>NaN</td>\n",
       "    </tr>\n",
       "    <tr>\n",
       "      <th>8ff6ccec00249e1f1648ac7c1906d5de</th>\n",
       "      <td>309.707764</td>\n",
       "      <td>-13.675098</td>\n",
       "      <td>pcm_s24le</td>\n",
       "      <td>(W)DaveeS - House Anthology 1990 - 2000 (Disc 2) - 03 Intermission Feat.Valerie Scott - Piece Of...</td>\n",
       "      <td>House Anthology 1990 - 2000 (Disc 2)</td>\n",
       "      <td>Intermission Feat.Valerie Scott</td>\n",
       "      <td>131</td>\n",
       "      <td>Dm</td>\n",
       "      <td>Piece Of My Heart (Piece Mix)</td>\n",
       "      <td>NaN</td>\n",
       "    </tr>\n",
       "    <tr>\n",
       "      <th>112ff1ad5a7fe82fbcf3e827bc4c25c5</th>\n",
       "      <td>306.808167</td>\n",
       "      <td>-13.341776</td>\n",
       "      <td>pcm_s24le</td>\n",
       "      <td>(W)DaveeS - House Anthology 1990 - 2000 (Disc 2) - 04 T.F.O. - Give It To Me (Summer Mix).wav</td>\n",
       "      <td>House Anthology 1990 - 2000 (Disc 2)</td>\n",
       "      <td>T.F.O.</td>\n",
       "      <td>130</td>\n",
       "      <td>Em</td>\n",
       "      <td>Give It To Me (Summer Mix)</td>\n",
       "      <td>NaN</td>\n",
       "    </tr>\n",
       "    <tr>\n",
       "      <th>4b988e0de7dbebd93b016e2067469f1b</th>\n",
       "      <td>252.160004</td>\n",
       "      <td>-13.921967</td>\n",
       "      <td>pcm_s24le</td>\n",
       "      <td>(W)DaveeS - House Anthology 1990 - 2000 (Disc 2) - 05 Joy Salinas - Bip Bip.wav</td>\n",
       "      <td>House Anthology 1990 - 2000 (Disc 2)</td>\n",
       "      <td>Joy Salinas</td>\n",
       "      <td>127</td>\n",
       "      <td>Bbm</td>\n",
       "      <td>Bip Bip</td>\n",
       "      <td>NaN</td>\n",
       "    </tr>\n",
       "    <tr>\n",
       "      <th>...</th>\n",
       "      <td>...</td>\n",
       "      <td>...</td>\n",
       "      <td>...</td>\n",
       "      <td>...</td>\n",
       "      <td>...</td>\n",
       "      <td>...</td>\n",
       "      <td>...</td>\n",
       "      <td>...</td>\n",
       "      <td>...</td>\n",
       "      <td>...</td>\n",
       "    </tr>\n",
       "    <tr>\n",
       "      <th>bc4784715bc7dd8d86764bc960a7d720</th>\n",
       "      <td>346.455475</td>\n",
       "      <td>-13.024578</td>\n",
       "      <td>pcm_s24le</td>\n",
       "      <td>Tuesday Brunch - Editz - 01 Get On Down.wav</td>\n",
       "      <td>NaN</td>\n",
       "      <td>Tuesday Brunch</td>\n",
       "      <td>124</td>\n",
       "      <td>Ebm</td>\n",
       "      <td>Get On Down</td>\n",
       "      <td>NaN</td>\n",
       "    </tr>\n",
       "    <tr>\n",
       "      <th>31318a6c22a8969fb7422e718140e5b6</th>\n",
       "      <td>339.062988</td>\n",
       "      <td>-13.313665</td>\n",
       "      <td>pcm_s24le</td>\n",
       "      <td>Tuesday Brunch - Editz - 02 Shame.wav</td>\n",
       "      <td>NaN</td>\n",
       "      <td>Tuesday Brunch</td>\n",
       "      <td>126</td>\n",
       "      <td>Bm</td>\n",
       "      <td>Shame</td>\n",
       "      <td>NaN</td>\n",
       "    </tr>\n",
       "    <tr>\n",
       "      <th>58321adc20b3cc71ee07b9e77809d3b6</th>\n",
       "      <td>311.666656</td>\n",
       "      <td>-13.159252</td>\n",
       "      <td>pcm_s24le</td>\n",
       "      <td>Various Artists - Tony Benn Feghaly - Free Blow (Dub Version).wav</td>\n",
       "      <td>NaN</td>\n",
       "      <td>Tony Benn Feghaly</td>\n",
       "      <td>109</td>\n",
       "      <td>Fm</td>\n",
       "      <td>Free Blow (Dub Version)</td>\n",
       "      <td>NaN</td>\n",
       "    </tr>\n",
       "    <tr>\n",
       "      <th>1f7331351e453fe562710944a7b0274b</th>\n",
       "      <td>458.181305</td>\n",
       "      <td>-12.249758</td>\n",
       "      <td>pcm_s24le</td>\n",
       "      <td>Voilaaa - On te l'avait dit (Dimitri From Paris Super Disco Blend).wav</td>\n",
       "      <td>NaN</td>\n",
       "      <td>Voilaaa</td>\n",
       "      <td>126</td>\n",
       "      <td>Am</td>\n",
       "      <td>On te l'avait dit (Dimitri From Paris Super Disco Blend)</td>\n",
       "      <td>NaN</td>\n",
       "    </tr>\n",
       "    <tr>\n",
       "      <th>4b86d9b2d190e5fd9772ff84edbd2ee4</th>\n",
       "      <td>364.481384</td>\n",
       "      <td>-12.453548</td>\n",
       "      <td>pcm_s24le</td>\n",
       "      <td>wurzelholz - Bataan Mestizo.wav</td>\n",
       "      <td>NaN</td>\n",
       "      <td>Wurzelholz</td>\n",
       "      <td>121</td>\n",
       "      <td>Bbm</td>\n",
       "      <td>Bataan Mestizo</td>\n",
       "      <td>NaN</td>\n",
       "    </tr>\n",
       "  </tbody>\n",
       "</table>\n",
       "<p>77 rows × 10 columns</p>\n",
       "</div>"
      ],
      "text/plain": [
       "                                      length       gain      codec  \\\n",
       "sid                                                                  \n",
       "f39b01e73f2279bb5f23bdee3c62101f  325.667084 -11.903238  pcm_s24le   \n",
       "ec141be0fa374b857779c96ba843c3d5  275.200012 -13.940763  pcm_s24le   \n",
       "8ff6ccec00249e1f1648ac7c1906d5de  309.707764 -13.675098  pcm_s24le   \n",
       "112ff1ad5a7fe82fbcf3e827bc4c25c5  306.808167 -13.341776  pcm_s24le   \n",
       "4b988e0de7dbebd93b016e2067469f1b  252.160004 -13.921967  pcm_s24le   \n",
       "...                                      ...        ...        ...   \n",
       "bc4784715bc7dd8d86764bc960a7d720  346.455475 -13.024578  pcm_s24le   \n",
       "31318a6c22a8969fb7422e718140e5b6  339.062988 -13.313665  pcm_s24le   \n",
       "58321adc20b3cc71ee07b9e77809d3b6  311.666656 -13.159252  pcm_s24le   \n",
       "1f7331351e453fe562710944a7b0274b  458.181305 -12.249758  pcm_s24le   \n",
       "4b86d9b2d190e5fd9772ff84edbd2ee4  364.481384 -12.453548  pcm_s24le   \n",
       "\n",
       "                                                                                                                            file_name  \\\n",
       "sid                                                                                                                                     \n",
       "f39b01e73f2279bb5f23bdee3c62101f  (W)DaveeS - House Anthology 1990 - 2000 (Disc 2) - 01 Separate Minds - Troubled World (U.S. Mix)...   \n",
       "ec141be0fa374b857779c96ba843c3d5   (W)DaveeS - House Anthology 1990 - 2000 (Disc 2) - 02 Colourblind - Nothing Better (TMVS Club).wav   \n",
       "8ff6ccec00249e1f1648ac7c1906d5de  (W)DaveeS - House Anthology 1990 - 2000 (Disc 2) - 03 Intermission Feat.Valerie Scott - Piece Of...   \n",
       "112ff1ad5a7fe82fbcf3e827bc4c25c5        (W)DaveeS - House Anthology 1990 - 2000 (Disc 2) - 04 T.F.O. - Give It To Me (Summer Mix).wav   \n",
       "4b988e0de7dbebd93b016e2067469f1b                      (W)DaveeS - House Anthology 1990 - 2000 (Disc 2) - 05 Joy Salinas - Bip Bip.wav   \n",
       "...                                                                                                                               ...   \n",
       "bc4784715bc7dd8d86764bc960a7d720                                                          Tuesday Brunch - Editz - 01 Get On Down.wav   \n",
       "31318a6c22a8969fb7422e718140e5b6                                                                Tuesday Brunch - Editz - 02 Shame.wav   \n",
       "58321adc20b3cc71ee07b9e77809d3b6                                    Various Artists - Tony Benn Feghaly - Free Blow (Dub Version).wav   \n",
       "1f7331351e453fe562710944a7b0274b                               Voilaaa - On te l'avait dit (Dimitri From Paris Super Disco Blend).wav   \n",
       "4b86d9b2d190e5fd9772ff84edbd2ee4                                                                      wurzelholz - Bataan Mestizo.wav   \n",
       "\n",
       "                                                                 album  \\\n",
       "sid                                                                      \n",
       "f39b01e73f2279bb5f23bdee3c62101f  House Anthology 1990 - 2000 (Disc 2)   \n",
       "ec141be0fa374b857779c96ba843c3d5  House Anthology 1990 - 2000 (Disc 2)   \n",
       "8ff6ccec00249e1f1648ac7c1906d5de  House Anthology 1990 - 2000 (Disc 2)   \n",
       "112ff1ad5a7fe82fbcf3e827bc4c25c5  House Anthology 1990 - 2000 (Disc 2)   \n",
       "4b988e0de7dbebd93b016e2067469f1b  House Anthology 1990 - 2000 (Disc 2)   \n",
       "...                                                                ...   \n",
       "bc4784715bc7dd8d86764bc960a7d720                                   NaN   \n",
       "31318a6c22a8969fb7422e718140e5b6                                   NaN   \n",
       "58321adc20b3cc71ee07b9e77809d3b6                                   NaN   \n",
       "1f7331351e453fe562710944a7b0274b                                   NaN   \n",
       "4b86d9b2d190e5fd9772ff84edbd2ee4                                   NaN   \n",
       "\n",
       "                                                           artist  bpm  \\\n",
       "sid                                                                      \n",
       "f39b01e73f2279bb5f23bdee3c62101f                   Separate Minds  136   \n",
       "ec141be0fa374b857779c96ba843c3d5                      Colourblind  124   \n",
       "8ff6ccec00249e1f1648ac7c1906d5de  Intermission Feat.Valerie Scott  131   \n",
       "112ff1ad5a7fe82fbcf3e827bc4c25c5                           T.F.O.  130   \n",
       "4b988e0de7dbebd93b016e2067469f1b                      Joy Salinas  127   \n",
       "...                                                           ...  ...   \n",
       "bc4784715bc7dd8d86764bc960a7d720                   Tuesday Brunch  124   \n",
       "31318a6c22a8969fb7422e718140e5b6                   Tuesday Brunch  126   \n",
       "58321adc20b3cc71ee07b9e77809d3b6                Tony Benn Feghaly  109   \n",
       "1f7331351e453fe562710944a7b0274b                          Voilaaa  126   \n",
       "4b86d9b2d190e5fd9772ff84edbd2ee4                       Wurzelholz  121   \n",
       "\n",
       "                                 initialkey  \\\n",
       "sid                                           \n",
       "f39b01e73f2279bb5f23bdee3c62101f        F#m   \n",
       "ec141be0fa374b857779c96ba843c3d5        Ebm   \n",
       "8ff6ccec00249e1f1648ac7c1906d5de         Dm   \n",
       "112ff1ad5a7fe82fbcf3e827bc4c25c5         Em   \n",
       "4b988e0de7dbebd93b016e2067469f1b        Bbm   \n",
       "...                                     ...   \n",
       "bc4784715bc7dd8d86764bc960a7d720        Ebm   \n",
       "31318a6c22a8969fb7422e718140e5b6         Bm   \n",
       "58321adc20b3cc71ee07b9e77809d3b6         Fm   \n",
       "1f7331351e453fe562710944a7b0274b         Am   \n",
       "4b86d9b2d190e5fd9772ff84edbd2ee4        Bbm   \n",
       "\n",
       "                                                                                     title  \\\n",
       "sid                                                                                          \n",
       "f39b01e73f2279bb5f23bdee3c62101f                                 Troubled World (U.S. Mix)   \n",
       "ec141be0fa374b857779c96ba843c3d5                                Nothing Better (TMVS Club)   \n",
       "8ff6ccec00249e1f1648ac7c1906d5de                             Piece Of My Heart (Piece Mix)   \n",
       "112ff1ad5a7fe82fbcf3e827bc4c25c5                                Give It To Me (Summer Mix)   \n",
       "4b988e0de7dbebd93b016e2067469f1b                                                   Bip Bip   \n",
       "...                                                                                    ...   \n",
       "bc4784715bc7dd8d86764bc960a7d720                                               Get On Down   \n",
       "31318a6c22a8969fb7422e718140e5b6                                                     Shame   \n",
       "58321adc20b3cc71ee07b9e77809d3b6                                   Free Blow (Dub Version)   \n",
       "1f7331351e453fe562710944a7b0274b  On te l'avait dit (Dimitri From Paris Super Disco Blend)   \n",
       "4b86d9b2d190e5fd9772ff84edbd2ee4                                            Bataan Mestizo   \n",
       "\n",
       "                                 date  \n",
       "sid                                    \n",
       "f39b01e73f2279bb5f23bdee3c62101f  NaN  \n",
       "ec141be0fa374b857779c96ba843c3d5  NaN  \n",
       "8ff6ccec00249e1f1648ac7c1906d5de  NaN  \n",
       "112ff1ad5a7fe82fbcf3e827bc4c25c5  NaN  \n",
       "4b988e0de7dbebd93b016e2067469f1b  NaN  \n",
       "...                               ...  \n",
       "bc4784715bc7dd8d86764bc960a7d720  NaN  \n",
       "31318a6c22a8969fb7422e718140e5b6  NaN  \n",
       "58321adc20b3cc71ee07b9e77809d3b6  NaN  \n",
       "1f7331351e453fe562710944a7b0274b  NaN  \n",
       "4b86d9b2d190e5fd9772ff84edbd2ee4  NaN  \n",
       "\n",
       "[77 rows x 10 columns]"
      ]
     },
     "execution_count": 40,
     "metadata": {},
     "output_type": "execute_result"
    }
   ],
   "source": [
    "meta_df"
   ]
  },
  {
   "cell_type": "code",
   "execution_count": 41,
   "id": "3cac5eb1",
   "metadata": {},
   "outputs": [
    {
     "data": {
      "text/plain": [
       "['length',\n",
       " 'gain',\n",
       " 'codec',\n",
       " 'file_name',\n",
       " 'bpm',\n",
       " 'initialkey',\n",
       " 'title',\n",
       " 'album',\n",
       " 'artist',\n",
       " 'date',\n",
       " 'genre',\n",
       " 'label']"
      ]
     },
     "execution_count": 41,
     "metadata": {},
     "output_type": "execute_result"
    }
   ],
   "source": [
    "tags_cols = pd.read_sql(\"SELECT * FROM tags LIMIT 1\", con = conn).set_index('sid').columns.tolist()\n",
    "tags_cols"
   ]
  },
  {
   "cell_type": "code",
   "execution_count": 42,
   "id": "8592d9a4",
   "metadata": {},
   "outputs": [
    {
     "data": {
      "text/plain": [
       "['length',\n",
       " 'gain',\n",
       " 'codec',\n",
       " 'file_name',\n",
       " 'album',\n",
       " 'artist',\n",
       " 'bpm',\n",
       " 'initialkey',\n",
       " 'title',\n",
       " 'date']"
      ]
     },
     "execution_count": 42,
     "metadata": {},
     "output_type": "execute_result"
    }
   ],
   "source": [
    "meta_cols = [i for i in meta_df.columns if i in tags_cols]\n",
    "meta_cols"
   ]
  },
  {
   "cell_type": "code",
   "execution_count": 43,
   "id": "a26a3a45",
   "metadata": {},
   "outputs": [],
   "source": [
    "meta_df[meta_cols].to_sql(\"tags\", con=conn, if_exists = \"append\")"
   ]
  },
  {
   "cell_type": "code",
   "execution_count": 44,
   "id": "1c0a1c65",
   "metadata": {},
   "outputs": [],
   "source": [
    "files = pd.DataFrame(id_2_paths.items(), columns=[\"sid\", \"file_path\"])"
   ]
  },
  {
   "cell_type": "code",
   "execution_count": 45,
   "id": "03bcbc58",
   "metadata": {},
   "outputs": [],
   "source": [
    "files.to_sql(\"files\", con = conn, if_exists=\"append\", index = False)"
   ]
  },
  {
   "cell_type": "code",
   "execution_count": 46,
   "id": "41c25a84",
   "metadata": {},
   "outputs": [],
   "source": [
    "cols = no_list_data.columns\n",
    "tonal_cols = cols[cols.str.startswith(\"tonal\")]\n",
    "lowlevel_cols = cols[cols.str.startswith(\"lowlevel\")]\n",
    "rhythm_cols = cols[cols.str.startswith(\"rhyt\")]\n",
    "\n",
    "tonal_df = no_list_data[tonal_cols]\n",
    "lowlevel_df = no_list_data[lowlevel_cols]\n",
    "rhythm_df = no_list_data[rhythm_cols]"
   ]
  },
  {
   "cell_type": "code",
   "execution_count": 47,
   "id": "54044558",
   "metadata": {},
   "outputs": [],
   "source": [
    "tonal_df.to_sql(\"tonal_features\", con=conn, if_exists=\"append\")\n",
    "lowlevel_df.to_sql(\"lowlevel_features\", con=conn, if_exists=\"append\")\n",
    "rhythm_df.to_sql(\"rhythm_features\", con=conn, if_exists=\"append\")"
   ]
  },
  {
   "cell_type": "code",
   "execution_count": 48,
   "id": "e6f46702",
   "metadata": {},
   "outputs": [
    {
     "name": "stderr",
     "output_type": "stream",
     "text": [
      "100%|██████████████████████████████████████████████████████████████████████████████████████████████████████████████████████████████████████████████████████████████████████████████████████████████████| 24/24 [00:00<00:00, 29.48it/s]\n"
     ]
    }
   ],
   "source": [
    "for col in tqdm(list_cols):\n",
    "    ser = list_data[col].apply(pd.Series)\n",
    "    ser.columns = col + \"_\"+ ser.columns.astype(str)\n",
    "    ser.to_sql(col+\"_tbl\", con = conn,if_exists=\"append\")"
   ]
  },
  {
   "cell_type": "code",
   "execution_count": null,
   "id": "f0d8c43a",
   "metadata": {},
   "outputs": [],
   "source": []
  },
  {
   "cell_type": "markdown",
   "id": "7024ea97",
   "metadata": {},
   "source": [
    "## Eff Net Activations and Genre Classifications"
   ]
  },
  {
   "cell_type": "code",
   "execution_count": 49,
   "id": "6ccdd9d5",
   "metadata": {},
   "outputs": [],
   "source": [
    "path2id = {v:k for k, v in id_2_paths.items()}"
   ]
  },
  {
   "cell_type": "code",
   "execution_count": 50,
   "id": "6d841027",
   "metadata": {},
   "outputs": [],
   "source": [
    "act = Activator(input_length=2.05, \n",
    "                model_path=\"onnx_models/discogs-effnet-bsdynamic-1.onnx\",\n",
    "                   pathid_dict=path2id)"
   ]
  },
  {
   "cell_type": "code",
   "execution_count": 51,
   "id": "4b830993",
   "metadata": {},
   "outputs": [],
   "source": [
    "gcols = pd.read_sql_query(\"SELECT * FROM effnet_genres LIMIT 1 \", con = conn).columns[1:].tolist()\n",
    "# gcols[:5]"
   ]
  },
  {
   "cell_type": "code",
   "execution_count": 52,
   "id": "d6311e10",
   "metadata": {},
   "outputs": [],
   "source": [
    "# sid, sf, output = next(act.batch_inference())\n",
    "# genre_acts = output[\"activations\"]"
   ]
  },
  {
   "cell_type": "code",
   "execution_count": 53,
   "id": "54c0b39a",
   "metadata": {},
   "outputs": [],
   "source": [
    "# genre_acts = [np.expand_dims(genre_acts[:, i], 0) for i in range(400)]\n",
    "# genre_acts = pd.DataFrame(index = [sid], data = [genre_acts], columns=gcols)"
   ]
  },
  {
   "cell_type": "code",
   "execution_count": 54,
   "id": "6a0fb205",
   "metadata": {},
   "outputs": [
    {
     "name": "stderr",
     "output_type": "stream",
     "text": [
      "100%|██████████████████████████████████████████████████████████████████████████████████████████████████████████████████████████████████████████████████████████████████████████████████████████████████| 76/76 [02:57<00:00,  2.33s/it]\n"
     ]
    }
   ],
   "source": [
    "for song in act.batch_inference():\n",
    "    with conn:\n",
    "        sid, sf, output = song\n",
    "        genre_acts = output[\"activations\"]\n",
    "        embeds = output[\"embeddings\"]\n",
    "        genre_acts = [np.expand_dims(genre_acts[:, i], 0) for i in range(400)]\n",
    "        genre_acts = pd.DataFrame(index = [sid], data = [genre_acts], columns=gcols)\n",
    "        cur.execute(\"INSERT INTO effnet_embeddings (sid, effnet_embedding) values (?,?)\", \n",
    "                    (sid, np.expand_dims(embeds,0)))\n",
    "        genre_acts.to_sql(\"effnet_genres\", con=conn, if_exists=\"append\", index=False)\n",
    "    conn.commit()"
   ]
  },
  {
   "cell_type": "markdown",
   "id": "d532806f",
   "metadata": {},
   "source": [
    "### Classification Head Models"
   ]
  },
  {
   "cell_type": "code",
   "execution_count": 55,
   "id": "a117e36f",
   "metadata": {},
   "outputs": [],
   "source": [
    "model_paths = sorted(glob(\"onnx_models/*.onnx\"))\n",
    "model_infos = sorted(glob(\"onnx_models/json_info/*.json\"))\n",
    "effnet_models = [{\"model\": model_paths[i], \n",
    "                  \"json\":model_infos[i]} for i in range(len(model_paths)) if \"effnet\" in model_paths[i]]"
   ]
  },
  {
   "cell_type": "code",
   "execution_count": 56,
   "id": "59de0bd5",
   "metadata": {},
   "outputs": [],
   "source": [
    "effnet_models = effnet_models[:2] + effnet_models[4:]"
   ]
  },
  {
   "cell_type": "code",
   "execution_count": 57,
   "id": "9d839c4f",
   "metadata": {},
   "outputs": [],
   "source": [
    "new_ids = list(path2id.values())"
   ]
  },
  {
   "cell_type": "code",
   "execution_count": 58,
   "id": "2b557208",
   "metadata": {},
   "outputs": [
    {
     "name": "stderr",
     "output_type": "stream",
     "text": [
      "100%|████████████████████████████████████████████████████████████████████████████████████████████████████████████████████████████████████████████████████████████████████████████████████████████████| 76/76 [00:00<00:00, 2858.21it/s]\n"
     ]
    },
    {
     "name": "stdout",
     "output_type": "stream",
     "text": [
      "Completed =>  approachability_2c_effnet_discogs_1_activations \n",
      "\n",
      "\n"
     ]
    },
    {
     "name": "stderr",
     "output_type": "stream",
     "text": [
      "100%|████████████████████████████████████████████████████████████████████████████████████████████████████████████████████████████████████████████████████████████████████████████████████████████████| 76/76 [00:00<00:00, 3084.17it/s]\n"
     ]
    },
    {
     "name": "stdout",
     "output_type": "stream",
     "text": [
      "Completed =>  danceability_effnet_discogs_1_activations \n",
      "\n",
      "\n"
     ]
    },
    {
     "name": "stderr",
     "output_type": "stream",
     "text": [
      "100%|████████████████████████████████████████████████████████████████████████████████████████████████████████████████████████████████████████████████████████████████████████████████████████████████| 76/76 [00:00<00:00, 2784.60it/s]\n"
     ]
    },
    {
     "name": "stdout",
     "output_type": "stream",
     "text": [
      "Completed =>  engagement_2c_effnet_discogs_1_activations \n",
      "\n",
      "\n"
     ]
    },
    {
     "name": "stderr",
     "output_type": "stream",
     "text": [
      "100%|████████████████████████████████████████████████████████████████████████████████████████████████████████████████████████████████████████████████████████████████████████████████████████████████| 76/76 [00:00<00:00, 2033.94it/s]\n"
     ]
    },
    {
     "name": "stdout",
     "output_type": "stream",
     "text": [
      "Completed =>  genre_electronic_effnet_discogs_1_activations \n",
      "\n",
      "\n"
     ]
    },
    {
     "name": "stderr",
     "output_type": "stream",
     "text": [
      "100%|████████████████████████████████████████████████████████████████████████████████████████████████████████████████████████████████████████████████████████████████████████████████████████████████| 76/76 [00:00<00:00, 2920.16it/s]\n"
     ]
    },
    {
     "name": "stdout",
     "output_type": "stream",
     "text": [
      "Completed =>  mood_acoustic_effnet_discogs_1_activations \n",
      "\n",
      "\n"
     ]
    },
    {
     "name": "stderr",
     "output_type": "stream",
     "text": [
      "100%|████████████████████████████████████████████████████████████████████████████████████████████████████████████████████████████████████████████████████████████████████████████████████████████████| 76/76 [00:00<00:00, 2603.60it/s]\n"
     ]
    },
    {
     "name": "stdout",
     "output_type": "stream",
     "text": [
      "Completed =>  mood_aggressive_effnet_discogs_1_activations \n",
      "\n",
      "\n"
     ]
    },
    {
     "name": "stderr",
     "output_type": "stream",
     "text": [
      "100%|████████████████████████████████████████████████████████████████████████████████████████████████████████████████████████████████████████████████████████████████████████████████████████████████| 76/76 [00:00<00:00, 2482.26it/s]\n"
     ]
    },
    {
     "name": "stdout",
     "output_type": "stream",
     "text": [
      "Completed =>  mood_happy_effnet_discogs_1_activations \n",
      "\n",
      "\n"
     ]
    },
    {
     "name": "stderr",
     "output_type": "stream",
     "text": [
      "100%|████████████████████████████████████████████████████████████████████████████████████████████████████████████████████████████████████████████████████████████████████████████████████████████████| 76/76 [00:00<00:00, 2885.58it/s]\n"
     ]
    },
    {
     "name": "stdout",
     "output_type": "stream",
     "text": [
      "Completed =>  mood_party_effnet_discogs_1_activations \n",
      "\n",
      "\n"
     ]
    },
    {
     "name": "stderr",
     "output_type": "stream",
     "text": [
      "100%|████████████████████████████████████████████████████████████████████████████████████████████████████████████████████████████████████████████████████████████████████████████████████████████████| 76/76 [00:00<00:00, 2785.50it/s]\n"
     ]
    },
    {
     "name": "stdout",
     "output_type": "stream",
     "text": [
      "Completed =>  mood_sad_effnet_discogs_1_activations \n",
      "\n",
      "\n"
     ]
    },
    {
     "name": "stderr",
     "output_type": "stream",
     "text": [
      "100%|█████████████████████████████████████████████████████████████████████████████████████████████████████████████████████████████████████████████████████████████████████████████████████████████████| 76/76 [00:00<00:00, 322.41it/s]\n"
     ]
    },
    {
     "name": "stdout",
     "output_type": "stream",
     "text": [
      "Completed =>  mtg_jamendo_genre_effnet_discogs_1_activations \n",
      "\n",
      "\n"
     ]
    },
    {
     "name": "stderr",
     "output_type": "stream",
     "text": [
      "100%|█████████████████████████████████████████████████████████████████████████████████████████████████████████████████████████████████████████████████████████████████████████████████████████████████| 76/76 [00:00<00:00, 458.82it/s]\n"
     ]
    },
    {
     "name": "stdout",
     "output_type": "stream",
     "text": [
      "Completed =>  mtg_jamendo_moodtheme_effnet_discogs_1_activations \n",
      "\n",
      "\n"
     ]
    },
    {
     "name": "stderr",
     "output_type": "stream",
     "text": [
      "100%|█████████████████████████████████████████████████████████████████████████████████████████████████████████████████████████████████████████████████████████████████████████████████████████████████| 76/76 [00:00<00:00, 464.91it/s]\n"
     ]
    },
    {
     "name": "stdout",
     "output_type": "stream",
     "text": [
      "Completed =>  mtg_jamendo_top50tags_effnet_discogs_1_activations \n",
      "\n",
      "\n"
     ]
    },
    {
     "name": "stderr",
     "output_type": "stream",
     "text": [
      "100%|████████████████████████████████████████████████████████████████████████████████████████████████████████████████████████████████████████████████████████████████████████████████████████████████| 76/76 [00:00<00:00, 2940.49it/s]"
     ]
    },
    {
     "name": "stdout",
     "output_type": "stream",
     "text": [
      "Completed =>  timbre_effnet_discogs_1_activations \n",
      "\n",
      "\n"
     ]
    },
    {
     "name": "stderr",
     "output_type": "stream",
     "text": [
      "\n"
     ]
    }
   ],
   "source": [
    "for em in effnet_models:\n",
    "    cls = Classifier(em, new_ids=new_ids)\n",
    "    cls.batch_inference()\n",
    "    cls.conn.commit()\n",
    "    print(\"Completed => \", cls.table_name, \"\\n\\n\")"
   ]
  },
  {
   "cell_type": "code",
   "execution_count": null,
   "id": "096772e3",
   "metadata": {},
   "outputs": [],
   "source": []
  }
 ],
 "metadata": {
  "kernelspec": {
   "display_name": "music",
   "language": "python",
   "name": "music"
  },
  "language_info": {
   "codemirror_mode": {
    "name": "ipython",
    "version": 3
   },
   "file_extension": ".py",
   "mimetype": "text/x-python",
   "name": "python",
   "nbconvert_exporter": "python",
   "pygments_lexer": "ipython3",
   "version": "3.7.13"
  }
 },
 "nbformat": 4,
 "nbformat_minor": 5
}
