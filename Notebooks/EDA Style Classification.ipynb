{
 "cells": [
  {
   "cell_type": "markdown",
   "id": "841355a6",
   "metadata": {},
   "source": [
    "# Exploratory Data Analysis\n",
    "\n",
    "## Music Style Classification"
   ]
  },
  {
   "cell_type": "markdown",
   "id": "0016dcb7",
   "metadata": {},
   "source": [
    "In this notebook I'm analyzing the results of the models classifying mood, style, and genres in the music.\n",
    "\n",
    "All of the models featured in this notebook were trained on 1280-dim embeddings produced by the [discogs-effnet model](https://essentia.upf.edu/models/music-style-classification/discogs-effnet/discogs-effnet-bs64-1.json)"
   ]
  },
  {
   "cell_type": "code",
   "execution_count": 72,
   "id": "97e15b95",
   "metadata": {},
   "outputs": [],
   "source": [
    "#Imports\n",
    "import sqlite3\n",
    "import json\n",
    "import pandas as pd\n",
    "import numpy as np\n",
    "import matplotlib.pyplot as plt\n",
    "import seaborn as sb\n",
    "from glob import glob\n",
    "from tqdm import tqdm\n",
    "import pathlib\n",
    "import librosa\n",
    "import taglib\n",
    "import warnings\n",
    "warnings.filterwarnings('ignore')\n",
    "pd.set_option('max_colwidth', 100)"
   ]
  },
  {
   "cell_type": "code",
   "execution_count": 2,
   "id": "2398c99f",
   "metadata": {},
   "outputs": [],
   "source": [
    "#Imports from project package called project_tools\n",
    "from project_tools.utils import adapt_array, convert_array, tag_cleaner, json_opener"
   ]
  },
  {
   "cell_type": "code",
   "execution_count": 3,
   "id": "de3a64cf",
   "metadata": {},
   "outputs": [],
   "source": [
    "#Register these functions with sqlite3 so that we I can work with \n",
    "sqlite3.register_adapter(np.ndarray, adapt_array)\n",
    "sqlite3.register_converter(\"array\", convert_array)"
   ]
  },
  {
   "cell_type": "code",
   "execution_count": 4,
   "id": "fc1caa61",
   "metadata": {},
   "outputs": [],
   "source": [
    "#Connect to db\n",
    "conn = sqlite3.connect(\"../jaage.db\", detect_types= sqlite3.PARSE_DECLTYPES)\n",
    "cur = conn.cursor()"
   ]
  },
  {
   "cell_type": "markdown",
   "id": "333bd362",
   "metadata": {},
   "source": [
    "I'll be analyzing data from the following tables"
   ]
  },
  {
   "cell_type": "code",
   "execution_count": 5,
   "id": "212edc5b",
   "metadata": {},
   "outputs": [],
   "source": [
    "tables = ['approachability_2c_effnet_discogs_1_activations',\n",
    " 'danceability_effnet_discogs_1_activations',\n",
    " 'engagement_2c_effnet_discogs_1_activations',\n",
    " 'genre_electronic_effnet_discogs_1_activations',\n",
    " 'mood_acoustic_effnet_discogs_1_activations',\n",
    " 'mood_aggressive_effnet_discogs_1_activations',\n",
    " 'mood_happy_effnet_discogs_1_activations',\n",
    " 'mood_party_effnet_discogs_1_activations',\n",
    " 'mood_sad_effnet_discogs_1_activations']"
   ]
  },
  {
   "cell_type": "markdown",
   "id": "d62dfbe3",
   "metadata": {},
   "source": [
    "Load in tags data "
   ]
  },
  {
   "cell_type": "code",
   "execution_count": 6,
   "id": "dae60e86",
   "metadata": {},
   "outputs": [
    {
     "data": {
      "text/html": [
       "<div>\n",
       "<style scoped>\n",
       "    .dataframe tbody tr th:only-of-type {\n",
       "        vertical-align: middle;\n",
       "    }\n",
       "\n",
       "    .dataframe tbody tr th {\n",
       "        vertical-align: top;\n",
       "    }\n",
       "\n",
       "    .dataframe thead th {\n",
       "        text-align: right;\n",
       "    }\n",
       "</style>\n",
       "<table border=\"1\" class=\"dataframe\">\n",
       "  <thead>\n",
       "    <tr style=\"text-align: right;\">\n",
       "      <th></th>\n",
       "      <th>length</th>\n",
       "      <th>gain</th>\n",
       "      <th>codec</th>\n",
       "      <th>file_name</th>\n",
       "      <th>bpm</th>\n",
       "      <th>initialkey</th>\n",
       "      <th>title</th>\n",
       "      <th>album</th>\n",
       "      <th>artist</th>\n",
       "      <th>date</th>\n",
       "      <th>genre</th>\n",
       "      <th>label</th>\n",
       "    </tr>\n",
       "    <tr>\n",
       "      <th>sid</th>\n",
       "      <th></th>\n",
       "      <th></th>\n",
       "      <th></th>\n",
       "      <th></th>\n",
       "      <th></th>\n",
       "      <th></th>\n",
       "      <th></th>\n",
       "      <th></th>\n",
       "      <th></th>\n",
       "      <th></th>\n",
       "      <th></th>\n",
       "      <th></th>\n",
       "    </tr>\n",
       "  </thead>\n",
       "  <tbody>\n",
       "    <tr>\n",
       "      <th>b806881a54bdbf9dd93a290716adf191</th>\n",
       "      <td>287.393372</td>\n",
       "      <td>-9.895140</td>\n",
       "      <td>pcm_s16le</td>\n",
       "      <td>04 House Of Love_PN.wav</td>\n",
       "      <td>119.0</td>\n",
       "      <td>6A</td>\n",
       "      <td>04 House Of Love_PN</td>\n",
       "      <td>None</td>\n",
       "      <td>None</td>\n",
       "      <td>None</td>\n",
       "      <td>None</td>\n",
       "      <td>None</td>\n",
       "    </tr>\n",
       "    <tr>\n",
       "      <th>46e54d2ab920a088b77382e04877141b</th>\n",
       "      <td>311.251892</td>\n",
       "      <td>-11.281836</td>\n",
       "      <td>pcm_s16le</td>\n",
       "      <td>Alex Virgo - Rough N' Ready Edits - 06 A.T.S -...</td>\n",
       "      <td>128.0</td>\n",
       "      <td>1A</td>\n",
       "      <td>A.T.S - Baa Daa Laa (Alex Virgo's Rough n Read...</td>\n",
       "      <td>Rough N' Ready Edits</td>\n",
       "      <td>Alex Virgo</td>\n",
       "      <td>2020</td>\n",
       "      <td>None</td>\n",
       "      <td>None</td>\n",
       "    </tr>\n",
       "    <tr>\n",
       "      <th>a204ddef5763df6d8f7677701fe9d96f</th>\n",
       "      <td>415.114746</td>\n",
       "      <td>-9.958479</td>\n",
       "      <td>pcm_s16le</td>\n",
       "      <td>01 Protostar_PN.wav</td>\n",
       "      <td>117.0</td>\n",
       "      <td>5A</td>\n",
       "      <td>Protostar</td>\n",
       "      <td>Planetary Groove</td>\n",
       "      <td>FROM BEYOND</td>\n",
       "      <td>2020</td>\n",
       "      <td>None</td>\n",
       "      <td>None</td>\n",
       "    </tr>\n",
       "    <tr>\n",
       "      <th>960097894e83c5810a9c649f17a4e551</th>\n",
       "      <td>321.108765</td>\n",
       "      <td>-12.223524</td>\n",
       "      <td>pcm_s16le</td>\n",
       "      <td>Cristal - Drink My Soul (Running Hot Edit)_PN.wav</td>\n",
       "      <td>0.0</td>\n",
       "      <td>None</td>\n",
       "      <td>None</td>\n",
       "      <td>None</td>\n",
       "      <td>None</td>\n",
       "      <td>None</td>\n",
       "      <td>None</td>\n",
       "      <td>None</td>\n",
       "    </tr>\n",
       "    <tr>\n",
       "      <th>a3c1f277aa0110ffc418bf5fa3aa16aa</th>\n",
       "      <td>378.276276</td>\n",
       "      <td>-12.410757</td>\n",
       "      <td>pcm_s16le</td>\n",
       "      <td>Maya - Lait De Coco ( Les Yeux Orange Edit)_PN...</td>\n",
       "      <td>109.0</td>\n",
       "      <td>6A</td>\n",
       "      <td>Maya - Lait De Coco ( Les Yeux Orange Edit)_PN</td>\n",
       "      <td>None</td>\n",
       "      <td>None</td>\n",
       "      <td>2016</td>\n",
       "      <td>None</td>\n",
       "      <td>None</td>\n",
       "    </tr>\n",
       "  </tbody>\n",
       "</table>\n",
       "</div>"
      ],
      "text/plain": [
       "                                      length       gain      codec  \\\n",
       "sid                                                                  \n",
       "b806881a54bdbf9dd93a290716adf191  287.393372  -9.895140  pcm_s16le   \n",
       "46e54d2ab920a088b77382e04877141b  311.251892 -11.281836  pcm_s16le   \n",
       "a204ddef5763df6d8f7677701fe9d96f  415.114746  -9.958479  pcm_s16le   \n",
       "960097894e83c5810a9c649f17a4e551  321.108765 -12.223524  pcm_s16le   \n",
       "a3c1f277aa0110ffc418bf5fa3aa16aa  378.276276 -12.410757  pcm_s16le   \n",
       "\n",
       "                                                                          file_name  \\\n",
       "sid                                                                                   \n",
       "b806881a54bdbf9dd93a290716adf191                            04 House Of Love_PN.wav   \n",
       "46e54d2ab920a088b77382e04877141b  Alex Virgo - Rough N' Ready Edits - 06 A.T.S -...   \n",
       "a204ddef5763df6d8f7677701fe9d96f                                01 Protostar_PN.wav   \n",
       "960097894e83c5810a9c649f17a4e551  Cristal - Drink My Soul (Running Hot Edit)_PN.wav   \n",
       "a3c1f277aa0110ffc418bf5fa3aa16aa  Maya - Lait De Coco ( Les Yeux Orange Edit)_PN...   \n",
       "\n",
       "                                    bpm initialkey  \\\n",
       "sid                                                  \n",
       "b806881a54bdbf9dd93a290716adf191  119.0         6A   \n",
       "46e54d2ab920a088b77382e04877141b  128.0         1A   \n",
       "a204ddef5763df6d8f7677701fe9d96f  117.0         5A   \n",
       "960097894e83c5810a9c649f17a4e551    0.0       None   \n",
       "a3c1f277aa0110ffc418bf5fa3aa16aa  109.0         6A   \n",
       "\n",
       "                                                                              title  \\\n",
       "sid                                                                                   \n",
       "b806881a54bdbf9dd93a290716adf191                                04 House Of Love_PN   \n",
       "46e54d2ab920a088b77382e04877141b  A.T.S - Baa Daa Laa (Alex Virgo's Rough n Read...   \n",
       "a204ddef5763df6d8f7677701fe9d96f                                          Protostar   \n",
       "960097894e83c5810a9c649f17a4e551                                               None   \n",
       "a3c1f277aa0110ffc418bf5fa3aa16aa     Maya - Lait De Coco ( Les Yeux Orange Edit)_PN   \n",
       "\n",
       "                                                 album       artist  date  \\\n",
       "sid                                                                         \n",
       "b806881a54bdbf9dd93a290716adf191                  None         None  None   \n",
       "46e54d2ab920a088b77382e04877141b  Rough N' Ready Edits   Alex Virgo  2020   \n",
       "a204ddef5763df6d8f7677701fe9d96f      Planetary Groove  FROM BEYOND  2020   \n",
       "960097894e83c5810a9c649f17a4e551                  None         None  None   \n",
       "a3c1f277aa0110ffc418bf5fa3aa16aa                  None         None  2016   \n",
       "\n",
       "                                 genre label  \n",
       "sid                                           \n",
       "b806881a54bdbf9dd93a290716adf191  None  None  \n",
       "46e54d2ab920a088b77382e04877141b  None  None  \n",
       "a204ddef5763df6d8f7677701fe9d96f  None  None  \n",
       "960097894e83c5810a9c649f17a4e551  None  None  \n",
       "a3c1f277aa0110ffc418bf5fa3aa16aa  None  None  "
      ]
     },
     "execution_count": 6,
     "metadata": {},
     "output_type": "execute_result"
    }
   ],
   "source": [
    "tags = pd.read_sql_query(\"SELECT * FROM tags\", con = conn).set_index(\"sid\")\n",
    "tags.head(5)"
   ]
  },
  {
   "cell_type": "code",
   "execution_count": 7,
   "id": "e6c9012a",
   "metadata": {},
   "outputs": [
    {
     "name": "stdout",
     "output_type": "stream",
     "text": [
      "<class 'pandas.core.frame.DataFrame'>\n",
      "Index: 3337 entries, b806881a54bdbf9dd93a290716adf191 to a917c2e139050eb78d68d963fd4e2da9\n",
      "Data columns (total 12 columns):\n",
      " #   Column      Non-Null Count  Dtype  \n",
      "---  ------      --------------  -----  \n",
      " 0   length      3337 non-null   float64\n",
      " 1   gain        3337 non-null   float64\n",
      " 2   codec       3337 non-null   object \n",
      " 3   file_name   3337 non-null   object \n",
      " 4   bpm         3216 non-null   float64\n",
      " 5   initialkey  2680 non-null   object \n",
      " 6   title       3267 non-null   object \n",
      " 7   album       1476 non-null   object \n",
      " 8   artist      2360 non-null   object \n",
      " 9   date        1037 non-null   object \n",
      " 10  genre       287 non-null    object \n",
      " 11  label       185 non-null    object \n",
      "dtypes: float64(3), object(9)\n",
      "memory usage: 338.9+ KB\n"
     ]
    }
   ],
   "source": [
    "tags.info()"
   ]
  },
  {
   "cell_type": "markdown",
   "id": "700c5b79",
   "metadata": {},
   "source": [
    "### Ear Test\n",
    "\n",
    "Similar to the EDA Effnet Genres notebook, I'll be evaluating the models' performance in appraising my song collection based on their criteria. \n",
    "\n",
    "\n",
    "I'm especially curious to see the results because mood scores are arguably more useful to me as a DJ. When I curate tracks for a gig, I need to assemble a collection of songs that match the \"vibe\" of the event. For example I'm not dropping brash techno at a winebar and nor am I spinning somber r'nb at a night club.\n",
    "\n",
    "Assuming these metrics are fairly workable, I could envision using them as a way to conditionally filter songs for gigs; think writing a query for a night club gig that's like \"SELECT songs FROM tbl where dance_score >threshold\".\n",
    "\n",
    "\n",
    "Another thing I'm curious about is that labels such as approachablility, engagement, sadness in a the context of music are much more abstract concepts than say genre. In most cases, a song's genre is undebatable but how do you define how \"party\" a song is? Even something obvious like \"danceability\" poses its own unique challenges, how can model get a grasp of how danceable a song is when significantly different genres of music can all be considered highly danceable.\n",
    "\n",
    "With those and other questions in mind, I'll go through each of the tables and show the top scoring tracks along with links to them so that the reader can conduct their own assessment."
   ]
  },
  {
   "cell_type": "markdown",
   "id": "51303b2e",
   "metadata": {},
   "source": [
    "**Approachability**\n",
    "\n",
    "\"Music approachability predicting whether the music is likely to be accessible for the general public (e.g., belonging to common mainstream music genres vs. niche and experimental genres).\"\n",
    "\n",
    "More info ==> https://essentia.upf.edu/models.html#approachability\n"
   ]
  },
  {
   "cell_type": "markdown",
   "id": "010c6b0a",
   "metadata": {},
   "source": [
    "I'm the first to admit that the music I play is not mainstream — you won't hear any Taylor Swift/Drake mashups at my sets. In fact I've been encouraged by some friends to play more popular music.\n",
    "\n",
    "With that being said I'm quite eager to know the approachability model's assessment of my collection. What does it mean if a song that is not popular is rated high on the approachability scale? This could potentially be a huge deal because DJs love to play great songs that crowds haven't heard before. So if I have a bunch relatively obscure songs whose sound has massive crossover appeal, I could be onto something here."
   ]
  },
  {
   "cell_type": "code",
   "execution_count": 9,
   "id": "d2a77084",
   "metadata": {},
   "outputs": [
    {
     "name": "stdout",
     "output_type": "stream",
     "text": [
      "Loading approachability_2c_effnet_discogs_1_activations data\n"
     ]
    },
    {
     "data": {
      "text/html": [
       "<div>\n",
       "<style scoped>\n",
       "    .dataframe tbody tr th:only-of-type {\n",
       "        vertical-align: middle;\n",
       "    }\n",
       "\n",
       "    .dataframe tbody tr th {\n",
       "        vertical-align: top;\n",
       "    }\n",
       "\n",
       "    .dataframe thead th {\n",
       "        text-align: right;\n",
       "    }\n",
       "</style>\n",
       "<table border=\"1\" class=\"dataframe\">\n",
       "  <thead>\n",
       "    <tr style=\"text-align: right;\">\n",
       "      <th></th>\n",
       "      <th>not_approachable</th>\n",
       "      <th>approachable</th>\n",
       "    </tr>\n",
       "    <tr>\n",
       "      <th>sid</th>\n",
       "      <th></th>\n",
       "      <th></th>\n",
       "    </tr>\n",
       "  </thead>\n",
       "  <tbody>\n",
       "    <tr>\n",
       "      <th>b806881a54bdbf9dd93a290716adf191</th>\n",
       "      <td>[0.7773523, 0.8477703, 0.74907845, 0.86111253,...</td>\n",
       "      <td>[0.22264773, 0.15222974, 0.25092158, 0.1388874...</td>\n",
       "    </tr>\n",
       "    <tr>\n",
       "      <th>46e54d2ab920a088b77382e04877141b</th>\n",
       "      <td>[0.9233631, 0.94062567, 0.9361475, 0.9502406, ...</td>\n",
       "      <td>[0.0766369, 0.059374325, 0.06385247, 0.0497593...</td>\n",
       "    </tr>\n",
       "    <tr>\n",
       "      <th>a204ddef5763df6d8f7677701fe9d96f</th>\n",
       "      <td>[0.31597278, 0.44296739, 0.37413007, 0.3979797...</td>\n",
       "      <td>[0.6840272, 0.5570327, 0.6258699, 0.60202026, ...</td>\n",
       "    </tr>\n",
       "    <tr>\n",
       "      <th>960097894e83c5810a9c649f17a4e551</th>\n",
       "      <td>[0.4144781, 0.3078609, 0.43320435, 0.2669011, ...</td>\n",
       "      <td>[0.5855219, 0.6921391, 0.5667957, 0.733099, 0....</td>\n",
       "    </tr>\n",
       "    <tr>\n",
       "      <th>a3c1f277aa0110ffc418bf5fa3aa16aa</th>\n",
       "      <td>[0.828504, 0.7391437, 0.66389257, 0.82320875, ...</td>\n",
       "      <td>[0.17149605, 0.26085627, 0.33610743, 0.1767912...</td>\n",
       "    </tr>\n",
       "  </tbody>\n",
       "</table>\n",
       "</div>"
      ],
      "text/plain": [
       "                                                                   not_approachable  \\\n",
       "sid                                                                                   \n",
       "b806881a54bdbf9dd93a290716adf191  [0.7773523, 0.8477703, 0.74907845, 0.86111253,...   \n",
       "46e54d2ab920a088b77382e04877141b  [0.9233631, 0.94062567, 0.9361475, 0.9502406, ...   \n",
       "a204ddef5763df6d8f7677701fe9d96f  [0.31597278, 0.44296739, 0.37413007, 0.3979797...   \n",
       "960097894e83c5810a9c649f17a4e551  [0.4144781, 0.3078609, 0.43320435, 0.2669011, ...   \n",
       "a3c1f277aa0110ffc418bf5fa3aa16aa  [0.828504, 0.7391437, 0.66389257, 0.82320875, ...   \n",
       "\n",
       "                                                                       approachable  \n",
       "sid                                                                                  \n",
       "b806881a54bdbf9dd93a290716adf191  [0.22264773, 0.15222974, 0.25092158, 0.1388874...  \n",
       "46e54d2ab920a088b77382e04877141b  [0.0766369, 0.059374325, 0.06385247, 0.0497593...  \n",
       "a204ddef5763df6d8f7677701fe9d96f  [0.6840272, 0.5570327, 0.6258699, 0.60202026, ...  \n",
       "960097894e83c5810a9c649f17a4e551  [0.5855219, 0.6921391, 0.5667957, 0.733099, 0....  \n",
       "a3c1f277aa0110ffc418bf5fa3aa16aa  [0.17149605, 0.26085627, 0.33610743, 0.1767912...  "
      ]
     },
     "execution_count": 9,
     "metadata": {},
     "output_type": "execute_result"
    }
   ],
   "source": [
    "table = tables[0]\n",
    "print(f\"Loading {table} data\")\n",
    "approach_df = pd.read_sql_query(f\"SELECT * FROM {table}\", \n",
    "                                con = conn).set_index(\"sid\").applymap(lambda x:x[0])\n",
    "approach_df = approach_df[~approach_df.index.duplicated(keep='first')]\n",
    "approach_df.head(5)"
   ]
  },
  {
   "cell_type": "code",
   "execution_count": 10,
   "id": "b80438bb",
   "metadata": {},
   "outputs": [
    {
     "name": "stdout",
     "output_type": "stream",
     "text": [
      "<class 'pandas.core.frame.DataFrame'>\n",
      "Index: 3288 entries, b806881a54bdbf9dd93a290716adf191 to a917c2e139050eb78d68d963fd4e2da9\n",
      "Data columns (total 2 columns):\n",
      " #   Column            Non-Null Count  Dtype \n",
      "---  ------            --------------  ----- \n",
      " 0   not_approachable  3288 non-null   object\n",
      " 1   approachable      3288 non-null   object\n",
      "dtypes: object(2)\n",
      "memory usage: 77.1+ KB\n"
     ]
    }
   ],
   "source": [
    "approach_df.info()"
   ]
  },
  {
   "cell_type": "code",
   "execution_count": 11,
   "id": "d018e62a",
   "metadata": {},
   "outputs": [
    {
     "data": {
      "text/plain": [
       "not_approachable    [0.7773523, 0.8477703, 0.74907845, 0.86111253,...\n",
       "approachable        [0.22264773, 0.15222974, 0.25092158, 0.1388874...\n",
       "Name: b806881a54bdbf9dd93a290716adf191, dtype: object"
      ]
     },
     "execution_count": 11,
     "metadata": {},
     "output_type": "execute_result"
    }
   ],
   "source": [
    "song1 = approach_df.iloc[0]\n",
    "song1"
   ]
  },
  {
   "cell_type": "code",
   "execution_count": 12,
   "id": "845ab7d5",
   "metadata": {},
   "outputs": [
    {
     "data": {
      "text/plain": [
       "not_approachable    140\n",
       "approachable        140\n",
       "Name: b806881a54bdbf9dd93a290716adf191, dtype: int64"
      ]
     },
     "execution_count": 12,
     "metadata": {},
     "output_type": "execute_result"
    }
   ],
   "source": [
    "song1.apply(len)"
   ]
  },
  {
   "cell_type": "markdown",
   "id": "06af403d",
   "metadata": {},
   "source": [
    "As seen in the EDA Effnet Genres notebook, the data in this and the ensuing tables possess the same structure. Each cell in the pandas dataframe is a N-length array holding the activation scores for the class mentioned in the column name."
   ]
  },
  {
   "cell_type": "code",
   "execution_count": 13,
   "id": "4028c7f5",
   "metadata": {},
   "outputs": [],
   "source": [
    "def pair_sum(x, col1, col2):\n",
    "    #Grab the arrays from both columns\n",
    "    data1 = x[col1]\n",
    "    data2 = x[col2]\n",
    "    #Add them together\n",
    "    summ = data1+data2\n",
    "    \n",
    "    #calculate the mean and if the mean is close to 1 then it indicates they basically sum to 1\n",
    "    return summ.mean()"
   ]
  },
  {
   "cell_type": "code",
   "execution_count": 14,
   "id": "825a236d",
   "metadata": {},
   "outputs": [
    {
     "data": {
      "text/plain": [
       "1.0    3288\n",
       "dtype: int64"
      ]
     },
     "execution_count": 14,
     "metadata": {},
     "output_type": "execute_result"
    }
   ],
   "source": [
    "approach_df.apply(lambda x:pair_sum(x, 'not_approachable', 'approachable'), axis = 1).value_counts()"
   ]
  },
  {
   "cell_type": "markdown",
   "id": "c7f511ee",
   "metadata": {},
   "source": [
    "Derive the means and standard deviations of the arrays in each cell"
   ]
  },
  {
   "cell_type": "code",
   "execution_count": 15,
   "id": "47c8475b",
   "metadata": {},
   "outputs": [],
   "source": [
    "approach_df_mean = approach_df.applymap(lambda x:x.mean())\n",
    "approach_df_std = approach_df.applymap(lambda x:x.std())"
   ]
  },
  {
   "cell_type": "markdown",
   "id": "887c6457",
   "metadata": {},
   "source": [
    "I'm repeating a task I did in the Effnet Genres notebook by comparing the means and standard deviations in order to see how representative a mean is of a whole array."
   ]
  },
  {
   "cell_type": "code",
   "execution_count": 16,
   "id": "1511f0e0",
   "metadata": {},
   "outputs": [
    {
     "data": {
      "image/png": "[encoded data removed]",
      "text/plain": [
       "<Figure size 576x432 with 1 Axes>"
      ]
     },
     "metadata": {
      "needs_background": "light"
     },
     "output_type": "display_data"
    }
   ],
   "source": [
    "all_means = approach_df_mean.values.flatten()\n",
    "all_stds = approach_df_std.values.flatten()\n",
    "\n",
    "plt.figure(figsize=(8, 6))\n",
    "plt.xlim(0, 1)\n",
    "plt.ylim(0, 1)\n",
    "plt.scatter(all_means, all_stds)\n",
    "plt.plot([0, 1],\":\", c= \"r\" )\n",
    "plt.xlabel(\"Approachable Means\")\n",
    "plt.ylabel(\"Approachable Standard Deviations\");"
   ]
  },
  {
   "cell_type": "markdown",
   "id": "54871d48",
   "metadata": {},
   "source": [
    "For the most part, the means greater than the standard deviations which fills me with more confidence when interpreting analysis made on the means."
   ]
  },
  {
   "cell_type": "markdown",
   "id": "4ff9d0cc",
   "metadata": {},
   "source": [
    "**Summary Stats and Distribution**"
   ]
  },
  {
   "cell_type": "markdown",
   "id": "470968af",
   "metadata": {},
   "source": [
    "This function shows a histogram of the activation scores along with the summary statistics."
   ]
  },
  {
   "cell_type": "code",
   "execution_count": 68,
   "id": "14423385",
   "metadata": {},
   "outputs": [],
   "source": [
    "def dist_viz(col, figsize = (8, 5)):\n",
    "    plt.figure(figsize = figsize)\n",
    "    ax = sb.histplot(x= col)\n",
    "    ax.set_title(f\"Distribution of {col.name.title()} Scores\", fontsize = 18)\n",
    "    ax.set_ylabel(\"Frequency\", fontsize = 14)\n",
    "    ax.set_xlabel(col.name.title() + \" scores\".title(), fontsize = 14)\n",
    "    sum_stats = col.describe().round(3).__str__()\n",
    "    sum_stats = \"Summary Stats: \\n\"+ sum_stats[sum_stats.find(\"\\n\"):sum_stats.find(\"\\nName\")]\n",
    "    ax.annotate(sum_stats, (1.1,150), annotation_clip=False, fontsize= 14);"
   ]
  },
  {
   "cell_type": "code",
   "execution_count": 69,
   "id": "f720df04",
   "metadata": {},
   "outputs": [
    {
     "data": {
      "image/png": "[encoded data removed]",
      "text/plain": [
       "<Figure size 576x360 with 1 Axes>"
      ]
     },
     "metadata": {
      "needs_background": "light"
     },
     "output_type": "display_data"
    }
   ],
   "source": [
    "dist_viz(approach_df_mean.approachable)"
   ]
  },
  {
   "cell_type": "markdown",
   "id": "cec64e22",
   "metadata": {},
   "source": [
    "Given what I wrote earlier, this chart is quite surprising. It indicates that this model highly rates my music collection how accessible it is to the public. "
   ]
  },
  {
   "cell_type": "markdown",
   "id": "a5c1d9aa",
   "metadata": {},
   "source": [
    "Select the `approachable` column because we only need one of the two columns."
   ]
  },
  {
   "cell_type": "code",
   "execution_count": 75,
   "id": "f0be50af",
   "metadata": {},
   "outputs": [],
   "source": [
    "approach_ser = approach_df_mean.approachable"
   ]
  },
  {
   "cell_type": "markdown",
   "id": "e9935dd6",
   "metadata": {},
   "source": [
    "Create a function that shows the top songs based on scores for a given column"
   ]
  },
  {
   "cell_type": "code",
   "execution_count": 81,
   "id": "84a881c8",
   "metadata": {},
   "outputs": [],
   "source": [
    "def top_songs(col, n = 10, ascending = False):\n",
    "    if ascending:\n",
    "        top_scores = col.nsmallest(n)\n",
    "    else:\n",
    "        top_scores = col.nlargest(n)\n",
    "    return pd.concat([tags, top_scores], \n",
    "                     axis = 1).dropna(subset=[col.name])[[\"title\",\n",
    "                                                            \"artist\", col.name]].sort_values(by = col.name,\n",
    "                                                                                        ascending=ascending)"
   ]
  },
  {
   "cell_type": "code",
   "execution_count": 82,
   "id": "97b2bcbb",
   "metadata": {},
   "outputs": [
    {
     "data": {
      "text/html": [
       "<div>\n",
       "<style scoped>\n",
       "    .dataframe tbody tr th:only-of-type {\n",
       "        vertical-align: middle;\n",
       "    }\n",
       "\n",
       "    .dataframe tbody tr th {\n",
       "        vertical-align: top;\n",
       "    }\n",
       "\n",
       "    .dataframe thead th {\n",
       "        text-align: right;\n",
       "    }\n",
       "</style>\n",
       "<table border=\"1\" class=\"dataframe\">\n",
       "  <thead>\n",
       "    <tr style=\"text-align: right;\">\n",
       "      <th></th>\n",
       "      <th>title</th>\n",
       "      <th>artist</th>\n",
       "      <th>approachable</th>\n",
       "    </tr>\n",
       "    <tr>\n",
       "      <th>sid</th>\n",
       "      <th></th>\n",
       "      <th></th>\n",
       "      <th></th>\n",
       "    </tr>\n",
       "  </thead>\n",
       "  <tbody>\n",
       "    <tr>\n",
       "      <th>bd8fba4e12551113b6bb28e30659cad3</th>\n",
       "      <td>I Love You (Extended)</td>\n",
       "      <td>Karriem</td>\n",
       "      <td>0.992329</td>\n",
       "    </tr>\n",
       "    <tr>\n",
       "      <th>1b8532b6d23301b8ea16d82d7c33cba3</th>\n",
       "      <td>ouiness_zina_finished!</td>\n",
       "      <td>None</td>\n",
       "      <td>0.988984</td>\n",
       "    </tr>\n",
       "    <tr>\n",
       "      <th>c1becbc465751149b42ad8ebbe06d80c</th>\n",
       "      <td>Şehrazat - Kendim ettim, kendim buldum (disco funk, Turkey 1981)</td>\n",
       "      <td>ultradiskopanorama</td>\n",
       "      <td>0.988932</td>\n",
       "    </tr>\n",
       "    <tr>\n",
       "      <th>b6f5a4b06bbd4279f4e8727a137bfe7f</th>\n",
       "      <td>Don't Let Me Down</td>\n",
       "      <td>Marcia Griffiths</td>\n",
       "      <td>0.988707</td>\n",
       "    </tr>\n",
       "    <tr>\n",
       "      <th>e68b85b8da0842ca44ad583b4d5cebea</th>\n",
       "      <td>Mioukouna</td>\n",
       "      <td>NST Cophie's</td>\n",
       "      <td>0.988692</td>\n",
       "    </tr>\n",
       "    <tr>\n",
       "      <th>6e4b3a2ac6ac5a4eb0acf064b5ed7ac6</th>\n",
       "      <td>Sasà</td>\n",
       "      <td>Oro</td>\n",
       "      <td>0.988083</td>\n",
       "    </tr>\n",
       "    <tr>\n",
       "      <th>742d1fc3a38304122239d07244e0106e</th>\n",
       "      <td>Ende Beerabeero Rare Unknown Ethiopian Disco Modern Soul 45-785Pujxp7rU</td>\n",
       "      <td>Habte Awalom</td>\n",
       "      <td>0.987410</td>\n",
       "    </tr>\n",
       "    <tr>\n",
       "      <th>0074bca61fc9947f1aae555d7f694139</th>\n",
       "      <td>Tchamy Patterson - First Man for Cry</td>\n",
       "      <td>reclusiv recordings</td>\n",
       "      <td>0.987320</td>\n",
       "    </tr>\n",
       "    <tr>\n",
       "      <th>76719cd1329569cac713f5e524c04a72</th>\n",
       "      <td>7404430_Pour moi ça va_(Charles Maurice Version)_PN</td>\n",
       "      <td>None</td>\n",
       "      <td>0.986070</td>\n",
       "    </tr>\n",
       "    <tr>\n",
       "      <th>4f084331a29a40d72b415d8343cc0a5d</th>\n",
       "      <td>Sunburn (Al-Tone Edits Vol. 7)</td>\n",
       "      <td>altoneedits</td>\n",
       "      <td>0.985785</td>\n",
       "    </tr>\n",
       "  </tbody>\n",
       "</table>\n",
       "</div>"
      ],
      "text/plain": [
       "                                                                                                    title  \\\n",
       "sid                                                                                                         \n",
       "bd8fba4e12551113b6bb28e30659cad3                                                    I Love You (Extended)   \n",
       "1b8532b6d23301b8ea16d82d7c33cba3                                                   ouiness_zina_finished!   \n",
       "c1becbc465751149b42ad8ebbe06d80c        Şehrazat - Kendim ettim, kendim buldum (disco funk, Turkey 1981)   \n",
       "b6f5a4b06bbd4279f4e8727a137bfe7f                                                        Don't Let Me Down   \n",
       "e68b85b8da0842ca44ad583b4d5cebea                                                                Mioukouna   \n",
       "6e4b3a2ac6ac5a4eb0acf064b5ed7ac6                                                                     Sasà   \n",
       "742d1fc3a38304122239d07244e0106e  Ende Beerabeero Rare Unknown Ethiopian Disco Modern Soul 45-785Pujxp7rU   \n",
       "0074bca61fc9947f1aae555d7f694139                                     Tchamy Patterson - First Man for Cry   \n",
       "76719cd1329569cac713f5e524c04a72                      7404430_Pour moi ça va_(Charles Maurice Version)_PN   \n",
       "4f084331a29a40d72b415d8343cc0a5d                                           Sunburn (Al-Tone Edits Vol. 7)   \n",
       "\n",
       "                                               artist  approachable  \n",
       "sid                                                                  \n",
       "bd8fba4e12551113b6bb28e30659cad3              Karriem      0.992329  \n",
       "1b8532b6d23301b8ea16d82d7c33cba3                 None      0.988984  \n",
       "c1becbc465751149b42ad8ebbe06d80c   ultradiskopanorama      0.988932  \n",
       "b6f5a4b06bbd4279f4e8727a137bfe7f     Marcia Griffiths      0.988707  \n",
       "e68b85b8da0842ca44ad583b4d5cebea         NST Cophie's      0.988692  \n",
       "6e4b3a2ac6ac5a4eb0acf064b5ed7ac6                  Oro      0.988083  \n",
       "742d1fc3a38304122239d07244e0106e         Habte Awalom      0.987410  \n",
       "0074bca61fc9947f1aae555d7f694139  reclusiv recordings      0.987320  \n",
       "76719cd1329569cac713f5e524c04a72                 None      0.986070  \n",
       "4f084331a29a40d72b415d8343cc0a5d          altoneedits      0.985785  "
      ]
     },
     "execution_count": 82,
     "metadata": {},
     "output_type": "execute_result"
    }
   ],
   "source": [
    "top_approach_songs = top_songs(approach_ser)\n",
    "top_approach_songs"
   ]
  },
  {
   "cell_type": "markdown",
   "id": "519d1376",
   "metadata": {},
   "source": [
    "My initial reaction here is skepticism. The songs listed above in the dataframe are certainly not the first songs in my catalog that I would nominate for approachability."
   ]
  },
  {
   "cell_type": "markdown",
   "id": "0820ff10",
   "metadata": {},
   "source": [
    "Have a listen and judge for yourself."
   ]
  },
  {
   "cell_type": "markdown",
   "id": "caa8328e",
   "metadata": {},
   "source": [
    "1. [I Love You (Extended) - Karriem](https://www.youtube.com/watch?v=kMpdZAuZu7M)\n",
    "\n",
    "2. [Ouiness - Zina](https://www.youtube.com/watch?v=XIvIjTA1L_E)\n",
    "\n",
    "3. [Kendim ettim, kendim buldum - Sehrazat](https://www.youtube.com/watch?v=UdICW7YqaoU)\n",
    "\n",
    "4. [Don't Let Me Down - Marcia Griffiths](https://www.youtube.com/watch?v=dtpDmZpjsJE)\n",
    "\n",
    "5. [Mioukouna -  N.S.T Cophie's](https://www.youtube.com/watch?v=vnfznqH7vQw)\n",
    "\n",
    "6. [Sasa - Oro](https://www.youtube.com/watch?v=xC9Itr_jjR4)\n",
    "\n",
    "7. [Ende Beerabeero - Habte Awalom](https://www.youtube.com/watch?v=785Pujxp7rU)\n",
    "\n",
    "8. [First Man For Cry - Tchamy Patterson](https://www.youtube.com/watch?v=3fsUubsawsE)\n",
    "\n",
    "9. [Pour Moi Ca Va (Charles Maurice Version) - France Lise](https://www.youtube.com/watch?v=rLPOJUbWah0)\n",
    "\n",
    "10. [Sunburn (Al-Tone Edits Vol. 7)\t- Unknown Artist](https://www.youtube.com/watch?v=sgiRnolRSYg)"
   ]
  },
  {
   "cell_type": "markdown",
   "id": "1d270379",
   "metadata": {},
   "source": [
    "I am perplexed when these songs made the top 10. At least of these tracks I wouldn't play in a typical gig, I'd only play them for a crowd I'm confident will appreciate relative obscure music."
   ]
  },
  {
   "cell_type": "markdown",
   "id": "7c5fc0de",
   "metadata": {},
   "source": [
    "Now let's look at the other side of the spectrum and see how the \"unapproachable\" songs stack up"
   ]
  },
  {
   "cell_type": "code",
   "execution_count": 83,
   "id": "0c13755c",
   "metadata": {},
   "outputs": [
    {
     "data": {
      "text/html": [
       "<div>\n",
       "<style scoped>\n",
       "    .dataframe tbody tr th:only-of-type {\n",
       "        vertical-align: middle;\n",
       "    }\n",
       "\n",
       "    .dataframe tbody tr th {\n",
       "        vertical-align: top;\n",
       "    }\n",
       "\n",
       "    .dataframe thead th {\n",
       "        text-align: right;\n",
       "    }\n",
       "</style>\n",
       "<table border=\"1\" class=\"dataframe\">\n",
       "  <thead>\n",
       "    <tr style=\"text-align: right;\">\n",
       "      <th></th>\n",
       "      <th>title</th>\n",
       "      <th>artist</th>\n",
       "      <th>approachable</th>\n",
       "    </tr>\n",
       "    <tr>\n",
       "      <th>sid</th>\n",
       "      <th></th>\n",
       "      <th></th>\n",
       "      <th></th>\n",
       "    </tr>\n",
       "  </thead>\n",
       "  <tbody>\n",
       "    <tr>\n",
       "      <th>67a5a54a5f62b597509e9d97eae584b3</th>\n",
       "      <td>Extra Vergine</td>\n",
       "      <td>Maus &amp; Stolle</td>\n",
       "      <td>0.025874</td>\n",
       "    </tr>\n",
       "    <tr>\n",
       "      <th>a5e390371b3438d58800a9e8fa0332a1</th>\n",
       "      <td>Everybody</td>\n",
       "      <td>DISAIA</td>\n",
       "      <td>0.031497</td>\n",
       "    </tr>\n",
       "    <tr>\n",
       "      <th>b6b676e68093434e6c1e0e569b3dfdae</th>\n",
       "      <td>Voodoo Ray (Hey Dan Edit)_PN</td>\n",
       "      <td>A Guy Called Gerald</td>\n",
       "      <td>0.031578</td>\n",
       "    </tr>\n",
       "    <tr>\n",
       "      <th>f586f46de0a2df993f5823c2ccad4f96</th>\n",
       "      <td>Maurice - This is Acid (Sportello TB303 Edit)</td>\n",
       "      <td>Sportello</td>\n",
       "      <td>0.034087</td>\n",
       "    </tr>\n",
       "    <tr>\n",
       "      <th>61f067aa07000144df9044ceedea72da</th>\n",
       "      <td>M4A4 - Raf</td>\n",
       "      <td>None</td>\n",
       "      <td>0.037901</td>\n",
       "    </tr>\n",
       "    <tr>\n",
       "      <th>406de514de82d885a907e36adf681cc1</th>\n",
       "      <td>Insomnia 2022 (Extended Mix)</td>\n",
       "      <td>Flo Dosh, Faithless</td>\n",
       "      <td>0.041390</td>\n",
       "    </tr>\n",
       "    <tr>\n",
       "      <th>af0865851d40b6d62b5f88a144e7bb5c</th>\n",
       "      <td>603807_Calabria_(Loop)_PN</td>\n",
       "      <td>None</td>\n",
       "      <td>0.043646</td>\n",
       "    </tr>\n",
       "    <tr>\n",
       "      <th>14265f14034ad61a32c3bff46ed0e476</th>\n",
       "      <td>9-Vicky_Montefusco_-_Il_Nulla_Cosmico_(Prins_Thomas_remix)_PN</td>\n",
       "      <td>None</td>\n",
       "      <td>0.044638</td>\n",
       "    </tr>\n",
       "    <tr>\n",
       "      <th>9f76bf67c3a9d78b28b76020942cb278</th>\n",
       "      <td>See Right Before My Eyes</td>\n",
       "      <td>Maxinne &amp; Hayla</td>\n",
       "      <td>0.045182</td>\n",
       "    </tr>\n",
       "    <tr>\n",
       "      <th>0cf772cd1bcfe03dce30ce6a22433a14</th>\n",
       "      <td>Imeros</td>\n",
       "      <td>Ryan Murray, Alex Nicco</td>\n",
       "      <td>0.046004</td>\n",
       "    </tr>\n",
       "  </tbody>\n",
       "</table>\n",
       "</div>"
      ],
      "text/plain": [
       "                                                                                          title  \\\n",
       "sid                                                                                               \n",
       "67a5a54a5f62b597509e9d97eae584b3                                                  Extra Vergine   \n",
       "a5e390371b3438d58800a9e8fa0332a1                                                      Everybody   \n",
       "b6b676e68093434e6c1e0e569b3dfdae                                   Voodoo Ray (Hey Dan Edit)_PN   \n",
       "f586f46de0a2df993f5823c2ccad4f96                  Maurice - This is Acid (Sportello TB303 Edit)   \n",
       "61f067aa07000144df9044ceedea72da                                                     M4A4 - Raf   \n",
       "406de514de82d885a907e36adf681cc1                                   Insomnia 2022 (Extended Mix)   \n",
       "af0865851d40b6d62b5f88a144e7bb5c                                      603807_Calabria_(Loop)_PN   \n",
       "14265f14034ad61a32c3bff46ed0e476  9-Vicky_Montefusco_-_Il_Nulla_Cosmico_(Prins_Thomas_remix)_PN   \n",
       "9f76bf67c3a9d78b28b76020942cb278                                       See Right Before My Eyes   \n",
       "0cf772cd1bcfe03dce30ce6a22433a14                                                         Imeros   \n",
       "\n",
       "                                                   artist  approachable  \n",
       "sid                                                                      \n",
       "67a5a54a5f62b597509e9d97eae584b3            Maus & Stolle      0.025874  \n",
       "a5e390371b3438d58800a9e8fa0332a1                   DISAIA      0.031497  \n",
       "b6b676e68093434e6c1e0e569b3dfdae      A Guy Called Gerald      0.031578  \n",
       "f586f46de0a2df993f5823c2ccad4f96                Sportello      0.034087  \n",
       "61f067aa07000144df9044ceedea72da                     None      0.037901  \n",
       "406de514de82d885a907e36adf681cc1      Flo Dosh, Faithless      0.041390  \n",
       "af0865851d40b6d62b5f88a144e7bb5c                     None      0.043646  \n",
       "14265f14034ad61a32c3bff46ed0e476                     None      0.044638  \n",
       "9f76bf67c3a9d78b28b76020942cb278          Maxinne & Hayla      0.045182  \n",
       "0cf772cd1bcfe03dce30ce6a22433a14  Ryan Murray, Alex Nicco      0.046004  "
      ]
     },
     "execution_count": 83,
     "metadata": {},
     "output_type": "execute_result"
    }
   ],
   "source": [
    "least_approachable_songs = top_songs(approach_ser, ascending=True)\n",
    "least_approachable_songs"
   ]
  },
  {
   "cell_type": "markdown",
   "id": "7a807a8b",
   "metadata": {},
   "source": [
    "1. [Extra Vergine - Maus & Stolle](https://www.youtube.com/watch?v=ykOCriwIatc)\n",
    "\n",
    "2. [Everybody - DISAIA](https://www.youtube.com/watch?v=Z61TYWLGbck)\n",
    "\n",
    "3. [Voodoo Ray (Hey Dan Edit) - A Guy Called Gerald](https://www.youtube.com/watch?v=clsB4bISUjc)\n",
    "\n",
    "4. [This is Acid (Sportello TB303 Edit) - Maurice](https://sportellomusic.bandcamp.com/track/maurice-this-is-acid-sportello-tb303-edit)\n",
    "\n",
    "5. [M4A4 - Raf](https://www.youtube.com/watch?v=q0sqLhu4vek)\n",
    "\n",
    "6. [Insomnia 2022 (Extended Mix) - Flo Dosh Faithless](https://www.youtube.com/watch?v=pQgvls0JOXU)\n",
    "\n",
    "7. [Calabria (Loop) - Rune RK](https://www.youtube.com/watch?v=FbuAinmnkKk)\n",
    "\n",
    "8. [Il Nulla Cosmico (Prins Thomas Remix) - Vicky Montefusco](https://www.youtube.com/watch?v=pmltulwHFQ8)\n",
    "\n",
    "9. [See Right Before My Eyes - Maxinne, Hayla](https://www.youtube.com/watch?v=f-gkDiq6zzc)\n",
    "\n",
    "10. [Imeros - Ryan Murray, Alex Nicco](https://www.youtube.com/watch?v=yBeo1sEkbmI)"
   ]
  },
  {
   "cell_type": "markdown",
   "id": "a1d628df",
   "metadata": {},
   "source": [
    "There is a stark difference between the bottom and top sets of songs. The bottom ten are or similar to deep house and techno and are the type of songs soundtracking a stoic-faced audience. Whereas the top 10 songs are all funky and percolating buoyant and jovial vibes. \n",
    "\n",
    "Comparing the two sets of songs was helpful in advancing my understanding of how this model interprets approachability.\n",
    "\n",
    "Most importantly I can definitely see myself using this metric in curating a set list."
   ]
  }
 ],
 "metadata": {
  "kernelspec": {
   "display_name": "music",
   "language": "python",
   "name": "music"
  },
  "language_info": {
   "codemirror_mode": {
    "name": "ipython",
    "version": 3
   },
   "file_extension": ".py",
   "mimetype": "text/x-python",
   "name": "python",
   "nbconvert_exporter": "python",
   "pygments_lexer": "ipython3",
   "version": "3.7.13"
  }
 },
 "nbformat": 4,
 "nbformat_minor": 5
}
