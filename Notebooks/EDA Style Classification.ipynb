{
 "cells": [
  {
   "cell_type": "markdown",
   "id": "841355a6",
   "metadata": {},
   "source": [
    "# Exploratory Data Analysis\n",
    "\n",
    "## Music Style Classification"
   ]
  },
  {
   "cell_type": "markdown",
   "id": "0016dcb7",
   "metadata": {},
   "source": [
    "In this notebook I'm analyzing the results of the models classifying mood, style, and genres in the music.\n",
    "\n",
    "All of the models featured in this notebook were trained on 1280-dim embeddings produced by the [discogs-effnet model](https://essentia.upf.edu/models/music-style-classification/discogs-effnet/discogs-effnet-bs64-1.json)"
   ]
  },
  {
   "cell_type": "code",
   "execution_count": 28,
   "id": "97e15b95",
   "metadata": {},
   "outputs": [],
   "source": [
    "#Imports\n",
    "import sqlite3\n",
    "import json\n",
    "import pandas as pd\n",
    "import numpy as np\n",
    "import matplotlib.pyplot as plt\n",
    "import seaborn as sb\n",
    "from glob import glob\n",
    "from tqdm import tqdm\n",
    "import pathlib\n",
    "import librosa\n",
    "import taglib\n",
    "import warnings\n",
    "warnings.filterwarnings('ignore')\n",
    "pd.set_option('max_colwidth', 100)\n",
    "plt.style.use(\"ggplot\")"
   ]
  },
  {
   "cell_type": "code",
   "execution_count": 29,
   "id": "2398c99f",
   "metadata": {},
   "outputs": [],
   "source": [
    "#Imports from project package called project_tools\n",
    "from project_tools.utils import adapt_array, convert_array, tag_cleaner, json_opener"
   ]
  },
  {
   "cell_type": "code",
   "execution_count": 30,
   "id": "de3a64cf",
   "metadata": {},
   "outputs": [],
   "source": [
    "#Register these functions with sqlite3 so that we I can work with \n",
    "sqlite3.register_adapter(np.ndarray, adapt_array)\n",
    "sqlite3.register_converter(\"array\", convert_array)"
   ]
  },
  {
   "cell_type": "code",
   "execution_count": 31,
   "id": "fc1caa61",
   "metadata": {},
   "outputs": [],
   "source": [
    "#Connect to db\n",
    "conn = sqlite3.connect(\"../jaage.db\", detect_types= sqlite3.PARSE_DECLTYPES)\n",
    "cur = conn.cursor()"
   ]
  },
  {
   "cell_type": "markdown",
   "id": "333bd362",
   "metadata": {},
   "source": [
    "I'll be analyzing data from the following tables"
   ]
  },
  {
   "cell_type": "code",
   "execution_count": 32,
   "id": "212edc5b",
   "metadata": {},
   "outputs": [],
   "source": [
    "tables = ['approachability_2c_effnet_discogs_1_activations',\n",
    " 'danceability_effnet_discogs_1_activations',\n",
    " 'engagement_2c_effnet_discogs_1_activations',\n",
    " 'mood_acoustic_effnet_discogs_1_activations',\n",
    " 'mood_aggressive_effnet_discogs_1_activations',\n",
    " 'mood_happy_effnet_discogs_1_activations',\n",
    " 'mood_party_effnet_discogs_1_activations',\n",
    " 'mood_sad_effnet_discogs_1_activations']"
   ]
  },
  {
   "cell_type": "markdown",
   "id": "d62dfbe3",
   "metadata": {},
   "source": [
    "Load in tags data "
   ]
  },
  {
   "cell_type": "code",
   "execution_count": 33,
   "id": "dae60e86",
   "metadata": {},
   "outputs": [
    {
     "data": {
      "text/html": [
       "<div>\n",
       "<style scoped>\n",
       "    .dataframe tbody tr th:only-of-type {\n",
       "        vertical-align: middle;\n",
       "    }\n",
       "\n",
       "    .dataframe tbody tr th {\n",
       "        vertical-align: top;\n",
       "    }\n",
       "\n",
       "    .dataframe thead th {\n",
       "        text-align: right;\n",
       "    }\n",
       "</style>\n",
       "<table border=\"1\" class=\"dataframe\">\n",
       "  <thead>\n",
       "    <tr style=\"text-align: right;\">\n",
       "      <th></th>\n",
       "      <th>length</th>\n",
       "      <th>gain</th>\n",
       "      <th>codec</th>\n",
       "      <th>file_name</th>\n",
       "      <th>bpm</th>\n",
       "      <th>initialkey</th>\n",
       "      <th>title</th>\n",
       "      <th>album</th>\n",
       "      <th>artist</th>\n",
       "      <th>date</th>\n",
       "      <th>genre</th>\n",
       "      <th>label</th>\n",
       "    </tr>\n",
       "    <tr>\n",
       "      <th>sid</th>\n",
       "      <th></th>\n",
       "      <th></th>\n",
       "      <th></th>\n",
       "      <th></th>\n",
       "      <th></th>\n",
       "      <th></th>\n",
       "      <th></th>\n",
       "      <th></th>\n",
       "      <th></th>\n",
       "      <th></th>\n",
       "      <th></th>\n",
       "      <th></th>\n",
       "    </tr>\n",
       "  </thead>\n",
       "  <tbody>\n",
       "    <tr>\n",
       "      <th>b806881a54bdbf9dd93a290716adf191</th>\n",
       "      <td>287.393372</td>\n",
       "      <td>-9.895140</td>\n",
       "      <td>pcm_s16le</td>\n",
       "      <td>04 House Of Love_PN.wav</td>\n",
       "      <td>119.0</td>\n",
       "      <td>6A</td>\n",
       "      <td>04 House Of Love_PN</td>\n",
       "      <td>None</td>\n",
       "      <td>None</td>\n",
       "      <td>None</td>\n",
       "      <td>None</td>\n",
       "      <td>None</td>\n",
       "    </tr>\n",
       "    <tr>\n",
       "      <th>46e54d2ab920a088b77382e04877141b</th>\n",
       "      <td>311.251892</td>\n",
       "      <td>-11.281836</td>\n",
       "      <td>pcm_s16le</td>\n",
       "      <td>Alex Virgo - Rough N' Ready Edits - 06 A.T.S - Baa Daa Laa (Alex Virgo's Rough n Ready edit)_PN.wav</td>\n",
       "      <td>128.0</td>\n",
       "      <td>1A</td>\n",
       "      <td>A.T.S - Baa Daa Laa (Alex Virgo's Rough n Ready edit)</td>\n",
       "      <td>Rough N' Ready Edits</td>\n",
       "      <td>Alex Virgo</td>\n",
       "      <td>2020</td>\n",
       "      <td>None</td>\n",
       "      <td>None</td>\n",
       "    </tr>\n",
       "    <tr>\n",
       "      <th>a204ddef5763df6d8f7677701fe9d96f</th>\n",
       "      <td>415.114746</td>\n",
       "      <td>-9.958479</td>\n",
       "      <td>pcm_s16le</td>\n",
       "      <td>01 Protostar_PN.wav</td>\n",
       "      <td>117.0</td>\n",
       "      <td>5A</td>\n",
       "      <td>Protostar</td>\n",
       "      <td>Planetary Groove</td>\n",
       "      <td>FROM BEYOND</td>\n",
       "      <td>2020</td>\n",
       "      <td>None</td>\n",
       "      <td>None</td>\n",
       "    </tr>\n",
       "    <tr>\n",
       "      <th>960097894e83c5810a9c649f17a4e551</th>\n",
       "      <td>321.108765</td>\n",
       "      <td>-12.223524</td>\n",
       "      <td>pcm_s16le</td>\n",
       "      <td>Cristal - Drink My Soul (Running Hot Edit)_PN.wav</td>\n",
       "      <td>0.0</td>\n",
       "      <td>None</td>\n",
       "      <td>None</td>\n",
       "      <td>None</td>\n",
       "      <td>None</td>\n",
       "      <td>None</td>\n",
       "      <td>None</td>\n",
       "      <td>None</td>\n",
       "    </tr>\n",
       "    <tr>\n",
       "      <th>a3c1f277aa0110ffc418bf5fa3aa16aa</th>\n",
       "      <td>378.276276</td>\n",
       "      <td>-12.410757</td>\n",
       "      <td>pcm_s16le</td>\n",
       "      <td>Maya - Lait De Coco ( Les Yeux Orange Edit)_PN.wav</td>\n",
       "      <td>109.0</td>\n",
       "      <td>6A</td>\n",
       "      <td>Maya - Lait De Coco ( Les Yeux Orange Edit)_PN</td>\n",
       "      <td>None</td>\n",
       "      <td>None</td>\n",
       "      <td>2016</td>\n",
       "      <td>None</td>\n",
       "      <td>None</td>\n",
       "    </tr>\n",
       "  </tbody>\n",
       "</table>\n",
       "</div>"
      ],
      "text/plain": [
       "                                      length       gain      codec  \\\n",
       "sid                                                                  \n",
       "b806881a54bdbf9dd93a290716adf191  287.393372  -9.895140  pcm_s16le   \n",
       "46e54d2ab920a088b77382e04877141b  311.251892 -11.281836  pcm_s16le   \n",
       "a204ddef5763df6d8f7677701fe9d96f  415.114746  -9.958479  pcm_s16le   \n",
       "960097894e83c5810a9c649f17a4e551  321.108765 -12.223524  pcm_s16le   \n",
       "a3c1f277aa0110ffc418bf5fa3aa16aa  378.276276 -12.410757  pcm_s16le   \n",
       "\n",
       "                                                                                                                            file_name  \\\n",
       "sid                                                                                                                                     \n",
       "b806881a54bdbf9dd93a290716adf191                                                                              04 House Of Love_PN.wav   \n",
       "46e54d2ab920a088b77382e04877141b  Alex Virgo - Rough N' Ready Edits - 06 A.T.S - Baa Daa Laa (Alex Virgo's Rough n Ready edit)_PN.wav   \n",
       "a204ddef5763df6d8f7677701fe9d96f                                                                                  01 Protostar_PN.wav   \n",
       "960097894e83c5810a9c649f17a4e551                                                    Cristal - Drink My Soul (Running Hot Edit)_PN.wav   \n",
       "a3c1f277aa0110ffc418bf5fa3aa16aa                                                   Maya - Lait De Coco ( Les Yeux Orange Edit)_PN.wav   \n",
       "\n",
       "                                    bpm initialkey  \\\n",
       "sid                                                  \n",
       "b806881a54bdbf9dd93a290716adf191  119.0         6A   \n",
       "46e54d2ab920a088b77382e04877141b  128.0         1A   \n",
       "a204ddef5763df6d8f7677701fe9d96f  117.0         5A   \n",
       "960097894e83c5810a9c649f17a4e551    0.0       None   \n",
       "a3c1f277aa0110ffc418bf5fa3aa16aa  109.0         6A   \n",
       "\n",
       "                                                                                  title  \\\n",
       "sid                                                                                       \n",
       "b806881a54bdbf9dd93a290716adf191                                    04 House Of Love_PN   \n",
       "46e54d2ab920a088b77382e04877141b  A.T.S - Baa Daa Laa (Alex Virgo's Rough n Ready edit)   \n",
       "a204ddef5763df6d8f7677701fe9d96f                                              Protostar   \n",
       "960097894e83c5810a9c649f17a4e551                                                   None   \n",
       "a3c1f277aa0110ffc418bf5fa3aa16aa         Maya - Lait De Coco ( Les Yeux Orange Edit)_PN   \n",
       "\n",
       "                                                 album       artist  date  \\\n",
       "sid                                                                         \n",
       "b806881a54bdbf9dd93a290716adf191                  None         None  None   \n",
       "46e54d2ab920a088b77382e04877141b  Rough N' Ready Edits   Alex Virgo  2020   \n",
       "a204ddef5763df6d8f7677701fe9d96f      Planetary Groove  FROM BEYOND  2020   \n",
       "960097894e83c5810a9c649f17a4e551                  None         None  None   \n",
       "a3c1f277aa0110ffc418bf5fa3aa16aa                  None         None  2016   \n",
       "\n",
       "                                 genre label  \n",
       "sid                                           \n",
       "b806881a54bdbf9dd93a290716adf191  None  None  \n",
       "46e54d2ab920a088b77382e04877141b  None  None  \n",
       "a204ddef5763df6d8f7677701fe9d96f  None  None  \n",
       "960097894e83c5810a9c649f17a4e551  None  None  \n",
       "a3c1f277aa0110ffc418bf5fa3aa16aa  None  None  "
      ]
     },
     "execution_count": 33,
     "metadata": {},
     "output_type": "execute_result"
    }
   ],
   "source": [
    "tags = pd.read_sql_query(\"SELECT * FROM tags\", con = conn).set_index(\"sid\")\n",
    "tags.head(5)"
   ]
  },
  {
   "cell_type": "code",
   "execution_count": 34,
   "id": "e6c9012a",
   "metadata": {},
   "outputs": [
    {
     "name": "stdout",
     "output_type": "stream",
     "text": [
      "<class 'pandas.core.frame.DataFrame'>\n",
      "Index: 3730 entries, b806881a54bdbf9dd93a290716adf191 to aacd98f09aa0570903ff541085e98a66\n",
      "Data columns (total 12 columns):\n",
      " #   Column      Non-Null Count  Dtype  \n",
      "---  ------      --------------  -----  \n",
      " 0   length      3730 non-null   float64\n",
      " 1   gain        3730 non-null   float64\n",
      " 2   codec       3730 non-null   object \n",
      " 3   file_name   3730 non-null   object \n",
      " 4   bpm         3332 non-null   float64\n",
      " 5   initialkey  2793 non-null   object \n",
      " 6   title       3653 non-null   object \n",
      " 7   album       1569 non-null   object \n",
      " 8   artist      2732 non-null   object \n",
      " 9   date        1121 non-null   object \n",
      " 10  genre       333 non-null    object \n",
      " 11  label       188 non-null    object \n",
      "dtypes: float64(3), object(9)\n",
      "memory usage: 378.8+ KB\n"
     ]
    }
   ],
   "source": [
    "tags.info()"
   ]
  },
  {
   "cell_type": "markdown",
   "id": "700c5b79",
   "metadata": {},
   "source": [
    "### Ear Test\n",
    "\n",
    "Similar to the EDA Effnet Genres notebook, I'll be evaluating the models' performance in appraising my song collection based on their models. I'm especially curious to see their scores because mood scores are arguably more useful to me as a DJ. When I curate tracks for a gig, I need to assemble a collection of songs that match the \"vibe\" of the event. I don't drop brash techno at a winebar nor would I play somber r'nb at a night club.\n",
    "\n",
    "Assuming these metrics are fairly workable, I envision using them as a way to conditionally filter songs for gigs; think writing a query for a night club gig that's like \n",
    "\n",
    ">`SELECT songs FROM tbl where dance_score >threshold and engagement_score < threshold2`\n",
    "\n",
    "\n",
    "Another thing I'm curious about is that labels such as approachablility, engagement, and sadness in the context of music are much more abstract concepts than genre. In most cases, a song's genre is solid but how do you define how \"approachable\" a song is? Even something obvious like \"danceability\" poses its own unique challenges, how can a model get a grasp of how danceable a song is when significantly different genres of music can all be considered highly danceable.\n",
    "\n",
    "With those and other questions in mind, I'll go through each of the mood/style tables and assess the model ratings."
   ]
  },
  {
   "cell_type": "markdown",
   "id": "a9cb17ee",
   "metadata": {},
   "source": [
    "**Activation DataHub Class**\n",
    "\n",
    "I'm creating a class that holds all the methods and data that I'll be repeatedly working with for each of the activation scores tables. \n",
    "\n",
    "For each mood/style table I will:\n",
    "    \n",
    "- Create a `ActivationDataHub` object. \n",
    "    \n",
    "- Call the `dist_viz` method visualize the distribution of ratings.\n",
    "    \n",
    "- Call `top_songs` to show the n number of songs with the highest or lowest ratings.\n",
    "    \n",
    "- Call `song_sampler` to randomly disply n number of songs with a score between a given interval."
   ]
  },
  {
   "cell_type": "code",
   "execution_count": 35,
   "id": "0576a8d0",
   "metadata": {},
   "outputs": [],
   "source": [
    "class ActivationDataHub:\n",
    "    \n",
    "    def __init__(self, table_name):\n",
    "        \n",
    "        print(f\"Loading {table_name} data\")\n",
    "        self.table_name = table_name\n",
    "        self.df = pd.read_sql_query(f\"SELECT * FROM {self.table_name}\",con = conn).set_index(\"sid\").applymap(lambda x:x[0])\n",
    "        \n",
    "        cols = self.df.columns\n",
    "        \n",
    "        self.col = cols[~cols.str.startswith(\"no\")][0]\n",
    "        self.scores = self.df[self.col]\n",
    "        self.mean_scores = self.scores.apply(lambda x:x.mean())\n",
    "        self.std_scores = self.scores.apply(lambda x:x.std())\n",
    "        \n",
    "        \n",
    "    def dist_viz(self, figsize = (8, 5)):\n",
    "        \"\"\"\n",
    "        This function shows a histogram of the average activation scores for a specified column \n",
    "        along with the summary statistics.\n",
    "        \"\"\"\n",
    "        plt.figure(figsize = figsize)\n",
    "        series = self.mean_scores\n",
    "        ax = sb.histplot(x= series)\n",
    "        ax.set_title(f\"Distribution of {series.name.title()} Scores\", fontsize = 18)\n",
    "        ax.set_ylabel(\"Frequency\", fontsize = 14)\n",
    "        ax.set_xlabel(series.name.title() + \" scores\".title(), fontsize = 14)\n",
    "        sum_stats = series.describe().round(3).__str__()\n",
    "        sum_stats = \"Summary Stats: \\n\"+ sum_stats[sum_stats.find(\"\\n\"):sum_stats.find(\"\\nName\")]\n",
    "        ax.annotate(sum_stats, (1.1,150), annotation_clip=False, fontsize= 14);\n",
    "        \n",
    "    def top_songs(self, n = 10, ascending = False):\n",
    "        \n",
    "        \"\"\"\n",
    "        Returns the n number of songs with the highest or lowest scores.\n",
    "        \"\"\"\n",
    "        series = self.mean_scores\n",
    "        \n",
    "        if ascending:\n",
    "            top_scores = series.nsmallest(n)\n",
    "        else:\n",
    "            top_scores = series.nlargest(n)\n",
    "        return pd.concat([tags, top_scores], \n",
    "                         axis = 1).dropna(subset=[series.name])[[\"title\",\n",
    "                                                                \"artist\", series.name]].sort_values(by = series.name,\n",
    "                                                                                            ascending=ascending).round(4)\n",
    "    \n",
    "    def song_sampler(self, window, n = 10, rs = 1):\n",
    "        \"\"\"\n",
    "        Returns a sample of songs with a score between the provided window. \n",
    "        Includes mean score and standard deviation of scores.\n",
    "        \n",
    "        \"\"\"\n",
    "        \n",
    "        l,r = window\n",
    "        mean_series = self.mean_scores.rename(\"mean scores\")\n",
    "        std_series = self.std_scores.rename(\"stdev scores\")\n",
    "        \n",
    "        mean_series = mean_series[(mean_series>= l) & (mean_series< r)]\n",
    "        \n",
    "        if n < mean_series.shape[0]:\n",
    "            mean_series = mean_series.sample(n = n, random_state = rs)\n",
    "        \n",
    "        std_series = std_series.loc[mean_series.index]\n",
    "        \n",
    "        return pd.concat([tags, mean_series, std_series], \n",
    "                         axis = 1, join = \"inner\")[[\"title\", \"artist\", mean_series.name, std_series.name]].round(4).sort_values(\"mean scores\", ascending =False)"
   ]
  },
  {
   "cell_type": "markdown",
   "id": "51303b2e",
   "metadata": {},
   "source": [
    "**Approachability**\n",
    "\n",
    "\"Music approachability predicting whether the music is likely to be accessible for the general public (e.g., belonging to common mainstream music genres vs. niche and experimental genres).\"\n",
    "\n",
    "More info ==> https://essentia.upf.edu/models.html#approachability\n"
   ]
  },
  {
   "cell_type": "markdown",
   "id": "010c6b0a",
   "metadata": {},
   "source": [
    "I'm the first to admit that the music I play is not mainstream — you won't hear any Taylor Swift/Drake mashups at my sets.\n",
    "\n",
    "With that being said I'm quite eager to know the approachability model's assessment of my collection. What does it mean if a song that is not popular is rated high on the approachability scale? This could potentially be a huge deal because DJs love to play great songs that crowds haven't heard before. So if I have a bunch relatively obscure songs whose sound has massive crossover appeal, I could be onto something here."
   ]
  },
  {
   "cell_type": "code",
   "execution_count": 36,
   "id": "d2a77084",
   "metadata": {},
   "outputs": [
    {
     "name": "stdout",
     "output_type": "stream",
     "text": [
      "Loading approachability_2c_effnet_discogs_1_activations data\n"
     ]
    },
    {
     "data": {
      "text/html": [
       "<div>\n",
       "<style scoped>\n",
       "    .dataframe tbody tr th:only-of-type {\n",
       "        vertical-align: middle;\n",
       "    }\n",
       "\n",
       "    .dataframe tbody tr th {\n",
       "        vertical-align: top;\n",
       "    }\n",
       "\n",
       "    .dataframe thead th {\n",
       "        text-align: right;\n",
       "    }\n",
       "</style>\n",
       "<table border=\"1\" class=\"dataframe\">\n",
       "  <thead>\n",
       "    <tr style=\"text-align: right;\">\n",
       "      <th></th>\n",
       "      <th>not_approachable</th>\n",
       "      <th>approachable</th>\n",
       "    </tr>\n",
       "    <tr>\n",
       "      <th>sid</th>\n",
       "      <th></th>\n",
       "      <th></th>\n",
       "    </tr>\n",
       "  </thead>\n",
       "  <tbody>\n",
       "    <tr>\n",
       "      <th>b806881a54bdbf9dd93a290716adf191</th>\n",
       "      <td>[0.7773523, 0.8477703, 0.74907845, 0.86111253, 0.7850447, 0.8689087, 0.71038795, 0.81490517, 0.5...</td>\n",
       "      <td>[0.22264773, 0.15222974, 0.25092158, 0.13888745, 0.21495527, 0.13109131, 0.2896121, 0.18509479, ...</td>\n",
       "    </tr>\n",
       "    <tr>\n",
       "      <th>46e54d2ab920a088b77382e04877141b</th>\n",
       "      <td>[0.9233631, 0.94062567, 0.9361475, 0.9502406, 0.95356244, 0.9412267, 0.94867647, 0.9170702, 0.94...</td>\n",
       "      <td>[0.0766369, 0.059374325, 0.06385247, 0.049759354, 0.0464376, 0.058773216, 0.05132359, 0.08292975...</td>\n",
       "    </tr>\n",
       "    <tr>\n",
       "      <th>a204ddef5763df6d8f7677701fe9d96f</th>\n",
       "      <td>[0.31597278, 0.44296739, 0.37413007, 0.3979797, 0.36894128, 0.41880748, 0.30266258, 0.35461393, ...</td>\n",
       "      <td>[0.6840272, 0.5570327, 0.6258699, 0.60202026, 0.6310587, 0.5811925, 0.69733745, 0.64538604, 0.67...</td>\n",
       "    </tr>\n",
       "    <tr>\n",
       "      <th>960097894e83c5810a9c649f17a4e551</th>\n",
       "      <td>[0.4144781, 0.3078609, 0.43320435, 0.2669011, 0.36961454, 0.2960183, 0.3229168, 0.25113502, 0.13...</td>\n",
       "      <td>[0.5855219, 0.6921391, 0.5667957, 0.733099, 0.6303855, 0.7039817, 0.6770832, 0.74886495, 0.86378...</td>\n",
       "    </tr>\n",
       "    <tr>\n",
       "      <th>a3c1f277aa0110ffc418bf5fa3aa16aa</th>\n",
       "      <td>[0.828504, 0.7391437, 0.66389257, 0.82320875, 0.71819824, 0.7778949, 0.67318004, 0.8050778, 0.64...</td>\n",
       "      <td>[0.17149605, 0.26085627, 0.33610743, 0.17679125, 0.28180176, 0.22210509, 0.32681996, 0.19492222,...</td>\n",
       "    </tr>\n",
       "  </tbody>\n",
       "</table>\n",
       "</div>"
      ],
      "text/plain": [
       "                                                                                                                     not_approachable  \\\n",
       "sid                                                                                                                                     \n",
       "b806881a54bdbf9dd93a290716adf191  [0.7773523, 0.8477703, 0.74907845, 0.86111253, 0.7850447, 0.8689087, 0.71038795, 0.81490517, 0.5...   \n",
       "46e54d2ab920a088b77382e04877141b  [0.9233631, 0.94062567, 0.9361475, 0.9502406, 0.95356244, 0.9412267, 0.94867647, 0.9170702, 0.94...   \n",
       "a204ddef5763df6d8f7677701fe9d96f  [0.31597278, 0.44296739, 0.37413007, 0.3979797, 0.36894128, 0.41880748, 0.30266258, 0.35461393, ...   \n",
       "960097894e83c5810a9c649f17a4e551  [0.4144781, 0.3078609, 0.43320435, 0.2669011, 0.36961454, 0.2960183, 0.3229168, 0.25113502, 0.13...   \n",
       "a3c1f277aa0110ffc418bf5fa3aa16aa  [0.828504, 0.7391437, 0.66389257, 0.82320875, 0.71819824, 0.7778949, 0.67318004, 0.8050778, 0.64...   \n",
       "\n",
       "                                                                                                                         approachable  \n",
       "sid                                                                                                                                    \n",
       "b806881a54bdbf9dd93a290716adf191  [0.22264773, 0.15222974, 0.25092158, 0.13888745, 0.21495527, 0.13109131, 0.2896121, 0.18509479, ...  \n",
       "46e54d2ab920a088b77382e04877141b  [0.0766369, 0.059374325, 0.06385247, 0.049759354, 0.0464376, 0.058773216, 0.05132359, 0.08292975...  \n",
       "a204ddef5763df6d8f7677701fe9d96f  [0.6840272, 0.5570327, 0.6258699, 0.60202026, 0.6310587, 0.5811925, 0.69733745, 0.64538604, 0.67...  \n",
       "960097894e83c5810a9c649f17a4e551  [0.5855219, 0.6921391, 0.5667957, 0.733099, 0.6303855, 0.7039817, 0.6770832, 0.74886495, 0.86378...  \n",
       "a3c1f277aa0110ffc418bf5fa3aa16aa  [0.17149605, 0.26085627, 0.33610743, 0.17679125, 0.28180176, 0.22210509, 0.32681996, 0.19492222,...  "
      ]
     },
     "execution_count": 36,
     "metadata": {},
     "output_type": "execute_result"
    }
   ],
   "source": [
    "table = tables[0]\n",
    "approach = ActivationDataHub(table_name=table)\n",
    "approach.df.head()"
   ]
  },
  {
   "cell_type": "code",
   "execution_count": 37,
   "id": "d018e62a",
   "metadata": {},
   "outputs": [
    {
     "data": {
      "text/plain": [
       "not_approachable    [0.7773523, 0.8477703, 0.74907845, 0.86111253, 0.7850447, 0.8689087, 0.71038795, 0.81490517, 0.5...\n",
       "approachable        [0.22264773, 0.15222974, 0.25092158, 0.13888745, 0.21495527, 0.13109131, 0.2896121, 0.18509479, ...\n",
       "Name: b806881a54bdbf9dd93a290716adf191, dtype: object"
      ]
     },
     "execution_count": 37,
     "metadata": {},
     "output_type": "execute_result"
    }
   ],
   "source": [
    "song1 = approach.df.iloc[0]\n",
    "song1"
   ]
  },
  {
   "cell_type": "code",
   "execution_count": 38,
   "id": "845ab7d5",
   "metadata": {},
   "outputs": [
    {
     "data": {
      "text/plain": [
       "not_approachable    140\n",
       "approachable        140\n",
       "Name: b806881a54bdbf9dd93a290716adf191, dtype: int64"
      ]
     },
     "execution_count": 38,
     "metadata": {},
     "output_type": "execute_result"
    }
   ],
   "source": [
    "song1.apply(len)"
   ]
  },
  {
   "cell_type": "markdown",
   "id": "06af403d",
   "metadata": {},
   "source": [
    "As seen in the EDA Effnet Genres notebook, the data in this and the ensuing tables possess the same structure. Each cell in the pandas dataframe is a N-length array holding the activation scores for the class mentioned in the column name."
   ]
  },
  {
   "cell_type": "code",
   "execution_count": 39,
   "id": "4028c7f5",
   "metadata": {},
   "outputs": [],
   "source": [
    "def pair_sum(x, col1, col2):\n",
    "    #Grab the arrays from both columns\n",
    "    data1 = x[col1]\n",
    "    data2 = x[col2]\n",
    "    #Add them together\n",
    "    summ = data1+data2\n",
    "    \n",
    "    #calculate the mean and if the mean is close to 1 then it indicates they basically sum to 1\n",
    "    return summ.mean()"
   ]
  },
  {
   "cell_type": "code",
   "execution_count": 40,
   "id": "825a236d",
   "metadata": {},
   "outputs": [
    {
     "data": {
      "text/plain": [
       "1.0    3732\n",
       "dtype: int64"
      ]
     },
     "execution_count": 40,
     "metadata": {},
     "output_type": "execute_result"
    }
   ],
   "source": [
    "approach.df.apply(lambda x:pair_sum(x, 'not_approachable', 'approachable'), axis = 1).value_counts()"
   ]
  },
  {
   "cell_type": "markdown",
   "id": "887c6457",
   "metadata": {},
   "source": [
    "I'm repeating a task I did in the Effnet Genres notebook by comparing the means and standard deviations in order to see how representative a mean is of a whole array."
   ]
  },
  {
   "cell_type": "code",
   "execution_count": 41,
   "id": "1511f0e0",
   "metadata": {},
   "outputs": [
    {
     "data": {
      "image/png": "[encoded data removed]",
      "text/plain": [
       "<Figure size 576x432 with 1 Axes>"
      ]
     },
     "metadata": {},
     "output_type": "display_data"
    }
   ],
   "source": [
    "approach_df_mean = approach.mean_scores\n",
    "approach_df_std = approach.std_scores\n",
    "plt.figure(figsize=(8, 6))\n",
    "plt.xlim(0, 1)\n",
    "plt.ylim(0, 1)\n",
    "plt.scatter(approach_df_mean, approach_df_std, alpha = .2)\n",
    "plt.plot([0, 1],\":\", c= \"black\" )\n",
    "plt.xlabel(\"Approachable Means\")\n",
    "plt.ylabel(\"Approachable Standard Deviations\");"
   ]
  },
  {
   "cell_type": "markdown",
   "id": "54871d48",
   "metadata": {},
   "source": [
    "For the most part, the means greater than the standard deviations which fills me with more confidence when interpreting analysis made on the means."
   ]
  },
  {
   "cell_type": "markdown",
   "id": "4ff9d0cc",
   "metadata": {},
   "source": [
    "**Summary Stats and Distribution**"
   ]
  },
  {
   "cell_type": "code",
   "execution_count": 42,
   "id": "f720df04",
   "metadata": {},
   "outputs": [
    {
     "data": {
      "image/png": "[encoded data removed]",
      "text/plain": [
       "<Figure size 576x360 with 1 Axes>"
      ]
     },
     "metadata": {},
     "output_type": "display_data"
    }
   ],
   "source": [
    "approach.dist_viz()"
   ]
  },
  {
   "cell_type": "markdown",
   "id": "cec64e22",
   "metadata": {},
   "source": [
    "Given what I wrote earlier, this chart is quite surprising. It indicates that this model highly rates my music collection how accessible it is to the public. "
   ]
  },
  {
   "cell_type": "markdown",
   "id": "e9935dd6",
   "metadata": {},
   "source": [
    "Now let's take a look at the five most and least approachable songs in the database."
   ]
  },
  {
   "cell_type": "code",
   "execution_count": 43,
   "id": "242941d4",
   "metadata": {},
   "outputs": [
    {
     "data": {
      "text/html": [
       "<div>\n",
       "<style scoped>\n",
       "    .dataframe tbody tr th:only-of-type {\n",
       "        vertical-align: middle;\n",
       "    }\n",
       "\n",
       "    .dataframe tbody tr th {\n",
       "        vertical-align: top;\n",
       "    }\n",
       "\n",
       "    .dataframe thead th {\n",
       "        text-align: right;\n",
       "    }\n",
       "</style>\n",
       "<table border=\"1\" class=\"dataframe\">\n",
       "  <thead>\n",
       "    <tr style=\"text-align: right;\">\n",
       "      <th></th>\n",
       "      <th>title</th>\n",
       "      <th>artist</th>\n",
       "      <th>approachable</th>\n",
       "    </tr>\n",
       "    <tr>\n",
       "      <th>sid</th>\n",
       "      <th></th>\n",
       "      <th></th>\n",
       "      <th></th>\n",
       "    </tr>\n",
       "  </thead>\n",
       "  <tbody>\n",
       "    <tr>\n",
       "      <th>bd8fba4e12551113b6bb28e30659cad3</th>\n",
       "      <td>I Love You (Extended)</td>\n",
       "      <td>Karriem</td>\n",
       "      <td>0.9923</td>\n",
       "    </tr>\n",
       "    <tr>\n",
       "      <th>1b8532b6d23301b8ea16d82d7c33cba3</th>\n",
       "      <td>ouiness_zina_finished!</td>\n",
       "      <td>None</td>\n",
       "      <td>0.9890</td>\n",
       "    </tr>\n",
       "    <tr>\n",
       "      <th>c1becbc465751149b42ad8ebbe06d80c</th>\n",
       "      <td>Şehrazat - Kendim ettim, kendim buldum (disco funk, Turkey 1981)</td>\n",
       "      <td>ultradiskopanorama</td>\n",
       "      <td>0.9889</td>\n",
       "    </tr>\n",
       "    <tr>\n",
       "      <th>b6f5a4b06bbd4279f4e8727a137bfe7f</th>\n",
       "      <td>Don't Let Me Down</td>\n",
       "      <td>Marcia Griffiths</td>\n",
       "      <td>0.9887</td>\n",
       "    </tr>\n",
       "    <tr>\n",
       "      <th>e68b85b8da0842ca44ad583b4d5cebea</th>\n",
       "      <td>Mioukouna</td>\n",
       "      <td>NST Cophie's</td>\n",
       "      <td>0.9887</td>\n",
       "    </tr>\n",
       "  </tbody>\n",
       "</table>\n",
       "</div>"
      ],
      "text/plain": [
       "                                                                                              title  \\\n",
       "sid                                                                                                   \n",
       "bd8fba4e12551113b6bb28e30659cad3                                              I Love You (Extended)   \n",
       "1b8532b6d23301b8ea16d82d7c33cba3                                             ouiness_zina_finished!   \n",
       "c1becbc465751149b42ad8ebbe06d80c  Şehrazat - Kendim ettim, kendim buldum (disco funk, Turkey 1981)   \n",
       "b6f5a4b06bbd4279f4e8727a137bfe7f                                                  Don't Let Me Down   \n",
       "e68b85b8da0842ca44ad583b4d5cebea                                                          Mioukouna   \n",
       "\n",
       "                                              artist  approachable  \n",
       "sid                                                                 \n",
       "bd8fba4e12551113b6bb28e30659cad3             Karriem        0.9923  \n",
       "1b8532b6d23301b8ea16d82d7c33cba3                None        0.9890  \n",
       "c1becbc465751149b42ad8ebbe06d80c  ultradiskopanorama        0.9889  \n",
       "b6f5a4b06bbd4279f4e8727a137bfe7f    Marcia Griffiths        0.9887  \n",
       "e68b85b8da0842ca44ad583b4d5cebea        NST Cophie's        0.9887  "
      ]
     },
     "execution_count": 43,
     "metadata": {},
     "output_type": "execute_result"
    }
   ],
   "source": [
    "approach.top_songs(n = 5)"
   ]
  },
  {
   "cell_type": "markdown",
   "id": "519d1376",
   "metadata": {},
   "source": [
    "My initial reaction here is skepticism. The songs listed above in the dataframe are certainly not the first songs in my catalog that I would nominate for approachability."
   ]
  },
  {
   "cell_type": "markdown",
   "id": "0820ff10",
   "metadata": {},
   "source": [
    "Have a listen and judge for yourself."
   ]
  },
  {
   "cell_type": "markdown",
   "id": "caa8328e",
   "metadata": {},
   "source": [
    "1. [I Love You (Extended) - Karriem](https://www.youtube.com/watch?v=kMpdZAuZu7M)\n",
    "\n",
    "2. [Ouiness - Zina](https://www.youtube.com/watch?v=XIvIjTA1L_E)\n",
    "\n",
    "3. [Kendim ettim, kendim buldum - Sehrazat](https://www.youtube.com/watch?v=UdICW7YqaoU)\n",
    "\n",
    "4. [Don't Let Me Down - Marcia Griffiths](https://www.youtube.com/watch?v=dtpDmZpjsJE)\n",
    "\n",
    "5. [Mioukouna -  N.S.T Cophie's](https://www.youtube.com/watch?v=vnfznqH7vQw)"
   ]
  },
  {
   "cell_type": "markdown",
   "id": "1d270379",
   "metadata": {},
   "source": [
    "I am perplexed when these songs made the top 5. At least of these tracks I wouldn't play in a typical gig, I'd only play them for a crowd I'm confident will appreciate relative obscure music."
   ]
  },
  {
   "cell_type": "markdown",
   "id": "7c5fc0de",
   "metadata": {},
   "source": [
    "Now let's look at the other side of the spectrum and see how the \"unapproachable\" songs stack up"
   ]
  },
  {
   "cell_type": "code",
   "execution_count": 44,
   "id": "0c13755c",
   "metadata": {},
   "outputs": [
    {
     "data": {
      "text/html": [
       "<div>\n",
       "<style scoped>\n",
       "    .dataframe tbody tr th:only-of-type {\n",
       "        vertical-align: middle;\n",
       "    }\n",
       "\n",
       "    .dataframe tbody tr th {\n",
       "        vertical-align: top;\n",
       "    }\n",
       "\n",
       "    .dataframe thead th {\n",
       "        text-align: right;\n",
       "    }\n",
       "</style>\n",
       "<table border=\"1\" class=\"dataframe\">\n",
       "  <thead>\n",
       "    <tr style=\"text-align: right;\">\n",
       "      <th></th>\n",
       "      <th>title</th>\n",
       "      <th>artist</th>\n",
       "      <th>approachable</th>\n",
       "    </tr>\n",
       "    <tr>\n",
       "      <th>sid</th>\n",
       "      <th></th>\n",
       "      <th></th>\n",
       "      <th></th>\n",
       "    </tr>\n",
       "  </thead>\n",
       "  <tbody>\n",
       "    <tr>\n",
       "      <th>67a5a54a5f62b597509e9d97eae584b3</th>\n",
       "      <td>Extra Vergine</td>\n",
       "      <td>Maus &amp; Stolle</td>\n",
       "      <td>0.0259</td>\n",
       "    </tr>\n",
       "    <tr>\n",
       "      <th>7beef7d719bc71b16439eadc452152da</th>\n",
       "      <td>Matter Of Time (Vamos Mix)</td>\n",
       "      <td>MRD</td>\n",
       "      <td>0.0268</td>\n",
       "    </tr>\n",
       "    <tr>\n",
       "      <th>a5e390371b3438d58800a9e8fa0332a1</th>\n",
       "      <td>Everybody</td>\n",
       "      <td>DISAIA</td>\n",
       "      <td>0.0315</td>\n",
       "    </tr>\n",
       "    <tr>\n",
       "      <th>b6b676e68093434e6c1e0e569b3dfdae</th>\n",
       "      <td>Voodoo Ray (Hey Dan Edit)_PN</td>\n",
       "      <td>A Guy Called Gerald</td>\n",
       "      <td>0.0316</td>\n",
       "    </tr>\n",
       "    <tr>\n",
       "      <th>f586f46de0a2df993f5823c2ccad4f96</th>\n",
       "      <td>Maurice - This is Acid (Sportello TB303 Edit)</td>\n",
       "      <td>Sportello</td>\n",
       "      <td>0.0341</td>\n",
       "    </tr>\n",
       "  </tbody>\n",
       "</table>\n",
       "</div>"
      ],
      "text/plain": [
       "                                                                          title  \\\n",
       "sid                                                                               \n",
       "67a5a54a5f62b597509e9d97eae584b3                                  Extra Vergine   \n",
       "7beef7d719bc71b16439eadc452152da                     Matter Of Time (Vamos Mix)   \n",
       "a5e390371b3438d58800a9e8fa0332a1                                      Everybody   \n",
       "b6b676e68093434e6c1e0e569b3dfdae                   Voodoo Ray (Hey Dan Edit)_PN   \n",
       "f586f46de0a2df993f5823c2ccad4f96  Maurice - This is Acid (Sportello TB303 Edit)   \n",
       "\n",
       "                                               artist  approachable  \n",
       "sid                                                                  \n",
       "67a5a54a5f62b597509e9d97eae584b3        Maus & Stolle        0.0259  \n",
       "7beef7d719bc71b16439eadc452152da                  MRD        0.0268  \n",
       "a5e390371b3438d58800a9e8fa0332a1               DISAIA        0.0315  \n",
       "b6b676e68093434e6c1e0e569b3dfdae  A Guy Called Gerald        0.0316  \n",
       "f586f46de0a2df993f5823c2ccad4f96            Sportello        0.0341  "
      ]
     },
     "execution_count": 44,
     "metadata": {},
     "output_type": "execute_result"
    }
   ],
   "source": [
    "approach.top_songs(ascending=True, n = 5)"
   ]
  },
  {
   "cell_type": "markdown",
   "id": "7a807a8b",
   "metadata": {},
   "source": [
    "1. [Extra Vergine - Maus & Stolle](https://www.youtube.com/watch?v=ykOCriwIatc)\n",
    "\n",
    "2. [Matter of Time (Vamos Mix) - MRD](https://mrdof1988.bandcamp.com/track/matter-of-time-vamos-mix)\n",
    "\n",
    "3. [Everybody - DISAIA](https://www.youtube.com/watch?v=Z61TYWLGbck)\n",
    "\n",
    "4. [Voodoo Ray (Hey Dan Edit) - A Guy Called Gerald](https://www.youtube.com/watch?v=clsB4bISUjc)\n",
    "\n",
    "5. [This is Acid (Sportello TB303 Edit) - Maurice](https://sportellomusic.bandcamp.com/track/maurice-this-is-acid-sportello-tb303-edit)\n"
   ]
  },
  {
   "cell_type": "markdown",
   "id": "a1d628df",
   "metadata": {},
   "source": [
    "There is a stark difference between the bottom and top sets of songs. The bottom ten are or similar to deep house and techno and are the type of songs soundtracking a stoic-faced audience. Whereas the top 5 songs are all funky and percolating buoyant and jovial vibes. \n",
    "\n",
    "Comparing the two sets of songs was helpful in advancing my understanding of how this model interprets approachability.\n",
    "\n",
    "Most importantly I can definitely see myself using this metric in curating a set list."
   ]
  },
  {
   "cell_type": "markdown",
   "id": "fca412d4",
   "metadata": {},
   "source": [
    "**Middle sample**\n",
    "\n",
    "To get a better understanding of approachability, let's sample five songs from with scores in between 0.6 and 0.8."
   ]
  },
  {
   "cell_type": "code",
   "execution_count": 49,
   "id": "a0f6ee15",
   "metadata": {},
   "outputs": [
    {
     "data": {
      "text/html": [
       "<div>\n",
       "<style scoped>\n",
       "    .dataframe tbody tr th:only-of-type {\n",
       "        vertical-align: middle;\n",
       "    }\n",
       "\n",
       "    .dataframe tbody tr th {\n",
       "        vertical-align: top;\n",
       "    }\n",
       "\n",
       "    .dataframe thead th {\n",
       "        text-align: right;\n",
       "    }\n",
       "</style>\n",
       "<table border=\"1\" class=\"dataframe\">\n",
       "  <thead>\n",
       "    <tr style=\"text-align: right;\">\n",
       "      <th></th>\n",
       "      <th>title</th>\n",
       "      <th>artist</th>\n",
       "      <th>mean scores</th>\n",
       "      <th>stdev scores</th>\n",
       "    </tr>\n",
       "    <tr>\n",
       "      <th>sid</th>\n",
       "      <th></th>\n",
       "      <th></th>\n",
       "      <th></th>\n",
       "      <th></th>\n",
       "    </tr>\n",
       "  </thead>\n",
       "  <tbody>\n",
       "    <tr>\n",
       "      <th>06b08b5a5905ac885bfe3ac2ebeddf61</th>\n",
       "      <td>I Can't Wait (Nudisco Clubmix)_PN</td>\n",
       "      <td>Block &amp; Crown, Denise Brown</td>\n",
       "      <td>0.7819</td>\n",
       "      <td>0.1895</td>\n",
       "    </tr>\n",
       "    <tr>\n",
       "      <th>7cb559c83eb8972694024ba978a81003</th>\n",
       "      <td>Kiki Gyan - Disco Train (Judge Funk DJ Edit)</td>\n",
       "      <td>Judge Funk</td>\n",
       "      <td>0.7433</td>\n",
       "      <td>0.2114</td>\n",
       "    </tr>\n",
       "    <tr>\n",
       "      <th>fc8c80a17f16e951ef2c4eedd8f1dffa</th>\n",
       "      <td>Livy Ekemezie - Holiday Action (ANDYS Edit) (best holiday)</td>\n",
       "      <td>ANDYS</td>\n",
       "      <td>0.6949</td>\n",
       "      <td>0.1958</td>\n",
       "    </tr>\n",
       "    <tr>\n",
       "      <th>14dba487dbf35da6ca23d212fc728e0f</th>\n",
       "      <td>Soul Makossa (Money) (UK Radio Edit)</td>\n",
       "      <td>YOLANDA BE COOL</td>\n",
       "      <td>0.6730</td>\n",
       "      <td>0.2360</td>\n",
       "    </tr>\n",
       "    <tr>\n",
       "      <th>4849868c26658cd6ee6748100099ba0c</th>\n",
       "      <td>Kitchen Ninja (Master)</td>\n",
       "      <td>Igor Gonya</td>\n",
       "      <td>0.6623</td>\n",
       "      <td>0.1882</td>\n",
       "    </tr>\n",
       "  </tbody>\n",
       "</table>\n",
       "</div>"
      ],
      "text/plain": [
       "                                                                                       title  \\\n",
       "sid                                                                                            \n",
       "06b08b5a5905ac885bfe3ac2ebeddf61                           I Can't Wait (Nudisco Clubmix)_PN   \n",
       "7cb559c83eb8972694024ba978a81003                Kiki Gyan - Disco Train (Judge Funk DJ Edit)   \n",
       "fc8c80a17f16e951ef2c4eedd8f1dffa  Livy Ekemezie - Holiday Action (ANDYS Edit) (best holiday)   \n",
       "14dba487dbf35da6ca23d212fc728e0f                        Soul Makossa (Money) (UK Radio Edit)   \n",
       "4849868c26658cd6ee6748100099ba0c                                      Kitchen Ninja (Master)   \n",
       "\n",
       "                                                       artist  mean scores  \\\n",
       "sid                                                                          \n",
       "06b08b5a5905ac885bfe3ac2ebeddf61  Block & Crown, Denise Brown       0.7819   \n",
       "7cb559c83eb8972694024ba978a81003                   Judge Funk       0.7433   \n",
       "fc8c80a17f16e951ef2c4eedd8f1dffa                        ANDYS       0.6949   \n",
       "14dba487dbf35da6ca23d212fc728e0f              YOLANDA BE COOL       0.6730   \n",
       "4849868c26658cd6ee6748100099ba0c                   Igor Gonya       0.6623   \n",
       "\n",
       "                                  stdev scores  \n",
       "sid                                             \n",
       "06b08b5a5905ac885bfe3ac2ebeddf61        0.1895  \n",
       "7cb559c83eb8972694024ba978a81003        0.2114  \n",
       "fc8c80a17f16e951ef2c4eedd8f1dffa        0.1958  \n",
       "14dba487dbf35da6ca23d212fc728e0f        0.2360  \n",
       "4849868c26658cd6ee6748100099ba0c        0.1882  "
      ]
     },
     "execution_count": 49,
     "metadata": {},
     "output_type": "execute_result"
    }
   ],
   "source": [
    "approach.song_sampler(window = (.6, .8), n = 5, rs = 4)"
   ]
  },
  {
   "cell_type": "markdown",
   "id": "f04163ba",
   "metadata": {},
   "source": [
    "1. [I Can't Wait (Nudisco Clubmix)_PN\tBlock & Crown, Denise Brown](https://www.beatport.com/release/i-cant-wait-nudisco-2021-mix/3434733)\n",
    "\n",
    "2. [Kiki Gyan - Disco Train (Judge Funk DJ Edit)\tJudge Funk\t](https://www.youtube.com/watch?v=ZRprQUHsx_g&ab_channel=SoundwayRecords)\n",
    "\n",
    "3. [Livy Ekemezie - Holiday Action (ANDYS Edit) (best holiday)\tANDYS](https://soundcloud.com/hey_andys/livy-ekemezie-holiday-action)\n",
    "\n",
    "4. [Soul Makossa (Money) (UK Radio Edit)\tYOLANDA BE COOL](https://soundcloud.com/yolandabecool/soul-makossa-money-yolanda-be-cool-dcup)\n",
    "\n",
    "5. [Kitchen Ninja (Master)\tIgor Gonya](https://www.youtube.com/watch?v=KVvwkVupgKo&ab_channel=Gazzz696)"
   ]
  },
  {
   "cell_type": "markdown",
   "id": "83a2b4fc",
   "metadata": {},
   "source": [
    "My general feeling is that all 5 songs deserved to be rated higher on the approachability scale. My guess is that while large sections in the songs do sound very approachable, their scores are depressed by occasional low approachable periods. \n",
    "\n",
    "I include the standard deviations to provide some context on how representative the mean score is of the entire song. For instance, Soul Makossa has a relatively high standard deviation of its approachability scores, indicating significant flucatuations in that score over the course of that song."
   ]
  },
  {
   "cell_type": "markdown",
   "id": "6d70e4b9",
   "metadata": {},
   "source": [
    "**Danceability**\n",
    "\n",
    "Pretty obvious definition here. However I am curious to see if genre influences the danceability scores. Does the model rate a funk/soul song at the same danceability level as a house song. \n",
    "\n",
    "More info ==> https://essentia.upf.edu/models.html#danceability\n"
   ]
  },
  {
   "cell_type": "code",
   "execution_count": 50,
   "id": "dc2c9f4f",
   "metadata": {},
   "outputs": [
    {
     "name": "stdout",
     "output_type": "stream",
     "text": [
      "Loading danceability_effnet_discogs_1_activations data\n"
     ]
    },
    {
     "data": {
      "text/html": [
       "<div>\n",
       "<style scoped>\n",
       "    .dataframe tbody tr th:only-of-type {\n",
       "        vertical-align: middle;\n",
       "    }\n",
       "\n",
       "    .dataframe tbody tr th {\n",
       "        vertical-align: top;\n",
       "    }\n",
       "\n",
       "    .dataframe thead th {\n",
       "        text-align: right;\n",
       "    }\n",
       "</style>\n",
       "<table border=\"1\" class=\"dataframe\">\n",
       "  <thead>\n",
       "    <tr style=\"text-align: right;\">\n",
       "      <th></th>\n",
       "      <th>danceable</th>\n",
       "      <th>not_danceable</th>\n",
       "    </tr>\n",
       "    <tr>\n",
       "      <th>sid</th>\n",
       "      <th></th>\n",
       "      <th></th>\n",
       "    </tr>\n",
       "  </thead>\n",
       "  <tbody>\n",
       "    <tr>\n",
       "      <th>b806881a54bdbf9dd93a290716adf191</th>\n",
       "      <td>[0.9999424, 0.99976045, 0.99983895, 0.999848, 0.9999571, 0.9998455, 0.99988437, 0.9999192, 0.999...</td>\n",
       "      <td>[5.7582864e-05, 0.00023951827, 0.00016103889, 0.00015194346, 4.2891123e-05, 0.0001544856, 0.0001...</td>\n",
       "    </tr>\n",
       "    <tr>\n",
       "      <th>46e54d2ab920a088b77382e04877141b</th>\n",
       "      <td>[0.9999032, 0.9998369, 0.9999192, 0.99990785, 0.999863, 0.9996996, 0.99984634, 0.9998692, 0.9999...</td>\n",
       "      <td>[9.678665e-05, 0.0001630632, 8.081043e-05, 9.213655e-05, 0.00013701127, 0.000300486, 0.000153600...</td>\n",
       "    </tr>\n",
       "    <tr>\n",
       "      <th>a204ddef5763df6d8f7677701fe9d96f</th>\n",
       "      <td>[0.9981535, 0.9973373, 0.99670726, 0.99800974, 0.99799085, 0.99702066, 0.9951497, 0.99816823, 0....</td>\n",
       "      <td>[0.0018464968, 0.0026626734, 0.0032927275, 0.0019902333, 0.0020091475, 0.0029792786, 0.004850342...</td>\n",
       "    </tr>\n",
       "    <tr>\n",
       "      <th>960097894e83c5810a9c649f17a4e551</th>\n",
       "      <td>[0.999871, 0.9997358, 0.9998858, 0.99950945, 0.99984443, 0.9997348, 0.99975425, 0.9996364, 0.999...</td>\n",
       "      <td>[0.00012900884, 0.00026420056, 0.00011422723, 0.0004905543, 0.0001555365, 0.00026516986, 0.00024...</td>\n",
       "    </tr>\n",
       "    <tr>\n",
       "      <th>a3c1f277aa0110ffc418bf5fa3aa16aa</th>\n",
       "      <td>[0.69107103, 0.6084443, 0.5064755, 0.8155328, 0.6933056, 0.7086905, 0.43645376, 0.90993106, 0.90...</td>\n",
       "      <td>[0.30892897, 0.39155573, 0.49352455, 0.18446714, 0.3066944, 0.29130954, 0.56354624, 0.090068914,...</td>\n",
       "    </tr>\n",
       "  </tbody>\n",
       "</table>\n",
       "</div>"
      ],
      "text/plain": [
       "                                                                                                                            danceable  \\\n",
       "sid                                                                                                                                     \n",
       "b806881a54bdbf9dd93a290716adf191  [0.9999424, 0.99976045, 0.99983895, 0.999848, 0.9999571, 0.9998455, 0.99988437, 0.9999192, 0.999...   \n",
       "46e54d2ab920a088b77382e04877141b  [0.9999032, 0.9998369, 0.9999192, 0.99990785, 0.999863, 0.9996996, 0.99984634, 0.9998692, 0.9999...   \n",
       "a204ddef5763df6d8f7677701fe9d96f  [0.9981535, 0.9973373, 0.99670726, 0.99800974, 0.99799085, 0.99702066, 0.9951497, 0.99816823, 0....   \n",
       "960097894e83c5810a9c649f17a4e551  [0.999871, 0.9997358, 0.9998858, 0.99950945, 0.99984443, 0.9997348, 0.99975425, 0.9996364, 0.999...   \n",
       "a3c1f277aa0110ffc418bf5fa3aa16aa  [0.69107103, 0.6084443, 0.5064755, 0.8155328, 0.6933056, 0.7086905, 0.43645376, 0.90993106, 0.90...   \n",
       "\n",
       "                                                                                                                        not_danceable  \n",
       "sid                                                                                                                                    \n",
       "b806881a54bdbf9dd93a290716adf191  [5.7582864e-05, 0.00023951827, 0.00016103889, 0.00015194346, 4.2891123e-05, 0.0001544856, 0.0001...  \n",
       "46e54d2ab920a088b77382e04877141b  [9.678665e-05, 0.0001630632, 8.081043e-05, 9.213655e-05, 0.00013701127, 0.000300486, 0.000153600...  \n",
       "a204ddef5763df6d8f7677701fe9d96f  [0.0018464968, 0.0026626734, 0.0032927275, 0.0019902333, 0.0020091475, 0.0029792786, 0.004850342...  \n",
       "960097894e83c5810a9c649f17a4e551  [0.00012900884, 0.00026420056, 0.00011422723, 0.0004905543, 0.0001555365, 0.00026516986, 0.00024...  \n",
       "a3c1f277aa0110ffc418bf5fa3aa16aa  [0.30892897, 0.39155573, 0.49352455, 0.18446714, 0.3066944, 0.29130954, 0.56354624, 0.090068914,...  "
      ]
     },
     "execution_count": 50,
     "metadata": {},
     "output_type": "execute_result"
    }
   ],
   "source": [
    "table = tables[1]\n",
    "dance = ActivationDataHub(table_name=table)\n",
    "dance.df.head()"
   ]
  },
  {
   "cell_type": "code",
   "execution_count": 275,
   "id": "b33d8543",
   "metadata": {},
   "outputs": [
    {
     "data": {
      "image/png": "[encoded data removed]",
      "text/plain": [
       "<Figure size 576x360 with 1 Axes>"
      ]
     },
     "metadata": {
      "needs_background": "light"
     },
     "output_type": "display_data"
    }
   ],
   "source": [
    "dance.dist_viz()\n",
    "plt.yscale(\"log\")"
   ]
  },
  {
   "cell_type": "markdown",
   "id": "63793ae4",
   "metadata": {},
   "source": [
    "Not a big surprise that nearly every song in the database is rated highly on the danceability scale.\n",
    "\n",
    "In fact, only 2% of songs have danceability scores lower than 0.8"
   ]
  },
  {
   "cell_type": "code",
   "execution_count": 70,
   "id": "9dc55724",
   "metadata": {},
   "outputs": [
    {
     "data": {
      "text/plain": [
       "0.01985854189336235"
      ]
     },
     "execution_count": 70,
     "metadata": {},
     "output_type": "execute_result"
    }
   ],
   "source": [
    "np.mean(dance.df_mean.danceable<.8)"
   ]
  },
  {
   "cell_type": "code",
   "execution_count": 276,
   "id": "14e1ffae",
   "metadata": {},
   "outputs": [
    {
     "data": {
      "image/png": "[encoded data removed]",
      "text/plain": [
       "<Figure size 792x504 with 1 Axes>"
      ]
     },
     "metadata": {
      "needs_background": "light"
     },
     "output_type": "display_data"
    }
   ],
   "source": [
    "plt.figure(figsize=(11, 7))\n",
    "plt.xlim(0, 1)\n",
    "plt.ylim(0, 1)\n",
    "plt.scatter(dance.mean_scores, dance.std_scores, alpha=.4)\n",
    "plt.plot([0, 1],\":\", c= \"black\" )\n",
    "plt.xlabel(\"Danceable Means\")\n",
    "plt.ylabel(\"Danceable Standard Deviations\");"
   ]
  },
  {
   "cell_type": "markdown",
   "id": "7fe89211",
   "metadata": {},
   "source": [
    "It's not worth showing the top danceable songs because it doesn't reveal anything new. However let's see what lies on the other side of the spectrum."
   ]
  },
  {
   "cell_type": "code",
   "execution_count": 277,
   "id": "40953c25",
   "metadata": {},
   "outputs": [
    {
     "data": {
      "text/html": [
       "<div>\n",
       "<style scoped>\n",
       "    .dataframe tbody tr th:only-of-type {\n",
       "        vertical-align: middle;\n",
       "    }\n",
       "\n",
       "    .dataframe tbody tr th {\n",
       "        vertical-align: top;\n",
       "    }\n",
       "\n",
       "    .dataframe thead th {\n",
       "        text-align: right;\n",
       "    }\n",
       "</style>\n",
       "<table border=\"1\" class=\"dataframe\">\n",
       "  <thead>\n",
       "    <tr style=\"text-align: right;\">\n",
       "      <th></th>\n",
       "      <th>title</th>\n",
       "      <th>artist</th>\n",
       "      <th>danceable</th>\n",
       "    </tr>\n",
       "    <tr>\n",
       "      <th>sid</th>\n",
       "      <th></th>\n",
       "      <th></th>\n",
       "      <th></th>\n",
       "    </tr>\n",
       "  </thead>\n",
       "  <tbody>\n",
       "    <tr>\n",
       "      <th>742d1fc3a38304122239d07244e0106e</th>\n",
       "      <td>Ende Beerabeero Rare Unknown Ethiopian Disco Modern Soul 45-785Pujxp7rU</td>\n",
       "      <td>Habte Awalom</td>\n",
       "      <td>0.0582</td>\n",
       "    </tr>\n",
       "    <tr>\n",
       "      <th>cea0eaff11847df1ef9fd641977527df</th>\n",
       "      <td>Mazhar Ve Fuat - Adimiz Miskindir Bizim (Mark Wayward Edit)</td>\n",
       "      <td>Mark Wayward</td>\n",
       "      <td>0.0691</td>\n",
       "    </tr>\n",
       "    <tr>\n",
       "      <th>d7bfc278db4dbabfd1659252247c8899</th>\n",
       "      <td>J.J. Cale - RSDD003 - Social Distance Edits - 05 Lies (Mr. PC Belle Isle Balearic 12- Edit)</td>\n",
       "      <td>None</td>\n",
       "      <td>0.1475</td>\n",
       "    </tr>\n",
       "    <tr>\n",
       "      <th>9aa0080ebc4cde62f3136f9786cdb7c3</th>\n",
       "      <td>Wede Harer Guzo</td>\n",
       "      <td>Hailu Mergia</td>\n",
       "      <td>0.1755</td>\n",
       "    </tr>\n",
       "    <tr>\n",
       "      <th>3c3f186cb9b2dd15804bf3995b65a34d</th>\n",
       "      <td>Lord Have Mercy</td>\n",
       "      <td>The Lijadu Sisters</td>\n",
       "      <td>0.1760</td>\n",
       "    </tr>\n",
       "  </tbody>\n",
       "</table>\n",
       "</div>"
      ],
      "text/plain": [
       "                                                                                                                        title  \\\n",
       "sid                                                                                                                             \n",
       "742d1fc3a38304122239d07244e0106e                      Ende Beerabeero Rare Unknown Ethiopian Disco Modern Soul 45-785Pujxp7rU   \n",
       "cea0eaff11847df1ef9fd641977527df                                  Mazhar Ve Fuat - Adimiz Miskindir Bizim (Mark Wayward Edit)   \n",
       "d7bfc278db4dbabfd1659252247c8899  J.J. Cale - RSDD003 - Social Distance Edits - 05 Lies (Mr. PC Belle Isle Balearic 12- Edit)   \n",
       "9aa0080ebc4cde62f3136f9786cdb7c3                                                                              Wede Harer Guzo   \n",
       "3c3f186cb9b2dd15804bf3995b65a34d                                                                              Lord Have Mercy   \n",
       "\n",
       "                                              artist  danceable  \n",
       "sid                                                              \n",
       "742d1fc3a38304122239d07244e0106e        Habte Awalom     0.0582  \n",
       "cea0eaff11847df1ef9fd641977527df        Mark Wayward     0.0691  \n",
       "d7bfc278db4dbabfd1659252247c8899                None     0.1475  \n",
       "9aa0080ebc4cde62f3136f9786cdb7c3        Hailu Mergia     0.1755  \n",
       "3c3f186cb9b2dd15804bf3995b65a34d  The Lijadu Sisters     0.1760  "
      ]
     },
     "execution_count": 277,
     "metadata": {},
     "output_type": "execute_result"
    }
   ],
   "source": [
    "dance.top_songs(ascending=True, n = 5)"
   ]
  },
  {
   "cell_type": "markdown",
   "id": "7a7d9f00",
   "metadata": {},
   "source": [
    "1. [Endebeerabeero - Habte Awalom](https://www.youtube.com/watch?v=785Pujxp7rU&ab_channel=JointCustody)\n",
    "\n",
    "2. [Mazhar Ve Fuat Adimiz Miskindir Bizim (Mark Wayward Edit) - Mark Wayward](https://soundcloud.com/mark-wayward/mazhar-ve-fuat-adimiz-miskindir-bizim-mark-wayward-edit)\n",
    "\n",
    "3. [J.J. Cale - RSDD003 - Social Distance Edits - 05 Lies (Mr. PC Belle Isle Balearic 12- Edit)\t](https://petercroce.bandcamp.com/track/lies-mr-pc-belle-isle-balearic-12-edit)\n",
    "\n",
    "4. [Wede Harer Guzo - Hailu Mergia](https://www.youtube.com/watch?v=wU_gcM7lmD8&ab_channel=AwesomeTapesFromAfrica)\n",
    "\n",
    "5. [Lord Have Mercy - The Lijadu Sisters](https://www.youtube.com/watch?v=cYDwE9yFB_I&ab_channel=TheLijaduSisters-Topic)"
   ]
  },
  {
   "cell_type": "markdown",
   "id": "70a6cd19",
   "metadata": {},
   "source": [
    "For the most part, I agree with these assessments. These songs certainly won't bring the house down. I do feel like Endebeerabeero could be rated somewhat higher, but overall no issues with this data."
   ]
  },
  {
   "cell_type": "markdown",
   "id": "04215f08",
   "metadata": {},
   "source": [
    "**Middle Sample**\n",
    "\n",
    "5 randomly sampled songs with danceability scores between 0.75 and 0.85"
   ]
  },
  {
   "cell_type": "code",
   "execution_count": 282,
   "id": "3fb00886",
   "metadata": {},
   "outputs": [
    {
     "data": {
      "text/html": [
       "<div>\n",
       "<style scoped>\n",
       "    .dataframe tbody tr th:only-of-type {\n",
       "        vertical-align: middle;\n",
       "    }\n",
       "\n",
       "    .dataframe tbody tr th {\n",
       "        vertical-align: top;\n",
       "    }\n",
       "\n",
       "    .dataframe thead th {\n",
       "        text-align: right;\n",
       "    }\n",
       "</style>\n",
       "<table border=\"1\" class=\"dataframe\">\n",
       "  <thead>\n",
       "    <tr style=\"text-align: right;\">\n",
       "      <th></th>\n",
       "      <th>title</th>\n",
       "      <th>artist</th>\n",
       "      <th>mean scores</th>\n",
       "      <th>stdev scores</th>\n",
       "    </tr>\n",
       "    <tr>\n",
       "      <th>sid</th>\n",
       "      <th></th>\n",
       "      <th></th>\n",
       "      <th></th>\n",
       "      <th></th>\n",
       "    </tr>\n",
       "  </thead>\n",
       "  <tbody>\n",
       "    <tr>\n",
       "      <th>dbc7bbc0d7afb3cba4fa0fb26fa4ef1f</th>\n",
       "      <td>Charles Atangana &amp; Emitais: Onguindo ( Tahira Edit)</td>\n",
       "      <td>Various Artists</td>\n",
       "      <td>0.8389</td>\n",
       "      <td>0.2171</td>\n",
       "    </tr>\n",
       "    <tr>\n",
       "      <th>50345b72d25e46fc48595bac3111f32a</th>\n",
       "      <td>Nermin Niazi - Feisal Mosleh - Moving Still - Disco Se Aagay- Edits and Reprises - 03 Dekha Jab ...</td>\n",
       "      <td>None</td>\n",
       "      <td>0.8327</td>\n",
       "      <td>0.2276</td>\n",
       "    </tr>\n",
       "    <tr>\n",
       "      <th>5658412c83cd9fc3ff53eb115c97ec90</th>\n",
       "      <td>Du Går Du Kommer (Disco Tech Edit)_PN</td>\n",
       "      <td>None</td>\n",
       "      <td>0.8019</td>\n",
       "      <td>0.2766</td>\n",
       "    </tr>\n",
       "    <tr>\n",
       "      <th>b085951a81e3078f4b114d1ffc5e80b5</th>\n",
       "      <td>The Boogashake</td>\n",
       "      <td>MARIO ALLISON Y SU COMBO</td>\n",
       "      <td>0.8011</td>\n",
       "      <td>0.2158</td>\n",
       "    </tr>\n",
       "    <tr>\n",
       "      <th>b339410d53da91722c38f1e2e769f87f</th>\n",
       "      <td>Hugo Blanco - Guajira Con Arpa</td>\n",
       "      <td>None</td>\n",
       "      <td>0.7797</td>\n",
       "      <td>0.2973</td>\n",
       "    </tr>\n",
       "  </tbody>\n",
       "</table>\n",
       "</div>"
      ],
      "text/plain": [
       "                                                                                                                                title  \\\n",
       "sid                                                                                                                                     \n",
       "dbc7bbc0d7afb3cba4fa0fb26fa4ef1f                                                  Charles Atangana & Emitais: Onguindo ( Tahira Edit)   \n",
       "50345b72d25e46fc48595bac3111f32a  Nermin Niazi - Feisal Mosleh - Moving Still - Disco Se Aagay- Edits and Reprises - 03 Dekha Jab ...   \n",
       "5658412c83cd9fc3ff53eb115c97ec90                                                                Du Går Du Kommer (Disco Tech Edit)_PN   \n",
       "b085951a81e3078f4b114d1ffc5e80b5                                                                                       The Boogashake   \n",
       "b339410d53da91722c38f1e2e769f87f                                                                       Hugo Blanco - Guajira Con Arpa   \n",
       "\n",
       "                                                    artist  mean scores  \\\n",
       "sid                                                                       \n",
       "dbc7bbc0d7afb3cba4fa0fb26fa4ef1f           Various Artists       0.8389   \n",
       "50345b72d25e46fc48595bac3111f32a                      None       0.8327   \n",
       "5658412c83cd9fc3ff53eb115c97ec90                      None       0.8019   \n",
       "b085951a81e3078f4b114d1ffc5e80b5  MARIO ALLISON Y SU COMBO       0.8011   \n",
       "b339410d53da91722c38f1e2e769f87f                      None       0.7797   \n",
       "\n",
       "                                  stdev scores  \n",
       "sid                                             \n",
       "dbc7bbc0d7afb3cba4fa0fb26fa4ef1f        0.2171  \n",
       "50345b72d25e46fc48595bac3111f32a        0.2276  \n",
       "5658412c83cd9fc3ff53eb115c97ec90        0.2766  \n",
       "b085951a81e3078f4b114d1ffc5e80b5        0.2158  \n",
       "b339410d53da91722c38f1e2e769f87f        0.2973  "
      ]
     },
     "execution_count": 282,
     "metadata": {},
     "output_type": "execute_result"
    }
   ],
   "source": [
    "dance.song_sampler((.75, .85), n = 5)"
   ]
  },
  {
   "cell_type": "markdown",
   "id": "6a8d85b4",
   "metadata": {},
   "source": [
    "1. [Charles Atangana & Emitais: Onguindo ( Tahira Edit)\t](https://www.youtube.com/watch?v=jaucVs847EU&ab_channel=AudioFalante)\n",
    "\n",
    "2. [Nermin Niazi - Feisal Mosleh - Moving Still - Disco Se Aagay- Edits and Reprises - 03 Dekha Jab Se Dekha](https://discostan.bandcamp.com/track/dekha-jab-se-dekha)\n",
    "\n",
    "3. [Du Går Du Kommer (Disco Tech Edit)](https://soundcloud.com/disco-tech-edits/du-gar-du-kommer-disco-tech-edit)\n",
    "\n",
    "4. [The Boogashake - Mario Allison Y SU Combo](https://vampisoul.bandcamp.com/track/the-boogashake)\n",
    "\n",
    "5. [Hugo Blanco - Guajira Con Arpa](https://www.youtube.com/watch?v=NDixCSR5AvA&ab_channel=PatrickLatinJazzBoogalooFunkSoul)"
   ]
  },
  {
   "cell_type": "markdown",
   "id": "ab49fc36",
   "metadata": {},
   "source": [
    "Hard to make an assessment here. I find these songs fairly danceable but I probably won't play them at a dance party."
   ]
  },
  {
   "cell_type": "markdown",
   "id": "9fa95d77",
   "metadata": {},
   "source": [
    "### Engagement\n",
    "\n",
    "Music engagement predicting whether the music evokes active attention of the listener (high-engagement “lean forward” active listening vs. low-engagement “lean back” background listening).\n",
    "\n",
    "More info => https://essentia.upf.edu/models.html#engagement"
   ]
  },
  {
   "cell_type": "markdown",
   "id": "0de339dd",
   "metadata": {},
   "source": [
    "I have high hopes for this metric because of the simple reason that a good DJ plays \"engaging\" music. A key skill in DJing is assessing the energy level of their gigs. The engagement metric could be a useful proxy for energy. If I am playing a chiller, lowkey set then I could use engagement to help me assemble the right playlist of songs."
   ]
  },
  {
   "cell_type": "code",
   "execution_count": 51,
   "id": "772db95c",
   "metadata": {},
   "outputs": [
    {
     "name": "stdout",
     "output_type": "stream",
     "text": [
      "Loading engagement_2c_effnet_discogs_1_activations data\n"
     ]
    },
    {
     "data": {
      "text/html": [
       "<div>\n",
       "<style scoped>\n",
       "    .dataframe tbody tr th:only-of-type {\n",
       "        vertical-align: middle;\n",
       "    }\n",
       "\n",
       "    .dataframe tbody tr th {\n",
       "        vertical-align: top;\n",
       "    }\n",
       "\n",
       "    .dataframe thead th {\n",
       "        text-align: right;\n",
       "    }\n",
       "</style>\n",
       "<table border=\"1\" class=\"dataframe\">\n",
       "  <thead>\n",
       "    <tr style=\"text-align: right;\">\n",
       "      <th></th>\n",
       "      <th>not_engaging</th>\n",
       "      <th>engaging</th>\n",
       "    </tr>\n",
       "    <tr>\n",
       "      <th>sid</th>\n",
       "      <th></th>\n",
       "      <th></th>\n",
       "    </tr>\n",
       "  </thead>\n",
       "  <tbody>\n",
       "    <tr>\n",
       "      <th>b806881a54bdbf9dd93a290716adf191</th>\n",
       "      <td>[0.01610879, 0.03347205, 0.03819201, 0.0459898, 0.011230065, 0.029323494, 0.026065817, 0.0204776...</td>\n",
       "      <td>[0.9838912, 0.96652794, 0.96180797, 0.9540102, 0.9887699, 0.97067654, 0.9739342, 0.97952235, 0.9...</td>\n",
       "    </tr>\n",
       "    <tr>\n",
       "      <th>46e54d2ab920a088b77382e04877141b</th>\n",
       "      <td>[0.0025433216, 0.0068556145, 0.002352924, 0.0066941506, 0.0029510593, 0.012337105, 0.0041766968,...</td>\n",
       "      <td>[0.9974567, 0.9931444, 0.9976471, 0.99330586, 0.9970489, 0.98766285, 0.99582326, 0.9943621, 0.99...</td>\n",
       "    </tr>\n",
       "    <tr>\n",
       "      <th>a204ddef5763df6d8f7677701fe9d96f</th>\n",
       "      <td>[0.009494705, 0.025756417, 0.012806551, 0.021973863, 0.010267618, 0.02111152, 0.010153408, 0.018...</td>\n",
       "      <td>[0.9905053, 0.9742435, 0.9871934, 0.9780261, 0.9897323, 0.97888845, 0.9898465, 0.98158735, 0.986...</td>\n",
       "    </tr>\n",
       "    <tr>\n",
       "      <th>960097894e83c5810a9c649f17a4e551</th>\n",
       "      <td>[0.00086885516, 0.00088291627, 0.0010570403, 0.00079634396, 0.001559757, 0.0007735467, 0.0013624...</td>\n",
       "      <td>[0.99913114, 0.9991171, 0.99894303, 0.9992036, 0.9984402, 0.99922645, 0.9986375, 0.99925584, 0.9...</td>\n",
       "    </tr>\n",
       "    <tr>\n",
       "      <th>a3c1f277aa0110ffc418bf5fa3aa16aa</th>\n",
       "      <td>[0.59090894, 0.7070218, 0.62421054, 0.6648362, 0.5044175, 0.6665438, 0.67336226, 0.61193955, 0.5...</td>\n",
       "      <td>[0.40909111, 0.29297823, 0.37578952, 0.33516386, 0.49558252, 0.33345625, 0.3266378, 0.3880605, 0...</td>\n",
       "    </tr>\n",
       "  </tbody>\n",
       "</table>\n",
       "</div>"
      ],
      "text/plain": [
       "                                                                                                                         not_engaging  \\\n",
       "sid                                                                                                                                     \n",
       "b806881a54bdbf9dd93a290716adf191  [0.01610879, 0.03347205, 0.03819201, 0.0459898, 0.011230065, 0.029323494, 0.026065817, 0.0204776...   \n",
       "46e54d2ab920a088b77382e04877141b  [0.0025433216, 0.0068556145, 0.002352924, 0.0066941506, 0.0029510593, 0.012337105, 0.0041766968,...   \n",
       "a204ddef5763df6d8f7677701fe9d96f  [0.009494705, 0.025756417, 0.012806551, 0.021973863, 0.010267618, 0.02111152, 0.010153408, 0.018...   \n",
       "960097894e83c5810a9c649f17a4e551  [0.00086885516, 0.00088291627, 0.0010570403, 0.00079634396, 0.001559757, 0.0007735467, 0.0013624...   \n",
       "a3c1f277aa0110ffc418bf5fa3aa16aa  [0.59090894, 0.7070218, 0.62421054, 0.6648362, 0.5044175, 0.6665438, 0.67336226, 0.61193955, 0.5...   \n",
       "\n",
       "                                                                                                                             engaging  \n",
       "sid                                                                                                                                    \n",
       "b806881a54bdbf9dd93a290716adf191  [0.9838912, 0.96652794, 0.96180797, 0.9540102, 0.9887699, 0.97067654, 0.9739342, 0.97952235, 0.9...  \n",
       "46e54d2ab920a088b77382e04877141b  [0.9974567, 0.9931444, 0.9976471, 0.99330586, 0.9970489, 0.98766285, 0.99582326, 0.9943621, 0.99...  \n",
       "a204ddef5763df6d8f7677701fe9d96f  [0.9905053, 0.9742435, 0.9871934, 0.9780261, 0.9897323, 0.97888845, 0.9898465, 0.98158735, 0.986...  \n",
       "960097894e83c5810a9c649f17a4e551  [0.99913114, 0.9991171, 0.99894303, 0.9992036, 0.9984402, 0.99922645, 0.9986375, 0.99925584, 0.9...  \n",
       "a3c1f277aa0110ffc418bf5fa3aa16aa  [0.40909111, 0.29297823, 0.37578952, 0.33516386, 0.49558252, 0.33345625, 0.3266378, 0.3880605, 0...  "
      ]
     },
     "execution_count": 51,
     "metadata": {},
     "output_type": "execute_result"
    }
   ],
   "source": [
    "table = tables[2]\n",
    "engage = ActivationDataHub(table_name=table)\n",
    "engage.df.head()"
   ]
  },
  {
   "cell_type": "code",
   "execution_count": 284,
   "id": "f63214d9",
   "metadata": {},
   "outputs": [
    {
     "data": {
      "image/png": "[encoded data removed]",
      "text/plain": [
       "<Figure size 576x360 with 1 Axes>"
      ]
     },
     "metadata": {
      "needs_background": "light"
     },
     "output_type": "display_data"
    }
   ],
   "source": [
    "engage.dist_viz()"
   ]
  },
  {
   "cell_type": "markdown",
   "id": "0e122193",
   "metadata": {},
   "source": [
    "**Good news!**\n",
    "\n",
    "Essentia's music engagement model thinks I am an engaging DJ. The vast majority of my songs have an average engaging score of greater than or equal to 0.9."
   ]
  },
  {
   "cell_type": "markdown",
   "id": "9e32ce8b",
   "metadata": {},
   "source": [
    "**Top 5 Engaging songs**"
   ]
  },
  {
   "cell_type": "code",
   "execution_count": 285,
   "id": "332c4c4e",
   "metadata": {},
   "outputs": [
    {
     "data": {
      "text/html": [
       "<div>\n",
       "<style scoped>\n",
       "    .dataframe tbody tr th:only-of-type {\n",
       "        vertical-align: middle;\n",
       "    }\n",
       "\n",
       "    .dataframe tbody tr th {\n",
       "        vertical-align: top;\n",
       "    }\n",
       "\n",
       "    .dataframe thead th {\n",
       "        text-align: right;\n",
       "    }\n",
       "</style>\n",
       "<table border=\"1\" class=\"dataframe\">\n",
       "  <thead>\n",
       "    <tr style=\"text-align: right;\">\n",
       "      <th></th>\n",
       "      <th>title</th>\n",
       "      <th>artist</th>\n",
       "      <th>engaging</th>\n",
       "    </tr>\n",
       "    <tr>\n",
       "      <th>sid</th>\n",
       "      <th></th>\n",
       "      <th></th>\n",
       "      <th></th>\n",
       "    </tr>\n",
       "  </thead>\n",
       "  <tbody>\n",
       "    <tr>\n",
       "      <th>681ccf47549a629028cf97f8a816cfd7</th>\n",
       "      <td>Happy Song (Club Mix)</td>\n",
       "      <td>Boney M</td>\n",
       "      <td>0.9997</td>\n",
       "    </tr>\n",
       "    <tr>\n",
       "      <th>0074bca61fc9947f1aae555d7f694139</th>\n",
       "      <td>Tchamy Patterson - First Man for Cry</td>\n",
       "      <td>reclusiv recordings</td>\n",
       "      <td>0.9996</td>\n",
       "    </tr>\n",
       "    <tr>\n",
       "      <th>bd8fba4e12551113b6bb28e30659cad3</th>\n",
       "      <td>I Love You (Extended)</td>\n",
       "      <td>Karriem</td>\n",
       "      <td>0.9996</td>\n",
       "    </tr>\n",
       "    <tr>\n",
       "      <th>9124ded476f1e811c6b59b14a6d13bf5</th>\n",
       "      <td>All My Life (12\" Funk 1983)</td>\n",
       "      <td>Major Harris</td>\n",
       "      <td>0.9995</td>\n",
       "    </tr>\n",
       "    <tr>\n",
       "      <th>138d96f7557b5abcc0483469f9f78b6e</th>\n",
       "      <td>DiscoGram - DG006 - 01 Dancing!_PN</td>\n",
       "      <td>None</td>\n",
       "      <td>0.9995</td>\n",
       "    </tr>\n",
       "  </tbody>\n",
       "</table>\n",
       "</div>"
      ],
      "text/plain": [
       "                                                                 title  \\\n",
       "sid                                                                      \n",
       "681ccf47549a629028cf97f8a816cfd7                 Happy Song (Club Mix)   \n",
       "0074bca61fc9947f1aae555d7f694139  Tchamy Patterson - First Man for Cry   \n",
       "bd8fba4e12551113b6bb28e30659cad3                 I Love You (Extended)   \n",
       "9124ded476f1e811c6b59b14a6d13bf5           All My Life (12\" Funk 1983)   \n",
       "138d96f7557b5abcc0483469f9f78b6e    DiscoGram - DG006 - 01 Dancing!_PN   \n",
       "\n",
       "                                               artist  engaging  \n",
       "sid                                                              \n",
       "681ccf47549a629028cf97f8a816cfd7              Boney M    0.9997  \n",
       "0074bca61fc9947f1aae555d7f694139  reclusiv recordings    0.9996  \n",
       "bd8fba4e12551113b6bb28e30659cad3              Karriem    0.9996  \n",
       "9124ded476f1e811c6b59b14a6d13bf5         Major Harris    0.9995  \n",
       "138d96f7557b5abcc0483469f9f78b6e                 None    0.9995  "
      ]
     },
     "execution_count": 285,
     "metadata": {},
     "output_type": "execute_result"
    }
   ],
   "source": [
    "engage.top_songs(ascending=False, n = 5)"
   ]
  },
  {
   "cell_type": "markdown",
   "id": "9747b6e8",
   "metadata": {},
   "source": [
    "1. [Happy Song (Club Mix) - Boney M](https://www.youtube.com/watch?v=0_wf30gK9Pg&ab_channel=style300x)\n",
    "\n",
    "2. [Tchamy Patterson - First Man for Cry - reclusiv recordings](https://www.youtube.com/watch?v=MAbUpL2bw08&ab_channel=LaboratoireTchamyPATTERSON)\n",
    "\n",
    "3. [I Love You (Extended) - Karriem](https://www.youtube.com/watch?v=37sMZVsSxTs&ab_channel=FavoriteRecordings)\n",
    "\n",
    "4. [All My Life (12\" Funk 1983) - Major Harris](https://www.youtube.com/watch?v=qpcqQ8ifpRc&ab_channel=CoolfunkZ%C3%A9z%C3%A92)\n",
    "\n",
    "5. [DiscoGram - DG006 - 01 Dancing!](https://www.youtube.com/watch?v=UvEZ1tQywTs&ab_channel=Funk%27nDisco%26Stuff)"
   ]
  },
  {
   "cell_type": "markdown",
   "id": "52adfb8d",
   "metadata": {},
   "source": [
    "The model isn't wrong here hand out high engagement appraisals for these five songs. What I am curious about is that the >0.999 mean engaging scores indicate that the model rates every section of each song as engaging."
   ]
  },
  {
   "cell_type": "markdown",
   "id": "43bf9273",
   "metadata": {},
   "source": [
    "**Bottom 5 engaging songs**"
   ]
  },
  {
   "cell_type": "code",
   "execution_count": 286,
   "id": "5f51d415",
   "metadata": {},
   "outputs": [
    {
     "data": {
      "text/html": [
       "<div>\n",
       "<style scoped>\n",
       "    .dataframe tbody tr th:only-of-type {\n",
       "        vertical-align: middle;\n",
       "    }\n",
       "\n",
       "    .dataframe tbody tr th {\n",
       "        vertical-align: top;\n",
       "    }\n",
       "\n",
       "    .dataframe thead th {\n",
       "        text-align: right;\n",
       "    }\n",
       "</style>\n",
       "<table border=\"1\" class=\"dataframe\">\n",
       "  <thead>\n",
       "    <tr style=\"text-align: right;\">\n",
       "      <th></th>\n",
       "      <th>title</th>\n",
       "      <th>artist</th>\n",
       "      <th>engaging</th>\n",
       "    </tr>\n",
       "    <tr>\n",
       "      <th>sid</th>\n",
       "      <th></th>\n",
       "      <th></th>\n",
       "      <th></th>\n",
       "    </tr>\n",
       "  </thead>\n",
       "  <tbody>\n",
       "    <tr>\n",
       "      <th>b85f2a4c63f48e712284262c7ff6ffbd</th>\n",
       "      <td>Automation - Workings Of A Madman Re-Mix</td>\n",
       "      <td>Tiny Magnetic Pets</td>\n",
       "      <td>0.5439</td>\n",
       "    </tr>\n",
       "    <tr>\n",
       "      <th>ed91d262dc3a679bac460f2f1d8b78ff</th>\n",
       "      <td>King Crimson - RSDD003 - Social Distance Edits - 11 The Sheltering Sky (Mr. PC Belle Isle Balear...</td>\n",
       "      <td>None</td>\n",
       "      <td>0.5578</td>\n",
       "    </tr>\n",
       "    <tr>\n",
       "      <th>9b69b0c8d5fdeee9e6950481d0caa1f1</th>\n",
       "      <td>Bubuj Bulan</td>\n",
       "      <td>Rully Djohan</td>\n",
       "      <td>0.5625</td>\n",
       "    </tr>\n",
       "    <tr>\n",
       "      <th>d71d4a7afde1a9891e56fe0fdf307aff</th>\n",
       "      <td>Azara alhai</td>\n",
       "      <td>Rasha</td>\n",
       "      <td>0.5869</td>\n",
       "    </tr>\n",
       "    <tr>\n",
       "      <th>540f1f587d15e9edc9ff5a2d82ab021b</th>\n",
       "      <td>Luiz Enrique - Mas Que Nada (Brasileiro Rework)</td>\n",
       "      <td>Sonic Funk Foundry</td>\n",
       "      <td>0.5884</td>\n",
       "    </tr>\n",
       "  </tbody>\n",
       "</table>\n",
       "</div>"
      ],
      "text/plain": [
       "                                                                                                                                title  \\\n",
       "sid                                                                                                                                     \n",
       "b85f2a4c63f48e712284262c7ff6ffbd                                                             Automation - Workings Of A Madman Re-Mix   \n",
       "ed91d262dc3a679bac460f2f1d8b78ff  King Crimson - RSDD003 - Social Distance Edits - 11 The Sheltering Sky (Mr. PC Belle Isle Balear...   \n",
       "9b69b0c8d5fdeee9e6950481d0caa1f1                                                                                          Bubuj Bulan   \n",
       "d71d4a7afde1a9891e56fe0fdf307aff                                                                                          Azara alhai   \n",
       "540f1f587d15e9edc9ff5a2d82ab021b                                                      Luiz Enrique - Mas Que Nada (Brasileiro Rework)   \n",
       "\n",
       "                                              artist  engaging  \n",
       "sid                                                             \n",
       "b85f2a4c63f48e712284262c7ff6ffbd  Tiny Magnetic Pets    0.5439  \n",
       "ed91d262dc3a679bac460f2f1d8b78ff                None    0.5578  \n",
       "9b69b0c8d5fdeee9e6950481d0caa1f1        Rully Djohan    0.5625  \n",
       "d71d4a7afde1a9891e56fe0fdf307aff               Rasha    0.5869  \n",
       "540f1f587d15e9edc9ff5a2d82ab021b  Sonic Funk Foundry    0.5884  "
      ]
     },
     "execution_count": 286,
     "metadata": {},
     "output_type": "execute_result"
    }
   ],
   "source": [
    "engage.top_songs(ascending=True, n = 5)"
   ]
  },
  {
   "cell_type": "markdown",
   "id": "54d0eea1",
   "metadata": {},
   "source": [
    "1. [Automation - Workings Of A Madman Re-Mix\tTiny Magnetic Pet](https://www.youtube.com/watch?v=X4I4LU04iCo&ab_channel=TinyMagneticPets-Topic)\n",
    "\n",
    "2. [King Crimson - RSDD003 - Social Distance Edits - 11 The Sheltering Sky (Mr. PC Belle Isle Balear.](https://www.youtube.com/watch?v=ikYm6Y8u6eU&ab_channel=KingCrimson)\n",
    "\n",
    "3. [Bubuj Bulan\tRully Djohan](https://www.youtube.com/watch?v=3a5IpOR24PQ&ab_channel=SoundwayRecords)\n",
    "\n",
    "4. [Azara alhai\tRasha](https://www.youtube.com/watch?v=WOdcgc9ot3k&ab_channel=ZicZakGarage)\n",
    "\n",
    "5. [Luiz Enrique - Mas Que Nada (Brasileiro Rework)\tSonic Funk Foundry](https://sonicfunkfoundry.bandcamp.com/track/luiz-enrique-mas-que-nada-brasileiro-rework)"
   ]
  },
  {
   "cell_type": "markdown",
   "id": "6dc37305",
   "metadata": {},
   "source": [
    "This result confirms my hypothesis that engagement can be proxy a for energy (or at the very least correlates with it.)\n",
    "\n",
    "All five of these songs are low-energy and are more appropriate for dinner parties than any gig I usually play."
   ]
  },
  {
   "cell_type": "markdown",
   "id": "6a2b67ec",
   "metadata": {},
   "source": [
    "**Engagement sampling**\n",
    "\n",
    "Five randomly songs with engagement scores between 0.6 and 0.8"
   ]
  },
  {
   "cell_type": "code",
   "execution_count": 287,
   "id": "a58dafec",
   "metadata": {},
   "outputs": [
    {
     "data": {
      "text/html": [
       "<div>\n",
       "<style scoped>\n",
       "    .dataframe tbody tr th:only-of-type {\n",
       "        vertical-align: middle;\n",
       "    }\n",
       "\n",
       "    .dataframe tbody tr th {\n",
       "        vertical-align: top;\n",
       "    }\n",
       "\n",
       "    .dataframe thead th {\n",
       "        text-align: right;\n",
       "    }\n",
       "</style>\n",
       "<table border=\"1\" class=\"dataframe\">\n",
       "  <thead>\n",
       "    <tr style=\"text-align: right;\">\n",
       "      <th></th>\n",
       "      <th>title</th>\n",
       "      <th>artist</th>\n",
       "      <th>mean scores</th>\n",
       "      <th>stdev scores</th>\n",
       "    </tr>\n",
       "    <tr>\n",
       "      <th>sid</th>\n",
       "      <th></th>\n",
       "      <th></th>\n",
       "      <th></th>\n",
       "      <th></th>\n",
       "    </tr>\n",
       "  </thead>\n",
       "  <tbody>\n",
       "    <tr>\n",
       "      <th>97e612c4adfaaa9ac1b974090987a4e9</th>\n",
       "      <td>Vera o Carioca (Carimboogie Edit)</td>\n",
       "      <td>Tim Maia</td>\n",
       "      <td>0.7733</td>\n",
       "      <td>0.1752</td>\n",
       "    </tr>\n",
       "    <tr>\n",
       "      <th>904bd348ce46ccf7f7c5e94224a985b0</th>\n",
       "      <td>Pleasure of Love - Nala - Tijan</td>\n",
       "      <td>None</td>\n",
       "      <td>0.7630</td>\n",
       "      <td>0.1504</td>\n",
       "    </tr>\n",
       "    <tr>\n",
       "      <th>0fb06c1214498205667582c3a28b21d8</th>\n",
       "      <td>Distant Love</td>\n",
       "      <td>Yung Bae</td>\n",
       "      <td>0.7222</td>\n",
       "      <td>0.1206</td>\n",
       "    </tr>\n",
       "    <tr>\n",
       "      <th>49ed8ada9126c2b70dc34f95de3b8d89</th>\n",
       "      <td>Uppers Chapter 2 - Samarin Bolga ( Kill Emil Edit )</td>\n",
       "      <td>Kill Emil</td>\n",
       "      <td>0.7207</td>\n",
       "      <td>0.1555</td>\n",
       "    </tr>\n",
       "    <tr>\n",
       "      <th>9096df0bc4ec9fc1610251daa8718700</th>\n",
       "      <td>Musow</td>\n",
       "      <td>Neba Solo</td>\n",
       "      <td>0.6918</td>\n",
       "      <td>0.1865</td>\n",
       "    </tr>\n",
       "  </tbody>\n",
       "</table>\n",
       "</div>"
      ],
      "text/plain": [
       "                                                                                title  \\\n",
       "sid                                                                                     \n",
       "97e612c4adfaaa9ac1b974090987a4e9                    Vera o Carioca (Carimboogie Edit)   \n",
       "904bd348ce46ccf7f7c5e94224a985b0                      Pleasure of Love - Nala - Tijan   \n",
       "0fb06c1214498205667582c3a28b21d8                                         Distant Love   \n",
       "49ed8ada9126c2b70dc34f95de3b8d89  Uppers Chapter 2 - Samarin Bolga ( Kill Emil Edit )   \n",
       "9096df0bc4ec9fc1610251daa8718700                                                Musow   \n",
       "\n",
       "                                     artist  mean scores  stdev scores  \n",
       "sid                                                                     \n",
       "97e612c4adfaaa9ac1b974090987a4e9   Tim Maia       0.7733        0.1752  \n",
       "904bd348ce46ccf7f7c5e94224a985b0       None       0.7630        0.1504  \n",
       "0fb06c1214498205667582c3a28b21d8   Yung Bae       0.7222        0.1206  \n",
       "49ed8ada9126c2b70dc34f95de3b8d89  Kill Emil       0.7207        0.1555  \n",
       "9096df0bc4ec9fc1610251daa8718700  Neba Solo       0.6918        0.1865  "
      ]
     },
     "execution_count": 287,
     "metadata": {},
     "output_type": "execute_result"
    }
   ],
   "source": [
    "engage.song_sampler((.6, .8), n = 5)"
   ]
  },
  {
   "cell_type": "markdown",
   "id": "c504a422",
   "metadata": {},
   "source": [
    "1. [Vera o Carioca (Carimboogie Edit)\tTim Maia](https://tropicanarecords.bandcamp.com/track/tim-maia-ver-o-carioca-carimboogie-edit)\n",
    "\n",
    "\n",
    "2. [Pleasure of Love - Nala - Tijan\t](https://soundcloud.com/pleasureoflove-la/13-nala-tijan)\n",
    "\n",
    "\n",
    "3. [Distant Love\tYung Bae](https://www.youtube.com/watch?v=kJDg19Oa9EM&ab_channel=MarsThe3)\n",
    "\n",
    "4. [Uppers Chapter 2 - Samarin Bolga ( Kill Emil Edit )\tKill Emil](https://soundcloud.com/killemilmusic/uppers-chapter-2-samarin-bolga)\n",
    "\n",
    "5. [Musow - Neba Solo](https://secousse.bandcamp.com/track/musow)"
   ]
  },
  {
   "cell_type": "markdown",
   "id": "35b11f03",
   "metadata": {},
   "source": [
    "### Danceability vs Engagement"
   ]
  },
  {
   "cell_type": "markdown",
   "id": "e1a47916",
   "metadata": {},
   "source": [
    "Danceability and engagement appear to be strongly correlated (not entirely surprising tbh) so let's dive into this relationship."
   ]
  },
  {
   "cell_type": "code",
   "execution_count": 288,
   "id": "7b286cb6",
   "metadata": {},
   "outputs": [
    {
     "data": {
      "image/png": "[encoded data removed]",
      "text/plain": [
       "<Figure size 648x432 with 1 Axes>"
      ]
     },
     "metadata": {
      "needs_background": "light"
     },
     "output_type": "display_data"
    }
   ],
   "source": [
    "dance_means = dance.mean_scores\n",
    "engage_means = engage.mean_scores\n",
    "engage_dance = pd.concat([engage_means, dance_means], axis = 1)\n",
    "\n",
    "plt.figure(figsize=(9, 6))\n",
    "plt.scatter(engage_dance.danceable, engage_dance.engaging, alpha=.4)\n",
    "plt.xlabel(\"Danceability Scores\")\n",
    "plt.ylabel(\"Engagement Scores\");"
   ]
  },
  {
   "cell_type": "markdown",
   "id": "de8cf114",
   "metadata": {},
   "source": [
    "Most of the songs are clustered in the top right corner, which tell us that engagement and danceability do indeed trend together.\n",
    "\n",
    "89% of my songs have both danceable and engaging scores above or equal to 0.9"
   ]
  },
  {
   "cell_type": "code",
   "execution_count": 289,
   "id": "5e00bb6d",
   "metadata": {},
   "outputs": [
    {
     "data": {
      "text/plain": [
       "0.8898858075040783"
      ]
     },
     "execution_count": 289,
     "metadata": {},
     "output_type": "execute_result"
    }
   ],
   "source": [
    "engage_dance.query(\"danceable >=.9 and engaging >=.9\").shape[0]/engage_dance.shape[0]"
   ]
  },
  {
   "cell_type": "markdown",
   "id": "418a0784",
   "metadata": {},
   "source": [
    "To learn how they differ from one another, I need to listen to high engaging/low danceable songs and low engaging/high danceable songs."
   ]
  },
  {
   "cell_type": "markdown",
   "id": "fe41063d",
   "metadata": {},
   "source": [
    "Here are songs with engaging scores >0.9 and danceable scores <0.5"
   ]
  },
  {
   "cell_type": "code",
   "execution_count": 290,
   "id": "6cc1cb64",
   "metadata": {},
   "outputs": [
    {
     "data": {
      "text/html": [
       "<div>\n",
       "<style scoped>\n",
       "    .dataframe tbody tr th:only-of-type {\n",
       "        vertical-align: middle;\n",
       "    }\n",
       "\n",
       "    .dataframe tbody tr th {\n",
       "        vertical-align: top;\n",
       "    }\n",
       "\n",
       "    .dataframe thead th {\n",
       "        text-align: right;\n",
       "    }\n",
       "</style>\n",
       "<table border=\"1\" class=\"dataframe\">\n",
       "  <thead>\n",
       "    <tr style=\"text-align: right;\">\n",
       "      <th></th>\n",
       "      <th>title</th>\n",
       "      <th>artist</th>\n",
       "      <th>danceable</th>\n",
       "      <th>engaging</th>\n",
       "    </tr>\n",
       "    <tr>\n",
       "      <th>sid</th>\n",
       "      <th></th>\n",
       "      <th></th>\n",
       "      <th></th>\n",
       "      <th></th>\n",
       "    </tr>\n",
       "  </thead>\n",
       "  <tbody>\n",
       "    <tr>\n",
       "      <th>f75e3622131ab738338fab375af88561</th>\n",
       "      <td>Amebo</td>\n",
       "      <td>The Lijadu Sisters</td>\n",
       "      <td>0.205313</td>\n",
       "      <td>0.934431</td>\n",
       "    </tr>\n",
       "    <tr>\n",
       "      <th>f34bbce6d615a660ef130647d9081d2c</th>\n",
       "      <td>I'M Feeling Sexy Tonight</td>\n",
       "      <td>Chona Cruz</td>\n",
       "      <td>0.481110</td>\n",
       "      <td>0.983108</td>\n",
       "    </tr>\n",
       "    <tr>\n",
       "      <th>49bb9fbb857a4d32f25227689fcf07fc</th>\n",
       "      <td>Won't Stop</td>\n",
       "      <td>DJ Snatch</td>\n",
       "      <td>0.428210</td>\n",
       "      <td>0.982285</td>\n",
       "    </tr>\n",
       "    <tr>\n",
       "      <th>ddf1c7208935bd59488b65b70bc4a432</th>\n",
       "      <td>Bi Kameleou</td>\n",
       "      <td>Volta Jazz</td>\n",
       "      <td>0.395995</td>\n",
       "      <td>0.943350</td>\n",
       "    </tr>\n",
       "    <tr>\n",
       "      <th>738ebd50ad5af9928b648385124ca9b3</th>\n",
       "      <td>16671686_Let_s Freak feat. Mr. V feat. Louie Vega_(Freak-A-Pella)_PN</td>\n",
       "      <td>None</td>\n",
       "      <td>0.414951</td>\n",
       "      <td>0.926072</td>\n",
       "    </tr>\n",
       "    <tr>\n",
       "      <th>742d1fc3a38304122239d07244e0106e</th>\n",
       "      <td>Ende Beerabeero Rare Unknown Ethiopian Disco Modern Soul 45-785Pujxp7rU</td>\n",
       "      <td>Habte Awalom</td>\n",
       "      <td>0.058170</td>\n",
       "      <td>0.977563</td>\n",
       "    </tr>\n",
       "    <tr>\n",
       "      <th>bcc2163e1ea5787c4d1f304607bd51ea</th>\n",
       "      <td>Disco Luismi (Edit de DiscoRollers)_PN</td>\n",
       "      <td>Various Artists</td>\n",
       "      <td>0.280143</td>\n",
       "      <td>0.993640</td>\n",
       "    </tr>\n",
       "  </tbody>\n",
       "</table>\n",
       "</div>"
      ],
      "text/plain": [
       "                                                                                                    title  \\\n",
       "sid                                                                                                         \n",
       "f75e3622131ab738338fab375af88561                                                                    Amebo   \n",
       "f34bbce6d615a660ef130647d9081d2c                                                 I'M Feeling Sexy Tonight   \n",
       "49bb9fbb857a4d32f25227689fcf07fc                                                               Won't Stop   \n",
       "ddf1c7208935bd59488b65b70bc4a432                                                              Bi Kameleou   \n",
       "738ebd50ad5af9928b648385124ca9b3     16671686_Let_s Freak feat. Mr. V feat. Louie Vega_(Freak-A-Pella)_PN   \n",
       "742d1fc3a38304122239d07244e0106e  Ende Beerabeero Rare Unknown Ethiopian Disco Modern Soul 45-785Pujxp7rU   \n",
       "bcc2163e1ea5787c4d1f304607bd51ea                                   Disco Luismi (Edit de DiscoRollers)_PN   \n",
       "\n",
       "                                              artist  danceable  engaging  \n",
       "sid                                                                        \n",
       "f75e3622131ab738338fab375af88561  The Lijadu Sisters   0.205313  0.934431  \n",
       "f34bbce6d615a660ef130647d9081d2c          Chona Cruz   0.481110  0.983108  \n",
       "49bb9fbb857a4d32f25227689fcf07fc           DJ Snatch   0.428210  0.982285  \n",
       "ddf1c7208935bd59488b65b70bc4a432          Volta Jazz   0.395995  0.943350  \n",
       "738ebd50ad5af9928b648385124ca9b3                None   0.414951  0.926072  \n",
       "742d1fc3a38304122239d07244e0106e        Habte Awalom   0.058170  0.977563  \n",
       "bcc2163e1ea5787c4d1f304607bd51ea     Various Artists   0.280143  0.993640  "
      ]
     },
     "execution_count": 290,
     "metadata": {},
     "output_type": "execute_result"
    }
   ],
   "source": [
    "high_engage_low_dance_songs = engage_dance.query(\"danceable <.5 and engaging >=.9\")\n",
    "tags.join(high_engage_low_dance_songs, how = \"inner\")[[\"title\", \"artist\", \"danceable\", \"engaging\"]]"
   ]
  },
  {
   "cell_type": "markdown",
   "id": "9072c2c6",
   "metadata": {},
   "source": [
    "- [Amebo - The Lijadu Sisters](https://www.youtube.com/watch?v=-a3-mDAoNJM&pp=ygUUYW1lYm8gbGlqYWR1IHNpc3RlcnM%3D)\n",
    "\n",
    "- [I'm Feeling Sexy Tonight - Chona Cruz](https://www.youtube.com/watch?v=RG57K_9y5Rc&ab_channel=Marc%27sOPMPlaylist)\n",
    "\n",
    "- [Bi Kameleou - Volta Jazz](https://www.youtube.com/watch?v=tSOU38-0qsA&ab_channel=VoltaJazz-Topic)\n",
    "\n",
    "- [Ende Beerabeero - Habte Awalom](https://www.youtube.com/watch?v=785Pujxp7rU&ab_channel=JointCustody)\n",
    "\n",
    "- [Disco Luismi (Edit de DiscoRollers)](https://soundcloud.com/zhino/disco-luismi-discorollers)"
   ]
  },
  {
   "cell_type": "markdown",
   "id": "63ff0aa8",
   "metadata": {},
   "source": [
    "It's correct to say that these songs won't make you bust a sweat on the dance floor but I can see why they're rate high on engaging. \n",
    "\n",
    "For example \"I'm Feeling Sexy Tonight\" showing up here makes sense because it's a slow-paced song yet incredibly fun song due to its catchy melody and hook. "
   ]
  },
  {
   "cell_type": "markdown",
   "id": "6d6fff08",
   "metadata": {},
   "source": [
    "Now for high danceability and low engagement (danceable >.9 and engaging <.7)"
   ]
  },
  {
   "cell_type": "code",
   "execution_count": 291,
   "id": "864a10f2",
   "metadata": {},
   "outputs": [
    {
     "data": {
      "text/html": [
       "<div>\n",
       "<style scoped>\n",
       "    .dataframe tbody tr th:only-of-type {\n",
       "        vertical-align: middle;\n",
       "    }\n",
       "\n",
       "    .dataframe tbody tr th {\n",
       "        vertical-align: top;\n",
       "    }\n",
       "\n",
       "    .dataframe thead th {\n",
       "        text-align: right;\n",
       "    }\n",
       "</style>\n",
       "<table border=\"1\" class=\"dataframe\">\n",
       "  <thead>\n",
       "    <tr style=\"text-align: right;\">\n",
       "      <th></th>\n",
       "      <th>title</th>\n",
       "      <th>artist</th>\n",
       "      <th>danceable</th>\n",
       "      <th>engaging</th>\n",
       "    </tr>\n",
       "    <tr>\n",
       "      <th>sid</th>\n",
       "      <th></th>\n",
       "      <th></th>\n",
       "      <th></th>\n",
       "      <th></th>\n",
       "    </tr>\n",
       "  </thead>\n",
       "  <tbody>\n",
       "    <tr>\n",
       "      <th>5b787eb97c0aeabca71a7a518ff5f57c</th>\n",
       "      <td>Marcos Valle - Água de Côco (Bernardo Pinheiro Edit)</td>\n",
       "      <td>Bernardo Pinheiro</td>\n",
       "      <td>0.988168</td>\n",
       "      <td>0.681545</td>\n",
       "    </tr>\n",
       "    <tr>\n",
       "      <th>7b46a41051289c9bd3ae80d1eb0a788d</th>\n",
       "      <td>Bananeira da Ilha (cotait edit)</td>\n",
       "      <td>África Tentação</td>\n",
       "      <td>0.977446</td>\n",
       "      <td>0.667144</td>\n",
       "    </tr>\n",
       "    <tr>\n",
       "      <th>f9a6e07d75b3f5c33db8f672b62d8401</th>\n",
       "      <td>Diálogo de Crioulos (Milton e Beto Chuquer Edit)</td>\n",
       "      <td>None</td>\n",
       "      <td>0.931654</td>\n",
       "      <td>0.631613</td>\n",
       "    </tr>\n",
       "    <tr>\n",
       "      <th>31ab4708ffb4a57d52bac3613879cf22</th>\n",
       "      <td>Seven Windows - Danse Ralenti</td>\n",
       "      <td>reclusiv recordings</td>\n",
       "      <td>0.953039</td>\n",
       "      <td>0.651145</td>\n",
       "    </tr>\n",
       "    <tr>\n",
       "      <th>48c75551e75efc744602b9784bc10aeb</th>\n",
       "      <td>She</td>\n",
       "      <td>Those Guys From Athens</td>\n",
       "      <td>0.948289</td>\n",
       "      <td>0.673658</td>\n",
       "    </tr>\n",
       "    <tr>\n",
       "      <th>38e6a247694ad7cede598f46543107d0</th>\n",
       "      <td>Paperkraft - 私たちだけ何を話しているのか知っています。 - 04 B2. So deep in luv</td>\n",
       "      <td>None</td>\n",
       "      <td>0.990214</td>\n",
       "      <td>0.673340</td>\n",
       "    </tr>\n",
       "    <tr>\n",
       "      <th>c86eb429cf50cb8b138ac284b196c257</th>\n",
       "      <td>It's Music</td>\n",
       "      <td>Jex Opolis</td>\n",
       "      <td>0.991384</td>\n",
       "      <td>0.649430</td>\n",
       "    </tr>\n",
       "    <tr>\n",
       "      <th>5da5537a74d7311bec5964945d79db6b</th>\n",
       "      <td>Hashish (DJ Kobayashi Edit)</td>\n",
       "      <td>Ibrahim Maalouf</td>\n",
       "      <td>0.994678</td>\n",
       "      <td>0.697119</td>\n",
       "    </tr>\n",
       "    <tr>\n",
       "      <th>1de80db15a46de00c6cbd06414e27b96</th>\n",
       "      <td>Bongosynth - Verão do Amor - 18 Gal Costa - A Mulher (De Sena Edit)</td>\n",
       "      <td>None</td>\n",
       "      <td>0.940769</td>\n",
       "      <td>0.605812</td>\n",
       "    </tr>\n",
       "    <tr>\n",
       "      <th>e2aa2b4a02d2debbbeae13e97d7786b4</th>\n",
       "      <td>Lego Edit - Dancefloor Edits Afro Invasion - 05 The Trip (Lego Nu Edit Short Cut)</td>\n",
       "      <td>None</td>\n",
       "      <td>0.956052</td>\n",
       "      <td>0.684592</td>\n",
       "    </tr>\n",
       "  </tbody>\n",
       "</table>\n",
       "</div>"
      ],
      "text/plain": [
       "                                                                                                              title  \\\n",
       "sid                                                                                                                   \n",
       "5b787eb97c0aeabca71a7a518ff5f57c                               Marcos Valle - Água de Côco (Bernardo Pinheiro Edit)   \n",
       "7b46a41051289c9bd3ae80d1eb0a788d                                                    Bananeira da Ilha (cotait edit)   \n",
       "f9a6e07d75b3f5c33db8f672b62d8401                                  Diálogo de Crioulos (Milton e Beto Chuquer Edit)   \n",
       "31ab4708ffb4a57d52bac3613879cf22                                                      Seven Windows - Danse Ralenti   \n",
       "48c75551e75efc744602b9784bc10aeb                                                                                She   \n",
       "38e6a247694ad7cede598f46543107d0                         Paperkraft - 私たちだけ何を話しているのか知っています。 - 04 B2. So deep in luv   \n",
       "c86eb429cf50cb8b138ac284b196c257                                                                         It's Music   \n",
       "5da5537a74d7311bec5964945d79db6b                                                        Hashish (DJ Kobayashi Edit)   \n",
       "1de80db15a46de00c6cbd06414e27b96                Bongosynth - Verão do Amor - 18 Gal Costa - A Mulher (De Sena Edit)   \n",
       "e2aa2b4a02d2debbbeae13e97d7786b4  Lego Edit - Dancefloor Edits Afro Invasion - 05 The Trip (Lego Nu Edit Short Cut)   \n",
       "\n",
       "                                                  artist  danceable  engaging  \n",
       "sid                                                                            \n",
       "5b787eb97c0aeabca71a7a518ff5f57c       Bernardo Pinheiro   0.988168  0.681545  \n",
       "7b46a41051289c9bd3ae80d1eb0a788d         África Tentação   0.977446  0.667144  \n",
       "f9a6e07d75b3f5c33db8f672b62d8401                    None   0.931654  0.631613  \n",
       "31ab4708ffb4a57d52bac3613879cf22     reclusiv recordings   0.953039  0.651145  \n",
       "48c75551e75efc744602b9784bc10aeb  Those Guys From Athens   0.948289  0.673658  \n",
       "38e6a247694ad7cede598f46543107d0                    None   0.990214  0.673340  \n",
       "c86eb429cf50cb8b138ac284b196c257              Jex Opolis   0.991384  0.649430  \n",
       "5da5537a74d7311bec5964945d79db6b         Ibrahim Maalouf   0.994678  0.697119  \n",
       "1de80db15a46de00c6cbd06414e27b96                    None   0.940769  0.605812  \n",
       "e2aa2b4a02d2debbbeae13e97d7786b4                    None   0.956052  0.684592  "
      ]
     },
     "execution_count": 291,
     "metadata": {},
     "output_type": "execute_result"
    }
   ],
   "source": [
    "low_engage_high_dance_songs = engage_dance.query(\"danceable >.9 and engaging <.7\")\n",
    "tags.join(low_engage_high_dance_songs, how = \"inner\")[[\"title\", \"artist\", \"danceable\", \"engaging\"]]"
   ]
  },
  {
   "cell_type": "markdown",
   "id": "36901172",
   "metadata": {},
   "source": [
    "- [Marcos Valle - Água de Côco (Bernardo Pinheiro Edit)](https://soundcloud.com/bernardopinheiro/marcos-valle-agua-de-coco-bernardo-pinheiro-edit)\n",
    "\n",
    "- [Bananeira da Ilha (cotait edit)\tÁfrica Tentação](https://rafaelcotait.bandcamp.com/track/frica-tenta-o-bananeira-da-ilha-cotait-edit)\n",
    "\n",
    "- [Diálogo de Crioulos (Milton e Beto Chuquer Edit)](https://soundcloud.com/beto-chuquer/elza-soares-miltinho-e-som-tres-dialogo-de-crioulos-milton-e-beto-chuquer-edit)\n",
    "\n",
    "- [Seven Windows - Danse Ralenti](https://www.youtube.com/watch?v=e_VXUX-kbVI&ab_channel=KeimiNewBeatCollector%2FOrgelAalst)\n",
    "\n",
    "- [She\tThose Guys From Athens](https://tooslowtodisco.bandcamp.com/track/she)\n",
    "\n",
    "- [It's Music\tJex Opolis](https://www.youtube.com/watch?v=liBPbvUii0k&ab_channel=JexOpolis-Topic)\n",
    "\n",
    "- [Hashish (DJ Kobayashi Edit)\tIbrahim Maalouf](https://djkobayashi.bandcamp.com/album/ibrahim-maalouf-hashish-dj-kobayashi-edit)\n",
    "\n",
    "- [Bongosynth - Verão do Amor - 18 Gal Costa - A Mulher (De Sena Edit)](https://soundcloud.com/bongosynth/gal-costa-a-mulher-de-sena)\n",
    "\n",
    "- [Lego Edit - Dancefloor Edits Afro Invasion - 05 The Trip (Lego Nu Edit Short Cut)](https://diegolellilegoedit.bandcamp.com/track/the-trip-lego-nu-edit-short-cut)"
   ]
  },
  {
   "cell_type": "markdown",
   "id": "5dff4248",
   "metadata": {},
   "source": [
    "Based on this output, highly danceable and low engaging tracks are downtempo and lower energy. I don't really find these tracks all that danceable and they remind me lounge music."
   ]
  },
  {
   "cell_type": "markdown",
   "id": "e109d7f4",
   "metadata": {},
   "source": [
    "### Acoustic music\n",
    "\n",
    "More info => https://essentia.upf.edu/models.html#id459"
   ]
  },
  {
   "cell_type": "markdown",
   "id": "59b9d9ab",
   "metadata": {},
   "source": [
    "I don't have any expectations here because \"acoustic\" is not a quality that factors significantly in a DJ's song selection. Nevertheless, I'm still curious to see how this model rates my song arsenal."
   ]
  },
  {
   "cell_type": "code",
   "execution_count": 52,
   "id": "c295e982",
   "metadata": {},
   "outputs": [
    {
     "name": "stdout",
     "output_type": "stream",
     "text": [
      "Loading mood_acoustic_effnet_discogs_1_activations data\n"
     ]
    }
   ],
   "source": [
    "table_name = tables[3]\n",
    "acoustic = ActivationDataHub(table_name=table_name)"
   ]
  },
  {
   "cell_type": "code",
   "execution_count": 293,
   "id": "51f1d8df",
   "metadata": {},
   "outputs": [
    {
     "data": {
      "image/png": "[encoded data removed]",
      "text/plain": [
       "<Figure size 576x360 with 1 Axes>"
      ]
     },
     "metadata": {
      "needs_background": "light"
     },
     "output_type": "display_data"
    }
   ],
   "source": [
    "acoustic.dist_viz()"
   ]
  },
  {
   "cell_type": "markdown",
   "id": "3080dcb8",
   "metadata": {},
   "source": [
    "About as surprising as the danceability plot"
   ]
  },
  {
   "cell_type": "markdown",
   "id": "a700c9e3",
   "metadata": {},
   "source": [
    "Let's just look at the top 5 acoustic songs."
   ]
  },
  {
   "cell_type": "code",
   "execution_count": 294,
   "id": "58a163d5",
   "metadata": {},
   "outputs": [
    {
     "data": {
      "text/html": [
       "<div>\n",
       "<style scoped>\n",
       "    .dataframe tbody tr th:only-of-type {\n",
       "        vertical-align: middle;\n",
       "    }\n",
       "\n",
       "    .dataframe tbody tr th {\n",
       "        vertical-align: top;\n",
       "    }\n",
       "\n",
       "    .dataframe thead th {\n",
       "        text-align: right;\n",
       "    }\n",
       "</style>\n",
       "<table border=\"1\" class=\"dataframe\">\n",
       "  <thead>\n",
       "    <tr style=\"text-align: right;\">\n",
       "      <th></th>\n",
       "      <th>title</th>\n",
       "      <th>artist</th>\n",
       "      <th>acoustic</th>\n",
       "    </tr>\n",
       "    <tr>\n",
       "      <th>sid</th>\n",
       "      <th></th>\n",
       "      <th></th>\n",
       "      <th></th>\n",
       "    </tr>\n",
       "  </thead>\n",
       "  <tbody>\n",
       "    <tr>\n",
       "      <th>d71d4a7afde1a9891e56fe0fdf307aff</th>\n",
       "      <td>Azara alhai</td>\n",
       "      <td>Rasha</td>\n",
       "      <td>0.8892</td>\n",
       "    </tr>\n",
       "    <tr>\n",
       "      <th>90c7378c60e273600d883d8b6cbab8a6</th>\n",
       "      <td>Telantena zare_PN</td>\n",
       "      <td>None</td>\n",
       "      <td>0.8327</td>\n",
       "    </tr>\n",
       "    <tr>\n",
       "      <th>cd54dcedd07842527ead1885aabf0e32</th>\n",
       "      <td>Dhurata Dora -Ayo (Remix , Original Version) FULL VERSION</td>\n",
       "      <td>Culimusik</td>\n",
       "      <td>0.7566</td>\n",
       "    </tr>\n",
       "    <tr>\n",
       "      <th>3c3f186cb9b2dd15804bf3995b65a34d</th>\n",
       "      <td>Lord Have Mercy</td>\n",
       "      <td>The Lijadu Sisters</td>\n",
       "      <td>0.7562</td>\n",
       "    </tr>\n",
       "    <tr>\n",
       "      <th>3da006514008184513b3a9af4ca1e559</th>\n",
       "      <td>De Noite Na Cama</td>\n",
       "      <td>Erasmo Carlos</td>\n",
       "      <td>0.7503</td>\n",
       "    </tr>\n",
       "  </tbody>\n",
       "</table>\n",
       "</div>"
      ],
      "text/plain": [
       "                                                                                      title  \\\n",
       "sid                                                                                           \n",
       "d71d4a7afde1a9891e56fe0fdf307aff                                                Azara alhai   \n",
       "90c7378c60e273600d883d8b6cbab8a6                                          Telantena zare_PN   \n",
       "cd54dcedd07842527ead1885aabf0e32  Dhurata Dora -Ayo (Remix , Original Version) FULL VERSION   \n",
       "3c3f186cb9b2dd15804bf3995b65a34d                                            Lord Have Mercy   \n",
       "3da006514008184513b3a9af4ca1e559                                           De Noite Na Cama   \n",
       "\n",
       "                                              artist  acoustic  \n",
       "sid                                                             \n",
       "d71d4a7afde1a9891e56fe0fdf307aff               Rasha    0.8892  \n",
       "90c7378c60e273600d883d8b6cbab8a6                None    0.8327  \n",
       "cd54dcedd07842527ead1885aabf0e32           Culimusik    0.7566  \n",
       "3c3f186cb9b2dd15804bf3995b65a34d  The Lijadu Sisters    0.7562  \n",
       "3da006514008184513b3a9af4ca1e559       Erasmo Carlos    0.7503  "
      ]
     },
     "execution_count": 294,
     "metadata": {},
     "output_type": "execute_result"
    }
   ],
   "source": [
    "acoustic.top_songs(n= 5)"
   ]
  },
  {
   "cell_type": "markdown",
   "id": "9b565749",
   "metadata": {},
   "source": [
    "1. [Azara alhai\tRasha](https://www.youtube.com/watch?v=WOdcgc9ot3k&ab_channel=ZicZakGarage)\n",
    "\n",
    "2. [Telantena zare](https://www.youtube.com/watch?v=cJjZDxONGt0&ab_channel=ethiomelaku2)\n",
    "\n",
    "3. [Dhurata Dora - Ayo Remix](https://music.youtube.com/watch?v=pd_OZgsRSiY)\n",
    "\n",
    "4. [Lord Have Mercy\tThe Lijadu Sisters](https://www.youtube.com/watch?v=2LOUSR7jk-k&ab_channel=TheLijaduSisters)\n",
    "\n",
    "5. [De Noite Na Cama\tErasmo Carlos](https://www.youtube.com/watch?v=7ZZTn6Cs06Y&ab_channel=DaniloSousRodrigues)"
   ]
  },
  {
   "cell_type": "markdown",
   "id": "5c0246f2",
   "metadata": {},
   "source": [
    "Every song exept Ayo by Dhurata Dora squarely falls under the acoustic umbrella. I don't know how Ayo could be considered acoustic"
   ]
  },
  {
   "cell_type": "markdown",
   "id": "ee1a8f25",
   "metadata": {},
   "source": [
    "**Random samples**\n",
    "\n",
    "Five randomly sampled songs with acoustic scores between 0.1 and 0.3"
   ]
  },
  {
   "cell_type": "code",
   "execution_count": 295,
   "id": "aba27f15",
   "metadata": {},
   "outputs": [
    {
     "data": {
      "text/html": [
       "<div>\n",
       "<style scoped>\n",
       "    .dataframe tbody tr th:only-of-type {\n",
       "        vertical-align: middle;\n",
       "    }\n",
       "\n",
       "    .dataframe tbody tr th {\n",
       "        vertical-align: top;\n",
       "    }\n",
       "\n",
       "    .dataframe thead th {\n",
       "        text-align: right;\n",
       "    }\n",
       "</style>\n",
       "<table border=\"1\" class=\"dataframe\">\n",
       "  <thead>\n",
       "    <tr style=\"text-align: right;\">\n",
       "      <th></th>\n",
       "      <th>title</th>\n",
       "      <th>artist</th>\n",
       "      <th>mean scores</th>\n",
       "      <th>stdev scores</th>\n",
       "    </tr>\n",
       "    <tr>\n",
       "      <th>sid</th>\n",
       "      <th></th>\n",
       "      <th></th>\n",
       "      <th></th>\n",
       "      <th></th>\n",
       "    </tr>\n",
       "  </thead>\n",
       "  <tbody>\n",
       "    <tr>\n",
       "      <th>e80a28b1e75761ae2d3f087f5ab399c0</th>\n",
       "      <td>Benya Amanze</td>\n",
       "      <td>Pat Thomas &amp; Ebo Taylor</td>\n",
       "      <td>0.2151</td>\n",
       "      <td>0.1807</td>\n",
       "    </tr>\n",
       "    <tr>\n",
       "      <th>2412ab041726afc18763c2a04203a134</th>\n",
       "      <td>Danger</td>\n",
       "      <td>The Lijadu Sisters</td>\n",
       "      <td>0.2052</td>\n",
       "      <td>0.2054</td>\n",
       "    </tr>\n",
       "    <tr>\n",
       "      <th>ace346409e20be5b640b48f3f7125a41</th>\n",
       "      <td>Filaou Bessame</td>\n",
       "      <td>Amadou &amp; Mariam</td>\n",
       "      <td>0.2018</td>\n",
       "      <td>0.2130</td>\n",
       "    </tr>\n",
       "    <tr>\n",
       "      <th>c65104f2c9ee76e43c206391553843cd</th>\n",
       "      <td>Unofficial A</td>\n",
       "      <td>DJ KAOS</td>\n",
       "      <td>0.1407</td>\n",
       "      <td>0.1590</td>\n",
       "    </tr>\n",
       "    <tr>\n",
       "      <th>9122e63c370067b11f54bdaa334a793d</th>\n",
       "      <td>10 Tirsa Song (edit)_PN</td>\n",
       "      <td>None</td>\n",
       "      <td>0.1091</td>\n",
       "      <td>0.1421</td>\n",
       "    </tr>\n",
       "  </tbody>\n",
       "</table>\n",
       "</div>"
      ],
      "text/plain": [
       "                                                    title  \\\n",
       "sid                                                         \n",
       "e80a28b1e75761ae2d3f087f5ab399c0             Benya Amanze   \n",
       "2412ab041726afc18763c2a04203a134                   Danger   \n",
       "ace346409e20be5b640b48f3f7125a41           Filaou Bessame   \n",
       "c65104f2c9ee76e43c206391553843cd             Unofficial A   \n",
       "9122e63c370067b11f54bdaa334a793d  10 Tirsa Song (edit)_PN   \n",
       "\n",
       "                                                   artist  mean scores  \\\n",
       "sid                                                                      \n",
       "e80a28b1e75761ae2d3f087f5ab399c0  Pat Thomas & Ebo Taylor       0.2151   \n",
       "2412ab041726afc18763c2a04203a134       The Lijadu Sisters       0.2052   \n",
       "ace346409e20be5b640b48f3f7125a41          Amadou & Mariam       0.2018   \n",
       "c65104f2c9ee76e43c206391553843cd                  DJ KAOS       0.1407   \n",
       "9122e63c370067b11f54bdaa334a793d                     None       0.1091   \n",
       "\n",
       "                                  stdev scores  \n",
       "sid                                             \n",
       "e80a28b1e75761ae2d3f087f5ab399c0        0.1807  \n",
       "2412ab041726afc18763c2a04203a134        0.2054  \n",
       "ace346409e20be5b640b48f3f7125a41        0.2130  \n",
       "c65104f2c9ee76e43c206391553843cd        0.1590  \n",
       "9122e63c370067b11f54bdaa334a793d        0.1421  "
      ]
     },
     "execution_count": 295,
     "metadata": {},
     "output_type": "execute_result"
    }
   ],
   "source": [
    "acoustic.song_sampler((.1, .3),n = 5)"
   ]
  },
  {
   "cell_type": "markdown",
   "id": "8f7f3c13",
   "metadata": {},
   "source": [
    "1. [Benya Amanze\tPat Thomas & Ebo Taylor](https://www.youtube.com/watch?v=-z1eI9mr8Gg&ab_channel=PatThomas-Topic)\n",
    "\n",
    "2. [Danger\tThe Lijadu Sisters](https://www.youtube.com/watch?v=5eekpw0Hh54&ab_channel=TheLijaduSisters-Topic)\n",
    "\n",
    "3. [Filaou Bessame\tAmadou & Mariam](https://www.youtube.com/watch?v=wv9BZhYCCbk&ab_channel=Amadou%26Mariam)\n",
    "\n",
    "4. [Unofficial A - DJ KAOS](https://soundcloud.com/djkaosofficial/unofficial-a)\n",
    "\n",
    "5. [10 Tirsa Song](https://www.youtube.com/watch?v=0WIaQsCneAo)"
   ]
  },
  {
   "cell_type": "markdown",
   "id": "dfba40e0",
   "metadata": {},
   "source": [
    "Not as much uncertainty here. I can live with the acoustic ratings for these songs."
   ]
  },
  {
   "cell_type": "markdown",
   "id": "c3c7cfbb",
   "metadata": {},
   "source": [
    "### Aggressive\n",
    "\n",
    "More info => https://essentia.upf.edu/models.html#id471"
   ]
  },
  {
   "cell_type": "markdown",
   "id": "8f835cc8",
   "metadata": {},
   "source": [
    "I'm not sure exactly sure how aggressive could be useful to me. Disco, boogie and house aren't really \"aggressive\" in the way that tech-house, techno, and dubstep are. "
   ]
  },
  {
   "cell_type": "code",
   "execution_count": 53,
   "id": "59eb50e3",
   "metadata": {},
   "outputs": [
    {
     "name": "stdout",
     "output_type": "stream",
     "text": [
      "Loading mood_aggressive_effnet_discogs_1_activations data\n"
     ]
    }
   ],
   "source": [
    "table_name = tables[4]\n",
    "agg = ActivationDataHub(table_name=table_name)"
   ]
  },
  {
   "cell_type": "code",
   "execution_count": 297,
   "id": "8a29e383",
   "metadata": {},
   "outputs": [
    {
     "data": {
      "image/png": "[encoded data removed]",
      "text/plain": [
       "<Figure size 576x360 with 1 Axes>"
      ]
     },
     "metadata": {
      "needs_background": "light"
     },
     "output_type": "display_data"
    }
   ],
   "source": [
    "agg.dist_viz()"
   ]
  },
  {
   "cell_type": "markdown",
   "id": "5465f1a7",
   "metadata": {},
   "source": [
    "Not a whole lot of aggression present in my oeuvre."
   ]
  },
  {
   "cell_type": "markdown",
   "id": "a461ec83",
   "metadata": {},
   "source": [
    "What are the top 5 most aggressive songs?"
   ]
  },
  {
   "cell_type": "code",
   "execution_count": 298,
   "id": "9296518a",
   "metadata": {},
   "outputs": [
    {
     "data": {
      "text/html": [
       "<div>\n",
       "<style scoped>\n",
       "    .dataframe tbody tr th:only-of-type {\n",
       "        vertical-align: middle;\n",
       "    }\n",
       "\n",
       "    .dataframe tbody tr th {\n",
       "        vertical-align: top;\n",
       "    }\n",
       "\n",
       "    .dataframe thead th {\n",
       "        text-align: right;\n",
       "    }\n",
       "</style>\n",
       "<table border=\"1\" class=\"dataframe\">\n",
       "  <thead>\n",
       "    <tr style=\"text-align: right;\">\n",
       "      <th></th>\n",
       "      <th>title</th>\n",
       "      <th>artist</th>\n",
       "      <th>aggressive</th>\n",
       "    </tr>\n",
       "    <tr>\n",
       "      <th>sid</th>\n",
       "      <th></th>\n",
       "      <th></th>\n",
       "      <th></th>\n",
       "    </tr>\n",
       "  </thead>\n",
       "  <tbody>\n",
       "    <tr>\n",
       "      <th>84e054c6294d8496a53dd81a6020b02d</th>\n",
       "      <td>Break</td>\n",
       "      <td>Nick Garcia</td>\n",
       "      <td>0.6925</td>\n",
       "    </tr>\n",
       "    <tr>\n",
       "      <th>c4c3b598c63b9de8950c44cacdfc20aa</th>\n",
       "      <td>Dino Soccio - Pleasure of Edits 07 - 03 Bump Theme (edit)</td>\n",
       "      <td>None</td>\n",
       "      <td>0.6581</td>\n",
       "    </tr>\n",
       "    <tr>\n",
       "      <th>1ac21451b49daf78ed89a4d4774fe652</th>\n",
       "      <td>Lords Of The Future</td>\n",
       "      <td>Lords Of The Future</td>\n",
       "      <td>0.6542</td>\n",
       "    </tr>\n",
       "    <tr>\n",
       "      <th>01d99c36d2c6ff654e7833c3fc20a17b</th>\n",
       "      <td>Gil Dobrica - O Strada Mai Ingusta (Iorga Edit)</td>\n",
       "      <td>IORGA</td>\n",
       "      <td>0.6327</td>\n",
       "    </tr>\n",
       "    <tr>\n",
       "      <th>8d594188e7461f1661e0c7c06693c75a</th>\n",
       "      <td>Spacer Woman (Roliva Edit)</td>\n",
       "      <td>Roliva, Charlie</td>\n",
       "      <td>0.6304</td>\n",
       "    </tr>\n",
       "  </tbody>\n",
       "</table>\n",
       "</div>"
      ],
      "text/plain": [
       "                                                                                      title  \\\n",
       "sid                                                                                           \n",
       "84e054c6294d8496a53dd81a6020b02d                                                      Break   \n",
       "c4c3b598c63b9de8950c44cacdfc20aa  Dino Soccio - Pleasure of Edits 07 - 03 Bump Theme (edit)   \n",
       "1ac21451b49daf78ed89a4d4774fe652                                        Lords Of The Future   \n",
       "01d99c36d2c6ff654e7833c3fc20a17b            Gil Dobrica - O Strada Mai Ingusta (Iorga Edit)   \n",
       "8d594188e7461f1661e0c7c06693c75a                                 Spacer Woman (Roliva Edit)   \n",
       "\n",
       "                                               artist  aggressive  \n",
       "sid                                                                \n",
       "84e054c6294d8496a53dd81a6020b02d          Nick Garcia      0.6925  \n",
       "c4c3b598c63b9de8950c44cacdfc20aa                 None      0.6581  \n",
       "1ac21451b49daf78ed89a4d4774fe652  Lords Of The Future      0.6542  \n",
       "01d99c36d2c6ff654e7833c3fc20a17b                IORGA      0.6327  \n",
       "8d594188e7461f1661e0c7c06693c75a      Roliva, Charlie      0.6304  "
      ]
     },
     "execution_count": 298,
     "metadata": {},
     "output_type": "execute_result"
    }
   ],
   "source": [
    "agg.top_songs( n = 5)"
   ]
  },
  {
   "cell_type": "markdown",
   "id": "fce36faf",
   "metadata": {},
   "source": [
    "1. [Break - Nick Garcia](https://houseofboom.bandcamp.com/track/break)\n",
    "\n",
    "2. [Dino Soccio - Pleasure of Edits 07 - 03 Bump Theme (edit)](https://dinosoccio.bandcamp.com/album/pleasure-of-edits-07)\n",
    "\n",
    "3. [Lords Of The Future - Lords Of The Future](https://www.youtube.com/watch?v=jiUSAce3dXM&ab_channel=ElectronicLoveCollective)\n",
    "\n",
    "4. [Gil Dobrica - O Strada Mai Ingusta (Iorga Edit)](https://iorga.bandcamp.com/track/gil-dobrica-o-strada-mai-ingusta-iorga-edit)\n",
    "\n",
    "5. [Spacer Woman (Roliva Edit) - Roliva, Charlie](https://www.youtube.com/watch?v=xwk7rV-AUE0&ab_channel=DennisHultsch)"
   ]
  },
  {
   "cell_type": "markdown",
   "id": "f6828c57",
   "metadata": {},
   "source": [
    "Based on this output, \"aggressive\" in the context of my song collection means electronic music with prominent synthy jabs and hits. \"Break\" and \"Spacer Woman\" are valid selections based on essentia's aggressive criteria."
   ]
  },
  {
   "cell_type": "markdown",
   "id": "d3c4a5c7",
   "metadata": {},
   "source": [
    "**Random Samples**\n",
    "\n",
    "Five randomly sampled songs with aggression scores between 0.2 and 0.4"
   ]
  },
  {
   "cell_type": "code",
   "execution_count": 300,
   "id": "1ded97cf",
   "metadata": {},
   "outputs": [
    {
     "data": {
      "text/html": [
       "<div>\n",
       "<style scoped>\n",
       "    .dataframe tbody tr th:only-of-type {\n",
       "        vertical-align: middle;\n",
       "    }\n",
       "\n",
       "    .dataframe tbody tr th {\n",
       "        vertical-align: top;\n",
       "    }\n",
       "\n",
       "    .dataframe thead th {\n",
       "        text-align: right;\n",
       "    }\n",
       "</style>\n",
       "<table border=\"1\" class=\"dataframe\">\n",
       "  <thead>\n",
       "    <tr style=\"text-align: right;\">\n",
       "      <th></th>\n",
       "      <th>title</th>\n",
       "      <th>artist</th>\n",
       "      <th>mean scores</th>\n",
       "      <th>stdev scores</th>\n",
       "    </tr>\n",
       "    <tr>\n",
       "      <th>sid</th>\n",
       "      <th></th>\n",
       "      <th></th>\n",
       "      <th></th>\n",
       "      <th></th>\n",
       "    </tr>\n",
       "  </thead>\n",
       "  <tbody>\n",
       "    <tr>\n",
       "      <th>cb7ada4de074e01c17373dc800a6b588</th>\n",
       "      <td>Scoobs In Columbia (Ronny Hammond's Fania Love Retouche)</td>\n",
       "      <td>Plaid</td>\n",
       "      <td>0.3923</td>\n",
       "      <td>0.2095</td>\n",
       "    </tr>\n",
       "    <tr>\n",
       "      <th>2c4aed24d9f749940b86bd247270ca8c</th>\n",
       "      <td>Selected Edits Vol 2 - 04 Abdul</td>\n",
       "      <td>Midnight Runners</td>\n",
       "      <td>0.3732</td>\n",
       "      <td>0.2264</td>\n",
       "    </tr>\n",
       "    <tr>\n",
       "      <th>89e44426f0ef38a867f5fc2534b3f7a2</th>\n",
       "      <td>Strike It Up_(Original Remix)</td>\n",
       "      <td>Black Box</td>\n",
       "      <td>0.2354</td>\n",
       "      <td>0.1567</td>\n",
       "    </tr>\n",
       "    <tr>\n",
       "      <th>d6ec290df5a5aacb79394e80cbbc11dd</th>\n",
       "      <td>Musica Americana</td>\n",
       "      <td>Morlack</td>\n",
       "      <td>0.2328</td>\n",
       "      <td>0.2249</td>\n",
       "    </tr>\n",
       "    <tr>\n",
       "      <th>d3945a7dedfb8f8aa140134849558948</th>\n",
       "      <td>Going Home (Ilya Santana edit)</td>\n",
       "      <td>ILYA SANTANA</td>\n",
       "      <td>0.2202</td>\n",
       "      <td>0.1565</td>\n",
       "    </tr>\n",
       "  </tbody>\n",
       "</table>\n",
       "</div>"
      ],
      "text/plain": [
       "                                                                                     title  \\\n",
       "sid                                                                                          \n",
       "cb7ada4de074e01c17373dc800a6b588  Scoobs In Columbia (Ronny Hammond's Fania Love Retouche)   \n",
       "2c4aed24d9f749940b86bd247270ca8c                           Selected Edits Vol 2 - 04 Abdul   \n",
       "89e44426f0ef38a867f5fc2534b3f7a2                             Strike It Up_(Original Remix)   \n",
       "d6ec290df5a5aacb79394e80cbbc11dd                                          Musica Americana   \n",
       "d3945a7dedfb8f8aa140134849558948                            Going Home (Ilya Santana edit)   \n",
       "\n",
       "                                            artist  mean scores  stdev scores  \n",
       "sid                                                                            \n",
       "cb7ada4de074e01c17373dc800a6b588             Plaid       0.3923        0.2095  \n",
       "2c4aed24d9f749940b86bd247270ca8c  Midnight Runners       0.3732        0.2264  \n",
       "89e44426f0ef38a867f5fc2534b3f7a2         Black Box       0.2354        0.1567  \n",
       "d6ec290df5a5aacb79394e80cbbc11dd           Morlack       0.2328        0.2249  \n",
       "d3945a7dedfb8f8aa140134849558948      ILYA SANTANA       0.2202        0.1565  "
      ]
     },
     "execution_count": 300,
     "metadata": {},
     "output_type": "execute_result"
    }
   ],
   "source": [
    "agg.song_sampler((.2, .4), n = 5, rs = 2)"
   ]
  },
  {
   "cell_type": "markdown",
   "id": "912ebb0e",
   "metadata": {},
   "source": [
    "1. [Scoobs In Columbia (Ronny Hammond's Fania Love Retouche)\tPlaid\t](https://soundcloud.com/ronny-hammond/plaid-scoobs-in-columbia-ronny-hammonds-fania-love-retouche)\n",
    "\n",
    "2. [Selected Edits Vol 2 - 04 Abdul\tMidnight Runners](https://midnightrunners.bandcamp.com/track/abdul)\n",
    "\n",
    "3. [Strike It Up_(Original Remix)\tBlack Box](https://www.youtube.com/watch?v=Xo3kp5BLF6Q&ab_channel=BlackBoxHouse)\n",
    "\n",
    "4. [Musica Americana\tMorlack\t](https://katakanaedits.bandcamp.com/track/musica-americana)\n",
    "\n",
    "5. [Going Home (Ilya Santana edit)](https://www.beatport.com/track/going-home/14674365)"
   ]
  },
  {
   "cell_type": "markdown",
   "id": "fc46ac0a",
   "metadata": {},
   "source": [
    "The randomly sampled songs helped solidify my understanding of how \"aggression\" is defined. I definitely hear aggressive elements in songs such as \"Scoobs in Columbia\" and \"Strike it up\""
   ]
  },
  {
   "cell_type": "markdown",
   "id": "6e4c0f14",
   "metadata": {},
   "source": [
    "### Happy\n",
    "\n",
    "At a basic level, the metrics we've assessed so far adhere to a low energy-high energy spectrum. But sometimes energy isn't enough. Take for instance a sunny day party; that's is a scenario where both low energy and high energy songs can fit in. To me, what makes an appropriate day party song is how buoyant and uplifting it is. You wouldn't want to hear dour music a day party at the park or on a boat. \n",
    "\n",
    "That's where \"happy\" could possibly be of assistance. I could use this rating to select songs for more jovial occassions such as day parties. I think \"happy\" has the potential to add a critical and different dimension to low to high energy spectrum.\n",
    "\n",
    "More info => https://essentia.upf.edu/models.html#id495"
   ]
  },
  {
   "cell_type": "code",
   "execution_count": 54,
   "id": "c67bdacb",
   "metadata": {},
   "outputs": [
    {
     "name": "stdout",
     "output_type": "stream",
     "text": [
      "Loading mood_happy_effnet_discogs_1_activations data\n"
     ]
    },
    {
     "data": {
      "text/html": [
       "<div>\n",
       "<style scoped>\n",
       "    .dataframe tbody tr th:only-of-type {\n",
       "        vertical-align: middle;\n",
       "    }\n",
       "\n",
       "    .dataframe tbody tr th {\n",
       "        vertical-align: top;\n",
       "    }\n",
       "\n",
       "    .dataframe thead th {\n",
       "        text-align: right;\n",
       "    }\n",
       "</style>\n",
       "<table border=\"1\" class=\"dataframe\">\n",
       "  <thead>\n",
       "    <tr style=\"text-align: right;\">\n",
       "      <th></th>\n",
       "      <th>happy</th>\n",
       "      <th>non_happy</th>\n",
       "    </tr>\n",
       "    <tr>\n",
       "      <th>sid</th>\n",
       "      <th></th>\n",
       "      <th></th>\n",
       "    </tr>\n",
       "  </thead>\n",
       "  <tbody>\n",
       "    <tr>\n",
       "      <th>b806881a54bdbf9dd93a290716adf191</th>\n",
       "      <td>[0.36340898, 0.18219845, 0.3428177, 0.19498937, 0.39566082, 0.17289302, 0.40052393, 0.20453341, ...</td>\n",
       "      <td>[0.636591, 0.81780154, 0.6571822, 0.8050107, 0.60433924, 0.82710695, 0.599476, 0.7954666, 0.9311...</td>\n",
       "    </tr>\n",
       "    <tr>\n",
       "      <th>46e54d2ab920a088b77382e04877141b</th>\n",
       "      <td>[0.09185828, 0.08827926, 0.10759978, 0.09465805, 0.06764625, 0.08693469, 0.06990745, 0.15041173,...</td>\n",
       "      <td>[0.90814173, 0.9117208, 0.89240026, 0.905342, 0.9323538, 0.9130654, 0.9300926, 0.8495883, 0.9147...</td>\n",
       "    </tr>\n",
       "    <tr>\n",
       "      <th>a204ddef5763df6d8f7677701fe9d96f</th>\n",
       "      <td>[0.5078719, 0.3578924, 0.51367694, 0.39432797, 0.5174208, 0.41941053, 0.6050827, 0.44703227, 0.5...</td>\n",
       "      <td>[0.4921281, 0.6421076, 0.4863231, 0.60567206, 0.4825791, 0.58058953, 0.3949173, 0.5529677, 0.454...</td>\n",
       "    </tr>\n",
       "    <tr>\n",
       "      <th>960097894e83c5810a9c649f17a4e551</th>\n",
       "      <td>[0.8064001, 0.78968686, 0.8094659, 0.80943507, 0.8025667, 0.7954887, 0.79991245, 0.8111683, 0.73...</td>\n",
       "      <td>[0.19359986, 0.21031311, 0.19053414, 0.19056496, 0.19743326, 0.20451134, 0.20008764, 0.18883172,...</td>\n",
       "    </tr>\n",
       "    <tr>\n",
       "      <th>a3c1f277aa0110ffc418bf5fa3aa16aa</th>\n",
       "      <td>[0.04381575, 0.05092577, 0.059241563, 0.054157313, 0.05069841, 0.03254329, 0.09770478, 0.0511871...</td>\n",
       "      <td>[0.9561842, 0.9490742, 0.94075847, 0.9458427, 0.9493016, 0.9674567, 0.90229523, 0.94881284, 0.90...</td>\n",
       "    </tr>\n",
       "  </tbody>\n",
       "</table>\n",
       "</div>"
      ],
      "text/plain": [
       "                                                                                                                                happy  \\\n",
       "sid                                                                                                                                     \n",
       "b806881a54bdbf9dd93a290716adf191  [0.36340898, 0.18219845, 0.3428177, 0.19498937, 0.39566082, 0.17289302, 0.40052393, 0.20453341, ...   \n",
       "46e54d2ab920a088b77382e04877141b  [0.09185828, 0.08827926, 0.10759978, 0.09465805, 0.06764625, 0.08693469, 0.06990745, 0.15041173,...   \n",
       "a204ddef5763df6d8f7677701fe9d96f  [0.5078719, 0.3578924, 0.51367694, 0.39432797, 0.5174208, 0.41941053, 0.6050827, 0.44703227, 0.5...   \n",
       "960097894e83c5810a9c649f17a4e551  [0.8064001, 0.78968686, 0.8094659, 0.80943507, 0.8025667, 0.7954887, 0.79991245, 0.8111683, 0.73...   \n",
       "a3c1f277aa0110ffc418bf5fa3aa16aa  [0.04381575, 0.05092577, 0.059241563, 0.054157313, 0.05069841, 0.03254329, 0.09770478, 0.0511871...   \n",
       "\n",
       "                                                                                                                            non_happy  \n",
       "sid                                                                                                                                    \n",
       "b806881a54bdbf9dd93a290716adf191  [0.636591, 0.81780154, 0.6571822, 0.8050107, 0.60433924, 0.82710695, 0.599476, 0.7954666, 0.9311...  \n",
       "46e54d2ab920a088b77382e04877141b  [0.90814173, 0.9117208, 0.89240026, 0.905342, 0.9323538, 0.9130654, 0.9300926, 0.8495883, 0.9147...  \n",
       "a204ddef5763df6d8f7677701fe9d96f  [0.4921281, 0.6421076, 0.4863231, 0.60567206, 0.4825791, 0.58058953, 0.3949173, 0.5529677, 0.454...  \n",
       "960097894e83c5810a9c649f17a4e551  [0.19359986, 0.21031311, 0.19053414, 0.19056496, 0.19743326, 0.20451134, 0.20008764, 0.18883172,...  \n",
       "a3c1f277aa0110ffc418bf5fa3aa16aa  [0.9561842, 0.9490742, 0.94075847, 0.9458427, 0.9493016, 0.9674567, 0.90229523, 0.94881284, 0.90...  "
      ]
     },
     "execution_count": 54,
     "metadata": {},
     "output_type": "execute_result"
    }
   ],
   "source": [
    "table_name = tables[5]\n",
    "happy = ActivationDataHub(table_name)\n",
    "happy.df.head()"
   ]
  },
  {
   "cell_type": "code",
   "execution_count": 302,
   "id": "43f70608",
   "metadata": {},
   "outputs": [
    {
     "data": {
      "image/png": "[encoded data removed]",
      "text/plain": [
       "<Figure size 576x360 with 1 Axes>"
      ]
     },
     "metadata": {
      "needs_background": "light"
     },
     "output_type": "display_data"
    }
   ],
   "source": [
    "happy.dist_viz()"
   ]
  },
  {
   "cell_type": "markdown",
   "id": "1d338102",
   "metadata": {},
   "source": [
    "So far the closest distribution we've seen to a normal one and the closest 0.5.\n",
    "\n",
    "The distribution feels right to me, I would've guessed that on average my songs are closer to totally happy than to totally not happy."
   ]
  },
  {
   "cell_type": "markdown",
   "id": "cb2e9eaa",
   "metadata": {},
   "source": [
    "Top 5 happiest songs"
   ]
  },
  {
   "cell_type": "code",
   "execution_count": 303,
   "id": "1fbe8b99",
   "metadata": {},
   "outputs": [
    {
     "data": {
      "text/html": [
       "<div>\n",
       "<style scoped>\n",
       "    .dataframe tbody tr th:only-of-type {\n",
       "        vertical-align: middle;\n",
       "    }\n",
       "\n",
       "    .dataframe tbody tr th {\n",
       "        vertical-align: top;\n",
       "    }\n",
       "\n",
       "    .dataframe thead th {\n",
       "        text-align: right;\n",
       "    }\n",
       "</style>\n",
       "<table border=\"1\" class=\"dataframe\">\n",
       "  <thead>\n",
       "    <tr style=\"text-align: right;\">\n",
       "      <th></th>\n",
       "      <th>title</th>\n",
       "      <th>artist</th>\n",
       "      <th>happy</th>\n",
       "    </tr>\n",
       "    <tr>\n",
       "      <th>sid</th>\n",
       "      <th></th>\n",
       "      <th></th>\n",
       "      <th></th>\n",
       "    </tr>\n",
       "  </thead>\n",
       "  <tbody>\n",
       "    <tr>\n",
       "      <th>b6f5a4b06bbd4279f4e8727a137bfe7f</th>\n",
       "      <td>Don't Let Me Down</td>\n",
       "      <td>Marcia Griffiths</td>\n",
       "      <td>0.9727</td>\n",
       "    </tr>\n",
       "    <tr>\n",
       "      <th>3746f02034387a50e5768211a47d055d</th>\n",
       "      <td>Act of Sedition - Tropical Punch - 03 The Peanut Man - DJ Laurel edit</td>\n",
       "      <td>None</td>\n",
       "      <td>0.9717</td>\n",
       "    </tr>\n",
       "    <tr>\n",
       "      <th>297a8b8f471264e63e8a67274e100782</th>\n",
       "      <td>Dance Motif - Stages (Dance Motif Edit)</td>\n",
       "      <td>None</td>\n",
       "      <td>0.9682</td>\n",
       "    </tr>\n",
       "    <tr>\n",
       "      <th>b0be8c3bac085b48721c78a4940870cf</th>\n",
       "      <td>Harry Mwale — Pretty Face (Tambourine Party Edit)-YdrHvFAcPf8</td>\n",
       "      <td>None</td>\n",
       "      <td>0.9657</td>\n",
       "    </tr>\n",
       "    <tr>\n",
       "      <th>b085951a81e3078f4b114d1ffc5e80b5</th>\n",
       "      <td>The Boogashake</td>\n",
       "      <td>MARIO ALLISON Y SU COMBO</td>\n",
       "      <td>0.9651</td>\n",
       "    </tr>\n",
       "  </tbody>\n",
       "</table>\n",
       "</div>"
      ],
      "text/plain": [
       "                                                                                                  title  \\\n",
       "sid                                                                                                       \n",
       "b6f5a4b06bbd4279f4e8727a137bfe7f                                                      Don't Let Me Down   \n",
       "3746f02034387a50e5768211a47d055d  Act of Sedition - Tropical Punch - 03 The Peanut Man - DJ Laurel edit   \n",
       "297a8b8f471264e63e8a67274e100782                                Dance Motif - Stages (Dance Motif Edit)   \n",
       "b0be8c3bac085b48721c78a4940870cf          Harry Mwale — Pretty Face (Tambourine Party Edit)-YdrHvFAcPf8   \n",
       "b085951a81e3078f4b114d1ffc5e80b5                                                         The Boogashake   \n",
       "\n",
       "                                                    artist   happy  \n",
       "sid                                                                 \n",
       "b6f5a4b06bbd4279f4e8727a137bfe7f          Marcia Griffiths  0.9727  \n",
       "3746f02034387a50e5768211a47d055d                      None  0.9717  \n",
       "297a8b8f471264e63e8a67274e100782                      None  0.9682  \n",
       "b0be8c3bac085b48721c78a4940870cf                      None  0.9657  \n",
       "b085951a81e3078f4b114d1ffc5e80b5  MARIO ALLISON Y SU COMBO  0.9651  "
      ]
     },
     "execution_count": 303,
     "metadata": {},
     "output_type": "execute_result"
    }
   ],
   "source": [
    "happy.top_songs(5)"
   ]
  },
  {
   "cell_type": "markdown",
   "id": "4f5a6f69",
   "metadata": {},
   "source": [
    "1. [Don't Let Me Down - Marcia Griffiths](https://www.youtube.com/watch?v=dtpDmZpjsJE&ab_channel=JUNYAS-STEADY)\n",
    "\n",
    "2. [Act of Sedition - Tropical Punch - 03 The Peanut Man - DJ Laurel edit](https://actofsedition.bandcamp.com/track/the-peanut-man)\n",
    "\n",
    "3. [Dance Motif - Stages](https://soundcloud.com/dancemotif/stages-dance-motif-edit)\n",
    "\n",
    "4. [Harry Mwale - Pretty Face(Tambourine Party Edit)](https://www.youtube.com/watch?v=YdrHvFAcPf8&ab_channel=DomGrooves)\n",
    "\n",
    "5. [The Boogashake - Mario Allison Y SU Combo](https://vampisoul.bandcamp.com/track/the-boogashake)"
   ]
  },
  {
   "cell_type": "markdown",
   "id": "78a0e27e",
   "metadata": {},
   "source": [
    "I really had to sit and process this result. I definitely do feel that these five songs all have an upbeat, fuzzy, and jovial spirit to them. \"The Boogashake\" is certainely a song that qualifies as \"happy\". I think given the abstract nature of the model's task, it did a good job quantifying \"happiness\" in a song."
   ]
  },
  {
   "cell_type": "markdown",
   "id": "ae613ad0",
   "metadata": {},
   "source": [
    "Top 5 least happy songs"
   ]
  },
  {
   "cell_type": "code",
   "execution_count": 304,
   "id": "8b147aea",
   "metadata": {},
   "outputs": [
    {
     "data": {
      "text/html": [
       "<div>\n",
       "<style scoped>\n",
       "    .dataframe tbody tr th:only-of-type {\n",
       "        vertical-align: middle;\n",
       "    }\n",
       "\n",
       "    .dataframe tbody tr th {\n",
       "        vertical-align: top;\n",
       "    }\n",
       "\n",
       "    .dataframe thead th {\n",
       "        text-align: right;\n",
       "    }\n",
       "</style>\n",
       "<table border=\"1\" class=\"dataframe\">\n",
       "  <thead>\n",
       "    <tr style=\"text-align: right;\">\n",
       "      <th></th>\n",
       "      <th>title</th>\n",
       "      <th>artist</th>\n",
       "      <th>happy</th>\n",
       "    </tr>\n",
       "    <tr>\n",
       "      <th>sid</th>\n",
       "      <th></th>\n",
       "      <th></th>\n",
       "      <th></th>\n",
       "    </tr>\n",
       "  </thead>\n",
       "  <tbody>\n",
       "    <tr>\n",
       "      <th>14265f14034ad61a32c3bff46ed0e476</th>\n",
       "      <td>9-Vicky_Montefusco_-_Il_Nulla_Cosmico_(Prins_Thomas_remix)_PN</td>\n",
       "      <td>None</td>\n",
       "      <td>0.0248</td>\n",
       "    </tr>\n",
       "    <tr>\n",
       "      <th>a5e390371b3438d58800a9e8fa0332a1</th>\n",
       "      <td>Everybody</td>\n",
       "      <td>DISAIA</td>\n",
       "      <td>0.0259</td>\n",
       "    </tr>\n",
       "    <tr>\n",
       "      <th>67a5a54a5f62b597509e9d97eae584b3</th>\n",
       "      <td>Extra Vergine</td>\n",
       "      <td>Maus &amp; Stolle</td>\n",
       "      <td>0.0279</td>\n",
       "    </tr>\n",
       "    <tr>\n",
       "      <th>406de514de82d885a907e36adf681cc1</th>\n",
       "      <td>Insomnia 2022 (Extended Mix)</td>\n",
       "      <td>Flo Dosh, Faithless</td>\n",
       "      <td>0.0295</td>\n",
       "    </tr>\n",
       "    <tr>\n",
       "      <th>b85f2a4c63f48e712284262c7ff6ffbd</th>\n",
       "      <td>Automation - Workings Of A Madman Re-Mix</td>\n",
       "      <td>Tiny Magnetic Pets</td>\n",
       "      <td>0.0327</td>\n",
       "    </tr>\n",
       "  </tbody>\n",
       "</table>\n",
       "</div>"
      ],
      "text/plain": [
       "                                                                                          title  \\\n",
       "sid                                                                                               \n",
       "14265f14034ad61a32c3bff46ed0e476  9-Vicky_Montefusco_-_Il_Nulla_Cosmico_(Prins_Thomas_remix)_PN   \n",
       "a5e390371b3438d58800a9e8fa0332a1                                                      Everybody   \n",
       "67a5a54a5f62b597509e9d97eae584b3                                                  Extra Vergine   \n",
       "406de514de82d885a907e36adf681cc1                                   Insomnia 2022 (Extended Mix)   \n",
       "b85f2a4c63f48e712284262c7ff6ffbd                       Automation - Workings Of A Madman Re-Mix   \n",
       "\n",
       "                                               artist   happy  \n",
       "sid                                                            \n",
       "14265f14034ad61a32c3bff46ed0e476                 None  0.0248  \n",
       "a5e390371b3438d58800a9e8fa0332a1               DISAIA  0.0259  \n",
       "67a5a54a5f62b597509e9d97eae584b3        Maus & Stolle  0.0279  \n",
       "406de514de82d885a907e36adf681cc1  Flo Dosh, Faithless  0.0295  \n",
       "b85f2a4c63f48e712284262c7ff6ffbd   Tiny Magnetic Pets  0.0327  "
      ]
     },
     "execution_count": 304,
     "metadata": {},
     "output_type": "execute_result"
    }
   ],
   "source": [
    "happy.top_songs(ascending=True, n = 5)"
   ]
  },
  {
   "cell_type": "markdown",
   "id": "758d593a",
   "metadata": {},
   "source": [
    "1. [Vicky_Montefusco_-_Il_Nulla_Cosmico_(Prins_Thomas_remix)](https://vickymontefusco.bandcamp.com/album/il-nulla-cosmico-prins-thomas-remix)\n",
    "\n",
    "2. [Everybody\tDISAIA](https://www.youtube.com/watch?v=Z61TYWLGbck&ab_channel=HotCreations)\n",
    "\n",
    "3. [Extra Vergine\tMaus & Stolle](https://www.youtube.com/watch?v=ykOCriwIatc&ab_channel=ThePanagoulis)\n",
    "\n",
    "4. [Insomnia 2022 (Extended Mix)\tFlo Dosh, Faithless](https://www.youtube.com/watch?v=pQgvls0JOXU&ab_channel=FloDosh)\n",
    "\n",
    "5. [Automation - Workings Of A Madman Re-Mix\tTiny Magnetic Pets](https://open.spotify.com/track/4gkLGzGcspouro75i0T6EG)\n",
    "\n"
   ]
  },
  {
   "cell_type": "markdown",
   "id": "733ba58f",
   "metadata": {},
   "source": [
    "According to this selection of songs, \"unhappiness\" comes in different forms. While these five all lack the jovial and upbeat qualities of the previous five, they vary in style and genre. The Vicky Montefusco track has a more industrial techno vibe pulsating with energy and Extra Vergine is a typical down tempo lounge house track that you'd hear in the background of a hotel bar."
   ]
  },
  {
   "cell_type": "markdown",
   "id": "df4057d3",
   "metadata": {},
   "source": [
    "**Randomly Sampled Songs**"
   ]
  },
  {
   "cell_type": "code",
   "execution_count": 305,
   "id": "869944cf",
   "metadata": {},
   "outputs": [
    {
     "data": {
      "text/html": [
       "<div>\n",
       "<style scoped>\n",
       "    .dataframe tbody tr th:only-of-type {\n",
       "        vertical-align: middle;\n",
       "    }\n",
       "\n",
       "    .dataframe tbody tr th {\n",
       "        vertical-align: top;\n",
       "    }\n",
       "\n",
       "    .dataframe thead th {\n",
       "        text-align: right;\n",
       "    }\n",
       "</style>\n",
       "<table border=\"1\" class=\"dataframe\">\n",
       "  <thead>\n",
       "    <tr style=\"text-align: right;\">\n",
       "      <th></th>\n",
       "      <th>title</th>\n",
       "      <th>artist</th>\n",
       "      <th>mean scores</th>\n",
       "      <th>stdev scores</th>\n",
       "    </tr>\n",
       "    <tr>\n",
       "      <th>sid</th>\n",
       "      <th></th>\n",
       "      <th></th>\n",
       "      <th></th>\n",
       "      <th></th>\n",
       "    </tr>\n",
       "  </thead>\n",
       "  <tbody>\n",
       "    <tr>\n",
       "      <th>2d9b590d110e4de56f991d2aa8fe1d0b</th>\n",
       "      <td>In Case Of Emergency</td>\n",
       "      <td>Dr Packer &amp; Loshmi</td>\n",
       "      <td>0.6961</td>\n",
       "      <td>0.1605</td>\n",
       "    </tr>\n",
       "    <tr>\n",
       "      <th>b9edcab845b4b340ef95951b0fa48553</th>\n",
       "      <td>Saturn Disco (original mix)</td>\n",
       "      <td>Ezirk</td>\n",
       "      <td>0.6438</td>\n",
       "      <td>0.1497</td>\n",
       "    </tr>\n",
       "    <tr>\n",
       "      <th>4ec9857e912a0849d8ccb8ee0dc33150</th>\n",
       "      <td>Hot Mozart</td>\n",
       "      <td>Aqua Fina</td>\n",
       "      <td>0.6187</td>\n",
       "      <td>0.2256</td>\n",
       "    </tr>\n",
       "    <tr>\n",
       "      <th>153be2496a4e30ed808d6a423a262573</th>\n",
       "      <td>Polish Edits #15 x Irena Jarocka - Witajcie W Moim Świecie (Karol Aleksaner Version)_PN</td>\n",
       "      <td>None</td>\n",
       "      <td>0.6125</td>\n",
       "      <td>0.1659</td>\n",
       "    </tr>\n",
       "    <tr>\n",
       "      <th>1077a7847327ce027f1063a0f3a8e77a</th>\n",
       "      <td>01 I Know, I Know (Original Mix)_PN</td>\n",
       "      <td>None</td>\n",
       "      <td>0.4505</td>\n",
       "      <td>0.1560</td>\n",
       "    </tr>\n",
       "  </tbody>\n",
       "</table>\n",
       "</div>"
      ],
      "text/plain": [
       "                                                                                                                    title  \\\n",
       "sid                                                                                                                         \n",
       "2d9b590d110e4de56f991d2aa8fe1d0b                                                                     In Case Of Emergency   \n",
       "b9edcab845b4b340ef95951b0fa48553                                                              Saturn Disco (original mix)   \n",
       "4ec9857e912a0849d8ccb8ee0dc33150                                                                               Hot Mozart   \n",
       "153be2496a4e30ed808d6a423a262573  Polish Edits #15 x Irena Jarocka - Witajcie W Moim Świecie (Karol Aleksaner Version)_PN   \n",
       "1077a7847327ce027f1063a0f3a8e77a                                                      01 I Know, I Know (Original Mix)_PN   \n",
       "\n",
       "                                              artist  mean scores  \\\n",
       "sid                                                                 \n",
       "2d9b590d110e4de56f991d2aa8fe1d0b  Dr Packer & Loshmi       0.6961   \n",
       "b9edcab845b4b340ef95951b0fa48553               Ezirk       0.6438   \n",
       "4ec9857e912a0849d8ccb8ee0dc33150           Aqua Fina       0.6187   \n",
       "153be2496a4e30ed808d6a423a262573                None       0.6125   \n",
       "1077a7847327ce027f1063a0f3a8e77a                None       0.4505   \n",
       "\n",
       "                                  stdev scores  \n",
       "sid                                             \n",
       "2d9b590d110e4de56f991d2aa8fe1d0b        0.1605  \n",
       "b9edcab845b4b340ef95951b0fa48553        0.1497  \n",
       "4ec9857e912a0849d8ccb8ee0dc33150        0.2256  \n",
       "153be2496a4e30ed808d6a423a262573        0.1659  \n",
       "1077a7847327ce027f1063a0f3a8e77a        0.1560  "
      ]
     },
     "execution_count": 305,
     "metadata": {},
     "output_type": "execute_result"
    }
   ],
   "source": [
    "happy.song_sampler((0.4, 0.7), n=5)"
   ]
  },
  {
   "cell_type": "markdown",
   "id": "db611f26",
   "metadata": {},
   "source": [
    "1. [In Case Of Emergency\tDr Packer & Loshmi](https://loshmi.bandcamp.com/track/dr-packer-loshmi-in-case-of-emergency)\n",
    "\n",
    "2. [Saturn Disco (original mix)\tEzirk](https://www.youtube.com/watch?v=VDcdctdANQc&ab_channel=CarlAllen)\n",
    "\n",
    "3. [Hot Mozart\tAqua Fina](https://www.youtube.com/watch?v=ADJuE-WWVXk&ab_channel=alexisherrmann)\n",
    "\n",
    "4. [Irena Jarocka - Witajcie W Moim Świecie (Karol Aleksander Version)](https://www.youtube.com/watch?v=bPLDesvnnF4&ab_channel=WelcomeJohn)\n",
    "\n",
    "5. [I Know, I Know](https://www.youtube.com/watch?v=bas8j_QLrSI&ab_channel=ChugginEdits-Topic)"
   ]
  },
  {
   "cell_type": "markdown",
   "id": "4942527c",
   "metadata": {},
   "source": [
    "I think \"In Case of Emergency\" could be rated a little higher, but other than that there's much to say without getting pedantic."
   ]
  },
  {
   "cell_type": "markdown",
   "id": "cff58a15",
   "metadata": {},
   "source": [
    "### Party\n",
    "\n",
    "I got a hunch this attribute might be relevant to my project. Let's dive in.\n",
    "\n",
    "More info => https://essentia.upf.edu/models.html#id507\n",
    "\n"
   ]
  },
  {
   "cell_type": "code",
   "execution_count": 55,
   "id": "2516781a",
   "metadata": {},
   "outputs": [
    {
     "name": "stdout",
     "output_type": "stream",
     "text": [
      "Loading mood_party_effnet_discogs_1_activations data\n"
     ]
    }
   ],
   "source": [
    "party = ActivationDataHub(table_name=tables[-2])"
   ]
  },
  {
   "cell_type": "markdown",
   "id": "509457ad",
   "metadata": {},
   "source": [
    "Party distribution"
   ]
  },
  {
   "cell_type": "code",
   "execution_count": 319,
   "id": "17847085",
   "metadata": {},
   "outputs": [
    {
     "data": {
      "image/png": "[encoded data removed]",
      "text/plain": [
       "<Figure size 576x360 with 1 Axes>"
      ]
     },
     "metadata": {
      "needs_background": "light"
     },
     "output_type": "display_data"
    }
   ],
   "source": [
    "party.dist_viz()"
   ]
  },
  {
   "cell_type": "markdown",
   "id": "d5f56c12",
   "metadata": {},
   "source": [
    "As expected, a catalog of DJ songs have high party scores."
   ]
  },
  {
   "cell_type": "markdown",
   "id": "816a26a4",
   "metadata": {},
   "source": [
    "Top 5 party songs"
   ]
  },
  {
   "cell_type": "code",
   "execution_count": 321,
   "id": "0937cb0a",
   "metadata": {},
   "outputs": [
    {
     "data": {
      "text/html": [
       "<div>\n",
       "<style scoped>\n",
       "    .dataframe tbody tr th:only-of-type {\n",
       "        vertical-align: middle;\n",
       "    }\n",
       "\n",
       "    .dataframe tbody tr th {\n",
       "        vertical-align: top;\n",
       "    }\n",
       "\n",
       "    .dataframe thead th {\n",
       "        text-align: right;\n",
       "    }\n",
       "</style>\n",
       "<table border=\"1\" class=\"dataframe\">\n",
       "  <thead>\n",
       "    <tr style=\"text-align: right;\">\n",
       "      <th></th>\n",
       "      <th>title</th>\n",
       "      <th>artist</th>\n",
       "      <th>party</th>\n",
       "    </tr>\n",
       "    <tr>\n",
       "      <th>sid</th>\n",
       "      <th></th>\n",
       "      <th></th>\n",
       "      <th></th>\n",
       "    </tr>\n",
       "  </thead>\n",
       "  <tbody>\n",
       "    <tr>\n",
       "      <th>df1eef61a190ffdb618f02d1c87549ed</th>\n",
       "      <td>Khemir - Curacao - I Feel Good ( Khemir Edit )_PN</td>\n",
       "      <td>None</td>\n",
       "      <td>0.9984</td>\n",
       "    </tr>\n",
       "    <tr>\n",
       "      <th>8e0500d1bb8c7e5b0e0645ca46480a1b</th>\n",
       "      <td>Have A Cigar</td>\n",
       "      <td>Funk Hunk</td>\n",
       "      <td>0.9982</td>\n",
       "    </tr>\n",
       "    <tr>\n",
       "      <th>240ca54e4e0f239acb4705e9cef89a5d</th>\n",
       "      <td>1-Rachel_Wallace_-_Tell_Me_Why_(M_M_full_vocal)_PN</td>\n",
       "      <td>None</td>\n",
       "      <td>0.9979</td>\n",
       "    </tr>\n",
       "    <tr>\n",
       "      <th>3746f02034387a50e5768211a47d055d</th>\n",
       "      <td>Act of Sedition - Tropical Punch - 03 The Peanut Man - DJ Laurel edit</td>\n",
       "      <td>None</td>\n",
       "      <td>0.9977</td>\n",
       "    </tr>\n",
       "    <tr>\n",
       "      <th>e6debbd0378e989db281d7a284724553</th>\n",
       "      <td>Moving Still - Ouddy Bangers Vol.1 - 01 Cheb Arab - Lo Kan (Moving Still Edit)_PN</td>\n",
       "      <td>None</td>\n",
       "      <td>0.9973</td>\n",
       "    </tr>\n",
       "  </tbody>\n",
       "</table>\n",
       "</div>"
      ],
      "text/plain": [
       "                                                                                                              title  \\\n",
       "sid                                                                                                                   \n",
       "df1eef61a190ffdb618f02d1c87549ed                                  Khemir - Curacao - I Feel Good ( Khemir Edit )_PN   \n",
       "8e0500d1bb8c7e5b0e0645ca46480a1b                                                                       Have A Cigar   \n",
       "240ca54e4e0f239acb4705e9cef89a5d                                 1-Rachel_Wallace_-_Tell_Me_Why_(M_M_full_vocal)_PN   \n",
       "3746f02034387a50e5768211a47d055d              Act of Sedition - Tropical Punch - 03 The Peanut Man - DJ Laurel edit   \n",
       "e6debbd0378e989db281d7a284724553  Moving Still - Ouddy Bangers Vol.1 - 01 Cheb Arab - Lo Kan (Moving Still Edit)_PN   \n",
       "\n",
       "                                     artist   party  \n",
       "sid                                                  \n",
       "df1eef61a190ffdb618f02d1c87549ed       None  0.9984  \n",
       "8e0500d1bb8c7e5b0e0645ca46480a1b  Funk Hunk  0.9982  \n",
       "240ca54e4e0f239acb4705e9cef89a5d       None  0.9979  \n",
       "3746f02034387a50e5768211a47d055d       None  0.9977  \n",
       "e6debbd0378e989db281d7a284724553       None  0.9973  "
      ]
     },
     "execution_count": 321,
     "metadata": {},
     "output_type": "execute_result"
    }
   ],
   "source": [
    "party.top_songs( n = 5)"
   ]
  },
  {
   "cell_type": "markdown",
   "id": "243d5c31",
   "metadata": {},
   "source": [
    "1. [Khemir - Curacao - I Feel Good ( Khemir Edit )_PN](https://www.youtube.com/watch?v=RKU_lCTmVPY&ab_channel=OOUKFunkyOO)\n",
    "\n",
    "2. [Have A Cigar - Funk Hunk](https://www.youtube.com/watch?v=apmgqyHiy6c&ab_channel=SpaInDiscoRecords%2FFranDeeper)\n",
    "\n",
    "3. [Rachel_Wallace_-_Tell_Me_Why_(M_M_full_vocal)](https://www.youtube.com/watch?v=YIhF8Y5HIhk&ab_channel=markovnottz)\n",
    "\n",
    "4. [Act of Sedition - Tropical Punch - 03 The Peanut Man - DJ Laurel edit](https://actofsedition.bandcamp.com/track/the-peanut-man)\n",
    "\n",
    "5. [Moving Still - Ouddy Bangers Vol.1 - 01 Cheb Arab - Lo Kan (Moving Still Edit](https://soundcloud.com/movingstill/cheb-arab-lo-kan-moving-still-edit)"
   ]
  },
  {
   "cell_type": "markdown",
   "id": "29064299",
   "metadata": {},
   "source": [
    "Top 5 least party songs"
   ]
  },
  {
   "cell_type": "code",
   "execution_count": 322,
   "id": "9a3a20b2",
   "metadata": {},
   "outputs": [
    {
     "data": {
      "text/html": [
       "<div>\n",
       "<style scoped>\n",
       "    .dataframe tbody tr th:only-of-type {\n",
       "        vertical-align: middle;\n",
       "    }\n",
       "\n",
       "    .dataframe tbody tr th {\n",
       "        vertical-align: top;\n",
       "    }\n",
       "\n",
       "    .dataframe thead th {\n",
       "        text-align: right;\n",
       "    }\n",
       "</style>\n",
       "<table border=\"1\" class=\"dataframe\">\n",
       "  <thead>\n",
       "    <tr style=\"text-align: right;\">\n",
       "      <th></th>\n",
       "      <th>title</th>\n",
       "      <th>artist</th>\n",
       "      <th>party</th>\n",
       "    </tr>\n",
       "    <tr>\n",
       "      <th>sid</th>\n",
       "      <th></th>\n",
       "      <th></th>\n",
       "      <th></th>\n",
       "    </tr>\n",
       "  </thead>\n",
       "  <tbody>\n",
       "    <tr>\n",
       "      <th>3c3f186cb9b2dd15804bf3995b65a34d</th>\n",
       "      <td>Lord Have Mercy</td>\n",
       "      <td>The Lijadu Sisters</td>\n",
       "      <td>0.0666</td>\n",
       "    </tr>\n",
       "    <tr>\n",
       "      <th>b0d7c43db439b938a22f246358181549</th>\n",
       "      <td>Ada</td>\n",
       "      <td>Issam Hajali</td>\n",
       "      <td>0.0711</td>\n",
       "    </tr>\n",
       "    <tr>\n",
       "      <th>e362351a9985df90496202e75a96d5e2</th>\n",
       "      <td>She Africa (Ton Tour Viendra)</td>\n",
       "      <td>N'Draman Blintch</td>\n",
       "      <td>0.0864</td>\n",
       "    </tr>\n",
       "    <tr>\n",
       "      <th>48c75551e75efc744602b9784bc10aeb</th>\n",
       "      <td>She</td>\n",
       "      <td>Those Guys From Athens</td>\n",
       "      <td>0.1092</td>\n",
       "    </tr>\n",
       "    <tr>\n",
       "      <th>b85f2a4c63f48e712284262c7ff6ffbd</th>\n",
       "      <td>Automation - Workings Of A Madman Re-Mix</td>\n",
       "      <td>Tiny Magnetic Pets</td>\n",
       "      <td>0.1127</td>\n",
       "    </tr>\n",
       "  </tbody>\n",
       "</table>\n",
       "</div>"
      ],
      "text/plain": [
       "                                                                     title  \\\n",
       "sid                                                                          \n",
       "3c3f186cb9b2dd15804bf3995b65a34d                           Lord Have Mercy   \n",
       "b0d7c43db439b938a22f246358181549                                       Ada   \n",
       "e362351a9985df90496202e75a96d5e2             She Africa (Ton Tour Viendra)   \n",
       "48c75551e75efc744602b9784bc10aeb                                       She   \n",
       "b85f2a4c63f48e712284262c7ff6ffbd  Automation - Workings Of A Madman Re-Mix   \n",
       "\n",
       "                                                  artist   party  \n",
       "sid                                                               \n",
       "3c3f186cb9b2dd15804bf3995b65a34d      The Lijadu Sisters  0.0666  \n",
       "b0d7c43db439b938a22f246358181549            Issam Hajali  0.0711  \n",
       "e362351a9985df90496202e75a96d5e2        N'Draman Blintch  0.0864  \n",
       "48c75551e75efc744602b9784bc10aeb  Those Guys From Athens  0.1092  \n",
       "b85f2a4c63f48e712284262c7ff6ffbd      Tiny Magnetic Pets  0.1127  "
      ]
     },
     "execution_count": 322,
     "metadata": {},
     "output_type": "execute_result"
    }
   ],
   "source": [
    "party.top_songs(ascending=True, n = 5)"
   ]
  },
  {
   "cell_type": "markdown",
   "id": "53ba2145",
   "metadata": {},
   "source": [
    "1. [Lord Have Mercy - The Lijadu Sisters](https://www.youtube.com/watch?v=cYDwE9yFB_I&ab_channel=TheLijaduSisters-Topic)\n",
    "\n",
    "\n",
    "2. [Ada Issam Hajali](https://soundcloud.com/habibifunk/issam-hajali-ada-lebanon-1976)\n",
    "\n",
    "\n",
    "3. [She Africa (Ton Tour Viendra) - N'Draman Blintch](https://www.youtube.com/watch?v=BcvC0UIsINI&ab_channel=Secousse)\n",
    "\n",
    "\n",
    "4. [She\tThose Guys From Athens](https://tooslowtodisco.bandcamp.com/track/she)\n",
    "\n",
    "\n",
    "5. [Automation - Workings Of A Madman Re-Mix\tTiny Magnetic Pet](https://www.youtube.com/watch?v=X4I4LU04iCo&ab_channel=TinyMagneticPets-Topic)\n"
   ]
  },
  {
   "cell_type": "markdown",
   "id": "ddc7d1aa",
   "metadata": {},
   "source": [
    "Sampling party songs between 0.6 and 0.8"
   ]
  },
  {
   "cell_type": "code",
   "execution_count": 323,
   "id": "160d08ff",
   "metadata": {},
   "outputs": [
    {
     "data": {
      "text/html": [
       "<div>\n",
       "<style scoped>\n",
       "    .dataframe tbody tr th:only-of-type {\n",
       "        vertical-align: middle;\n",
       "    }\n",
       "\n",
       "    .dataframe tbody tr th {\n",
       "        vertical-align: top;\n",
       "    }\n",
       "\n",
       "    .dataframe thead th {\n",
       "        text-align: right;\n",
       "    }\n",
       "</style>\n",
       "<table border=\"1\" class=\"dataframe\">\n",
       "  <thead>\n",
       "    <tr style=\"text-align: right;\">\n",
       "      <th></th>\n",
       "      <th>title</th>\n",
       "      <th>artist</th>\n",
       "      <th>mean scores</th>\n",
       "      <th>stdev scores</th>\n",
       "    </tr>\n",
       "    <tr>\n",
       "      <th>sid</th>\n",
       "      <th></th>\n",
       "      <th></th>\n",
       "      <th></th>\n",
       "      <th></th>\n",
       "    </tr>\n",
       "  </thead>\n",
       "  <tbody>\n",
       "    <tr>\n",
       "      <th>d6b88c709d177924f36560984683ced9</th>\n",
       "      <td>Loxo Nye (Pushin Wood Edit)</td>\n",
       "      <td>Roger Damawuzan</td>\n",
       "      <td>0.7900</td>\n",
       "      <td>0.1746</td>\n",
       "    </tr>\n",
       "    <tr>\n",
       "      <th>0d594dce5caaaf6d9febfe26156f791d</th>\n",
       "      <td>Masti Bhara Sama Hai (Turbotito &amp; Ragz Rework)</td>\n",
       "      <td>Mangal Singh, Turbotito, Ragz</td>\n",
       "      <td>0.7117</td>\n",
       "      <td>0.2171</td>\n",
       "    </tr>\n",
       "    <tr>\n",
       "      <th>aba0580fcbe0956a741c36d72736c6d2</th>\n",
       "      <td>Mistura de Ciranda e Carimbo (iZem Tropical Discoteq fix) _PN</td>\n",
       "      <td>Pinduca</td>\n",
       "      <td>0.6473</td>\n",
       "      <td>0.3690</td>\n",
       "    </tr>\n",
       "    <tr>\n",
       "      <th>e0c2d950c952d1f0ddc1e4e63ba3447b</th>\n",
       "      <td>Jose Padilla - Day One (Release Date Vinyl/Digital - 23rd March)</td>\n",
       "      <td>International Feel</td>\n",
       "      <td>0.6396</td>\n",
       "      <td>0.2500</td>\n",
       "    </tr>\n",
       "    <tr>\n",
       "      <th>cbaefe280340e75156befdc9d32f224a</th>\n",
       "      <td>Þú &amp; Ég - Dans dans dans-T2CnE0x_qYg</td>\n",
       "      <td>None</td>\n",
       "      <td>0.6182</td>\n",
       "      <td>0.2799</td>\n",
       "    </tr>\n",
       "  </tbody>\n",
       "</table>\n",
       "</div>"
      ],
      "text/plain": [
       "                                                                                             title  \\\n",
       "sid                                                                                                  \n",
       "d6b88c709d177924f36560984683ced9                                       Loxo Nye (Pushin Wood Edit)   \n",
       "0d594dce5caaaf6d9febfe26156f791d                    Masti Bhara Sama Hai (Turbotito & Ragz Rework)   \n",
       "aba0580fcbe0956a741c36d72736c6d2     Mistura de Ciranda e Carimbo (iZem Tropical Discoteq fix) _PN   \n",
       "e0c2d950c952d1f0ddc1e4e63ba3447b  Jose Padilla - Day One (Release Date Vinyl/Digital - 23rd March)   \n",
       "cbaefe280340e75156befdc9d32f224a                              Þú & Ég - Dans dans dans-T2CnE0x_qYg   \n",
       "\n",
       "                                                         artist  mean scores  \\\n",
       "sid                                                                            \n",
       "d6b88c709d177924f36560984683ced9                Roger Damawuzan       0.7900   \n",
       "0d594dce5caaaf6d9febfe26156f791d  Mangal Singh, Turbotito, Ragz       0.7117   \n",
       "aba0580fcbe0956a741c36d72736c6d2                        Pinduca       0.6473   \n",
       "e0c2d950c952d1f0ddc1e4e63ba3447b             International Feel       0.6396   \n",
       "cbaefe280340e75156befdc9d32f224a                           None       0.6182   \n",
       "\n",
       "                                  stdev scores  \n",
       "sid                                             \n",
       "d6b88c709d177924f36560984683ced9        0.1746  \n",
       "0d594dce5caaaf6d9febfe26156f791d        0.2171  \n",
       "aba0580fcbe0956a741c36d72736c6d2        0.3690  \n",
       "e0c2d950c952d1f0ddc1e4e63ba3447b        0.2500  \n",
       "cbaefe280340e75156befdc9d32f224a        0.2799  "
      ]
     },
     "execution_count": 323,
     "metadata": {},
     "output_type": "execute_result"
    }
   ],
   "source": [
    "party.song_sampler(window=(0.6, 0.8), n=5)"
   ]
  },
  {
   "cell_type": "markdown",
   "id": "975c2652",
   "metadata": {},
   "source": [
    "1. [Loxo Nye Pushin Wood Edit](https://www.youtube.com/watch?v=OguN00MIBzk&ab_channel=RogerDamawuzan-Topic)\n",
    "\n",
    "2. [Masti Bhara Sama Hai (Turbotito & Ragz Rework)\tMangal Singh, Turbotito, Ragz](https://www.youtube.com/watch?v=H83IbtyRaFg&ab_channel=MangalSingh-Topic)\n",
    "\n",
    "\n",
    "3. [Mistura de Ciranda e Carimbo (iZem Tropical Discoteq fix) Pinduca](https://soundcloud.com/izemsounds/pinduca-mistura-de-carimbo-com-ciranda-izems-tropical-discoteq-special-fix)\n",
    "\n",
    "4. [Jose Padilla - Day One - International Feel](https://www.youtube.com/watch?v=jUQyglvql5Q&ab_channel=Internationalfeel1)\n",
    "\n",
    "5. [Pu & Eg Dans Dans Dans](https://www.youtube.com/watch?v=T2CnE0x_qYg&t=157s&ab_channel=JohannHelgason)"
   ]
  },
  {
   "cell_type": "markdown",
   "id": "4b683ae0",
   "metadata": {},
   "source": [
    "### Sad\n",
    "\n",
    "I'm curious to see if sad as any value beyond negatively correlating with happiness\n",
    "\n",
    "More info => https://essentia.upf.edu/models.html#id531"
   ]
  },
  {
   "cell_type": "code",
   "execution_count": 56,
   "id": "eea17d79",
   "metadata": {},
   "outputs": [
    {
     "name": "stdout",
     "output_type": "stream",
     "text": [
      "Loading mood_sad_effnet_discogs_1_activations data\n"
     ]
    }
   ],
   "source": [
    "sad = ActivationDataHub(tables[-1])"
   ]
  },
  {
   "cell_type": "code",
   "execution_count": 325,
   "id": "f9f572ac",
   "metadata": {},
   "outputs": [
    {
     "data": {
      "image/png": "[encoded data removed]",
      "text/plain": [
       "<Figure size 576x360 with 1 Axes>"
      ]
     },
     "metadata": {
      "needs_background": "light"
     },
     "output_type": "display_data"
    }
   ],
   "source": [
    "sad.dist_viz()"
   ]
  },
  {
   "cell_type": "markdown",
   "id": "37bc1c3f",
   "metadata": {},
   "source": [
    "Top 5 saddest songs"
   ]
  },
  {
   "cell_type": "code",
   "execution_count": 326,
   "id": "8f4d14fa",
   "metadata": {},
   "outputs": [
    {
     "data": {
      "text/html": [
       "<div>\n",
       "<style scoped>\n",
       "    .dataframe tbody tr th:only-of-type {\n",
       "        vertical-align: middle;\n",
       "    }\n",
       "\n",
       "    .dataframe tbody tr th {\n",
       "        vertical-align: top;\n",
       "    }\n",
       "\n",
       "    .dataframe thead th {\n",
       "        text-align: right;\n",
       "    }\n",
       "</style>\n",
       "<table border=\"1\" class=\"dataframe\">\n",
       "  <thead>\n",
       "    <tr style=\"text-align: right;\">\n",
       "      <th></th>\n",
       "      <th>title</th>\n",
       "      <th>artist</th>\n",
       "      <th>sad</th>\n",
       "    </tr>\n",
       "    <tr>\n",
       "      <th>sid</th>\n",
       "      <th></th>\n",
       "      <th></th>\n",
       "      <th></th>\n",
       "    </tr>\n",
       "  </thead>\n",
       "  <tbody>\n",
       "    <tr>\n",
       "      <th>3c3f186cb9b2dd15804bf3995b65a34d</th>\n",
       "      <td>Lord Have Mercy</td>\n",
       "      <td>The Lijadu Sisters</td>\n",
       "      <td>0.6513</td>\n",
       "    </tr>\n",
       "    <tr>\n",
       "      <th>250592fdef076e436c1853f64633eaa2</th>\n",
       "      <td>Labi Siffre - I got the (Sir Vinyls extended edit)</td>\n",
       "      <td>Sir Vinyl Instinct</td>\n",
       "      <td>0.5858</td>\n",
       "    </tr>\n",
       "    <tr>\n",
       "      <th>157fd433432aa91f444e115d150e4da0</th>\n",
       "      <td>Fleetwood Mac - Dreams (DJ Son Edit)</td>\n",
       "      <td>DJ Son</td>\n",
       "      <td>0.5748</td>\n",
       "    </tr>\n",
       "    <tr>\n",
       "      <th>e362351a9985df90496202e75a96d5e2</th>\n",
       "      <td>She Africa (Ton Tour Viendra)</td>\n",
       "      <td>N'Draman Blintch</td>\n",
       "      <td>0.5634</td>\n",
       "    </tr>\n",
       "    <tr>\n",
       "      <th>b0d7c43db439b938a22f246358181549</th>\n",
       "      <td>Ada</td>\n",
       "      <td>Issam Hajali</td>\n",
       "      <td>0.5609</td>\n",
       "    </tr>\n",
       "  </tbody>\n",
       "</table>\n",
       "</div>"
      ],
      "text/plain": [
       "                                                                               title  \\\n",
       "sid                                                                                    \n",
       "3c3f186cb9b2dd15804bf3995b65a34d                                     Lord Have Mercy   \n",
       "250592fdef076e436c1853f64633eaa2  Labi Siffre - I got the (Sir Vinyls extended edit)   \n",
       "157fd433432aa91f444e115d150e4da0                Fleetwood Mac - Dreams (DJ Son Edit)   \n",
       "e362351a9985df90496202e75a96d5e2                       She Africa (Ton Tour Viendra)   \n",
       "b0d7c43db439b938a22f246358181549                                                 Ada   \n",
       "\n",
       "                                              artist     sad  \n",
       "sid                                                           \n",
       "3c3f186cb9b2dd15804bf3995b65a34d  The Lijadu Sisters  0.6513  \n",
       "250592fdef076e436c1853f64633eaa2  Sir Vinyl Instinct  0.5858  \n",
       "157fd433432aa91f444e115d150e4da0              DJ Son  0.5748  \n",
       "e362351a9985df90496202e75a96d5e2    N'Draman Blintch  0.5634  \n",
       "b0d7c43db439b938a22f246358181549        Issam Hajali  0.5609  "
      ]
     },
     "execution_count": 326,
     "metadata": {},
     "output_type": "execute_result"
    }
   ],
   "source": [
    "sad.top_songs(n= 5)"
   ]
  },
  {
   "cell_type": "markdown",
   "id": "aae336d6",
   "metadata": {},
   "source": [
    "1. [Lord Have Mercy - The Lijadu Sisters](https://www.youtube.com/watch?v=cYDwE9yFB_I&ab_channel=TheLijaduSisters-Topic)\n",
    "\n",
    "2. [Labi Siffre - I got the (Sir Vinyls extended edit)\t](https://sirvinylinstinct.bandcamp.com/track/labi-siffre-i-got-the-sir-vinyls-extended-edit)\n",
    "\n",
    "3. [Fleetwood Mac - Dreams (DJ Son Edit)](https://www.youtube.com/watch?v=qSiJKW1-jq8&ab_channel=DJSon)\n",
    "\n",
    "4. [She Africa (Ton Tour Viendra) - N'Draman Blintch](https://www.youtube.com/watch?v=BcvC0UIsINI&ab_channel=Secousse)\n",
    "\n",
    "5. [Ada Issam Hajali](https://soundcloud.com/habibifunk/issam-hajali-ada-lebanon-1976)"
   ]
  },
  {
   "cell_type": "markdown",
   "id": "f8a18509",
   "metadata": {},
   "source": [
    "Even though these are 5 saddest songs in my database, they are moderately sad on average according to the model. However, I'm not really see how they could be considered sad. We're seeing mentions of songs such as Lord Have Mercy (top 5 least party, most acoustic), She Africa (top 5 least party), and Ada (top 5 least party). \n",
    "\n",
    "I'm also perplexed at how Dreams (DJ Son edit) could be considered sad. Remember that the model doesn't evaluate the lyrics, which if it did would justify its high sadness score.\n",
    "\n",
    "Let's further examine this song in particular to see which parts of the song the model rates as highest on the sadness scale"
   ]
  },
  {
   "cell_type": "code",
   "execution_count": 327,
   "id": "c73239a4",
   "metadata": {},
   "outputs": [
    {
     "data": {
      "text/plain": [
       "array([0.5375155 , 0.4181074 , 0.43601257, 0.73205423, 0.75721335,\n",
       "       0.78875804, 0.80084085, 0.83552885, 0.81524384, 0.8079525 ],\n",
       "      dtype=float32)"
      ]
     },
     "execution_count": 327,
     "metadata": {},
     "output_type": "execute_result"
    }
   ],
   "source": [
    "#Grab the array of sad scores for Dreams (DJ Son edit)\n",
    "dreams_id = '157fd433432aa91f444e115d150e4da0'\n",
    "sad_dreams = sad.df.loc[dreams_id].sad\n",
    "sad_dreams[:10]"
   ]
  },
  {
   "cell_type": "markdown",
   "id": "81ba0e2d",
   "metadata": {},
   "source": [
    "Let's visualize Dream's sad scores throughout the song's progression."
   ]
  },
  {
   "cell_type": "code",
   "execution_count": 328,
   "id": "365ae7bf",
   "metadata": {},
   "outputs": [
    {
     "data": {
      "text/plain": [
       "Text(0, 0.5, 'Sad Score')"
      ]
     },
     "execution_count": 328,
     "metadata": {},
     "output_type": "execute_result"
    },
    {
     "data": {
      "image/png": "[encoded data removed]",
      "text/plain": [
       "<Figure size 1152x432 with 1 Axes>"
      ]
     },
     "metadata": {
      "needs_background": "light"
     },
     "output_type": "display_data"
    }
   ],
   "source": [
    "plt.figure(figsize=(16, 6))\n",
    "x_vals = range(len(sad_dreams))\n",
    "plt.plot(x_vals, sad_dreams, \"-*\")\n",
    "plt.xlabel(\"Time Intevals\")\n",
    "plt.ylabel(\"Sad Score\")\n",
    "# plt.grid(False);"
   ]
  },
  {
   "cell_type": "markdown",
   "id": "f89a6df8",
   "metadata": {},
   "source": [
    "It appears that sadness peaks in several windows. Let's pick several of these peaks and give them the ear test."
   ]
  },
  {
   "cell_type": "markdown",
   "id": "1b1948f1",
   "metadata": {},
   "source": [
    "Now remember that a time interval is equivalent to 2.05 seconds. So we need to convert these interval values to seconds."
   ]
  },
  {
   "cell_type": "code",
   "execution_count": 329,
   "id": "734cb6fc",
   "metadata": {},
   "outputs": [],
   "source": [
    "seconds = 2.05\n",
    "\n",
    "#Saddness intervals \n",
    "sad_interval1 = (12*seconds, 19*seconds)\n",
    "sad_interval2 = (53*seconds, 59*seconds)\n",
    "sad_interval3 = (132*seconds, 138*seconds)"
   ]
  },
  {
   "cell_type": "code",
   "execution_count": 330,
   "id": "94cd8efa",
   "metadata": {},
   "outputs": [
    {
     "name": "stdout",
     "output_type": "stream",
     "text": [
      "(24.599999999999998, 38.949999999999996)\n",
      "(108.64999999999999, 120.94999999999999)\n",
      "(270.59999999999997, 282.9)\n"
     ]
    }
   ],
   "source": [
    "print(sad_interval1)\n",
    "print(sad_interval2)\n",
    "print(sad_interval3)"
   ]
  },
  {
   "cell_type": "markdown",
   "id": "4f8bdbec",
   "metadata": {},
   "source": [
    "Here are three clips from the song starting at various times in the song. Listen for about 12-14 seconds and assess for yourself if evoke sadness.\n",
    "\n",
    "Interval1: https://youtu.be/qSiJKW1-jq8?t=24 \n",
    "\n",
    "\n",
    "Interval2: https://youtu.be/qSiJKW1-jq8?t=108\n",
    "\n",
    "\n",
    "Interval3: https://youtu.be/qSiJKW1-jq8?t=270"
   ]
  },
  {
   "cell_type": "markdown",
   "id": "27c364e8",
   "metadata": {},
   "source": [
    "Still not convinced that these could sections of the song have a strong case of qualifying as sad. They're certainly mellow and at least for me induce feelings of relaxation and wavviness."
   ]
  },
  {
   "cell_type": "markdown",
   "id": "e7fe395c",
   "metadata": {},
   "source": [
    "**Random samples**\n",
    "\n",
    "Five randomly sampled songs with sad scores between 0.1 and 0.3"
   ]
  },
  {
   "cell_type": "code",
   "execution_count": 337,
   "id": "32482f4e",
   "metadata": {},
   "outputs": [
    {
     "data": {
      "text/html": [
       "<div>\n",
       "<style scoped>\n",
       "    .dataframe tbody tr th:only-of-type {\n",
       "        vertical-align: middle;\n",
       "    }\n",
       "\n",
       "    .dataframe tbody tr th {\n",
       "        vertical-align: top;\n",
       "    }\n",
       "\n",
       "    .dataframe thead th {\n",
       "        text-align: right;\n",
       "    }\n",
       "</style>\n",
       "<table border=\"1\" class=\"dataframe\">\n",
       "  <thead>\n",
       "    <tr style=\"text-align: right;\">\n",
       "      <th></th>\n",
       "      <th>title</th>\n",
       "      <th>artist</th>\n",
       "      <th>mean scores</th>\n",
       "      <th>stdev scores</th>\n",
       "    </tr>\n",
       "    <tr>\n",
       "      <th>sid</th>\n",
       "      <th></th>\n",
       "      <th></th>\n",
       "      <th></th>\n",
       "      <th></th>\n",
       "    </tr>\n",
       "  </thead>\n",
       "  <tbody>\n",
       "    <tr>\n",
       "      <th>f34bbce6d615a660ef130647d9081d2c</th>\n",
       "      <td>I'M Feeling Sexy Tonight</td>\n",
       "      <td>Chona Cruz</td>\n",
       "      <td>0.2405</td>\n",
       "      <td>0.1294</td>\n",
       "    </tr>\n",
       "    <tr>\n",
       "      <th>e8796c04b3f8297d8c319b767d212442</th>\n",
       "      <td>Meridian Brothers - Guaracha U.F.O (Sibu &amp; Joe Nagall edit)</td>\n",
       "      <td>Sibu</td>\n",
       "      <td>0.1993</td>\n",
       "      <td>0.0926</td>\n",
       "    </tr>\n",
       "    <tr>\n",
       "      <th>990e7d2ea4685390a3cac5b67dd370d2</th>\n",
       "      <td>Selected Edits Vol 2 - 01 Diskoria</td>\n",
       "      <td>Midnight Runners</td>\n",
       "      <td>0.1583</td>\n",
       "      <td>0.0937</td>\n",
       "    </tr>\n",
       "    <tr>\n",
       "      <th>ac76d5b08dc4d68496583d99a183aa2e</th>\n",
       "      <td>Never Never Gonna Give You Up (Refel T. Edit)_PN</td>\n",
       "      <td>Barry White</td>\n",
       "      <td>0.1271</td>\n",
       "      <td>0.0661</td>\n",
       "    </tr>\n",
       "    <tr>\n",
       "      <th>50345b72d25e46fc48595bac3111f32a</th>\n",
       "      <td>Nermin Niazi - Feisal Mosleh - Moving Still - Disco Se Aagay- Edits and Reprises - 03 Dekha Jab ...</td>\n",
       "      <td>None</td>\n",
       "      <td>0.1217</td>\n",
       "      <td>0.0814</td>\n",
       "    </tr>\n",
       "  </tbody>\n",
       "</table>\n",
       "</div>"
      ],
      "text/plain": [
       "                                                                                                                                title  \\\n",
       "sid                                                                                                                                     \n",
       "f34bbce6d615a660ef130647d9081d2c                                                                             I'M Feeling Sexy Tonight   \n",
       "e8796c04b3f8297d8c319b767d212442                                          Meridian Brothers - Guaracha U.F.O (Sibu & Joe Nagall edit)   \n",
       "990e7d2ea4685390a3cac5b67dd370d2                                                                   Selected Edits Vol 2 - 01 Diskoria   \n",
       "ac76d5b08dc4d68496583d99a183aa2e                                                     Never Never Gonna Give You Up (Refel T. Edit)_PN   \n",
       "50345b72d25e46fc48595bac3111f32a  Nermin Niazi - Feisal Mosleh - Moving Still - Disco Se Aagay- Edits and Reprises - 03 Dekha Jab ...   \n",
       "\n",
       "                                            artist  mean scores  stdev scores  \n",
       "sid                                                                            \n",
       "f34bbce6d615a660ef130647d9081d2c        Chona Cruz       0.2405        0.1294  \n",
       "e8796c04b3f8297d8c319b767d212442              Sibu       0.1993        0.0926  \n",
       "990e7d2ea4685390a3cac5b67dd370d2  Midnight Runners       0.1583        0.0937  \n",
       "ac76d5b08dc4d68496583d99a183aa2e       Barry White       0.1271        0.0661  \n",
       "50345b72d25e46fc48595bac3111f32a              None       0.1217        0.0814  "
      ]
     },
     "execution_count": 337,
     "metadata": {},
     "output_type": "execute_result"
    }
   ],
   "source": [
    "sad.song_sampler((.1, .3), n = 5, rs = 5)"
   ]
  },
  {
   "cell_type": "markdown",
   "id": "739823a8",
   "metadata": {},
   "source": [
    "1. [I'm Feeling Sexy Tonight - Chona Cruz](https://www.youtube.com/watch?v=RG57K_9y5Rc&ab_channel=Marc%27sOPMPlaylist)\n",
    "\n",
    "2. [Meridian Brothers - Guaracha U.F.O (Sibu & Joe Nagall edit)\tSibu](https://soundcloud.com/sibu/meridian-brothers-guaracha-ufo-sibu-joe-nagall-edit)\n",
    "\n",
    "3. [Selected Edits Vol 2 - 01 Diskoria\tMidnight Runners](https://midnightrunners.bandcamp.com/track/diskoria)\n",
    "\n",
    "4. [Never Never Gonna Give You Up (Refel T. Edit)](https://refel.bandcamp.com/track/barry-white-never-never-gonna-give-you-up-refel-t-edit)\n",
    "\n",
    "5. [Nermin Niazi - Feisal Mosleh - Moving Still - Disco Se Aagay- Edits and Reprises - 03 Dekha Jab Se Dekha](https://discostan.bandcamp.com/track/dekha-jab-se-dekha)"
   ]
  },
  {
   "cell_type": "markdown",
   "id": "07b65112",
   "metadata": {},
   "source": [
    "\"I'm Feeling Sexy Tonight\" deserves a much lower score. Like \"Dreams\" I vehemently disagree with its high sadness score. I'm starting to think that \"sadness\" is not a strong model as the others or that my song collection may not suitable for it."
   ]
  },
  {
   "cell_type": "markdown",
   "id": "1e47e07b",
   "metadata": {},
   "source": [
    "## Conclusion\n",
    "\n",
    "Overall, I am satisified with the scores and deem them appropriate for curating a playlist of songs for my gigs. This exercise proved to be useful developing an understanding of how these model evaluate music and forced me to critically assess songs based on a certain mood. \n",
    "\n",
    "It's important to remember the limitations of this task such as sorting songs based on averages and judging model quality based on a small sample of songs.\n",
    "\n",
    "The next notebook is a continuation of this one where I curate songs for certain DJ gig scenarios based on these model scores."
   ]
  }
 ],
 "metadata": {
  "kernelspec": {
   "display_name": "music",
   "language": "python",
   "name": "music"
  },
  "language_info": {
   "codemirror_mode": {
    "name": "ipython",
    "version": 3
   },
   "file_extension": ".py",
   "mimetype": "text/x-python",
   "name": "python",
   "nbconvert_exporter": "python",
   "pygments_lexer": "ipython3",
   "version": "3.7.13"
  }
 },
 "nbformat": 4,
 "nbformat_minor": 5
}
