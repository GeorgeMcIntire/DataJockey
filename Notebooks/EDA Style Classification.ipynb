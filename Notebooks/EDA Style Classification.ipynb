{
 "cells": [
  {
   "cell_type": "markdown",
   "id": "841355a6",
   "metadata": {},
   "source": [
    "# Exploratory Data Analysis\n",
    "\n",
    "## Music Style Classification"
   ]
  },
  {
   "cell_type": "markdown",
   "id": "0016dcb7",
   "metadata": {},
   "source": [
    "In this notebook I'm analyzing the results of the models classifying mood, style, and genres in the music.\n",
    "\n",
    "All of the models featured in this notebook were trained on 1280-dim embeddings produced by the [discogs-effnet model](https://essentia.upf.edu/models/music-style-classification/discogs-effnet/discogs-effnet-bs64-1.json)"
   ]
  },
  {
   "cell_type": "code",
   "execution_count": 14,
   "id": "97e15b95",
   "metadata": {},
   "outputs": [],
   "source": [
    "#Imports\n",
    "import sqlite3\n",
    "import json\n",
    "import pandas as pd\n",
    "import numpy as np\n",
    "import matplotlib.pyplot as plt\n",
    "import seaborn as sb\n",
    "from glob import glob\n",
    "from tqdm import tqdm\n",
    "import pathlib\n",
    "import librosa\n",
    "import taglib\n",
    "import warnings\n",
    "warnings.filterwarnings('ignore')\n",
    "pd.set_option('max_colwidth', 100)\n",
    "plt.style.use(\"ggplot\")"
   ]
  },
  {
   "cell_type": "code",
   "execution_count": 2,
   "id": "2398c99f",
   "metadata": {},
   "outputs": [],
   "source": [
    "#Imports from project package called project_tools\n",
    "from project_tools.utils import adapt_array, convert_array, tag_cleaner, json_opener"
   ]
  },
  {
   "cell_type": "code",
   "execution_count": 3,
   "id": "de3a64cf",
   "metadata": {},
   "outputs": [],
   "source": [
    "#Register these functions with sqlite3 so that we I can work with \n",
    "sqlite3.register_adapter(np.ndarray, adapt_array)\n",
    "sqlite3.register_converter(\"array\", convert_array)"
   ]
  },
  {
   "cell_type": "code",
   "execution_count": 4,
   "id": "fc1caa61",
   "metadata": {},
   "outputs": [],
   "source": [
    "#Connect to db\n",
    "conn = sqlite3.connect(\"../jaage.db\", detect_types= sqlite3.PARSE_DECLTYPES)\n",
    "cur = conn.cursor()"
   ]
  },
  {
   "cell_type": "markdown",
   "id": "333bd362",
   "metadata": {},
   "source": [
    "I'll be analyzing data from the following tables"
   ]
  },
  {
   "cell_type": "code",
   "execution_count": 121,
   "id": "212edc5b",
   "metadata": {},
   "outputs": [],
   "source": [
    "tables = ['approachability_2c_effnet_discogs_1_activations',\n",
    " 'danceability_effnet_discogs_1_activations',\n",
    " 'engagement_2c_effnet_discogs_1_activations',\n",
    " 'mood_acoustic_effnet_discogs_1_activations',\n",
    " 'mood_aggressive_effnet_discogs_1_activations',\n",
    " 'mood_happy_effnet_discogs_1_activations',\n",
    " 'mood_party_effnet_discogs_1_activations',\n",
    " 'mood_sad_effnet_discogs_1_activations']"
   ]
  },
  {
   "cell_type": "markdown",
   "id": "d62dfbe3",
   "metadata": {},
   "source": [
    "Load in tags data "
   ]
  },
  {
   "cell_type": "code",
   "execution_count": 6,
   "id": "dae60e86",
   "metadata": {},
   "outputs": [
    {
     "data": {
      "text/html": [
       "<div>\n",
       "<style scoped>\n",
       "    .dataframe tbody tr th:only-of-type {\n",
       "        vertical-align: middle;\n",
       "    }\n",
       "\n",
       "    .dataframe tbody tr th {\n",
       "        vertical-align: top;\n",
       "    }\n",
       "\n",
       "    .dataframe thead th {\n",
       "        text-align: right;\n",
       "    }\n",
       "</style>\n",
       "<table border=\"1\" class=\"dataframe\">\n",
       "  <thead>\n",
       "    <tr style=\"text-align: right;\">\n",
       "      <th></th>\n",
       "      <th>length</th>\n",
       "      <th>gain</th>\n",
       "      <th>codec</th>\n",
       "      <th>file_name</th>\n",
       "      <th>bpm</th>\n",
       "      <th>initialkey</th>\n",
       "      <th>title</th>\n",
       "      <th>album</th>\n",
       "      <th>artist</th>\n",
       "      <th>date</th>\n",
       "      <th>genre</th>\n",
       "      <th>label</th>\n",
       "    </tr>\n",
       "    <tr>\n",
       "      <th>sid</th>\n",
       "      <th></th>\n",
       "      <th></th>\n",
       "      <th></th>\n",
       "      <th></th>\n",
       "      <th></th>\n",
       "      <th></th>\n",
       "      <th></th>\n",
       "      <th></th>\n",
       "      <th></th>\n",
       "      <th></th>\n",
       "      <th></th>\n",
       "      <th></th>\n",
       "    </tr>\n",
       "  </thead>\n",
       "  <tbody>\n",
       "    <tr>\n",
       "      <th>b806881a54bdbf9dd93a290716adf191</th>\n",
       "      <td>287.393372</td>\n",
       "      <td>-9.895140</td>\n",
       "      <td>pcm_s16le</td>\n",
       "      <td>04 House Of Love_PN.wav</td>\n",
       "      <td>119.0</td>\n",
       "      <td>6A</td>\n",
       "      <td>04 House Of Love_PN</td>\n",
       "      <td>None</td>\n",
       "      <td>None</td>\n",
       "      <td>None</td>\n",
       "      <td>None</td>\n",
       "      <td>None</td>\n",
       "    </tr>\n",
       "    <tr>\n",
       "      <th>46e54d2ab920a088b77382e04877141b</th>\n",
       "      <td>311.251892</td>\n",
       "      <td>-11.281836</td>\n",
       "      <td>pcm_s16le</td>\n",
       "      <td>Alex Virgo - Rough N' Ready Edits - 06 A.T.S - Baa Daa Laa (Alex Virgo's Rough n Ready edit)_PN.wav</td>\n",
       "      <td>128.0</td>\n",
       "      <td>1A</td>\n",
       "      <td>A.T.S - Baa Daa Laa (Alex Virgo's Rough n Ready edit)</td>\n",
       "      <td>Rough N' Ready Edits</td>\n",
       "      <td>Alex Virgo</td>\n",
       "      <td>2020</td>\n",
       "      <td>None</td>\n",
       "      <td>None</td>\n",
       "    </tr>\n",
       "    <tr>\n",
       "      <th>a204ddef5763df6d8f7677701fe9d96f</th>\n",
       "      <td>415.114746</td>\n",
       "      <td>-9.958479</td>\n",
       "      <td>pcm_s16le</td>\n",
       "      <td>01 Protostar_PN.wav</td>\n",
       "      <td>117.0</td>\n",
       "      <td>5A</td>\n",
       "      <td>Protostar</td>\n",
       "      <td>Planetary Groove</td>\n",
       "      <td>FROM BEYOND</td>\n",
       "      <td>2020</td>\n",
       "      <td>None</td>\n",
       "      <td>None</td>\n",
       "    </tr>\n",
       "    <tr>\n",
       "      <th>960097894e83c5810a9c649f17a4e551</th>\n",
       "      <td>321.108765</td>\n",
       "      <td>-12.223524</td>\n",
       "      <td>pcm_s16le</td>\n",
       "      <td>Cristal - Drink My Soul (Running Hot Edit)_PN.wav</td>\n",
       "      <td>0.0</td>\n",
       "      <td>None</td>\n",
       "      <td>None</td>\n",
       "      <td>None</td>\n",
       "      <td>None</td>\n",
       "      <td>None</td>\n",
       "      <td>None</td>\n",
       "      <td>None</td>\n",
       "    </tr>\n",
       "    <tr>\n",
       "      <th>a3c1f277aa0110ffc418bf5fa3aa16aa</th>\n",
       "      <td>378.276276</td>\n",
       "      <td>-12.410757</td>\n",
       "      <td>pcm_s16le</td>\n",
       "      <td>Maya - Lait De Coco ( Les Yeux Orange Edit)_PN.wav</td>\n",
       "      <td>109.0</td>\n",
       "      <td>6A</td>\n",
       "      <td>Maya - Lait De Coco ( Les Yeux Orange Edit)_PN</td>\n",
       "      <td>None</td>\n",
       "      <td>None</td>\n",
       "      <td>2016</td>\n",
       "      <td>None</td>\n",
       "      <td>None</td>\n",
       "    </tr>\n",
       "  </tbody>\n",
       "</table>\n",
       "</div>"
      ],
      "text/plain": [
       "                                      length       gain      codec  \\\n",
       "sid                                                                  \n",
       "b806881a54bdbf9dd93a290716adf191  287.393372  -9.895140  pcm_s16le   \n",
       "46e54d2ab920a088b77382e04877141b  311.251892 -11.281836  pcm_s16le   \n",
       "a204ddef5763df6d8f7677701fe9d96f  415.114746  -9.958479  pcm_s16le   \n",
       "960097894e83c5810a9c649f17a4e551  321.108765 -12.223524  pcm_s16le   \n",
       "a3c1f277aa0110ffc418bf5fa3aa16aa  378.276276 -12.410757  pcm_s16le   \n",
       "\n",
       "                                                                                                                            file_name  \\\n",
       "sid                                                                                                                                     \n",
       "b806881a54bdbf9dd93a290716adf191                                                                              04 House Of Love_PN.wav   \n",
       "46e54d2ab920a088b77382e04877141b  Alex Virgo - Rough N' Ready Edits - 06 A.T.S - Baa Daa Laa (Alex Virgo's Rough n Ready edit)_PN.wav   \n",
       "a204ddef5763df6d8f7677701fe9d96f                                                                                  01 Protostar_PN.wav   \n",
       "960097894e83c5810a9c649f17a4e551                                                    Cristal - Drink My Soul (Running Hot Edit)_PN.wav   \n",
       "a3c1f277aa0110ffc418bf5fa3aa16aa                                                   Maya - Lait De Coco ( Les Yeux Orange Edit)_PN.wav   \n",
       "\n",
       "                                    bpm initialkey  \\\n",
       "sid                                                  \n",
       "b806881a54bdbf9dd93a290716adf191  119.0         6A   \n",
       "46e54d2ab920a088b77382e04877141b  128.0         1A   \n",
       "a204ddef5763df6d8f7677701fe9d96f  117.0         5A   \n",
       "960097894e83c5810a9c649f17a4e551    0.0       None   \n",
       "a3c1f277aa0110ffc418bf5fa3aa16aa  109.0         6A   \n",
       "\n",
       "                                                                                  title  \\\n",
       "sid                                                                                       \n",
       "b806881a54bdbf9dd93a290716adf191                                    04 House Of Love_PN   \n",
       "46e54d2ab920a088b77382e04877141b  A.T.S - Baa Daa Laa (Alex Virgo's Rough n Ready edit)   \n",
       "a204ddef5763df6d8f7677701fe9d96f                                              Protostar   \n",
       "960097894e83c5810a9c649f17a4e551                                                   None   \n",
       "a3c1f277aa0110ffc418bf5fa3aa16aa         Maya - Lait De Coco ( Les Yeux Orange Edit)_PN   \n",
       "\n",
       "                                                 album       artist  date  \\\n",
       "sid                                                                         \n",
       "b806881a54bdbf9dd93a290716adf191                  None         None  None   \n",
       "46e54d2ab920a088b77382e04877141b  Rough N' Ready Edits   Alex Virgo  2020   \n",
       "a204ddef5763df6d8f7677701fe9d96f      Planetary Groove  FROM BEYOND  2020   \n",
       "960097894e83c5810a9c649f17a4e551                  None         None  None   \n",
       "a3c1f277aa0110ffc418bf5fa3aa16aa                  None         None  2016   \n",
       "\n",
       "                                 genre label  \n",
       "sid                                           \n",
       "b806881a54bdbf9dd93a290716adf191  None  None  \n",
       "46e54d2ab920a088b77382e04877141b  None  None  \n",
       "a204ddef5763df6d8f7677701fe9d96f  None  None  \n",
       "960097894e83c5810a9c649f17a4e551  None  None  \n",
       "a3c1f277aa0110ffc418bf5fa3aa16aa  None  None  "
      ]
     },
     "execution_count": 6,
     "metadata": {},
     "output_type": "execute_result"
    }
   ],
   "source": [
    "tags = pd.read_sql_query(\"SELECT * FROM tags\", con = conn).set_index(\"sid\")\n",
    "tags.head(5)"
   ]
  },
  {
   "cell_type": "code",
   "execution_count": 7,
   "id": "e6c9012a",
   "metadata": {},
   "outputs": [
    {
     "name": "stdout",
     "output_type": "stream",
     "text": [
      "<class 'pandas.core.frame.DataFrame'>\n",
      "Index: 3676 entries, b806881a54bdbf9dd93a290716adf191 to c907c2625a4b9ca8c4f82c47c130ca6a\n",
      "Data columns (total 12 columns):\n",
      " #   Column      Non-Null Count  Dtype  \n",
      "---  ------      --------------  -----  \n",
      " 0   length      3676 non-null   float64\n",
      " 1   gain        3676 non-null   float64\n",
      " 2   codec       3676 non-null   object \n",
      " 3   file_name   3676 non-null   object \n",
      " 4   bpm         3328 non-null   float64\n",
      " 5   initialkey  2789 non-null   object \n",
      " 6   title       3601 non-null   object \n",
      " 7   album       1567 non-null   object \n",
      " 8   artist      2682 non-null   object \n",
      " 9   date        1115 non-null   object \n",
      " 10  genre       330 non-null    object \n",
      " 11  label       187 non-null    object \n",
      "dtypes: float64(3), object(9)\n",
      "memory usage: 373.3+ KB\n"
     ]
    }
   ],
   "source": [
    "tags.info()"
   ]
  },
  {
   "cell_type": "markdown",
   "id": "700c5b79",
   "metadata": {},
   "source": [
    "### Ear Test\n",
    "\n",
    "Similar to the EDA Effnet Genres notebook, I'll be evaluating the models' performance in appraising my song collection based on their criteria. \n",
    "\n",
    "\n",
    "I'm especially curious to see the results because mood scores are arguably more useful to me as a DJ. When I curate tracks for a gig, I need to assemble a collection of songs that match the \"vibe\" of the event. For example I'm not dropping brash techno at a winebar and nor am I spinning somber r'nb at a night club.\n",
    "\n",
    "Assuming these metrics are fairly workable, I could envision using them as a way to conditionally filter songs for gigs; think writing a query for a night club gig that's like \"SELECT songs FROM tbl where dance_score >threshold\".\n",
    "\n",
    "\n",
    "Another thing I'm curious about is that labels such as approachablility, engagement, sadness in a the context of music are much more abstract concepts than say genre. In most cases, a song's genre is undebatable but how do you define how \"party\" a song is? Even something obvious like \"danceability\" poses its own unique challenges, how can model get a grasp of how danceable a song is when significantly different genres of music can all be considered highly danceable.\n",
    "\n",
    "With those and other questions in mind, I'll go through each of the tables and show the top scoring tracks along with links to them so that the reader can conduct their own assessment."
   ]
  },
  {
   "cell_type": "markdown",
   "id": "babd73ee",
   "metadata": {},
   "source": [
    "**Activation DataHub Class**\n",
    "\n",
    "I'm creating a class that holds all the methods and data that I'll be repeatedly working with for each of the activation scores tables."
   ]
  },
  {
   "cell_type": "code",
   "execution_count": 113,
   "id": "faac0a56",
   "metadata": {},
   "outputs": [],
   "source": [
    "class ActivationDataHub:\n",
    "    \n",
    "    def __init__(self, table_name):\n",
    "        \n",
    "        print(f\"Loading {table_name} data\")\n",
    "        self.table_name = table_name\n",
    "        self.df = pd.read_sql_query(f\"SELECT * FROM {self.table_name}\",con = conn).set_index(\"sid\").applymap(lambda x:x[0])\n",
    "        \n",
    "        self.df_mean = self.df.applymap(lambda x:x.mean())\n",
    "        self.df_std = self.df.applymap(lambda x:x.std())\n",
    "        \n",
    "        \n",
    "    def dist_viz(self, col, figsize = (8, 5)):\n",
    "        \"\"\"\n",
    "        This function shows a histogram of the average activation scores for a specified column \n",
    "        along with the summary statistics.\n",
    "        \"\"\"\n",
    "        plt.figure(figsize = figsize)\n",
    "        series = self.df_mean[col]\n",
    "        ax = sb.histplot(x= series)\n",
    "        ax.set_title(f\"Distribution of {series.name.title()} Scores\", fontsize = 18)\n",
    "        ax.set_ylabel(\"Frequency\", fontsize = 14)\n",
    "        ax.set_xlabel(series.name.title() + \" scores\".title(), fontsize = 14)\n",
    "        sum_stats = series.describe().round(3).__str__()\n",
    "        sum_stats = \"Summary Stats: \\n\"+ sum_stats[sum_stats.find(\"\\n\"):sum_stats.find(\"\\nName\")]\n",
    "        ax.annotate(sum_stats, (1.1,150), annotation_clip=False, fontsize= 14);\n",
    "        \n",
    "    def top_songs(self, col, n = 10, ascending = False):\n",
    "        series = self.df_mean[col]\n",
    "        if ascending:\n",
    "            top_scores = series.nsmallest(n)\n",
    "        else:\n",
    "            top_scores = series.nlargest(n)\n",
    "        return pd.concat([tags, top_scores], \n",
    "                         axis = 1).dropna(subset=[series.name])[[\"title\",\n",
    "                                                                \"artist\", series.name]].sort_values(by = series.name,\n",
    "                                                                                            ascending=ascending)"
   ]
  },
  {
   "cell_type": "markdown",
   "id": "51303b2e",
   "metadata": {},
   "source": [
    "**Approachability**\n",
    "\n",
    "\"Music approachability predicting whether the music is likely to be accessible for the general public (e.g., belonging to common mainstream music genres vs. niche and experimental genres).\"\n",
    "\n",
    "More info ==> https://essentia.upf.edu/models.html#approachability\n"
   ]
  },
  {
   "cell_type": "markdown",
   "id": "010c6b0a",
   "metadata": {},
   "source": [
    "I'm the first to admit that the music I play is not mainstream — you won't hear any Taylor Swift/Drake mashups at my sets. In fact I've been encouraged by some friends to play more popular music.\n",
    "\n",
    "With that being said I'm quite eager to know the approachability model's assessment of my collection. What does it mean if a song that is not popular is rated high on the approachability scale? This could potentially be a huge deal because DJs love to play great songs that crowds haven't heard before. So if I have a bunch relatively obscure songs whose sound has massive crossover appeal, I could be onto something here."
   ]
  },
  {
   "cell_type": "code",
   "execution_count": 114,
   "id": "d2a77084",
   "metadata": {},
   "outputs": [
    {
     "name": "stdout",
     "output_type": "stream",
     "text": [
      "Loading approachability_2c_effnet_discogs_1_activations data\n"
     ]
    },
    {
     "data": {
      "text/html": [
       "<div>\n",
       "<style scoped>\n",
       "    .dataframe tbody tr th:only-of-type {\n",
       "        vertical-align: middle;\n",
       "    }\n",
       "\n",
       "    .dataframe tbody tr th {\n",
       "        vertical-align: top;\n",
       "    }\n",
       "\n",
       "    .dataframe thead th {\n",
       "        text-align: right;\n",
       "    }\n",
       "</style>\n",
       "<table border=\"1\" class=\"dataframe\">\n",
       "  <thead>\n",
       "    <tr style=\"text-align: right;\">\n",
       "      <th></th>\n",
       "      <th>not_approachable</th>\n",
       "      <th>approachable</th>\n",
       "    </tr>\n",
       "    <tr>\n",
       "      <th>sid</th>\n",
       "      <th></th>\n",
       "      <th></th>\n",
       "    </tr>\n",
       "  </thead>\n",
       "  <tbody>\n",
       "    <tr>\n",
       "      <th>b806881a54bdbf9dd93a290716adf191</th>\n",
       "      <td>[0.7773523, 0.8477703, 0.74907845, 0.86111253, 0.7850447, 0.8689087, 0.71038795, 0.81490517, 0.5...</td>\n",
       "      <td>[0.22264773, 0.15222974, 0.25092158, 0.13888745, 0.21495527, 0.13109131, 0.2896121, 0.18509479, ...</td>\n",
       "    </tr>\n",
       "    <tr>\n",
       "      <th>46e54d2ab920a088b77382e04877141b</th>\n",
       "      <td>[0.9233631, 0.94062567, 0.9361475, 0.9502406, 0.95356244, 0.9412267, 0.94867647, 0.9170702, 0.94...</td>\n",
       "      <td>[0.0766369, 0.059374325, 0.06385247, 0.049759354, 0.0464376, 0.058773216, 0.05132359, 0.08292975...</td>\n",
       "    </tr>\n",
       "    <tr>\n",
       "      <th>a204ddef5763df6d8f7677701fe9d96f</th>\n",
       "      <td>[0.31597278, 0.44296739, 0.37413007, 0.3979797, 0.36894128, 0.41880748, 0.30266258, 0.35461393, ...</td>\n",
       "      <td>[0.6840272, 0.5570327, 0.6258699, 0.60202026, 0.6310587, 0.5811925, 0.69733745, 0.64538604, 0.67...</td>\n",
       "    </tr>\n",
       "    <tr>\n",
       "      <th>960097894e83c5810a9c649f17a4e551</th>\n",
       "      <td>[0.4144781, 0.3078609, 0.43320435, 0.2669011, 0.36961454, 0.2960183, 0.3229168, 0.25113502, 0.13...</td>\n",
       "      <td>[0.5855219, 0.6921391, 0.5667957, 0.733099, 0.6303855, 0.7039817, 0.6770832, 0.74886495, 0.86378...</td>\n",
       "    </tr>\n",
       "    <tr>\n",
       "      <th>a3c1f277aa0110ffc418bf5fa3aa16aa</th>\n",
       "      <td>[0.828504, 0.7391437, 0.66389257, 0.82320875, 0.71819824, 0.7778949, 0.67318004, 0.8050778, 0.64...</td>\n",
       "      <td>[0.17149605, 0.26085627, 0.33610743, 0.17679125, 0.28180176, 0.22210509, 0.32681996, 0.19492222,...</td>\n",
       "    </tr>\n",
       "  </tbody>\n",
       "</table>\n",
       "</div>"
      ],
      "text/plain": [
       "                                                                                                                     not_approachable  \\\n",
       "sid                                                                                                                                     \n",
       "b806881a54bdbf9dd93a290716adf191  [0.7773523, 0.8477703, 0.74907845, 0.86111253, 0.7850447, 0.8689087, 0.71038795, 0.81490517, 0.5...   \n",
       "46e54d2ab920a088b77382e04877141b  [0.9233631, 0.94062567, 0.9361475, 0.9502406, 0.95356244, 0.9412267, 0.94867647, 0.9170702, 0.94...   \n",
       "a204ddef5763df6d8f7677701fe9d96f  [0.31597278, 0.44296739, 0.37413007, 0.3979797, 0.36894128, 0.41880748, 0.30266258, 0.35461393, ...   \n",
       "960097894e83c5810a9c649f17a4e551  [0.4144781, 0.3078609, 0.43320435, 0.2669011, 0.36961454, 0.2960183, 0.3229168, 0.25113502, 0.13...   \n",
       "a3c1f277aa0110ffc418bf5fa3aa16aa  [0.828504, 0.7391437, 0.66389257, 0.82320875, 0.71819824, 0.7778949, 0.67318004, 0.8050778, 0.64...   \n",
       "\n",
       "                                                                                                                         approachable  \n",
       "sid                                                                                                                                    \n",
       "b806881a54bdbf9dd93a290716adf191  [0.22264773, 0.15222974, 0.25092158, 0.13888745, 0.21495527, 0.13109131, 0.2896121, 0.18509479, ...  \n",
       "46e54d2ab920a088b77382e04877141b  [0.0766369, 0.059374325, 0.06385247, 0.049759354, 0.0464376, 0.058773216, 0.05132359, 0.08292975...  \n",
       "a204ddef5763df6d8f7677701fe9d96f  [0.6840272, 0.5570327, 0.6258699, 0.60202026, 0.6310587, 0.5811925, 0.69733745, 0.64538604, 0.67...  \n",
       "960097894e83c5810a9c649f17a4e551  [0.5855219, 0.6921391, 0.5667957, 0.733099, 0.6303855, 0.7039817, 0.6770832, 0.74886495, 0.86378...  \n",
       "a3c1f277aa0110ffc418bf5fa3aa16aa  [0.17149605, 0.26085627, 0.33610743, 0.17679125, 0.28180176, 0.22210509, 0.32681996, 0.19492222,...  "
      ]
     },
     "execution_count": 114,
     "metadata": {},
     "output_type": "execute_result"
    }
   ],
   "source": [
    "table = tables[0]\n",
    "approach = ActivationDataHub(table_name=table)\n",
    "approach.df.head()"
   ]
  },
  {
   "cell_type": "code",
   "execution_count": 49,
   "id": "b80438bb",
   "metadata": {},
   "outputs": [
    {
     "name": "stdout",
     "output_type": "stream",
     "text": [
      "<class 'pandas.core.frame.DataFrame'>\n",
      "Index: 3676 entries, b806881a54bdbf9dd93a290716adf191 to c907c2625a4b9ca8c4f82c47c130ca6a\n",
      "Data columns (total 2 columns):\n",
      " #   Column            Non-Null Count  Dtype \n",
      "---  ------            --------------  ----- \n",
      " 0   not_approachable  3676 non-null   object\n",
      " 1   approachable      3676 non-null   object\n",
      "dtypes: object(2)\n",
      "memory usage: 86.2+ KB\n"
     ]
    }
   ],
   "source": [
    "approach.df.info()"
   ]
  },
  {
   "cell_type": "code",
   "execution_count": 50,
   "id": "d018e62a",
   "metadata": {},
   "outputs": [
    {
     "data": {
      "text/plain": [
       "not_approachable    [0.7773523, 0.8477703, 0.74907845, 0.86111253, 0.7850447, 0.8689087, 0.71038795, 0.81490517, 0.5...\n",
       "approachable        [0.22264773, 0.15222974, 0.25092158, 0.13888745, 0.21495527, 0.13109131, 0.2896121, 0.18509479, ...\n",
       "Name: b806881a54bdbf9dd93a290716adf191, dtype: object"
      ]
     },
     "execution_count": 50,
     "metadata": {},
     "output_type": "execute_result"
    }
   ],
   "source": [
    "song1 = approach.df.iloc[0]\n",
    "song1"
   ]
  },
  {
   "cell_type": "code",
   "execution_count": 51,
   "id": "845ab7d5",
   "metadata": {},
   "outputs": [
    {
     "data": {
      "text/plain": [
       "not_approachable    140\n",
       "approachable        140\n",
       "Name: b806881a54bdbf9dd93a290716adf191, dtype: int64"
      ]
     },
     "execution_count": 51,
     "metadata": {},
     "output_type": "execute_result"
    }
   ],
   "source": [
    "song1.apply(len)"
   ]
  },
  {
   "cell_type": "markdown",
   "id": "06af403d",
   "metadata": {},
   "source": [
    "As seen in the EDA Effnet Genres notebook, the data in this and the ensuing tables possess the same structure. Each cell in the pandas dataframe is a N-length array holding the activation scores for the class mentioned in the column name."
   ]
  },
  {
   "cell_type": "code",
   "execution_count": 52,
   "id": "4028c7f5",
   "metadata": {},
   "outputs": [],
   "source": [
    "def pair_sum(x, col1, col2):\n",
    "    #Grab the arrays from both columns\n",
    "    data1 = x[col1]\n",
    "    data2 = x[col2]\n",
    "    #Add them together\n",
    "    summ = data1+data2\n",
    "    \n",
    "    #calculate the mean and if the mean is close to 1 then it indicates they basically sum to 1\n",
    "    return summ.mean()"
   ]
  },
  {
   "cell_type": "code",
   "execution_count": 53,
   "id": "825a236d",
   "metadata": {},
   "outputs": [
    {
     "data": {
      "text/plain": [
       "1.0    3676\n",
       "dtype: int64"
      ]
     },
     "execution_count": 53,
     "metadata": {},
     "output_type": "execute_result"
    }
   ],
   "source": [
    "approach.df.apply(lambda x:pair_sum(x, 'not_approachable', 'approachable'), axis = 1).value_counts()"
   ]
  },
  {
   "cell_type": "markdown",
   "id": "c7f511ee",
   "metadata": {},
   "source": [
    "Derive the means and standard deviations of the arrays in each cell"
   ]
  },
  {
   "cell_type": "code",
   "execution_count": 54,
   "id": "47c8475b",
   "metadata": {},
   "outputs": [],
   "source": [
    "approach_df_mean = approach.df_mean\n",
    "approach_df_std = approach.df_std"
   ]
  },
  {
   "cell_type": "markdown",
   "id": "887c6457",
   "metadata": {},
   "source": [
    "I'm repeating a task I did in the Effnet Genres notebook by comparing the means and standard deviations in order to see how representative a mean is of a whole array."
   ]
  },
  {
   "cell_type": "code",
   "execution_count": 55,
   "id": "1511f0e0",
   "metadata": {},
   "outputs": [
    {
     "data": {
      "image/png": "[encoded data removed]",
      "text/plain": [
       "<Figure size 576x432 with 1 Axes>"
      ]
     },
     "metadata": {
      "needs_background": "light"
     },
     "output_type": "display_data"
    }
   ],
   "source": [
    "all_means = approach_df_mean.values.flatten()\n",
    "all_stds = approach_df_std.values.flatten()\n",
    "\n",
    "plt.figure(figsize=(8, 6))\n",
    "plt.xlim(0, 1)\n",
    "plt.ylim(0, 1)\n",
    "plt.scatter(all_means, all_stds)\n",
    "plt.plot([0, 1],\":\", c= \"black\" )\n",
    "plt.xlabel(\"Approachable Means\")\n",
    "plt.ylabel(\"Approachable Standard Deviations\");"
   ]
  },
  {
   "cell_type": "markdown",
   "id": "54871d48",
   "metadata": {},
   "source": [
    "For the most part, the means greater than the standard deviations which fills me with more confidence when interpreting analysis made on the means."
   ]
  },
  {
   "cell_type": "markdown",
   "id": "4ff9d0cc",
   "metadata": {},
   "source": [
    "**Summary Stats and Distribution**"
   ]
  },
  {
   "cell_type": "code",
   "execution_count": 56,
   "id": "f720df04",
   "metadata": {},
   "outputs": [
    {
     "data": {
      "image/png": "[encoded data removed]",
      "text/plain": [
       "<Figure size 576x360 with 1 Axes>"
      ]
     },
     "metadata": {
      "needs_background": "light"
     },
     "output_type": "display_data"
    }
   ],
   "source": [
    "approach.dist_viz(\"approachable\")"
   ]
  },
  {
   "cell_type": "markdown",
   "id": "cec64e22",
   "metadata": {},
   "source": [
    "Given what I wrote earlier, this chart is quite surprising. It indicates that this model highly rates my music collection how accessible it is to the public. "
   ]
  },
  {
   "cell_type": "markdown",
   "id": "e9935dd6",
   "metadata": {},
   "source": [
    "Now let's take a look at the five most and least approachable songs in the database."
   ]
  },
  {
   "cell_type": "code",
   "execution_count": 59,
   "id": "ba498c29",
   "metadata": {},
   "outputs": [
    {
     "data": {
      "text/html": [
       "<div>\n",
       "<style scoped>\n",
       "    .dataframe tbody tr th:only-of-type {\n",
       "        vertical-align: middle;\n",
       "    }\n",
       "\n",
       "    .dataframe tbody tr th {\n",
       "        vertical-align: top;\n",
       "    }\n",
       "\n",
       "    .dataframe thead th {\n",
       "        text-align: right;\n",
       "    }\n",
       "</style>\n",
       "<table border=\"1\" class=\"dataframe\">\n",
       "  <thead>\n",
       "    <tr style=\"text-align: right;\">\n",
       "      <th></th>\n",
       "      <th>title</th>\n",
       "      <th>artist</th>\n",
       "      <th>approachable</th>\n",
       "    </tr>\n",
       "    <tr>\n",
       "      <th>sid</th>\n",
       "      <th></th>\n",
       "      <th></th>\n",
       "      <th></th>\n",
       "    </tr>\n",
       "  </thead>\n",
       "  <tbody>\n",
       "    <tr>\n",
       "      <th>bd8fba4e12551113b6bb28e30659cad3</th>\n",
       "      <td>I Love You (Extended)</td>\n",
       "      <td>Karriem</td>\n",
       "      <td>0.992329</td>\n",
       "    </tr>\n",
       "    <tr>\n",
       "      <th>1b8532b6d23301b8ea16d82d7c33cba3</th>\n",
       "      <td>ouiness_zina_finished!</td>\n",
       "      <td>None</td>\n",
       "      <td>0.988984</td>\n",
       "    </tr>\n",
       "    <tr>\n",
       "      <th>c1becbc465751149b42ad8ebbe06d80c</th>\n",
       "      <td>Şehrazat - Kendim ettim, kendim buldum (disco funk, Turkey 1981)</td>\n",
       "      <td>ultradiskopanorama</td>\n",
       "      <td>0.988932</td>\n",
       "    </tr>\n",
       "    <tr>\n",
       "      <th>b6f5a4b06bbd4279f4e8727a137bfe7f</th>\n",
       "      <td>Don't Let Me Down</td>\n",
       "      <td>Marcia Griffiths</td>\n",
       "      <td>0.988707</td>\n",
       "    </tr>\n",
       "    <tr>\n",
       "      <th>e68b85b8da0842ca44ad583b4d5cebea</th>\n",
       "      <td>Mioukouna</td>\n",
       "      <td>NST Cophie's</td>\n",
       "      <td>0.988692</td>\n",
       "    </tr>\n",
       "  </tbody>\n",
       "</table>\n",
       "</div>"
      ],
      "text/plain": [
       "                                                                                              title  \\\n",
       "sid                                                                                                   \n",
       "bd8fba4e12551113b6bb28e30659cad3                                              I Love You (Extended)   \n",
       "1b8532b6d23301b8ea16d82d7c33cba3                                             ouiness_zina_finished!   \n",
       "c1becbc465751149b42ad8ebbe06d80c  Şehrazat - Kendim ettim, kendim buldum (disco funk, Turkey 1981)   \n",
       "b6f5a4b06bbd4279f4e8727a137bfe7f                                                  Don't Let Me Down   \n",
       "e68b85b8da0842ca44ad583b4d5cebea                                                          Mioukouna   \n",
       "\n",
       "                                              artist  approachable  \n",
       "sid                                                                 \n",
       "bd8fba4e12551113b6bb28e30659cad3             Karriem      0.992329  \n",
       "1b8532b6d23301b8ea16d82d7c33cba3                None      0.988984  \n",
       "c1becbc465751149b42ad8ebbe06d80c  ultradiskopanorama      0.988932  \n",
       "b6f5a4b06bbd4279f4e8727a137bfe7f    Marcia Griffiths      0.988707  \n",
       "e68b85b8da0842ca44ad583b4d5cebea        NST Cophie's      0.988692  "
      ]
     },
     "execution_count": 59,
     "metadata": {},
     "output_type": "execute_result"
    }
   ],
   "source": [
    "approach.top_songs(\"approachable\",n = 5)"
   ]
  },
  {
   "cell_type": "markdown",
   "id": "519d1376",
   "metadata": {},
   "source": [
    "My initial reaction here is skepticism. The songs listed above in the dataframe are certainly not the first songs in my catalog that I would nominate for approachability."
   ]
  },
  {
   "cell_type": "markdown",
   "id": "0820ff10",
   "metadata": {},
   "source": [
    "Have a listen and judge for yourself."
   ]
  },
  {
   "cell_type": "markdown",
   "id": "caa8328e",
   "metadata": {},
   "source": [
    "1. [I Love You (Extended) - Karriem](https://www.youtube.com/watch?v=kMpdZAuZu7M)\n",
    "\n",
    "2. [Ouiness - Zina](https://www.youtube.com/watch?v=XIvIjTA1L_E)\n",
    "\n",
    "3. [Kendim ettim, kendim buldum - Sehrazat](https://www.youtube.com/watch?v=UdICW7YqaoU)\n",
    "\n",
    "4. [Don't Let Me Down - Marcia Griffiths](https://www.youtube.com/watch?v=dtpDmZpjsJE)\n",
    "\n",
    "5. [Mioukouna -  N.S.T Cophie's](https://www.youtube.com/watch?v=vnfznqH7vQw)"
   ]
  },
  {
   "cell_type": "markdown",
   "id": "1d270379",
   "metadata": {},
   "source": [
    "I am perplexed when these songs made the top 10. At least of these tracks I wouldn't play in a typical gig, I'd only play them for a crowd I'm confident will appreciate relative obscure music."
   ]
  },
  {
   "cell_type": "markdown",
   "id": "7c5fc0de",
   "metadata": {},
   "source": [
    "Now let's look at the other side of the spectrum and see how the \"unapproachable\" songs stack up"
   ]
  },
  {
   "cell_type": "code",
   "execution_count": 60,
   "id": "0c13755c",
   "metadata": {},
   "outputs": [
    {
     "data": {
      "text/html": [
       "<div>\n",
       "<style scoped>\n",
       "    .dataframe tbody tr th:only-of-type {\n",
       "        vertical-align: middle;\n",
       "    }\n",
       "\n",
       "    .dataframe tbody tr th {\n",
       "        vertical-align: top;\n",
       "    }\n",
       "\n",
       "    .dataframe thead th {\n",
       "        text-align: right;\n",
       "    }\n",
       "</style>\n",
       "<table border=\"1\" class=\"dataframe\">\n",
       "  <thead>\n",
       "    <tr style=\"text-align: right;\">\n",
       "      <th></th>\n",
       "      <th>title</th>\n",
       "      <th>artist</th>\n",
       "      <th>approachable</th>\n",
       "    </tr>\n",
       "    <tr>\n",
       "      <th>sid</th>\n",
       "      <th></th>\n",
       "      <th></th>\n",
       "      <th></th>\n",
       "    </tr>\n",
       "  </thead>\n",
       "  <tbody>\n",
       "    <tr>\n",
       "      <th>67a5a54a5f62b597509e9d97eae584b3</th>\n",
       "      <td>Extra Vergine</td>\n",
       "      <td>Maus &amp; Stolle</td>\n",
       "      <td>0.025874</td>\n",
       "    </tr>\n",
       "    <tr>\n",
       "      <th>a5e390371b3438d58800a9e8fa0332a1</th>\n",
       "      <td>Everybody</td>\n",
       "      <td>DISAIA</td>\n",
       "      <td>0.031497</td>\n",
       "    </tr>\n",
       "    <tr>\n",
       "      <th>b6b676e68093434e6c1e0e569b3dfdae</th>\n",
       "      <td>Voodoo Ray (Hey Dan Edit)_PN</td>\n",
       "      <td>A Guy Called Gerald</td>\n",
       "      <td>0.031578</td>\n",
       "    </tr>\n",
       "    <tr>\n",
       "      <th>f586f46de0a2df993f5823c2ccad4f96</th>\n",
       "      <td>Maurice - This is Acid (Sportello TB303 Edit)</td>\n",
       "      <td>Sportello</td>\n",
       "      <td>0.034087</td>\n",
       "    </tr>\n",
       "    <tr>\n",
       "      <th>61f067aa07000144df9044ceedea72da</th>\n",
       "      <td>M4A4 - Raf</td>\n",
       "      <td>None</td>\n",
       "      <td>0.037901</td>\n",
       "    </tr>\n",
       "  </tbody>\n",
       "</table>\n",
       "</div>"
      ],
      "text/plain": [
       "                                                                          title  \\\n",
       "sid                                                                               \n",
       "67a5a54a5f62b597509e9d97eae584b3                                  Extra Vergine   \n",
       "a5e390371b3438d58800a9e8fa0332a1                                      Everybody   \n",
       "b6b676e68093434e6c1e0e569b3dfdae                   Voodoo Ray (Hey Dan Edit)_PN   \n",
       "f586f46de0a2df993f5823c2ccad4f96  Maurice - This is Acid (Sportello TB303 Edit)   \n",
       "61f067aa07000144df9044ceedea72da                                     M4A4 - Raf   \n",
       "\n",
       "                                               artist  approachable  \n",
       "sid                                                                  \n",
       "67a5a54a5f62b597509e9d97eae584b3        Maus & Stolle      0.025874  \n",
       "a5e390371b3438d58800a9e8fa0332a1               DISAIA      0.031497  \n",
       "b6b676e68093434e6c1e0e569b3dfdae  A Guy Called Gerald      0.031578  \n",
       "f586f46de0a2df993f5823c2ccad4f96            Sportello      0.034087  \n",
       "61f067aa07000144df9044ceedea72da                 None      0.037901  "
      ]
     },
     "execution_count": 60,
     "metadata": {},
     "output_type": "execute_result"
    }
   ],
   "source": [
    "approach.top_songs(\"approachable\", ascending=True, n = 5)"
   ]
  },
  {
   "cell_type": "markdown",
   "id": "7a807a8b",
   "metadata": {},
   "source": [
    "1. [Extra Vergine - Maus & Stolle](https://www.youtube.com/watch?v=ykOCriwIatc)\n",
    "\n",
    "2. [Everybody - DISAIA](https://www.youtube.com/watch?v=Z61TYWLGbck)\n",
    "\n",
    "3. [Voodoo Ray (Hey Dan Edit) - A Guy Called Gerald](https://www.youtube.com/watch?v=clsB4bISUjc)\n",
    "\n",
    "4. [This is Acid (Sportello TB303 Edit) - Maurice](https://sportellomusic.bandcamp.com/track/maurice-this-is-acid-sportello-tb303-edit)\n",
    "\n",
    "5. [M4A4 - Raf](https://www.youtube.com/watch?v=q0sqLhu4vek)"
   ]
  },
  {
   "cell_type": "markdown",
   "id": "a1d628df",
   "metadata": {},
   "source": [
    "There is a stark difference between the bottom and top sets of songs. The bottom ten are or similar to deep house and techno and are the type of songs soundtracking a stoic-faced audience. Whereas the top 10 songs are all funky and percolating buoyant and jovial vibes. \n",
    "\n",
    "Comparing the two sets of songs was helpful in advancing my understanding of how this model interprets approachability.\n",
    "\n",
    "Most importantly I can definitely see myself using this metric in curating a set list."
   ]
  },
  {
   "cell_type": "markdown",
   "id": "ed1c902a",
   "metadata": {},
   "source": [
    "**Danceability**\n",
    "\n",
    "Pretty obvious definition here. However I am curious to see if genre influences the danceability scores. Does the model rate a funk/soul song at the same danceability level as a house song. \n",
    "\n",
    "More info ==> https://essentia.upf.edu/models.html#danceability\n"
   ]
  },
  {
   "cell_type": "code",
   "execution_count": 115,
   "id": "25473bb7",
   "metadata": {},
   "outputs": [
    {
     "name": "stdout",
     "output_type": "stream",
     "text": [
      "Loading danceability_effnet_discogs_1_activations data\n"
     ]
    },
    {
     "data": {
      "text/html": [
       "<div>\n",
       "<style scoped>\n",
       "    .dataframe tbody tr th:only-of-type {\n",
       "        vertical-align: middle;\n",
       "    }\n",
       "\n",
       "    .dataframe tbody tr th {\n",
       "        vertical-align: top;\n",
       "    }\n",
       "\n",
       "    .dataframe thead th {\n",
       "        text-align: right;\n",
       "    }\n",
       "</style>\n",
       "<table border=\"1\" class=\"dataframe\">\n",
       "  <thead>\n",
       "    <tr style=\"text-align: right;\">\n",
       "      <th></th>\n",
       "      <th>danceable</th>\n",
       "      <th>not_danceable</th>\n",
       "    </tr>\n",
       "    <tr>\n",
       "      <th>sid</th>\n",
       "      <th></th>\n",
       "      <th></th>\n",
       "    </tr>\n",
       "  </thead>\n",
       "  <tbody>\n",
       "    <tr>\n",
       "      <th>b806881a54bdbf9dd93a290716adf191</th>\n",
       "      <td>[0.9999424, 0.99976045, 0.99983895, 0.999848, 0.9999571, 0.9998455, 0.99988437, 0.9999192, 0.999...</td>\n",
       "      <td>[5.7582864e-05, 0.00023951827, 0.00016103889, 0.00015194346, 4.2891123e-05, 0.0001544856, 0.0001...</td>\n",
       "    </tr>\n",
       "    <tr>\n",
       "      <th>46e54d2ab920a088b77382e04877141b</th>\n",
       "      <td>[0.9999032, 0.9998369, 0.9999192, 0.99990785, 0.999863, 0.9996996, 0.99984634, 0.9998692, 0.9999...</td>\n",
       "      <td>[9.678665e-05, 0.0001630632, 8.081043e-05, 9.213655e-05, 0.00013701127, 0.000300486, 0.000153600...</td>\n",
       "    </tr>\n",
       "    <tr>\n",
       "      <th>a204ddef5763df6d8f7677701fe9d96f</th>\n",
       "      <td>[0.9981535, 0.9973373, 0.99670726, 0.99800974, 0.99799085, 0.99702066, 0.9951497, 0.99816823, 0....</td>\n",
       "      <td>[0.0018464968, 0.0026626734, 0.0032927275, 0.0019902333, 0.0020091475, 0.0029792786, 0.004850342...</td>\n",
       "    </tr>\n",
       "    <tr>\n",
       "      <th>960097894e83c5810a9c649f17a4e551</th>\n",
       "      <td>[0.999871, 0.9997358, 0.9998858, 0.99950945, 0.99984443, 0.9997348, 0.99975425, 0.9996364, 0.999...</td>\n",
       "      <td>[0.00012900884, 0.00026420056, 0.00011422723, 0.0004905543, 0.0001555365, 0.00026516986, 0.00024...</td>\n",
       "    </tr>\n",
       "    <tr>\n",
       "      <th>a3c1f277aa0110ffc418bf5fa3aa16aa</th>\n",
       "      <td>[0.69107103, 0.6084443, 0.5064755, 0.8155328, 0.6933056, 0.7086905, 0.43645376, 0.90993106, 0.90...</td>\n",
       "      <td>[0.30892897, 0.39155573, 0.49352455, 0.18446714, 0.3066944, 0.29130954, 0.56354624, 0.090068914,...</td>\n",
       "    </tr>\n",
       "  </tbody>\n",
       "</table>\n",
       "</div>"
      ],
      "text/plain": [
       "                                                                                                                            danceable  \\\n",
       "sid                                                                                                                                     \n",
       "b806881a54bdbf9dd93a290716adf191  [0.9999424, 0.99976045, 0.99983895, 0.999848, 0.9999571, 0.9998455, 0.99988437, 0.9999192, 0.999...   \n",
       "46e54d2ab920a088b77382e04877141b  [0.9999032, 0.9998369, 0.9999192, 0.99990785, 0.999863, 0.9996996, 0.99984634, 0.9998692, 0.9999...   \n",
       "a204ddef5763df6d8f7677701fe9d96f  [0.9981535, 0.9973373, 0.99670726, 0.99800974, 0.99799085, 0.99702066, 0.9951497, 0.99816823, 0....   \n",
       "960097894e83c5810a9c649f17a4e551  [0.999871, 0.9997358, 0.9998858, 0.99950945, 0.99984443, 0.9997348, 0.99975425, 0.9996364, 0.999...   \n",
       "a3c1f277aa0110ffc418bf5fa3aa16aa  [0.69107103, 0.6084443, 0.5064755, 0.8155328, 0.6933056, 0.7086905, 0.43645376, 0.90993106, 0.90...   \n",
       "\n",
       "                                                                                                                        not_danceable  \n",
       "sid                                                                                                                                    \n",
       "b806881a54bdbf9dd93a290716adf191  [5.7582864e-05, 0.00023951827, 0.00016103889, 0.00015194346, 4.2891123e-05, 0.0001544856, 0.0001...  \n",
       "46e54d2ab920a088b77382e04877141b  [9.678665e-05, 0.0001630632, 8.081043e-05, 9.213655e-05, 0.00013701127, 0.000300486, 0.000153600...  \n",
       "a204ddef5763df6d8f7677701fe9d96f  [0.0018464968, 0.0026626734, 0.0032927275, 0.0019902333, 0.0020091475, 0.0029792786, 0.004850342...  \n",
       "960097894e83c5810a9c649f17a4e551  [0.00012900884, 0.00026420056, 0.00011422723, 0.0004905543, 0.0001555365, 0.00026516986, 0.00024...  \n",
       "a3c1f277aa0110ffc418bf5fa3aa16aa  [0.30892897, 0.39155573, 0.49352455, 0.18446714, 0.3066944, 0.29130954, 0.56354624, 0.090068914,...  "
      ]
     },
     "execution_count": 115,
     "metadata": {},
     "output_type": "execute_result"
    }
   ],
   "source": [
    "table = tables[1]\n",
    "dance = ActivationDataHub(table_name=table)\n",
    "dance.df.head()"
   ]
  },
  {
   "cell_type": "code",
   "execution_count": 66,
   "id": "e20945f7",
   "metadata": {},
   "outputs": [
    {
     "data": {
      "image/png": "[encoded data removed]",
      "text/plain": [
       "<Figure size 576x360 with 1 Axes>"
      ]
     },
     "metadata": {
      "needs_background": "light"
     },
     "output_type": "display_data"
    }
   ],
   "source": [
    "dance.dist_viz(\"danceable\")\n",
    "plt.yscale(\"log\")\n"
   ]
  },
  {
   "cell_type": "markdown",
   "id": "1504fab5",
   "metadata": {},
   "source": [
    "Not a big surprise that nearly every song in the database is rated highly on the danceability scale.\n",
    "\n",
    "In fact, only 2% of songs have danceability scores lower than 0.8"
   ]
  },
  {
   "cell_type": "code",
   "execution_count": 70,
   "id": "99274a2a",
   "metadata": {},
   "outputs": [
    {
     "data": {
      "text/plain": [
       "0.01985854189336235"
      ]
     },
     "execution_count": 70,
     "metadata": {},
     "output_type": "execute_result"
    }
   ],
   "source": [
    "np.mean(dance.df_mean.danceable<.8)"
   ]
  },
  {
   "cell_type": "code",
   "execution_count": 76,
   "id": "6f916f4d",
   "metadata": {},
   "outputs": [
    {
     "data": {
      "image/png": "[encoded data removed]",
      "text/plain": [
       "<Figure size 576x432 with 1 Axes>"
      ]
     },
     "metadata": {
      "needs_background": "light"
     },
     "output_type": "display_data"
    }
   ],
   "source": [
    "all_means = dance.df_mean.values.flatten()\n",
    "all_stds = dance.df_std.values.flatten()\n",
    "\n",
    "plt.figure(figsize=(8, 6))\n",
    "plt.xlim(0, 1)\n",
    "plt.ylim(0, 1)\n",
    "plt.scatter(all_means, all_stds, alpha=.4)\n",
    "plt.plot([0, 1],\":\", c= \"black\" )\n",
    "plt.xlabel(\"Danceable Means\")\n",
    "plt.ylabel(\"Danceable Standard Deviations\");"
   ]
  },
  {
   "cell_type": "markdown",
   "id": "14e96d4c",
   "metadata": {},
   "source": [
    "It's not worth showing the top danceable songs because it doesn't reveal anything new. However let's see what lies on the other side of the spectrum."
   ]
  },
  {
   "cell_type": "code",
   "execution_count": 74,
   "id": "431acf3b",
   "metadata": {},
   "outputs": [
    {
     "data": {
      "text/html": [
       "<div>\n",
       "<style scoped>\n",
       "    .dataframe tbody tr th:only-of-type {\n",
       "        vertical-align: middle;\n",
       "    }\n",
       "\n",
       "    .dataframe tbody tr th {\n",
       "        vertical-align: top;\n",
       "    }\n",
       "\n",
       "    .dataframe thead th {\n",
       "        text-align: right;\n",
       "    }\n",
       "</style>\n",
       "<table border=\"1\" class=\"dataframe\">\n",
       "  <thead>\n",
       "    <tr style=\"text-align: right;\">\n",
       "      <th></th>\n",
       "      <th>title</th>\n",
       "      <th>artist</th>\n",
       "      <th>danceable</th>\n",
       "    </tr>\n",
       "    <tr>\n",
       "      <th>sid</th>\n",
       "      <th></th>\n",
       "      <th></th>\n",
       "      <th></th>\n",
       "    </tr>\n",
       "  </thead>\n",
       "  <tbody>\n",
       "    <tr>\n",
       "      <th>742d1fc3a38304122239d07244e0106e</th>\n",
       "      <td>Ende Beerabeero Rare Unknown Ethiopian Disco Modern Soul 45-785Pujxp7rU</td>\n",
       "      <td>Habte Awalom</td>\n",
       "      <td>0.058170</td>\n",
       "    </tr>\n",
       "    <tr>\n",
       "      <th>cea0eaff11847df1ef9fd641977527df</th>\n",
       "      <td>Mazhar Ve Fuat - Adimiz Miskindir Bizim (Mark Wayward Edit)</td>\n",
       "      <td>Mark Wayward</td>\n",
       "      <td>0.069113</td>\n",
       "    </tr>\n",
       "    <tr>\n",
       "      <th>d7bfc278db4dbabfd1659252247c8899</th>\n",
       "      <td>J.J. Cale - RSDD003 - Social Distance Edits - 05 Lies (Mr. PC Belle Isle Balearic 12- Edit)</td>\n",
       "      <td>None</td>\n",
       "      <td>0.147464</td>\n",
       "    </tr>\n",
       "    <tr>\n",
       "      <th>9aa0080ebc4cde62f3136f9786cdb7c3</th>\n",
       "      <td>Wede Harer Guzo</td>\n",
       "      <td>Hailu Mergia</td>\n",
       "      <td>0.175467</td>\n",
       "    </tr>\n",
       "    <tr>\n",
       "      <th>3c3f186cb9b2dd15804bf3995b65a34d</th>\n",
       "      <td>Lord Have Mercy</td>\n",
       "      <td>The Lijadu Sisters</td>\n",
       "      <td>0.176003</td>\n",
       "    </tr>\n",
       "  </tbody>\n",
       "</table>\n",
       "</div>"
      ],
      "text/plain": [
       "                                                                                                                        title  \\\n",
       "sid                                                                                                                             \n",
       "742d1fc3a38304122239d07244e0106e                      Ende Beerabeero Rare Unknown Ethiopian Disco Modern Soul 45-785Pujxp7rU   \n",
       "cea0eaff11847df1ef9fd641977527df                                  Mazhar Ve Fuat - Adimiz Miskindir Bizim (Mark Wayward Edit)   \n",
       "d7bfc278db4dbabfd1659252247c8899  J.J. Cale - RSDD003 - Social Distance Edits - 05 Lies (Mr. PC Belle Isle Balearic 12- Edit)   \n",
       "9aa0080ebc4cde62f3136f9786cdb7c3                                                                              Wede Harer Guzo   \n",
       "3c3f186cb9b2dd15804bf3995b65a34d                                                                              Lord Have Mercy   \n",
       "\n",
       "                                              artist  danceable  \n",
       "sid                                                              \n",
       "742d1fc3a38304122239d07244e0106e        Habte Awalom   0.058170  \n",
       "cea0eaff11847df1ef9fd641977527df        Mark Wayward   0.069113  \n",
       "d7bfc278db4dbabfd1659252247c8899                None   0.147464  \n",
       "9aa0080ebc4cde62f3136f9786cdb7c3        Hailu Mergia   0.175467  \n",
       "3c3f186cb9b2dd15804bf3995b65a34d  The Lijadu Sisters   0.176003  "
      ]
     },
     "execution_count": 74,
     "metadata": {},
     "output_type": "execute_result"
    }
   ],
   "source": [
    "dance.top_songs(\"danceable\",ascending=True, n = 5)"
   ]
  },
  {
   "cell_type": "markdown",
   "id": "62182b87",
   "metadata": {},
   "source": [
    "1. [Endebeerabeero - Habte Awalom](https://www.youtube.com/watch?v=785Pujxp7rU&ab_channel=JointCustody)\n",
    "\n",
    "2. [Mazhar Ve Fuat Adimiz Miskindir Bizim (Mark Wayward Edit) - Mark Wayward](https://soundcloud.com/mark-wayward/mazhar-ve-fuat-adimiz-miskindir-bizim-mark-wayward-edit)\n",
    "\n",
    "3. [J.J. Cale - RSDD003 - Social Distance Edits - 05 Lies (Mr. PC Belle Isle Balearic 12- Edit)\t](https://petercroce.bandcamp.com/track/lies-mr-pc-belle-isle-balearic-12-edit)\n",
    "\n",
    "4. [Wede Harer Guzo - Hailu Mergia](https://www.youtube.com/watch?v=wU_gcM7lmD8&ab_channel=AwesomeTapesFromAfrica)\n",
    "\n",
    "5. [Lord Have Mercy - The Lijadu Sisters](https://www.youtube.com/watch?v=cYDwE9yFB_I&ab_channel=TheLijaduSisters-Topic)"
   ]
  },
  {
   "cell_type": "markdown",
   "id": "229557d2",
   "metadata": {},
   "source": [
    "For the most part, I agree with these assessments. These songs certainly won't bring the house down. I do feel like Endebeerabeero could be rated somewhat higher, but overall no issues with this data."
   ]
  },
  {
   "cell_type": "markdown",
   "id": "e29d8d6e",
   "metadata": {},
   "source": [
    "### Engagement\n",
    "\n",
    "Music engagement predicting whether the music evokes active attention of the listener (high-engagement “lean forward” active listening vs. low-engagement “lean back” background listening).\n",
    "\n",
    "More info => https://essentia.upf.edu/models.html#engagement"
   ]
  },
  {
   "cell_type": "markdown",
   "id": "3a4e94af",
   "metadata": {},
   "source": [
    "I have high hopes for this metric because of the simple reason that a good DJ plays \"engaging\" music. A key skill in DJing is assessing the energy level of their gigs. The engagement metric could be a useful proxy for energy. If I am playing a chiller, lowkey set then I could use engagement to help me assemble the right playlist of songs."
   ]
  },
  {
   "cell_type": "code",
   "execution_count": 116,
   "id": "0f6ea358",
   "metadata": {},
   "outputs": [
    {
     "name": "stdout",
     "output_type": "stream",
     "text": [
      "Loading engagement_2c_effnet_discogs_1_activations data\n"
     ]
    },
    {
     "data": {
      "text/html": [
       "<div>\n",
       "<style scoped>\n",
       "    .dataframe tbody tr th:only-of-type {\n",
       "        vertical-align: middle;\n",
       "    }\n",
       "\n",
       "    .dataframe tbody tr th {\n",
       "        vertical-align: top;\n",
       "    }\n",
       "\n",
       "    .dataframe thead th {\n",
       "        text-align: right;\n",
       "    }\n",
       "</style>\n",
       "<table border=\"1\" class=\"dataframe\">\n",
       "  <thead>\n",
       "    <tr style=\"text-align: right;\">\n",
       "      <th></th>\n",
       "      <th>not_engaging</th>\n",
       "      <th>engaging</th>\n",
       "    </tr>\n",
       "    <tr>\n",
       "      <th>sid</th>\n",
       "      <th></th>\n",
       "      <th></th>\n",
       "    </tr>\n",
       "  </thead>\n",
       "  <tbody>\n",
       "    <tr>\n",
       "      <th>b806881a54bdbf9dd93a290716adf191</th>\n",
       "      <td>[0.01610879, 0.03347205, 0.03819201, 0.0459898, 0.011230065, 0.029323494, 0.026065817, 0.0204776...</td>\n",
       "      <td>[0.9838912, 0.96652794, 0.96180797, 0.9540102, 0.9887699, 0.97067654, 0.9739342, 0.97952235, 0.9...</td>\n",
       "    </tr>\n",
       "    <tr>\n",
       "      <th>46e54d2ab920a088b77382e04877141b</th>\n",
       "      <td>[0.0025433216, 0.0068556145, 0.002352924, 0.0066941506, 0.0029510593, 0.012337105, 0.0041766968,...</td>\n",
       "      <td>[0.9974567, 0.9931444, 0.9976471, 0.99330586, 0.9970489, 0.98766285, 0.99582326, 0.9943621, 0.99...</td>\n",
       "    </tr>\n",
       "    <tr>\n",
       "      <th>a204ddef5763df6d8f7677701fe9d96f</th>\n",
       "      <td>[0.009494705, 0.025756417, 0.012806551, 0.021973863, 0.010267618, 0.02111152, 0.010153408, 0.018...</td>\n",
       "      <td>[0.9905053, 0.9742435, 0.9871934, 0.9780261, 0.9897323, 0.97888845, 0.9898465, 0.98158735, 0.986...</td>\n",
       "    </tr>\n",
       "    <tr>\n",
       "      <th>960097894e83c5810a9c649f17a4e551</th>\n",
       "      <td>[0.00086885516, 0.00088291627, 0.0010570403, 0.00079634396, 0.001559757, 0.0007735467, 0.0013624...</td>\n",
       "      <td>[0.99913114, 0.9991171, 0.99894303, 0.9992036, 0.9984402, 0.99922645, 0.9986375, 0.99925584, 0.9...</td>\n",
       "    </tr>\n",
       "    <tr>\n",
       "      <th>a3c1f277aa0110ffc418bf5fa3aa16aa</th>\n",
       "      <td>[0.59090894, 0.7070218, 0.62421054, 0.6648362, 0.5044175, 0.6665438, 0.67336226, 0.61193955, 0.5...</td>\n",
       "      <td>[0.40909111, 0.29297823, 0.37578952, 0.33516386, 0.49558252, 0.33345625, 0.3266378, 0.3880605, 0...</td>\n",
       "    </tr>\n",
       "  </tbody>\n",
       "</table>\n",
       "</div>"
      ],
      "text/plain": [
       "                                                                                                                         not_engaging  \\\n",
       "sid                                                                                                                                     \n",
       "b806881a54bdbf9dd93a290716adf191  [0.01610879, 0.03347205, 0.03819201, 0.0459898, 0.011230065, 0.029323494, 0.026065817, 0.0204776...   \n",
       "46e54d2ab920a088b77382e04877141b  [0.0025433216, 0.0068556145, 0.002352924, 0.0066941506, 0.0029510593, 0.012337105, 0.0041766968,...   \n",
       "a204ddef5763df6d8f7677701fe9d96f  [0.009494705, 0.025756417, 0.012806551, 0.021973863, 0.010267618, 0.02111152, 0.010153408, 0.018...   \n",
       "960097894e83c5810a9c649f17a4e551  [0.00086885516, 0.00088291627, 0.0010570403, 0.00079634396, 0.001559757, 0.0007735467, 0.0013624...   \n",
       "a3c1f277aa0110ffc418bf5fa3aa16aa  [0.59090894, 0.7070218, 0.62421054, 0.6648362, 0.5044175, 0.6665438, 0.67336226, 0.61193955, 0.5...   \n",
       "\n",
       "                                                                                                                             engaging  \n",
       "sid                                                                                                                                    \n",
       "b806881a54bdbf9dd93a290716adf191  [0.9838912, 0.96652794, 0.96180797, 0.9540102, 0.9887699, 0.97067654, 0.9739342, 0.97952235, 0.9...  \n",
       "46e54d2ab920a088b77382e04877141b  [0.9974567, 0.9931444, 0.9976471, 0.99330586, 0.9970489, 0.98766285, 0.99582326, 0.9943621, 0.99...  \n",
       "a204ddef5763df6d8f7677701fe9d96f  [0.9905053, 0.9742435, 0.9871934, 0.9780261, 0.9897323, 0.97888845, 0.9898465, 0.98158735, 0.986...  \n",
       "960097894e83c5810a9c649f17a4e551  [0.99913114, 0.9991171, 0.99894303, 0.9992036, 0.9984402, 0.99922645, 0.9986375, 0.99925584, 0.9...  \n",
       "a3c1f277aa0110ffc418bf5fa3aa16aa  [0.40909111, 0.29297823, 0.37578952, 0.33516386, 0.49558252, 0.33345625, 0.3266378, 0.3880605, 0...  "
      ]
     },
     "execution_count": 116,
     "metadata": {},
     "output_type": "execute_result"
    }
   ],
   "source": [
    "table = tables[2]\n",
    "engage = ActivationDataHub(table_name=table)\n",
    "engage.df.head()"
   ]
  },
  {
   "cell_type": "code",
   "execution_count": 80,
   "id": "79566000",
   "metadata": {},
   "outputs": [
    {
     "data": {
      "image/png": "[encoded data removed]",
      "text/plain": [
       "<Figure size 576x360 with 1 Axes>"
      ]
     },
     "metadata": {
      "needs_background": "light"
     },
     "output_type": "display_data"
    }
   ],
   "source": [
    "engage.dist_viz(\"engaging\")"
   ]
  },
  {
   "cell_type": "markdown",
   "id": "ca45405d",
   "metadata": {},
   "source": [
    "**Good news!**\n",
    "\n",
    "Essentia's music engagement model thinks I am an engaging DJ. The vast majority of my songs have an average engaging score of greater than or equal to 0.9."
   ]
  },
  {
   "cell_type": "markdown",
   "id": "c7de90e7",
   "metadata": {},
   "source": [
    "**Top 5 Engaging songs**"
   ]
  },
  {
   "cell_type": "code",
   "execution_count": 83,
   "id": "1e4234a6",
   "metadata": {},
   "outputs": [
    {
     "data": {
      "text/html": [
       "<div>\n",
       "<style scoped>\n",
       "    .dataframe tbody tr th:only-of-type {\n",
       "        vertical-align: middle;\n",
       "    }\n",
       "\n",
       "    .dataframe tbody tr th {\n",
       "        vertical-align: top;\n",
       "    }\n",
       "\n",
       "    .dataframe thead th {\n",
       "        text-align: right;\n",
       "    }\n",
       "</style>\n",
       "<table border=\"1\" class=\"dataframe\">\n",
       "  <thead>\n",
       "    <tr style=\"text-align: right;\">\n",
       "      <th></th>\n",
       "      <th>title</th>\n",
       "      <th>artist</th>\n",
       "      <th>engaging</th>\n",
       "    </tr>\n",
       "    <tr>\n",
       "      <th>sid</th>\n",
       "      <th></th>\n",
       "      <th></th>\n",
       "      <th></th>\n",
       "    </tr>\n",
       "  </thead>\n",
       "  <tbody>\n",
       "    <tr>\n",
       "      <th>681ccf47549a629028cf97f8a816cfd7</th>\n",
       "      <td>Happy Song (Club Mix)</td>\n",
       "      <td>Boney M</td>\n",
       "      <td>0.999690</td>\n",
       "    </tr>\n",
       "    <tr>\n",
       "      <th>0074bca61fc9947f1aae555d7f694139</th>\n",
       "      <td>Tchamy Patterson - First Man for Cry</td>\n",
       "      <td>reclusiv recordings</td>\n",
       "      <td>0.999632</td>\n",
       "    </tr>\n",
       "    <tr>\n",
       "      <th>bd8fba4e12551113b6bb28e30659cad3</th>\n",
       "      <td>I Love You (Extended)</td>\n",
       "      <td>Karriem</td>\n",
       "      <td>0.999631</td>\n",
       "    </tr>\n",
       "    <tr>\n",
       "      <th>9124ded476f1e811c6b59b14a6d13bf5</th>\n",
       "      <td>All My Life (12\" Funk 1983)</td>\n",
       "      <td>Major Harris</td>\n",
       "      <td>0.999548</td>\n",
       "    </tr>\n",
       "    <tr>\n",
       "      <th>138d96f7557b5abcc0483469f9f78b6e</th>\n",
       "      <td>DiscoGram - DG006 - 01 Dancing!_PN</td>\n",
       "      <td>None</td>\n",
       "      <td>0.999451</td>\n",
       "    </tr>\n",
       "  </tbody>\n",
       "</table>\n",
       "</div>"
      ],
      "text/plain": [
       "                                                                 title  \\\n",
       "sid                                                                      \n",
       "681ccf47549a629028cf97f8a816cfd7                 Happy Song (Club Mix)   \n",
       "0074bca61fc9947f1aae555d7f694139  Tchamy Patterson - First Man for Cry   \n",
       "bd8fba4e12551113b6bb28e30659cad3                 I Love You (Extended)   \n",
       "9124ded476f1e811c6b59b14a6d13bf5           All My Life (12\" Funk 1983)   \n",
       "138d96f7557b5abcc0483469f9f78b6e    DiscoGram - DG006 - 01 Dancing!_PN   \n",
       "\n",
       "                                               artist  engaging  \n",
       "sid                                                              \n",
       "681ccf47549a629028cf97f8a816cfd7              Boney M  0.999690  \n",
       "0074bca61fc9947f1aae555d7f694139  reclusiv recordings  0.999632  \n",
       "bd8fba4e12551113b6bb28e30659cad3              Karriem  0.999631  \n",
       "9124ded476f1e811c6b59b14a6d13bf5         Major Harris  0.999548  \n",
       "138d96f7557b5abcc0483469f9f78b6e                 None  0.999451  "
      ]
     },
     "execution_count": 83,
     "metadata": {},
     "output_type": "execute_result"
    }
   ],
   "source": [
    "engage.top_songs(\"engaging\",ascending=False, n = 5)"
   ]
  },
  {
   "cell_type": "markdown",
   "id": "a4fb8a7f",
   "metadata": {},
   "source": [
    "1. [Happy Song (Club Mix) - Boney M](https://www.youtube.com/watch?v=0_wf30gK9Pg&ab_channel=style300x)\n",
    "\n",
    "2. [Tchamy Patterson - First Man for Cry - reclusiv recordings](https://www.youtube.com/watch?v=MAbUpL2bw08&ab_channel=LaboratoireTchamyPATTERSON)\n",
    "\n",
    "3. [I Love You (Extended) - Karriem](https://www.youtube.com/watch?v=37sMZVsSxTs&ab_channel=FavoriteRecordings)\n",
    "\n",
    "4. [All My Life (12\" Funk 1983) - Major Harris](https://www.youtube.com/watch?v=qpcqQ8ifpRc&ab_channel=CoolfunkZ%C3%A9z%C3%A92)\n",
    "\n",
    "5. [DiscoGram - DG006 - 01 Dancing!](https://www.youtube.com/watch?v=UvEZ1tQywTs&ab_channel=Funk%27nDisco%26Stuff)"
   ]
  },
  {
   "cell_type": "markdown",
   "id": "94506fe0",
   "metadata": {},
   "source": [
    "The model isn't wrong here hand out high engagement appraisals for these five songs. What I am curious about is that the >0.999 mean engaging scores indicate that the model rates every section of each song as engaging."
   ]
  },
  {
   "cell_type": "markdown",
   "id": "442c8e78",
   "metadata": {},
   "source": [
    "**Bottom 5 engaging songs**"
   ]
  },
  {
   "cell_type": "code",
   "execution_count": 84,
   "id": "43bdc0e8",
   "metadata": {},
   "outputs": [
    {
     "data": {
      "text/html": [
       "<div>\n",
       "<style scoped>\n",
       "    .dataframe tbody tr th:only-of-type {\n",
       "        vertical-align: middle;\n",
       "    }\n",
       "\n",
       "    .dataframe tbody tr th {\n",
       "        vertical-align: top;\n",
       "    }\n",
       "\n",
       "    .dataframe thead th {\n",
       "        text-align: right;\n",
       "    }\n",
       "</style>\n",
       "<table border=\"1\" class=\"dataframe\">\n",
       "  <thead>\n",
       "    <tr style=\"text-align: right;\">\n",
       "      <th></th>\n",
       "      <th>title</th>\n",
       "      <th>artist</th>\n",
       "      <th>engaging</th>\n",
       "    </tr>\n",
       "    <tr>\n",
       "      <th>sid</th>\n",
       "      <th></th>\n",
       "      <th></th>\n",
       "      <th></th>\n",
       "    </tr>\n",
       "  </thead>\n",
       "  <tbody>\n",
       "    <tr>\n",
       "      <th>b85f2a4c63f48e712284262c7ff6ffbd</th>\n",
       "      <td>Automation - Workings Of A Madman Re-Mix</td>\n",
       "      <td>Tiny Magnetic Pets</td>\n",
       "      <td>0.543878</td>\n",
       "    </tr>\n",
       "    <tr>\n",
       "      <th>ed91d262dc3a679bac460f2f1d8b78ff</th>\n",
       "      <td>King Crimson - RSDD003 - Social Distance Edits - 11 The Sheltering Sky (Mr. PC Belle Isle Balear...</td>\n",
       "      <td>None</td>\n",
       "      <td>0.557839</td>\n",
       "    </tr>\n",
       "    <tr>\n",
       "      <th>9b69b0c8d5fdeee9e6950481d0caa1f1</th>\n",
       "      <td>Bubuj Bulan</td>\n",
       "      <td>Rully Djohan</td>\n",
       "      <td>0.562502</td>\n",
       "    </tr>\n",
       "    <tr>\n",
       "      <th>d71d4a7afde1a9891e56fe0fdf307aff</th>\n",
       "      <td>Azara alhai</td>\n",
       "      <td>Rasha</td>\n",
       "      <td>0.586922</td>\n",
       "    </tr>\n",
       "    <tr>\n",
       "      <th>540f1f587d15e9edc9ff5a2d82ab021b</th>\n",
       "      <td>Luiz Enrique - Mas Que Nada (Brasileiro Rework)</td>\n",
       "      <td>Sonic Funk Foundry</td>\n",
       "      <td>0.588388</td>\n",
       "    </tr>\n",
       "  </tbody>\n",
       "</table>\n",
       "</div>"
      ],
      "text/plain": [
       "                                                                                                                                title  \\\n",
       "sid                                                                                                                                     \n",
       "b85f2a4c63f48e712284262c7ff6ffbd                                                             Automation - Workings Of A Madman Re-Mix   \n",
       "ed91d262dc3a679bac460f2f1d8b78ff  King Crimson - RSDD003 - Social Distance Edits - 11 The Sheltering Sky (Mr. PC Belle Isle Balear...   \n",
       "9b69b0c8d5fdeee9e6950481d0caa1f1                                                                                          Bubuj Bulan   \n",
       "d71d4a7afde1a9891e56fe0fdf307aff                                                                                          Azara alhai   \n",
       "540f1f587d15e9edc9ff5a2d82ab021b                                                      Luiz Enrique - Mas Que Nada (Brasileiro Rework)   \n",
       "\n",
       "                                              artist  engaging  \n",
       "sid                                                             \n",
       "b85f2a4c63f48e712284262c7ff6ffbd  Tiny Magnetic Pets  0.543878  \n",
       "ed91d262dc3a679bac460f2f1d8b78ff                None  0.557839  \n",
       "9b69b0c8d5fdeee9e6950481d0caa1f1        Rully Djohan  0.562502  \n",
       "d71d4a7afde1a9891e56fe0fdf307aff               Rasha  0.586922  \n",
       "540f1f587d15e9edc9ff5a2d82ab021b  Sonic Funk Foundry  0.588388  "
      ]
     },
     "execution_count": 84,
     "metadata": {},
     "output_type": "execute_result"
    }
   ],
   "source": [
    "engage.top_songs(\"engaging\",ascending=True, n = 5)"
   ]
  },
  {
   "cell_type": "markdown",
   "id": "3b8494e0",
   "metadata": {},
   "source": [
    "1. [Automation - Workings Of A Madman Re-Mix\tTiny Magnetic Pet](https://www.youtube.com/watch?v=X4I4LU04iCo&ab_channel=TinyMagneticPets-Topic)\n",
    "\n",
    "2. [King Crimson - RSDD003 - Social Distance Edits - 11 The Sheltering Sky (Mr. PC Belle Isle Balear.]()\n",
    "\n",
    "3. [Bubuj Bulan\tRully Djohan](https://www.youtube.com/watch?v=3a5IpOR24PQ&ab_channel=SoundwayRecords)\n",
    "\n",
    "4. [Azara alhai\tRasha](https://www.youtube.com/watch?v=WOdcgc9ot3k&ab_channel=ZicZakGarage)\n",
    "\n",
    "5. [Luiz Enrique - Mas Que Nada (Brasileiro Rework)\tSonic Funk Foundry](https://sonicfunkfoundry.bandcamp.com/track/luiz-enrique-mas-que-nada-brasileiro-rework)"
   ]
  },
  {
   "cell_type": "markdown",
   "id": "aa3df8bb",
   "metadata": {},
   "source": [
    "This result confirms my hypothesis that engagement can be proxy a for energy (or at the very least correlates with it.)\n",
    "\n",
    "All five of these songs are low-energy and are more appropriate for dinner parties than any gig I usually play."
   ]
  },
  {
   "cell_type": "code",
   "execution_count": null,
   "id": "b0515068",
   "metadata": {},
   "outputs": [],
   "source": []
  },
  {
   "cell_type": "markdown",
   "id": "5f8f1c82",
   "metadata": {},
   "source": [
    "### Danceability vs Engagement"
   ]
  },
  {
   "cell_type": "markdown",
   "id": "68fdee28",
   "metadata": {},
   "source": [
    "Danceability and engagement appear to be strongly correlated (not entirely surprising tbh) so let's dive into this relationship."
   ]
  },
  {
   "cell_type": "code",
   "execution_count": 97,
   "id": "511bb25f",
   "metadata": {},
   "outputs": [
    {
     "data": {
      "image/png": "[encoded data removed]",
      "text/plain": [
       "<Figure size 648x432 with 1 Axes>"
      ]
     },
     "metadata": {
      "needs_background": "light"
     },
     "output_type": "display_data"
    }
   ],
   "source": [
    "dance_means = dance.df_mean.danceable\n",
    "engage_means = engage.df_mean.engaging\n",
    "engage_dance = pd.concat([engage_means, dance_means], axis = 1)\n",
    "\n",
    "plt.figure(figsize=(9, 6))\n",
    "plt.scatter(engage_dance.danceable, engage_dance.engaging, alpha=.4)\n",
    "plt.xlabel(\"Danceability Scores\")\n",
    "plt.ylabel(\"Engagement Scores\");"
   ]
  },
  {
   "cell_type": "markdown",
   "id": "b2641f8d",
   "metadata": {},
   "source": [
    "Most of the songs are clustered in the top right corner, which tell us that engagement and danceability do indeed trend together.\n",
    "\n",
    "89% of my songs have both danceable and engaging scores above or equal to 0.9"
   ]
  },
  {
   "cell_type": "code",
   "execution_count": 99,
   "id": "7ad2c315",
   "metadata": {},
   "outputs": [
    {
     "data": {
      "text/plain": [
       "0.8900979325353645"
      ]
     },
     "execution_count": 99,
     "metadata": {},
     "output_type": "execute_result"
    }
   ],
   "source": [
    "engage_dance.query(\"danceable >=.9 and engaging >=.9\").shape[0]/engage_dance.shape[0]"
   ]
  },
  {
   "cell_type": "markdown",
   "id": "50efa139",
   "metadata": {},
   "source": [
    "To learn how they differ from one another, I need to listen to high engaging/low danceable songs and low engaging/high danceable songs."
   ]
  },
  {
   "cell_type": "markdown",
   "id": "7d5823c8",
   "metadata": {},
   "source": [
    "Here are songs with engaging scores >0.9 and danceable scores <0.5"
   ]
  },
  {
   "cell_type": "code",
   "execution_count": 106,
   "id": "54f49ca0",
   "metadata": {},
   "outputs": [
    {
     "data": {
      "text/html": [
       "<div>\n",
       "<style scoped>\n",
       "    .dataframe tbody tr th:only-of-type {\n",
       "        vertical-align: middle;\n",
       "    }\n",
       "\n",
       "    .dataframe tbody tr th {\n",
       "        vertical-align: top;\n",
       "    }\n",
       "\n",
       "    .dataframe thead th {\n",
       "        text-align: right;\n",
       "    }\n",
       "</style>\n",
       "<table border=\"1\" class=\"dataframe\">\n",
       "  <thead>\n",
       "    <tr style=\"text-align: right;\">\n",
       "      <th></th>\n",
       "      <th>title</th>\n",
       "      <th>artist</th>\n",
       "      <th>danceable</th>\n",
       "      <th>engaging</th>\n",
       "    </tr>\n",
       "    <tr>\n",
       "      <th>sid</th>\n",
       "      <th></th>\n",
       "      <th></th>\n",
       "      <th></th>\n",
       "      <th></th>\n",
       "    </tr>\n",
       "  </thead>\n",
       "  <tbody>\n",
       "    <tr>\n",
       "      <th>f75e3622131ab738338fab375af88561</th>\n",
       "      <td>Amebo</td>\n",
       "      <td>The Lijadu Sisters</td>\n",
       "      <td>0.205313</td>\n",
       "      <td>0.934431</td>\n",
       "    </tr>\n",
       "    <tr>\n",
       "      <th>f34bbce6d615a660ef130647d9081d2c</th>\n",
       "      <td>I'M Feeling Sexy Tonight</td>\n",
       "      <td>Chona Cruz</td>\n",
       "      <td>0.481110</td>\n",
       "      <td>0.983108</td>\n",
       "    </tr>\n",
       "    <tr>\n",
       "      <th>49bb9fbb857a4d32f25227689fcf07fc</th>\n",
       "      <td>Won't Stop</td>\n",
       "      <td>DJ Snatch</td>\n",
       "      <td>0.428210</td>\n",
       "      <td>0.982285</td>\n",
       "    </tr>\n",
       "    <tr>\n",
       "      <th>ddf1c7208935bd59488b65b70bc4a432</th>\n",
       "      <td>Bi Kameleou</td>\n",
       "      <td>Volta Jazz</td>\n",
       "      <td>0.395995</td>\n",
       "      <td>0.943350</td>\n",
       "    </tr>\n",
       "    <tr>\n",
       "      <th>738ebd50ad5af9928b648385124ca9b3</th>\n",
       "      <td>16671686_Let_s Freak feat. Mr. V feat. Louie Vega_(Freak-A-Pella)_PN</td>\n",
       "      <td>None</td>\n",
       "      <td>0.414951</td>\n",
       "      <td>0.926072</td>\n",
       "    </tr>\n",
       "    <tr>\n",
       "      <th>742d1fc3a38304122239d07244e0106e</th>\n",
       "      <td>Ende Beerabeero Rare Unknown Ethiopian Disco Modern Soul 45-785Pujxp7rU</td>\n",
       "      <td>Habte Awalom</td>\n",
       "      <td>0.058170</td>\n",
       "      <td>0.977563</td>\n",
       "    </tr>\n",
       "    <tr>\n",
       "      <th>bcc2163e1ea5787c4d1f304607bd51ea</th>\n",
       "      <td>Disco Luismi (Edit de DiscoRollers)_PN</td>\n",
       "      <td>Various Artists</td>\n",
       "      <td>0.280143</td>\n",
       "      <td>0.993640</td>\n",
       "    </tr>\n",
       "  </tbody>\n",
       "</table>\n",
       "</div>"
      ],
      "text/plain": [
       "                                                                                                    title  \\\n",
       "sid                                                                                                         \n",
       "f75e3622131ab738338fab375af88561                                                                    Amebo   \n",
       "f34bbce6d615a660ef130647d9081d2c                                                 I'M Feeling Sexy Tonight   \n",
       "49bb9fbb857a4d32f25227689fcf07fc                                                               Won't Stop   \n",
       "ddf1c7208935bd59488b65b70bc4a432                                                              Bi Kameleou   \n",
       "738ebd50ad5af9928b648385124ca9b3     16671686_Let_s Freak feat. Mr. V feat. Louie Vega_(Freak-A-Pella)_PN   \n",
       "742d1fc3a38304122239d07244e0106e  Ende Beerabeero Rare Unknown Ethiopian Disco Modern Soul 45-785Pujxp7rU   \n",
       "bcc2163e1ea5787c4d1f304607bd51ea                                   Disco Luismi (Edit de DiscoRollers)_PN   \n",
       "\n",
       "                                              artist  danceable  engaging  \n",
       "sid                                                                        \n",
       "f75e3622131ab738338fab375af88561  The Lijadu Sisters   0.205313  0.934431  \n",
       "f34bbce6d615a660ef130647d9081d2c          Chona Cruz   0.481110  0.983108  \n",
       "49bb9fbb857a4d32f25227689fcf07fc           DJ Snatch   0.428210  0.982285  \n",
       "ddf1c7208935bd59488b65b70bc4a432          Volta Jazz   0.395995  0.943350  \n",
       "738ebd50ad5af9928b648385124ca9b3                None   0.414951  0.926072  \n",
       "742d1fc3a38304122239d07244e0106e        Habte Awalom   0.058170  0.977563  \n",
       "bcc2163e1ea5787c4d1f304607bd51ea     Various Artists   0.280143  0.993640  "
      ]
     },
     "execution_count": 106,
     "metadata": {},
     "output_type": "execute_result"
    }
   ],
   "source": [
    "high_engage_low_dance_songs = engage_dance.query(\"danceable <.5 and engaging >=.9\")\n",
    "tags.join(high_engage_low_dance_songs, how = \"inner\")[[\"title\", \"artist\", \"danceable\", \"engaging\"]]"
   ]
  },
  {
   "cell_type": "markdown",
   "id": "885bb01c",
   "metadata": {},
   "source": [
    "- [Amebo - The Lijadu Sisters](https://www.youtube.com/watch?v=-a3-mDAoNJM&pp=ygUUYW1lYm8gbGlqYWR1IHNpc3RlcnM%3D)\n",
    "\n",
    "- [I'm Feeling Sexy Tonight - Chona Cruz](https://www.youtube.com/watch?v=RG57K_9y5Rc&ab_channel=Marc%27sOPMPlaylist)\n",
    "\n",
    "- [Bi Kameleou - Volta Jazz](https://www.youtube.com/watch?v=tSOU38-0qsA&ab_channel=VoltaJazz-Topic)\n",
    "\n",
    "- [Ende Beerabeero - Habte Awalom](https://www.youtube.com/watch?v=785Pujxp7rU&ab_channel=JointCustody)\n",
    "\n",
    "- [Disco Luismi (Edit de DiscoRollers)](https://soundcloud.com/zhino/disco-luismi-discorollers)"
   ]
  },
  {
   "cell_type": "markdown",
   "id": "eac5e559",
   "metadata": {},
   "source": [
    "It's correct to say that these songs won't make you bust a sweat on the dance floor but I can see why they're rate high on engaging. \n",
    "\n",
    "For example \"I'm Feeling Sexy Tonight\" showing up here makes sense because it's a slow-paced song yet incredibly fun song due to its catchy melody and hook. "
   ]
  },
  {
   "cell_type": "markdown",
   "id": "0ae3c233",
   "metadata": {},
   "source": [
    "Now for high danceability and low engagement (danceable >.9 and engaging <.7)"
   ]
  },
  {
   "cell_type": "code",
   "execution_count": 107,
   "id": "e40fa798",
   "metadata": {},
   "outputs": [
    {
     "data": {
      "text/html": [
       "<div>\n",
       "<style scoped>\n",
       "    .dataframe tbody tr th:only-of-type {\n",
       "        vertical-align: middle;\n",
       "    }\n",
       "\n",
       "    .dataframe tbody tr th {\n",
       "        vertical-align: top;\n",
       "    }\n",
       "\n",
       "    .dataframe thead th {\n",
       "        text-align: right;\n",
       "    }\n",
       "</style>\n",
       "<table border=\"1\" class=\"dataframe\">\n",
       "  <thead>\n",
       "    <tr style=\"text-align: right;\">\n",
       "      <th></th>\n",
       "      <th>title</th>\n",
       "      <th>artist</th>\n",
       "      <th>danceable</th>\n",
       "      <th>engaging</th>\n",
       "    </tr>\n",
       "    <tr>\n",
       "      <th>sid</th>\n",
       "      <th></th>\n",
       "      <th></th>\n",
       "      <th></th>\n",
       "      <th></th>\n",
       "    </tr>\n",
       "  </thead>\n",
       "  <tbody>\n",
       "    <tr>\n",
       "      <th>5b787eb97c0aeabca71a7a518ff5f57c</th>\n",
       "      <td>Marcos Valle - Água de Côco (Bernardo Pinheiro Edit)</td>\n",
       "      <td>Bernardo Pinheiro</td>\n",
       "      <td>0.988168</td>\n",
       "      <td>0.681545</td>\n",
       "    </tr>\n",
       "    <tr>\n",
       "      <th>7b46a41051289c9bd3ae80d1eb0a788d</th>\n",
       "      <td>Bananeira da Ilha (cotait edit)</td>\n",
       "      <td>África Tentação</td>\n",
       "      <td>0.977446</td>\n",
       "      <td>0.667144</td>\n",
       "    </tr>\n",
       "    <tr>\n",
       "      <th>f9a6e07d75b3f5c33db8f672b62d8401</th>\n",
       "      <td>Diálogo de Crioulos (Milton e Beto Chuquer Edit)</td>\n",
       "      <td>None</td>\n",
       "      <td>0.931654</td>\n",
       "      <td>0.631613</td>\n",
       "    </tr>\n",
       "    <tr>\n",
       "      <th>31ab4708ffb4a57d52bac3613879cf22</th>\n",
       "      <td>Seven Windows - Danse Ralenti</td>\n",
       "      <td>reclusiv recordings</td>\n",
       "      <td>0.953039</td>\n",
       "      <td>0.651145</td>\n",
       "    </tr>\n",
       "    <tr>\n",
       "      <th>48c75551e75efc744602b9784bc10aeb</th>\n",
       "      <td>She</td>\n",
       "      <td>Those Guys From Athens</td>\n",
       "      <td>0.948289</td>\n",
       "      <td>0.673658</td>\n",
       "    </tr>\n",
       "    <tr>\n",
       "      <th>38e6a247694ad7cede598f46543107d0</th>\n",
       "      <td>Paperkraft - 私たちだけ何を話しているのか知っています。 - 04 B2. So deep in luv</td>\n",
       "      <td>None</td>\n",
       "      <td>0.990214</td>\n",
       "      <td>0.673340</td>\n",
       "    </tr>\n",
       "    <tr>\n",
       "      <th>c86eb429cf50cb8b138ac284b196c257</th>\n",
       "      <td>It's Music</td>\n",
       "      <td>Jex Opolis</td>\n",
       "      <td>0.991384</td>\n",
       "      <td>0.649430</td>\n",
       "    </tr>\n",
       "    <tr>\n",
       "      <th>5da5537a74d7311bec5964945d79db6b</th>\n",
       "      <td>Hashish (DJ Kobayashi Edit)</td>\n",
       "      <td>Ibrahim Maalouf</td>\n",
       "      <td>0.994678</td>\n",
       "      <td>0.697119</td>\n",
       "    </tr>\n",
       "    <tr>\n",
       "      <th>1de80db15a46de00c6cbd06414e27b96</th>\n",
       "      <td>Bongosynth - Verão do Amor - 18 Gal Costa - A Mulher (De Sena Edit)</td>\n",
       "      <td>None</td>\n",
       "      <td>0.940769</td>\n",
       "      <td>0.605812</td>\n",
       "    </tr>\n",
       "    <tr>\n",
       "      <th>e2aa2b4a02d2debbbeae13e97d7786b4</th>\n",
       "      <td>Lego Edit - Dancefloor Edits Afro Invasion - 05 The Trip (Lego Nu Edit Short Cut)</td>\n",
       "      <td>None</td>\n",
       "      <td>0.956052</td>\n",
       "      <td>0.684592</td>\n",
       "    </tr>\n",
       "  </tbody>\n",
       "</table>\n",
       "</div>"
      ],
      "text/plain": [
       "                                                                                                              title  \\\n",
       "sid                                                                                                                   \n",
       "5b787eb97c0aeabca71a7a518ff5f57c                               Marcos Valle - Água de Côco (Bernardo Pinheiro Edit)   \n",
       "7b46a41051289c9bd3ae80d1eb0a788d                                                    Bananeira da Ilha (cotait edit)   \n",
       "f9a6e07d75b3f5c33db8f672b62d8401                                  Diálogo de Crioulos (Milton e Beto Chuquer Edit)   \n",
       "31ab4708ffb4a57d52bac3613879cf22                                                      Seven Windows - Danse Ralenti   \n",
       "48c75551e75efc744602b9784bc10aeb                                                                                She   \n",
       "38e6a247694ad7cede598f46543107d0                         Paperkraft - 私たちだけ何を話しているのか知っています。 - 04 B2. So deep in luv   \n",
       "c86eb429cf50cb8b138ac284b196c257                                                                         It's Music   \n",
       "5da5537a74d7311bec5964945d79db6b                                                        Hashish (DJ Kobayashi Edit)   \n",
       "1de80db15a46de00c6cbd06414e27b96                Bongosynth - Verão do Amor - 18 Gal Costa - A Mulher (De Sena Edit)   \n",
       "e2aa2b4a02d2debbbeae13e97d7786b4  Lego Edit - Dancefloor Edits Afro Invasion - 05 The Trip (Lego Nu Edit Short Cut)   \n",
       "\n",
       "                                                  artist  danceable  engaging  \n",
       "sid                                                                            \n",
       "5b787eb97c0aeabca71a7a518ff5f57c       Bernardo Pinheiro   0.988168  0.681545  \n",
       "7b46a41051289c9bd3ae80d1eb0a788d         África Tentação   0.977446  0.667144  \n",
       "f9a6e07d75b3f5c33db8f672b62d8401                    None   0.931654  0.631613  \n",
       "31ab4708ffb4a57d52bac3613879cf22     reclusiv recordings   0.953039  0.651145  \n",
       "48c75551e75efc744602b9784bc10aeb  Those Guys From Athens   0.948289  0.673658  \n",
       "38e6a247694ad7cede598f46543107d0                    None   0.990214  0.673340  \n",
       "c86eb429cf50cb8b138ac284b196c257              Jex Opolis   0.991384  0.649430  \n",
       "5da5537a74d7311bec5964945d79db6b         Ibrahim Maalouf   0.994678  0.697119  \n",
       "1de80db15a46de00c6cbd06414e27b96                    None   0.940769  0.605812  \n",
       "e2aa2b4a02d2debbbeae13e97d7786b4                    None   0.956052  0.684592  "
      ]
     },
     "execution_count": 107,
     "metadata": {},
     "output_type": "execute_result"
    }
   ],
   "source": [
    "low_engage_high_dance_songs = engage_dance.query(\"danceable >.9 and engaging <.7\")\n",
    "tags.join(low_engage_high_dance_songs, how = \"inner\")[[\"title\", \"artist\", \"danceable\", \"engaging\"]]"
   ]
  },
  {
   "cell_type": "markdown",
   "id": "67119f97",
   "metadata": {},
   "source": [
    "- [Marcos Valle - Água de Côco (Bernardo Pinheiro Edit)](https://soundcloud.com/bernardopinheiro/marcos-valle-agua-de-coco-bernardo-pinheiro-edit)\n",
    "\n",
    "- [Bananeira da Ilha (cotait edit)\tÁfrica Tentação](https://rafaelcotait.bandcamp.com/track/frica-tenta-o-bananeira-da-ilha-cotait-edit)\n",
    "\n",
    "- [Diálogo de Crioulos (Milton e Beto Chuquer Edit)](https://soundcloud.com/beto-chuquer/elza-soares-miltinho-e-som-tres-dialogo-de-crioulos-milton-e-beto-chuquer-edit)\n",
    "\n",
    "- [Seven Windows - Danse Ralenti](https://www.youtube.com/watch?v=e_VXUX-kbVI&ab_channel=KeimiNewBeatCollector%2FOrgelAalst)\n",
    "\n",
    "- [She\tThose Guys From Athens](https://tooslowtodisco.bandcamp.com/track/she)\n",
    "\n",
    "- [It's Music\tJex Opolis](https://www.youtube.com/watch?v=liBPbvUii0k&ab_channel=JexOpolis-Topic)\n",
    "\n",
    "- [Hashish (DJ Kobayashi Edit)\tIbrahim Maalouf](https://djkobayashi.bandcamp.com/album/ibrahim-maalouf-hashish-dj-kobayashi-edit)\n",
    "\n",
    "- [Bongosynth - Verão do Amor - 18 Gal Costa - A Mulher (De Sena Edit)](https://soundcloud.com/bongosynth/gal-costa-a-mulher-de-sena)\n",
    "\n",
    "- [Lego Edit - Dancefloor Edits Afro Invasion - 05 The Trip (Lego Nu Edit Short Cut)](https://diegolellilegoedit.bandcamp.com/track/the-trip-lego-nu-edit-short-cut)"
   ]
  },
  {
   "cell_type": "markdown",
   "id": "64ea4900",
   "metadata": {},
   "source": [
    "Based on this output, highly danceable and low engaging tracks are downtempo and lower energy. I don't really find these tracks all that danceable and they remind me lounge music."
   ]
  },
  {
   "cell_type": "markdown",
   "id": "1f32a525",
   "metadata": {},
   "source": [
    "### Acoustic music\n",
    "\n",
    "More info => https://essentia.upf.edu/models.html#id459"
   ]
  },
  {
   "cell_type": "markdown",
   "id": "10eb784e",
   "metadata": {},
   "source": [
    "I don't have any expectations here because \"acoustic\" is not a quality that factors significantly in a DJ's song selection. Nevertheless, I'm still curious to see how this model rates my song arsenal."
   ]
  },
  {
   "cell_type": "code",
   "execution_count": 122,
   "id": "fa47771b",
   "metadata": {},
   "outputs": [
    {
     "name": "stdout",
     "output_type": "stream",
     "text": [
      "Loading mood_acoustic_effnet_discogs_1_activations data\n"
     ]
    },
    {
     "data": {
      "text/html": [
       "<div>\n",
       "<style scoped>\n",
       "    .dataframe tbody tr th:only-of-type {\n",
       "        vertical-align: middle;\n",
       "    }\n",
       "\n",
       "    .dataframe tbody tr th {\n",
       "        vertical-align: top;\n",
       "    }\n",
       "\n",
       "    .dataframe thead th {\n",
       "        text-align: right;\n",
       "    }\n",
       "</style>\n",
       "<table border=\"1\" class=\"dataframe\">\n",
       "  <thead>\n",
       "    <tr style=\"text-align: right;\">\n",
       "      <th></th>\n",
       "      <th>acoustic</th>\n",
       "      <th>non_acoustic</th>\n",
       "    </tr>\n",
       "    <tr>\n",
       "      <th>sid</th>\n",
       "      <th></th>\n",
       "      <th></th>\n",
       "    </tr>\n",
       "  </thead>\n",
       "  <tbody>\n",
       "    <tr>\n",
       "      <th>b806881a54bdbf9dd93a290716adf191</th>\n",
       "      <td>[0.0026928692, 0.0024666698, 0.003212599, 0.0026610964, 0.0019443267, 0.0017513653, 0.0031201968...</td>\n",
       "      <td>[0.9973072, 0.9975333, 0.9967874, 0.99733895, 0.9980557, 0.9982487, 0.9968798, 0.99778557, 0.987...</td>\n",
       "    </tr>\n",
       "    <tr>\n",
       "      <th>46e54d2ab920a088b77382e04877141b</th>\n",
       "      <td>[0.0010863945, 0.001686286, 0.0012730791, 0.0013222514, 0.0011042152, 0.0030583255, 0.0010868665...</td>\n",
       "      <td>[0.99891365, 0.9983138, 0.9987269, 0.9986777, 0.99889576, 0.9969416, 0.99891317, 0.9980895, 0.99...</td>\n",
       "    </tr>\n",
       "  </tbody>\n",
       "</table>\n",
       "</div>"
      ],
      "text/plain": [
       "                                                                                                                             acoustic  \\\n",
       "sid                                                                                                                                     \n",
       "b806881a54bdbf9dd93a290716adf191  [0.0026928692, 0.0024666698, 0.003212599, 0.0026610964, 0.0019443267, 0.0017513653, 0.0031201968...   \n",
       "46e54d2ab920a088b77382e04877141b  [0.0010863945, 0.001686286, 0.0012730791, 0.0013222514, 0.0011042152, 0.0030583255, 0.0010868665...   \n",
       "\n",
       "                                                                                                                         non_acoustic  \n",
       "sid                                                                                                                                    \n",
       "b806881a54bdbf9dd93a290716adf191  [0.9973072, 0.9975333, 0.9967874, 0.99733895, 0.9980557, 0.9982487, 0.9968798, 0.99778557, 0.987...  \n",
       "46e54d2ab920a088b77382e04877141b  [0.99891365, 0.9983138, 0.9987269, 0.9986777, 0.99889576, 0.9969416, 0.99891317, 0.9980895, 0.99...  "
      ]
     },
     "execution_count": 122,
     "metadata": {},
     "output_type": "execute_result"
    }
   ],
   "source": [
    "table_name = tables[3]\n",
    "acoustic = ActivationDataHub(table_name=table_name)\n",
    "acoustic.df.head(2)"
   ]
  },
  {
   "cell_type": "code",
   "execution_count": 125,
   "id": "a34802b9",
   "metadata": {},
   "outputs": [
    {
     "data": {
      "image/png": "[encoded data removed]",
      "text/plain": [
       "<Figure size 576x360 with 1 Axes>"
      ]
     },
     "metadata": {
      "needs_background": "light"
     },
     "output_type": "display_data"
    }
   ],
   "source": [
    "acoustic.dist_viz(\"acoustic\")"
   ]
  },
  {
   "cell_type": "markdown",
   "id": "f5e53b3e",
   "metadata": {},
   "source": [
    "About as surprising as the danceability plot"
   ]
  },
  {
   "cell_type": "markdown",
   "id": "134e00b7",
   "metadata": {},
   "source": [
    "Let's just look at the top 5 acoustic songs."
   ]
  },
  {
   "cell_type": "code",
   "execution_count": 126,
   "id": "4b4d2464",
   "metadata": {},
   "outputs": [
    {
     "data": {
      "text/html": [
       "<div>\n",
       "<style scoped>\n",
       "    .dataframe tbody tr th:only-of-type {\n",
       "        vertical-align: middle;\n",
       "    }\n",
       "\n",
       "    .dataframe tbody tr th {\n",
       "        vertical-align: top;\n",
       "    }\n",
       "\n",
       "    .dataframe thead th {\n",
       "        text-align: right;\n",
       "    }\n",
       "</style>\n",
       "<table border=\"1\" class=\"dataframe\">\n",
       "  <thead>\n",
       "    <tr style=\"text-align: right;\">\n",
       "      <th></th>\n",
       "      <th>title</th>\n",
       "      <th>artist</th>\n",
       "      <th>acoustic</th>\n",
       "    </tr>\n",
       "    <tr>\n",
       "      <th>sid</th>\n",
       "      <th></th>\n",
       "      <th></th>\n",
       "      <th></th>\n",
       "    </tr>\n",
       "  </thead>\n",
       "  <tbody>\n",
       "    <tr>\n",
       "      <th>d71d4a7afde1a9891e56fe0fdf307aff</th>\n",
       "      <td>Azara alhai</td>\n",
       "      <td>Rasha</td>\n",
       "      <td>0.889197</td>\n",
       "    </tr>\n",
       "    <tr>\n",
       "      <th>90c7378c60e273600d883d8b6cbab8a6</th>\n",
       "      <td>Telantena zare_PN</td>\n",
       "      <td>None</td>\n",
       "      <td>0.832715</td>\n",
       "    </tr>\n",
       "    <tr>\n",
       "      <th>cd54dcedd07842527ead1885aabf0e32</th>\n",
       "      <td>Dhurata Dora -Ayo (Remix , Original Version) FULL VERSION</td>\n",
       "      <td>Culimusik</td>\n",
       "      <td>0.756565</td>\n",
       "    </tr>\n",
       "    <tr>\n",
       "      <th>3c3f186cb9b2dd15804bf3995b65a34d</th>\n",
       "      <td>Lord Have Mercy</td>\n",
       "      <td>The Lijadu Sisters</td>\n",
       "      <td>0.756202</td>\n",
       "    </tr>\n",
       "    <tr>\n",
       "      <th>3da006514008184513b3a9af4ca1e559</th>\n",
       "      <td>De Noite Na Cama</td>\n",
       "      <td>Erasmo Carlos</td>\n",
       "      <td>0.750305</td>\n",
       "    </tr>\n",
       "  </tbody>\n",
       "</table>\n",
       "</div>"
      ],
      "text/plain": [
       "                                                                                      title  \\\n",
       "sid                                                                                           \n",
       "d71d4a7afde1a9891e56fe0fdf307aff                                                Azara alhai   \n",
       "90c7378c60e273600d883d8b6cbab8a6                                          Telantena zare_PN   \n",
       "cd54dcedd07842527ead1885aabf0e32  Dhurata Dora -Ayo (Remix , Original Version) FULL VERSION   \n",
       "3c3f186cb9b2dd15804bf3995b65a34d                                            Lord Have Mercy   \n",
       "3da006514008184513b3a9af4ca1e559                                           De Noite Na Cama   \n",
       "\n",
       "                                              artist  acoustic  \n",
       "sid                                                             \n",
       "d71d4a7afde1a9891e56fe0fdf307aff               Rasha  0.889197  \n",
       "90c7378c60e273600d883d8b6cbab8a6                None  0.832715  \n",
       "cd54dcedd07842527ead1885aabf0e32           Culimusik  0.756565  \n",
       "3c3f186cb9b2dd15804bf3995b65a34d  The Lijadu Sisters  0.756202  \n",
       "3da006514008184513b3a9af4ca1e559       Erasmo Carlos  0.750305  "
      ]
     },
     "execution_count": 126,
     "metadata": {},
     "output_type": "execute_result"
    }
   ],
   "source": [
    "acoustic.top_songs(\"acoustic\", n= 5)"
   ]
  },
  {
   "cell_type": "markdown",
   "id": "6fbc3818",
   "metadata": {},
   "source": [
    "1. [Azara alhai\tRasha](https://www.youtube.com/watch?v=WOdcgc9ot3k&ab_channel=ZicZakGarage)\n",
    "\n",
    "2. [Telantena zare](https://www.youtube.com/watch?v=cJjZDxONGt0&ab_channel=ethiomelaku2)\n",
    "\n",
    "3. [Dhurata Dora - Ayo Remix](https://music.youtube.com/watch?v=pd_OZgsRSiY)\n",
    "\n",
    "4. [Lord Have Mercy\tThe Lijadu Sisters](https://www.youtube.com/watch?v=2LOUSR7jk-k&ab_channel=TheLijaduSisters)\n",
    "\n",
    "5. [De Noite Na Cama\tErasmo Carlos](https://www.youtube.com/watch?v=7ZZTn6Cs06Y&ab_channel=DaniloSousRodrigues)"
   ]
  },
  {
   "cell_type": "markdown",
   "id": "68a97479",
   "metadata": {},
   "source": [
    "Every song exept Ayo by Dhurata Dora squarely falls under the acoustic umbrella. I don't know how Ayo could be considered acoustic"
   ]
  },
  {
   "cell_type": "markdown",
   "id": "86daa7f4",
   "metadata": {},
   "source": [
    "### Aggressive\n",
    "\n",
    "More info => https://essentia.upf.edu/models.html#id471"
   ]
  },
  {
   "cell_type": "markdown",
   "id": "84e75f2a",
   "metadata": {},
   "source": [
    "I'm not sure exactly sure how aggressive could be useful to me. Disco, boogie and house aren't really \"aggressive\" in the way that tech-house, techno, and dubstep are. "
   ]
  },
  {
   "cell_type": "code",
   "execution_count": 130,
   "id": "4702840d",
   "metadata": {},
   "outputs": [
    {
     "name": "stdout",
     "output_type": "stream",
     "text": [
      "Loading mood_aggressive_effnet_discogs_1_activations data\n"
     ]
    },
    {
     "data": {
      "text/html": [
       "<div>\n",
       "<style scoped>\n",
       "    .dataframe tbody tr th:only-of-type {\n",
       "        vertical-align: middle;\n",
       "    }\n",
       "\n",
       "    .dataframe tbody tr th {\n",
       "        vertical-align: top;\n",
       "    }\n",
       "\n",
       "    .dataframe thead th {\n",
       "        text-align: right;\n",
       "    }\n",
       "</style>\n",
       "<table border=\"1\" class=\"dataframe\">\n",
       "  <thead>\n",
       "    <tr style=\"text-align: right;\">\n",
       "      <th></th>\n",
       "      <th>aggressive</th>\n",
       "      <th>not_aggressive</th>\n",
       "    </tr>\n",
       "    <tr>\n",
       "      <th>sid</th>\n",
       "      <th></th>\n",
       "      <th></th>\n",
       "    </tr>\n",
       "  </thead>\n",
       "  <tbody>\n",
       "    <tr>\n",
       "      <th>b806881a54bdbf9dd93a290716adf191</th>\n",
       "      <td>[0.034215257, 0.07423435, 0.018835252, 0.03975891, 0.015497063, 0.049738754, 0.01714708, 0.07089...</td>\n",
       "      <td>[0.9657847, 0.92576563, 0.9811647, 0.96024114, 0.984503, 0.95026124, 0.9828529, 0.92910177, 0.99...</td>\n",
       "    </tr>\n",
       "    <tr>\n",
       "      <th>46e54d2ab920a088b77382e04877141b</th>\n",
       "      <td>[0.54076356, 0.3211906, 0.2659027, 0.5022463, 0.52893263, 0.38220552, 0.408414, 0.4466769, 0.341...</td>\n",
       "      <td>[0.45923647, 0.67880934, 0.73409724, 0.49775374, 0.47106734, 0.61779445, 0.591586, 0.5533231, 0....</td>\n",
       "    </tr>\n",
       "    <tr>\n",
       "      <th>a204ddef5763df6d8f7677701fe9d96f</th>\n",
       "      <td>[0.04164454, 0.030356685, 0.025491077, 0.021721967, 0.067210406, 0.029821342, 0.032328323, 0.031...</td>\n",
       "      <td>[0.9583555, 0.9696433, 0.97450894, 0.97827804, 0.9327896, 0.97017866, 0.96767163, 0.9684976, 0.9...</td>\n",
       "    </tr>\n",
       "    <tr>\n",
       "      <th>960097894e83c5810a9c649f17a4e551</th>\n",
       "      <td>[0.053191595, 0.02566131, 0.05958791, 0.039445955, 0.039067335, 0.04302546, 0.029958572, 0.04152...</td>\n",
       "      <td>[0.9468084, 0.9743387, 0.94041204, 0.96055406, 0.9609327, 0.9569745, 0.97004145, 0.9584721, 0.99...</td>\n",
       "    </tr>\n",
       "    <tr>\n",
       "      <th>a3c1f277aa0110ffc418bf5fa3aa16aa</th>\n",
       "      <td>[0.030829221, 0.023007683, 0.021254605, 0.02481825, 0.040518463, 0.032081258, 0.010878027, 0.006...</td>\n",
       "      <td>[0.96917075, 0.97699225, 0.97874546, 0.97518176, 0.95948154, 0.96791875, 0.989122, 0.9930773, 0....</td>\n",
       "    </tr>\n",
       "  </tbody>\n",
       "</table>\n",
       "</div>"
      ],
      "text/plain": [
       "                                                                                                                           aggressive  \\\n",
       "sid                                                                                                                                     \n",
       "b806881a54bdbf9dd93a290716adf191  [0.034215257, 0.07423435, 0.018835252, 0.03975891, 0.015497063, 0.049738754, 0.01714708, 0.07089...   \n",
       "46e54d2ab920a088b77382e04877141b  [0.54076356, 0.3211906, 0.2659027, 0.5022463, 0.52893263, 0.38220552, 0.408414, 0.4466769, 0.341...   \n",
       "a204ddef5763df6d8f7677701fe9d96f  [0.04164454, 0.030356685, 0.025491077, 0.021721967, 0.067210406, 0.029821342, 0.032328323, 0.031...   \n",
       "960097894e83c5810a9c649f17a4e551  [0.053191595, 0.02566131, 0.05958791, 0.039445955, 0.039067335, 0.04302546, 0.029958572, 0.04152...   \n",
       "a3c1f277aa0110ffc418bf5fa3aa16aa  [0.030829221, 0.023007683, 0.021254605, 0.02481825, 0.040518463, 0.032081258, 0.010878027, 0.006...   \n",
       "\n",
       "                                                                                                                       not_aggressive  \n",
       "sid                                                                                                                                    \n",
       "b806881a54bdbf9dd93a290716adf191  [0.9657847, 0.92576563, 0.9811647, 0.96024114, 0.984503, 0.95026124, 0.9828529, 0.92910177, 0.99...  \n",
       "46e54d2ab920a088b77382e04877141b  [0.45923647, 0.67880934, 0.73409724, 0.49775374, 0.47106734, 0.61779445, 0.591586, 0.5533231, 0....  \n",
       "a204ddef5763df6d8f7677701fe9d96f  [0.9583555, 0.9696433, 0.97450894, 0.97827804, 0.9327896, 0.97017866, 0.96767163, 0.9684976, 0.9...  \n",
       "960097894e83c5810a9c649f17a4e551  [0.9468084, 0.9743387, 0.94041204, 0.96055406, 0.9609327, 0.9569745, 0.97004145, 0.9584721, 0.99...  \n",
       "a3c1f277aa0110ffc418bf5fa3aa16aa  [0.96917075, 0.97699225, 0.97874546, 0.97518176, 0.95948154, 0.96791875, 0.989122, 0.9930773, 0....  "
      ]
     },
     "execution_count": 130,
     "metadata": {},
     "output_type": "execute_result"
    }
   ],
   "source": [
    "table_name = tables[4]\n",
    "agg = ActivationDataHub(table_name=table_name)\n",
    "agg.df.head()"
   ]
  },
  {
   "cell_type": "code",
   "execution_count": 131,
   "id": "10132517",
   "metadata": {},
   "outputs": [
    {
     "data": {
      "image/png": "[encoded data removed]",
      "text/plain": [
       "<Figure size 576x360 with 1 Axes>"
      ]
     },
     "metadata": {
      "needs_background": "light"
     },
     "output_type": "display_data"
    }
   ],
   "source": [
    "agg.dist_viz(\"aggressive\")"
   ]
  },
  {
   "cell_type": "markdown",
   "id": "267945d0",
   "metadata": {},
   "source": [
    "Not a whole lot of aggression present in my oeuvre."
   ]
  },
  {
   "cell_type": "markdown",
   "id": "21e6342d",
   "metadata": {},
   "source": [
    "What are the top 5 most aggressive songs?"
   ]
  },
  {
   "cell_type": "code",
   "execution_count": 132,
   "id": "9649ee9e",
   "metadata": {},
   "outputs": [
    {
     "data": {
      "text/html": [
       "<div>\n",
       "<style scoped>\n",
       "    .dataframe tbody tr th:only-of-type {\n",
       "        vertical-align: middle;\n",
       "    }\n",
       "\n",
       "    .dataframe tbody tr th {\n",
       "        vertical-align: top;\n",
       "    }\n",
       "\n",
       "    .dataframe thead th {\n",
       "        text-align: right;\n",
       "    }\n",
       "</style>\n",
       "<table border=\"1\" class=\"dataframe\">\n",
       "  <thead>\n",
       "    <tr style=\"text-align: right;\">\n",
       "      <th></th>\n",
       "      <th>title</th>\n",
       "      <th>artist</th>\n",
       "      <th>aggressive</th>\n",
       "    </tr>\n",
       "    <tr>\n",
       "      <th>sid</th>\n",
       "      <th></th>\n",
       "      <th></th>\n",
       "      <th></th>\n",
       "    </tr>\n",
       "  </thead>\n",
       "  <tbody>\n",
       "    <tr>\n",
       "      <th>84e054c6294d8496a53dd81a6020b02d</th>\n",
       "      <td>Break</td>\n",
       "      <td>Nick Garcia</td>\n",
       "      <td>0.692492</td>\n",
       "    </tr>\n",
       "    <tr>\n",
       "      <th>c4c3b598c63b9de8950c44cacdfc20aa</th>\n",
       "      <td>Dino Soccio - Pleasure of Edits 07 - 03 Bump Theme (edit)</td>\n",
       "      <td>None</td>\n",
       "      <td>0.658096</td>\n",
       "    </tr>\n",
       "    <tr>\n",
       "      <th>1ac21451b49daf78ed89a4d4774fe652</th>\n",
       "      <td>Lords Of The Future</td>\n",
       "      <td>Lords Of The Future</td>\n",
       "      <td>0.654220</td>\n",
       "    </tr>\n",
       "    <tr>\n",
       "      <th>01d99c36d2c6ff654e7833c3fc20a17b</th>\n",
       "      <td>Gil Dobrica - O Strada Mai Ingusta (Iorga Edit)</td>\n",
       "      <td>IORGA</td>\n",
       "      <td>0.632745</td>\n",
       "    </tr>\n",
       "    <tr>\n",
       "      <th>8d594188e7461f1661e0c7c06693c75a</th>\n",
       "      <td>Spacer Woman (Roliva Edit)</td>\n",
       "      <td>Roliva, Charlie</td>\n",
       "      <td>0.630386</td>\n",
       "    </tr>\n",
       "  </tbody>\n",
       "</table>\n",
       "</div>"
      ],
      "text/plain": [
       "                                                                                      title  \\\n",
       "sid                                                                                           \n",
       "84e054c6294d8496a53dd81a6020b02d                                                      Break   \n",
       "c4c3b598c63b9de8950c44cacdfc20aa  Dino Soccio - Pleasure of Edits 07 - 03 Bump Theme (edit)   \n",
       "1ac21451b49daf78ed89a4d4774fe652                                        Lords Of The Future   \n",
       "01d99c36d2c6ff654e7833c3fc20a17b            Gil Dobrica - O Strada Mai Ingusta (Iorga Edit)   \n",
       "8d594188e7461f1661e0c7c06693c75a                                 Spacer Woman (Roliva Edit)   \n",
       "\n",
       "                                               artist  aggressive  \n",
       "sid                                                                \n",
       "84e054c6294d8496a53dd81a6020b02d          Nick Garcia    0.692492  \n",
       "c4c3b598c63b9de8950c44cacdfc20aa                 None    0.658096  \n",
       "1ac21451b49daf78ed89a4d4774fe652  Lords Of The Future    0.654220  \n",
       "01d99c36d2c6ff654e7833c3fc20a17b                IORGA    0.632745  \n",
       "8d594188e7461f1661e0c7c06693c75a      Roliva, Charlie    0.630386  "
      ]
     },
     "execution_count": 132,
     "metadata": {},
     "output_type": "execute_result"
    }
   ],
   "source": [
    "agg.top_songs(\"aggressive\", n = 5)"
   ]
  },
  {
   "cell_type": "markdown",
   "id": "36b5c80d",
   "metadata": {},
   "source": [
    "1. [Break - Nick Garcia](https://houseofboom.bandcamp.com/track/break)\n",
    "\n",
    "2. [Dino Soccio - Pleasure of Edits 07 - 03 Bump Theme (edit)](https://dinosoccio.bandcamp.com/album/pleasure-of-edits-07)\n",
    "\n",
    "3. [Lords Of The Future - Lords Of The Future](https://www.youtube.com/watch?v=jiUSAce3dXM&ab_channel=ElectronicLoveCollective)\n",
    "\n",
    "4. [Gil Dobrica - O Strada Mai Ingusta (Iorga Edit)](https://iorga.bandcamp.com/track/gil-dobrica-o-strada-mai-ingusta-iorga-edit)\n",
    "\n",
    "5. [Spacer Woman (Roliva Edit) - Roliva, Charlie](https://www.youtube.com/watch?v=xwk7rV-AUE0&ab_channel=DennisHultsch)"
   ]
  },
  {
   "cell_type": "markdown",
   "id": "e8e80eae",
   "metadata": {},
   "source": [
    "Based on this output, \"aggressive\" in the context of my song collection means electronic music with prominent synthy jabs and hits. \"Break\" and \"Spacer Woman\" are valid selections based on essentia's aggressive criteria."
   ]
  },
  {
   "cell_type": "markdown",
   "id": "bc27df5a",
   "metadata": {},
   "source": [
    "### Happy\n",
    "\n",
    "At a basic level, the metrics we've assessed so far adhere to a low energy-high energy spectrum. But sometimes energy isn't enough. Take for instance a sunny day party; that's is a scenario where both low energy and high energy songs can fit in. To me, what makes an appropriate day party song is how buoyant and uplifting it is. You wouldn't want to hear dour music a day party at the park or on a boat. \n",
    "\n",
    "That's where \"happy\" could possibly be of assistance. I could use this rating to select songs for more jovial occassions such as day parties. I think \"happy\" has the potential to add a critical and different dimension to low to high energy spectrum.\n",
    "\n",
    "More info => https://essentia.upf.edu/models.html#id495"
   ]
  },
  {
   "cell_type": "code",
   "execution_count": 136,
   "id": "cb881ef9",
   "metadata": {},
   "outputs": [
    {
     "name": "stdout",
     "output_type": "stream",
     "text": [
      "Loading mood_happy_effnet_discogs_1_activations data\n"
     ]
    },
    {
     "data": {
      "text/html": [
       "<div>\n",
       "<style scoped>\n",
       "    .dataframe tbody tr th:only-of-type {\n",
       "        vertical-align: middle;\n",
       "    }\n",
       "\n",
       "    .dataframe tbody tr th {\n",
       "        vertical-align: top;\n",
       "    }\n",
       "\n",
       "    .dataframe thead th {\n",
       "        text-align: right;\n",
       "    }\n",
       "</style>\n",
       "<table border=\"1\" class=\"dataframe\">\n",
       "  <thead>\n",
       "    <tr style=\"text-align: right;\">\n",
       "      <th></th>\n",
       "      <th>happy</th>\n",
       "      <th>non_happy</th>\n",
       "    </tr>\n",
       "    <tr>\n",
       "      <th>sid</th>\n",
       "      <th></th>\n",
       "      <th></th>\n",
       "    </tr>\n",
       "  </thead>\n",
       "  <tbody>\n",
       "    <tr>\n",
       "      <th>b806881a54bdbf9dd93a290716adf191</th>\n",
       "      <td>[0.36340898, 0.18219845, 0.3428177, 0.19498937, 0.39566082, 0.17289302, 0.40052393, 0.20453341, ...</td>\n",
       "      <td>[0.636591, 0.81780154, 0.6571822, 0.8050107, 0.60433924, 0.82710695, 0.599476, 0.7954666, 0.9311...</td>\n",
       "    </tr>\n",
       "    <tr>\n",
       "      <th>46e54d2ab920a088b77382e04877141b</th>\n",
       "      <td>[0.09185828, 0.08827926, 0.10759978, 0.09465805, 0.06764625, 0.08693469, 0.06990745, 0.15041173,...</td>\n",
       "      <td>[0.90814173, 0.9117208, 0.89240026, 0.905342, 0.9323538, 0.9130654, 0.9300926, 0.8495883, 0.9147...</td>\n",
       "    </tr>\n",
       "    <tr>\n",
       "      <th>a204ddef5763df6d8f7677701fe9d96f</th>\n",
       "      <td>[0.5078719, 0.3578924, 0.51367694, 0.39432797, 0.5174208, 0.41941053, 0.6050827, 0.44703227, 0.5...</td>\n",
       "      <td>[0.4921281, 0.6421076, 0.4863231, 0.60567206, 0.4825791, 0.58058953, 0.3949173, 0.5529677, 0.454...</td>\n",
       "    </tr>\n",
       "    <tr>\n",
       "      <th>960097894e83c5810a9c649f17a4e551</th>\n",
       "      <td>[0.8064001, 0.78968686, 0.8094659, 0.80943507, 0.8025667, 0.7954887, 0.79991245, 0.8111683, 0.73...</td>\n",
       "      <td>[0.19359986, 0.21031311, 0.19053414, 0.19056496, 0.19743326, 0.20451134, 0.20008764, 0.18883172,...</td>\n",
       "    </tr>\n",
       "    <tr>\n",
       "      <th>a3c1f277aa0110ffc418bf5fa3aa16aa</th>\n",
       "      <td>[0.04381575, 0.05092577, 0.059241563, 0.054157313, 0.05069841, 0.03254329, 0.09770478, 0.0511871...</td>\n",
       "      <td>[0.9561842, 0.9490742, 0.94075847, 0.9458427, 0.9493016, 0.9674567, 0.90229523, 0.94881284, 0.90...</td>\n",
       "    </tr>\n",
       "  </tbody>\n",
       "</table>\n",
       "</div>"
      ],
      "text/plain": [
       "                                                                                                                                happy  \\\n",
       "sid                                                                                                                                     \n",
       "b806881a54bdbf9dd93a290716adf191  [0.36340898, 0.18219845, 0.3428177, 0.19498937, 0.39566082, 0.17289302, 0.40052393, 0.20453341, ...   \n",
       "46e54d2ab920a088b77382e04877141b  [0.09185828, 0.08827926, 0.10759978, 0.09465805, 0.06764625, 0.08693469, 0.06990745, 0.15041173,...   \n",
       "a204ddef5763df6d8f7677701fe9d96f  [0.5078719, 0.3578924, 0.51367694, 0.39432797, 0.5174208, 0.41941053, 0.6050827, 0.44703227, 0.5...   \n",
       "960097894e83c5810a9c649f17a4e551  [0.8064001, 0.78968686, 0.8094659, 0.80943507, 0.8025667, 0.7954887, 0.79991245, 0.8111683, 0.73...   \n",
       "a3c1f277aa0110ffc418bf5fa3aa16aa  [0.04381575, 0.05092577, 0.059241563, 0.054157313, 0.05069841, 0.03254329, 0.09770478, 0.0511871...   \n",
       "\n",
       "                                                                                                                            non_happy  \n",
       "sid                                                                                                                                    \n",
       "b806881a54bdbf9dd93a290716adf191  [0.636591, 0.81780154, 0.6571822, 0.8050107, 0.60433924, 0.82710695, 0.599476, 0.7954666, 0.9311...  \n",
       "46e54d2ab920a088b77382e04877141b  [0.90814173, 0.9117208, 0.89240026, 0.905342, 0.9323538, 0.9130654, 0.9300926, 0.8495883, 0.9147...  \n",
       "a204ddef5763df6d8f7677701fe9d96f  [0.4921281, 0.6421076, 0.4863231, 0.60567206, 0.4825791, 0.58058953, 0.3949173, 0.5529677, 0.454...  \n",
       "960097894e83c5810a9c649f17a4e551  [0.19359986, 0.21031311, 0.19053414, 0.19056496, 0.19743326, 0.20451134, 0.20008764, 0.18883172,...  \n",
       "a3c1f277aa0110ffc418bf5fa3aa16aa  [0.9561842, 0.9490742, 0.94075847, 0.9458427, 0.9493016, 0.9674567, 0.90229523, 0.94881284, 0.90...  "
      ]
     },
     "execution_count": 136,
     "metadata": {},
     "output_type": "execute_result"
    }
   ],
   "source": [
    "table_name = tables[5]\n",
    "happy = ActivationDataHub(table_name)\n",
    "happy.df.head()"
   ]
  },
  {
   "cell_type": "code",
   "execution_count": 137,
   "id": "8c6e8157",
   "metadata": {},
   "outputs": [
    {
     "data": {
      "image/png": "[encoded data removed]",
      "text/plain": [
       "<Figure size 576x360 with 1 Axes>"
      ]
     },
     "metadata": {
      "needs_background": "light"
     },
     "output_type": "display_data"
    }
   ],
   "source": [
    "happy.dist_viz(\"happy\")"
   ]
  },
  {
   "cell_type": "markdown",
   "id": "2bfc7e43",
   "metadata": {},
   "source": [
    "So far the closest distribution we've seen to a normal one and the closest 0.5.\n",
    "\n",
    "The distribution feels right to me, I would've guessed that on average my songs are closer to totally happy than to totally not happy."
   ]
  },
  {
   "cell_type": "markdown",
   "id": "dcf024f2",
   "metadata": {},
   "source": [
    "Top 5 happiest songs"
   ]
  },
  {
   "cell_type": "code",
   "execution_count": 138,
   "id": "1ce975de",
   "metadata": {},
   "outputs": [
    {
     "data": {
      "text/html": [
       "<div>\n",
       "<style scoped>\n",
       "    .dataframe tbody tr th:only-of-type {\n",
       "        vertical-align: middle;\n",
       "    }\n",
       "\n",
       "    .dataframe tbody tr th {\n",
       "        vertical-align: top;\n",
       "    }\n",
       "\n",
       "    .dataframe thead th {\n",
       "        text-align: right;\n",
       "    }\n",
       "</style>\n",
       "<table border=\"1\" class=\"dataframe\">\n",
       "  <thead>\n",
       "    <tr style=\"text-align: right;\">\n",
       "      <th></th>\n",
       "      <th>title</th>\n",
       "      <th>artist</th>\n",
       "      <th>happy</th>\n",
       "    </tr>\n",
       "    <tr>\n",
       "      <th>sid</th>\n",
       "      <th></th>\n",
       "      <th></th>\n",
       "      <th></th>\n",
       "    </tr>\n",
       "  </thead>\n",
       "  <tbody>\n",
       "    <tr>\n",
       "      <th>b6f5a4b06bbd4279f4e8727a137bfe7f</th>\n",
       "      <td>Don't Let Me Down</td>\n",
       "      <td>Marcia Griffiths</td>\n",
       "      <td>0.972735</td>\n",
       "    </tr>\n",
       "    <tr>\n",
       "      <th>3746f02034387a50e5768211a47d055d</th>\n",
       "      <td>Act of Sedition - Tropical Punch - 03 The Peanut Man - DJ Laurel edit</td>\n",
       "      <td>None</td>\n",
       "      <td>0.971720</td>\n",
       "    </tr>\n",
       "    <tr>\n",
       "      <th>297a8b8f471264e63e8a67274e100782</th>\n",
       "      <td>Dance Motif - Stages (Dance Motif Edit)</td>\n",
       "      <td>None</td>\n",
       "      <td>0.968240</td>\n",
       "    </tr>\n",
       "    <tr>\n",
       "      <th>b0be8c3bac085b48721c78a4940870cf</th>\n",
       "      <td>Harry Mwale — Pretty Face (Tambourine Party Edit)-YdrHvFAcPf8</td>\n",
       "      <td>None</td>\n",
       "      <td>0.965730</td>\n",
       "    </tr>\n",
       "    <tr>\n",
       "      <th>b085951a81e3078f4b114d1ffc5e80b5</th>\n",
       "      <td>The Boogashake</td>\n",
       "      <td>MARIO ALLISON Y SU COMBO</td>\n",
       "      <td>0.965116</td>\n",
       "    </tr>\n",
       "  </tbody>\n",
       "</table>\n",
       "</div>"
      ],
      "text/plain": [
       "                                                                                                  title  \\\n",
       "sid                                                                                                       \n",
       "b6f5a4b06bbd4279f4e8727a137bfe7f                                                      Don't Let Me Down   \n",
       "3746f02034387a50e5768211a47d055d  Act of Sedition - Tropical Punch - 03 The Peanut Man - DJ Laurel edit   \n",
       "297a8b8f471264e63e8a67274e100782                                Dance Motif - Stages (Dance Motif Edit)   \n",
       "b0be8c3bac085b48721c78a4940870cf          Harry Mwale — Pretty Face (Tambourine Party Edit)-YdrHvFAcPf8   \n",
       "b085951a81e3078f4b114d1ffc5e80b5                                                         The Boogashake   \n",
       "\n",
       "                                                    artist     happy  \n",
       "sid                                                                   \n",
       "b6f5a4b06bbd4279f4e8727a137bfe7f          Marcia Griffiths  0.972735  \n",
       "3746f02034387a50e5768211a47d055d                      None  0.971720  \n",
       "297a8b8f471264e63e8a67274e100782                      None  0.968240  \n",
       "b0be8c3bac085b48721c78a4940870cf                      None  0.965730  \n",
       "b085951a81e3078f4b114d1ffc5e80b5  MARIO ALLISON Y SU COMBO  0.965116  "
      ]
     },
     "execution_count": 138,
     "metadata": {},
     "output_type": "execute_result"
    }
   ],
   "source": [
    "happy.top_songs(\"happy\", 5)"
   ]
  },
  {
   "cell_type": "markdown",
   "id": "db686505",
   "metadata": {},
   "source": [
    "1. "
   ]
  }
 ],
 "metadata": {
  "kernelspec": {
   "display_name": "music",
   "language": "python",
   "name": "music"
  },
  "language_info": {
   "codemirror_mode": {
    "name": "ipython",
    "version": 3
   },
   "file_extension": ".py",
   "mimetype": "text/x-python",
   "name": "python",
   "nbconvert_exporter": "python",
   "pygments_lexer": "ipython3",
   "version": "3.7.13"
  }
 },
 "nbformat": 4,
 "nbformat_minor": 5
}
