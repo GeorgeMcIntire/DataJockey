{
 "cells": [
  {
   "cell_type": "markdown",
   "id": "80309bb6",
   "metadata": {},
   "source": [
    "# XML Data Cleaning"
   ]
  },
  {
   "cell_type": "markdown",
   "id": "421817c4",
   "metadata": {},
   "source": [
    "[Rekordbox](https://rekordbox.com/en/) is the primary DJing software that I use to manage my song library. It's made by Pioneer, the leading company in the DJing business. Rekordbox can also be used for actual DJing but I never do because I either use my own standalone unit called the XDJ-RX3 or I use the CDJs provided by the venue. I used to use Serato but migrated to Rekordbox because it's more compatible with the gear I use."
   ]
  },
  {
   "cell_type": "markdown",
   "id": "233a4492",
   "metadata": {},
   "source": [
    "I use rekordbox to clean up the metadata of my song files, organize them based my own DJ taxonomy, and compile a setlist of songs for gigs.\n",
    "\n",
    "![sd](\"../imgs/rekordbox_full.png\")"
   ]
  },
  {
   "cell_type": "markdown",
   "id": "32b6091f",
   "metadata": {},
   "source": [
    "**XML Cleaning Export**\n",
    "\n",
    "The great thing about rekordbox is that I can export a XML file containing a comprehensive collection of all the song data from rekordbox. This not just includes metadata about songs (title, artist, album, etc...) but also the playlist data as well. That way if I want, I can use my own manually-annotated labels (genre, energy, region) in my analysis. If I ever to train my own model, I can readily-available labels.\n",
    "\n",
    "In this notebook I demonstrate how I use the rekordbox xml data to fix dirty or missing metadata in my database. I also do some lighting data munging/handling with the playlist data as well."
   ]
  },
  {
   "cell_type": "code",
   "execution_count": 11,
   "id": "7bd081e0",
   "metadata": {},
   "outputs": [],
   "source": [
    "#Imports\n",
    "import xml.etree.ElementTree as ET\n",
    "import json\n",
    "import xmltodict\n",
    "from urllib import parse\n",
    "import unicodedata\n",
    "import pathlib\n",
    "from tqdm import tqdm\n",
    "import pandas as pd\n",
    "import numpy as np\n",
    "import sqlite3"
   ]
  },
  {
   "cell_type": "code",
   "execution_count": 12,
   "id": "36cb0190",
   "metadata": {},
   "outputs": [],
   "source": [
    "#Imports from project package called project_tools\n",
    "from project_tools.utils import adapt_array, convert_array, tag_cleaner, json_opener, table_loader"
   ]
  },
  {
   "cell_type": "code",
   "execution_count": 13,
   "id": "12d14e21",
   "metadata": {},
   "outputs": [],
   "source": [
    "#Register these functions with sqlite3 so that we I can work with \n",
    "sqlite3.register_adapter(np.ndarray, adapt_array)\n",
    "sqlite3.register_converter(\"array\", convert_array)"
   ]
  },
  {
   "cell_type": "code",
   "execution_count": 14,
   "id": "7e9bfe07",
   "metadata": {},
   "outputs": [],
   "source": [
    "#Connect to db\n",
    "conn = sqlite3.connect(\"../jaage.db\", detect_types= sqlite3.PARSE_DECLTYPES)\n",
    "cur = conn.cursor()"
   ]
  },
  {
   "cell_type": "markdown",
   "id": "18af2030",
   "metadata": {},
   "source": [
    "Import the `tags` table joined with `files`, which is needed for connecting to the rekordbox data because it doesn't have the sid column."
   ]
  },
  {
   "cell_type": "code",
   "execution_count": 63,
   "id": "1889b49c",
   "metadata": {},
   "outputs": [],
   "source": [
    "query = \"\"\"\n",
    "SELECT  t.sid, t.artist, t.length, t.title, t.bpm, t.initialkey, f.file_path\n",
    "FROM tags as t\n",
    "INNER JOIN files as f ON f.sid = t.sid\"\"\"\n",
    "\n",
    "tags = pd.read_sql_query(query, con = conn)"
   ]
  },
  {
   "cell_type": "code",
   "execution_count": 64,
   "id": "f99ffaff",
   "metadata": {},
   "outputs": [
    {
     "data": {
      "text/html": [
       "<div>\n",
       "<style scoped>\n",
       "    .dataframe tbody tr th:only-of-type {\n",
       "        vertical-align: middle;\n",
       "    }\n",
       "\n",
       "    .dataframe tbody tr th {\n",
       "        vertical-align: top;\n",
       "    }\n",
       "\n",
       "    .dataframe thead th {\n",
       "        text-align: right;\n",
       "    }\n",
       "</style>\n",
       "<table border=\"1\" class=\"dataframe\">\n",
       "  <thead>\n",
       "    <tr style=\"text-align: right;\">\n",
       "      <th></th>\n",
       "      <th>sid</th>\n",
       "      <th>artist</th>\n",
       "      <th>length</th>\n",
       "      <th>title</th>\n",
       "      <th>bpm</th>\n",
       "      <th>initialkey</th>\n",
       "      <th>file_path</th>\n",
       "    </tr>\n",
       "  </thead>\n",
       "  <tbody>\n",
       "    <tr>\n",
       "      <th>0</th>\n",
       "      <td>b806881a54bdbf9dd93a290716adf191</td>\n",
       "      <td></td>\n",
       "      <td>287.393372</td>\n",
       "      <td>House Of Love_PN</td>\n",
       "      <td>119.0</td>\n",
       "      <td>6A</td>\n",
       "      <td>/Volumes/LaCie/Collection/04 House Of Love_PN.wav</td>\n",
       "    </tr>\n",
       "    <tr>\n",
       "      <th>1</th>\n",
       "      <td>46e54d2ab920a088b77382e04877141b</td>\n",
       "      <td>A.T.S</td>\n",
       "      <td>311.251892</td>\n",
       "      <td>Baa Daa Laa (Alex Virgo's Rough n Ready edit)</td>\n",
       "      <td>128.0</td>\n",
       "      <td>1A</td>\n",
       "      <td>/Volumes/LaCie/Collection/Alex Virgo - Rough N...</td>\n",
       "    </tr>\n",
       "    <tr>\n",
       "      <th>2</th>\n",
       "      <td>a204ddef5763df6d8f7677701fe9d96f</td>\n",
       "      <td>FROM BEYOND</td>\n",
       "      <td>415.114746</td>\n",
       "      <td>Protostar</td>\n",
       "      <td>117.0</td>\n",
       "      <td>5A</td>\n",
       "      <td>/Volumes/LaCie/Collection/01 Protostar_PN.wav</td>\n",
       "    </tr>\n",
       "    <tr>\n",
       "      <th>3</th>\n",
       "      <td>960097894e83c5810a9c649f17a4e551</td>\n",
       "      <td>Cristal</td>\n",
       "      <td>321.108765</td>\n",
       "      <td>Drink My Soul (Running Hot Edit)_PN</td>\n",
       "      <td>120.0</td>\n",
       "      <td>5A</td>\n",
       "      <td>/Volumes/LaCie/Collection/Cristal - Drink My S...</td>\n",
       "    </tr>\n",
       "    <tr>\n",
       "      <th>4</th>\n",
       "      <td>a3c1f277aa0110ffc418bf5fa3aa16aa</td>\n",
       "      <td>Maya</td>\n",
       "      <td>378.276276</td>\n",
       "      <td>Lait De Coco ( Les Yeux Orange Edit)_PN</td>\n",
       "      <td>109.0</td>\n",
       "      <td>6A</td>\n",
       "      <td>/Volumes/LaCie/Collection/Maya - Lait De Coco ...</td>\n",
       "    </tr>\n",
       "  </tbody>\n",
       "</table>\n",
       "</div>"
      ],
      "text/plain": [
       "                                sid       artist      length  \\\n",
       "0  b806881a54bdbf9dd93a290716adf191               287.393372   \n",
       "1  46e54d2ab920a088b77382e04877141b        A.T.S  311.251892   \n",
       "2  a204ddef5763df6d8f7677701fe9d96f  FROM BEYOND  415.114746   \n",
       "3  960097894e83c5810a9c649f17a4e551      Cristal  321.108765   \n",
       "4  a3c1f277aa0110ffc418bf5fa3aa16aa         Maya  378.276276   \n",
       "\n",
       "                                           title    bpm initialkey  \\\n",
       "0                               House Of Love_PN  119.0         6A   \n",
       "1  Baa Daa Laa (Alex Virgo's Rough n Ready edit)  128.0         1A   \n",
       "2                                      Protostar  117.0         5A   \n",
       "3            Drink My Soul (Running Hot Edit)_PN  120.0         5A   \n",
       "4        Lait De Coco ( Les Yeux Orange Edit)_PN  109.0         6A   \n",
       "\n",
       "                                           file_path  \n",
       "0  /Volumes/LaCie/Collection/04 House Of Love_PN.wav  \n",
       "1  /Volumes/LaCie/Collection/Alex Virgo - Rough N...  \n",
       "2      /Volumes/LaCie/Collection/01 Protostar_PN.wav  \n",
       "3  /Volumes/LaCie/Collection/Cristal - Drink My S...  \n",
       "4  /Volumes/LaCie/Collection/Maya - Lait De Coco ...  "
      ]
     },
     "execution_count": 64,
     "metadata": {},
     "output_type": "execute_result"
    }
   ],
   "source": [
    "tags.head()"
   ]
  },
  {
   "cell_type": "markdown",
   "id": "4a809235",
   "metadata": {},
   "source": [
    "Load in the rekordbox xml data and parse it with the `xmltodict` package."
   ]
  },
  {
   "cell_type": "code",
   "execution_count": 18,
   "id": "ce4a690e",
   "metadata": {},
   "outputs": [],
   "source": [
    "with open(\"rekordbox_data.xml\") as xml_file:\n",
    "    data_dict = xmltodict.parse(xml_file.read())"
   ]
  },
  {
   "cell_type": "markdown",
   "id": "0b23af73",
   "metadata": {},
   "source": [
    "### Cleaning"
   ]
  },
  {
   "cell_type": "markdown",
   "id": "944d0b75",
   "metadata": {},
   "source": [
    "The `data_dict` object is a nested dictionary with a number of layers to it."
   ]
  },
  {
   "cell_type": "markdown",
   "id": "2d24f93a",
   "metadata": {},
   "source": [
    "So what I usually like to do is start from the outer later and develop an understanding by parsing it step by step"
   ]
  },
  {
   "cell_type": "markdown",
   "id": "edb02132",
   "metadata": {},
   "source": [
    "Outer dictionary has one key in it, which points to another dictionary."
   ]
  },
  {
   "cell_type": "code",
   "execution_count": 19,
   "id": "071ef687",
   "metadata": {},
   "outputs": [
    {
     "name": "stdout",
     "output_type": "stream",
     "text": [
      "dict_keys(['DJ_PLAYLISTS']) <class 'dict'>\n"
     ]
    }
   ],
   "source": [
    "print(data_dict.keys(), type(data_dict[\"DJ_PLAYLISTS\"]))"
   ]
  },
  {
   "cell_type": "markdown",
   "id": "e91a5bc1",
   "metadata": {},
   "source": [
    "That dictinoary has four keys"
   ]
  },
  {
   "cell_type": "code",
   "execution_count": 11,
   "id": "90f377e9",
   "metadata": {},
   "outputs": [
    {
     "data": {
      "text/plain": [
       "dict_keys(['@Version', 'PRODUCT', 'COLLECTION', 'PLAYLISTS'])"
      ]
     },
     "execution_count": 11,
     "metadata": {},
     "output_type": "execute_result"
    }
   ],
   "source": [
    "data_dict[\"DJ_PLAYLISTS\"].keys()"
   ]
  },
  {
   "cell_type": "markdown",
   "id": "6ca10c84",
   "metadata": {},
   "source": [
    "First up let's take a look at \"COLLECTION\" which holds the metadata of all my songs"
   ]
  },
  {
   "cell_type": "code",
   "execution_count": 21,
   "id": "2a33fa5a",
   "metadata": {},
   "outputs": [
    {
     "data": {
      "text/plain": [
       "dict"
      ]
     },
     "execution_count": 21,
     "metadata": {},
     "output_type": "execute_result"
    }
   ],
   "source": [
    "collection = data_dict[\"DJ_PLAYLISTS\"][\"COLLECTION\"]\n",
    "type(collection)"
   ]
  },
  {
   "cell_type": "markdown",
   "id": "799cf286",
   "metadata": {},
   "source": [
    "Show the keys in the `collection` dictionary "
   ]
  },
  {
   "cell_type": "code",
   "execution_count": 22,
   "id": "689901ea",
   "metadata": {},
   "outputs": [
    {
     "data": {
      "text/plain": [
       "dict_keys(['@Entries', 'TRACK'])"
      ]
     },
     "execution_count": 22,
     "metadata": {},
     "output_type": "execute_result"
    }
   ],
   "source": [
    "collection.keys()"
   ]
  },
  {
   "cell_type": "markdown",
   "id": "7456626f",
   "metadata": {},
   "source": [
    "\"@Entries\" shows the number of tracks"
   ]
  },
  {
   "cell_type": "code",
   "execution_count": 23,
   "id": "13d8bffe",
   "metadata": {},
   "outputs": [
    {
     "data": {
      "text/plain": [
       "'3961'"
      ]
     },
     "execution_count": 23,
     "metadata": {},
     "output_type": "execute_result"
    }
   ],
   "source": [
    "collection[\"@Entries\"]"
   ]
  },
  {
   "cell_type": "markdown",
   "id": "39af84ca",
   "metadata": {},
   "source": [
    "The \"TRACK\" key points to a list of song data"
   ]
  },
  {
   "cell_type": "code",
   "execution_count": 25,
   "id": "624ecbb4",
   "metadata": {},
   "outputs": [
    {
     "data": {
      "text/plain": [
       "list"
      ]
     },
     "execution_count": 25,
     "metadata": {},
     "output_type": "execute_result"
    }
   ],
   "source": [
    "type(collection[\"TRACK\"])"
   ]
  },
  {
   "cell_type": "markdown",
   "id": "061236cc",
   "metadata": {},
   "source": [
    "Here's a single example of the \"TRACK\" data."
   ]
  },
  {
   "cell_type": "code",
   "execution_count": 26,
   "id": "a60a056d",
   "metadata": {},
   "outputs": [
    {
     "data": {
      "text/plain": [
       "{'@TrackID': '122882692',\n",
       " '@Name': \"Ella Elle L'a (Folamour Edit)\",\n",
       " '@Artist': 'France Gall',\n",
       " '@Composer': '',\n",
       " '@Album': '',\n",
       " '@Grouping': '',\n",
       " '@Genre': '',\n",
       " '@Kind': 'WAV File',\n",
       " '@Size': '98848262',\n",
       " '@TotalTime': '373',\n",
       " '@DiscNumber': '0',\n",
       " '@TrackNumber': '0',\n",
       " '@Year': '0',\n",
       " '@AverageBpm': '107.00',\n",
       " '@DateAdded': '2022-01-15',\n",
       " '@BitRate': '2116',\n",
       " '@SampleRate': '44100',\n",
       " '@Comments': '',\n",
       " '@PlayCount': '3',\n",
       " '@Rating': '0',\n",
       " '@Location': 'file://localhost/Users/georgemcintire/Music/iTunes/iTunes%20Media/Music/Unknown%20Artist/Unknown%20Album/France%20Gall%20-%20Ella%20Elle%20L%27a%20(Folamour%20Edit).wav',\n",
       " '@Remixer': 'Folamour',\n",
       " '@Tonality': '9A',\n",
       " '@Label': '',\n",
       " '@Mix': '',\n",
       " 'TEMPO': {'@Inizio': '0.000',\n",
       "  '@Bpm': '107.00',\n",
       "  '@Metro': '4/4',\n",
       "  '@Battito': '3'}}"
      ]
     },
     "execution_count": 26,
     "metadata": {},
     "output_type": "execute_result"
    }
   ],
   "source": [
    "collection[\"TRACK\"][0]"
   ]
  },
  {
   "cell_type": "markdown",
   "id": "2313481b",
   "metadata": {},
   "source": [
    "Whenever I work with this kind of json data, I always load it into a pandas dataframe using pandas' `json_normalize` method."
   ]
  },
  {
   "cell_type": "code",
   "execution_count": 29,
   "id": "1668cc78",
   "metadata": {},
   "outputs": [
    {
     "data": {
      "text/html": [
       "<div>\n",
       "<style scoped>\n",
       "    .dataframe tbody tr th:only-of-type {\n",
       "        vertical-align: middle;\n",
       "    }\n",
       "\n",
       "    .dataframe tbody tr th {\n",
       "        vertical-align: top;\n",
       "    }\n",
       "\n",
       "    .dataframe thead th {\n",
       "        text-align: right;\n",
       "    }\n",
       "</style>\n",
       "<table border=\"1\" class=\"dataframe\">\n",
       "  <thead>\n",
       "    <tr style=\"text-align: right;\">\n",
       "      <th></th>\n",
       "      <th>@TrackID</th>\n",
       "      <th>@Name</th>\n",
       "      <th>@Artist</th>\n",
       "      <th>@Composer</th>\n",
       "      <th>@Album</th>\n",
       "      <th>@Grouping</th>\n",
       "      <th>@Genre</th>\n",
       "      <th>@Kind</th>\n",
       "      <th>@Size</th>\n",
       "      <th>@TotalTime</th>\n",
       "      <th>...</th>\n",
       "      <th>TEMPO.@Battito</th>\n",
       "      <th>TEMPO</th>\n",
       "      <th>POSITION_MARK.@Name</th>\n",
       "      <th>POSITION_MARK.@Type</th>\n",
       "      <th>POSITION_MARK.@Start</th>\n",
       "      <th>POSITION_MARK.@Num</th>\n",
       "      <th>POSITION_MARK.@Red</th>\n",
       "      <th>POSITION_MARK.@Green</th>\n",
       "      <th>POSITION_MARK.@Blue</th>\n",
       "      <th>POSITION_MARK</th>\n",
       "    </tr>\n",
       "  </thead>\n",
       "  <tbody>\n",
       "    <tr>\n",
       "      <th>0</th>\n",
       "      <td>122882692</td>\n",
       "      <td>Ella Elle L'a (Folamour Edit)</td>\n",
       "      <td>France Gall</td>\n",
       "      <td></td>\n",
       "      <td></td>\n",
       "      <td></td>\n",
       "      <td></td>\n",
       "      <td>WAV File</td>\n",
       "      <td>98848262</td>\n",
       "      <td>373</td>\n",
       "      <td>...</td>\n",
       "      <td>3</td>\n",
       "      <td>NaN</td>\n",
       "      <td>NaN</td>\n",
       "      <td>NaN</td>\n",
       "      <td>NaN</td>\n",
       "      <td>NaN</td>\n",
       "      <td>NaN</td>\n",
       "      <td>NaN</td>\n",
       "      <td>NaN</td>\n",
       "      <td>NaN</td>\n",
       "    </tr>\n",
       "    <tr>\n",
       "      <th>1</th>\n",
       "      <td>135428827</td>\n",
       "      <td>Alors On Danse_(Extended Mix)-instrumental</td>\n",
       "      <td>Stromae</td>\n",
       "      <td></td>\n",
       "      <td></td>\n",
       "      <td></td>\n",
       "      <td></td>\n",
       "      <td>WAV File</td>\n",
       "      <td>45585630</td>\n",
       "      <td>258</td>\n",
       "      <td>...</td>\n",
       "      <td>NaN</td>\n",
       "      <td>[{'@Inizio': '0.377', '@Bpm': '119.98', '@Metr...</td>\n",
       "      <td></td>\n",
       "      <td>0</td>\n",
       "      <td>0.377</td>\n",
       "      <td>-1</td>\n",
       "      <td>NaN</td>\n",
       "      <td>NaN</td>\n",
       "      <td>NaN</td>\n",
       "      <td>NaN</td>\n",
       "    </tr>\n",
       "    <tr>\n",
       "      <th>2</th>\n",
       "      <td>90601945</td>\n",
       "      <td>Alors On Danse_(Extended Mix)-harmonic</td>\n",
       "      <td>Stromae</td>\n",
       "      <td></td>\n",
       "      <td></td>\n",
       "      <td></td>\n",
       "      <td></td>\n",
       "      <td>WAV File</td>\n",
       "      <td>45585626</td>\n",
       "      <td>258</td>\n",
       "      <td>...</td>\n",
       "      <td>NaN</td>\n",
       "      <td>[{'@Inizio': '0.125', '@Bpm': '119.97', '@Metr...</td>\n",
       "      <td></td>\n",
       "      <td>0</td>\n",
       "      <td>0.625</td>\n",
       "      <td>-1</td>\n",
       "      <td>NaN</td>\n",
       "      <td>NaN</td>\n",
       "      <td>NaN</td>\n",
       "      <td>NaN</td>\n",
       "    </tr>\n",
       "    <tr>\n",
       "      <th>3</th>\n",
       "      <td>97379141</td>\n",
       "      <td>Alors On Danse_(Extended Mix)-drums-vocals</td>\n",
       "      <td>Stromae</td>\n",
       "      <td></td>\n",
       "      <td></td>\n",
       "      <td></td>\n",
       "      <td></td>\n",
       "      <td>WAV File</td>\n",
       "      <td>45585630</td>\n",
       "      <td>258</td>\n",
       "      <td>...</td>\n",
       "      <td>NaN</td>\n",
       "      <td>[{'@Inizio': '0.379', '@Bpm': '119.97', '@Metr...</td>\n",
       "      <td></td>\n",
       "      <td>0</td>\n",
       "      <td>0.379</td>\n",
       "      <td>-1</td>\n",
       "      <td>NaN</td>\n",
       "      <td>NaN</td>\n",
       "      <td>NaN</td>\n",
       "      <td>NaN</td>\n",
       "    </tr>\n",
       "    <tr>\n",
       "      <th>4</th>\n",
       "      <td>196901058</td>\n",
       "      <td>Alors On Danse_(Extended Mix)-acappella</td>\n",
       "      <td>Stromae</td>\n",
       "      <td></td>\n",
       "      <td></td>\n",
       "      <td></td>\n",
       "      <td></td>\n",
       "      <td>WAV File</td>\n",
       "      <td>45585624</td>\n",
       "      <td>258</td>\n",
       "      <td>...</td>\n",
       "      <td>NaN</td>\n",
       "      <td>[{'@Inizio': '0.124', '@Bpm': '119.99', '@Metr...</td>\n",
       "      <td></td>\n",
       "      <td>0</td>\n",
       "      <td>0.624</td>\n",
       "      <td>-1</td>\n",
       "      <td>NaN</td>\n",
       "      <td>NaN</td>\n",
       "      <td>NaN</td>\n",
       "      <td>NaN</td>\n",
       "    </tr>\n",
       "  </tbody>\n",
       "</table>\n",
       "<p>5 rows × 38 columns</p>\n",
       "</div>"
      ],
      "text/plain": [
       "    @TrackID                                       @Name      @Artist  \\\n",
       "0  122882692               Ella Elle L'a (Folamour Edit)  France Gall   \n",
       "1  135428827  Alors On Danse_(Extended Mix)-instrumental      Stromae   \n",
       "2   90601945      Alors On Danse_(Extended Mix)-harmonic      Stromae   \n",
       "3   97379141  Alors On Danse_(Extended Mix)-drums-vocals      Stromae   \n",
       "4  196901058     Alors On Danse_(Extended Mix)-acappella      Stromae   \n",
       "\n",
       "  @Composer @Album @Grouping @Genre     @Kind     @Size @TotalTime  ...  \\\n",
       "0                                    WAV File  98848262        373  ...   \n",
       "1                                    WAV File  45585630        258  ...   \n",
       "2                                    WAV File  45585626        258  ...   \n",
       "3                                    WAV File  45585630        258  ...   \n",
       "4                                    WAV File  45585624        258  ...   \n",
       "\n",
       "  TEMPO.@Battito                                              TEMPO  \\\n",
       "0              3                                                NaN   \n",
       "1            NaN  [{'@Inizio': '0.377', '@Bpm': '119.98', '@Metr...   \n",
       "2            NaN  [{'@Inizio': '0.125', '@Bpm': '119.97', '@Metr...   \n",
       "3            NaN  [{'@Inizio': '0.379', '@Bpm': '119.97', '@Metr...   \n",
       "4            NaN  [{'@Inizio': '0.124', '@Bpm': '119.99', '@Metr...   \n",
       "\n",
       "  POSITION_MARK.@Name POSITION_MARK.@Type POSITION_MARK.@Start  \\\n",
       "0                 NaN                 NaN                  NaN   \n",
       "1                                       0                0.377   \n",
       "2                                       0                0.625   \n",
       "3                                       0                0.379   \n",
       "4                                       0                0.624   \n",
       "\n",
       "  POSITION_MARK.@Num POSITION_MARK.@Red POSITION_MARK.@Green  \\\n",
       "0                NaN                NaN                  NaN   \n",
       "1                 -1                NaN                  NaN   \n",
       "2                 -1                NaN                  NaN   \n",
       "3                 -1                NaN                  NaN   \n",
       "4                 -1                NaN                  NaN   \n",
       "\n",
       "  POSITION_MARK.@Blue POSITION_MARK  \n",
       "0                 NaN           NaN  \n",
       "1                 NaN           NaN  \n",
       "2                 NaN           NaN  \n",
       "3                 NaN           NaN  \n",
       "4                 NaN           NaN  \n",
       "\n",
       "[5 rows x 38 columns]"
      ]
     },
     "execution_count": 29,
     "metadata": {},
     "output_type": "execute_result"
    }
   ],
   "source": [
    "rbox = pd.json_normalize(collection[\"TRACK\"])\n",
    "rbox.head()"
   ]
  },
  {
   "cell_type": "code",
   "execution_count": 30,
   "id": "96dfa14b",
   "metadata": {},
   "outputs": [
    {
     "name": "stdout",
     "output_type": "stream",
     "text": [
      "<class 'pandas.core.frame.DataFrame'>\n",
      "RangeIndex: 3961 entries, 0 to 3960\n",
      "Data columns (total 38 columns):\n",
      " #   Column                Non-Null Count  Dtype \n",
      "---  ------                --------------  ----- \n",
      " 0   @TrackID              3961 non-null   object\n",
      " 1   @Name                 3961 non-null   object\n",
      " 2   @Artist               3961 non-null   object\n",
      " 3   @Composer             3961 non-null   object\n",
      " 4   @Album                3961 non-null   object\n",
      " 5   @Grouping             3961 non-null   object\n",
      " 6   @Genre                3961 non-null   object\n",
      " 7   @Kind                 3961 non-null   object\n",
      " 8   @Size                 3961 non-null   object\n",
      " 9   @TotalTime            3961 non-null   object\n",
      " 10  @DiscNumber           3961 non-null   object\n",
      " 11  @TrackNumber          3961 non-null   object\n",
      " 12  @Year                 3961 non-null   object\n",
      " 13  @AverageBpm           3961 non-null   object\n",
      " 14  @DateAdded            3961 non-null   object\n",
      " 15  @BitRate              3961 non-null   object\n",
      " 16  @SampleRate           3961 non-null   object\n",
      " 17  @Comments             3961 non-null   object\n",
      " 18  @PlayCount            3961 non-null   object\n",
      " 19  @Rating               3961 non-null   object\n",
      " 20  @Location             3961 non-null   object\n",
      " 21  @Remixer              3961 non-null   object\n",
      " 22  @Tonality             3961 non-null   object\n",
      " 23  @Label                3961 non-null   object\n",
      " 24  @Mix                  3961 non-null   object\n",
      " 25  TEMPO.@Inizio         2366 non-null   object\n",
      " 26  TEMPO.@Bpm            2366 non-null   object\n",
      " 27  TEMPO.@Metro          2366 non-null   object\n",
      " 28  TEMPO.@Battito        2366 non-null   object\n",
      " 29  TEMPO                 1592 non-null   object\n",
      " 30  POSITION_MARK.@Name   3201 non-null   object\n",
      " 31  POSITION_MARK.@Type   3201 non-null   object\n",
      " 32  POSITION_MARK.@Start  3201 non-null   object\n",
      " 33  POSITION_MARK.@Num    3201 non-null   object\n",
      " 34  POSITION_MARK.@Red    2 non-null      object\n",
      " 35  POSITION_MARK.@Green  2 non-null      object\n",
      " 36  POSITION_MARK.@Blue   2 non-null      object\n",
      " 37  POSITION_MARK         357 non-null    object\n",
      "dtypes: object(38)\n",
      "memory usage: 1.1+ MB\n"
     ]
    }
   ],
   "source": [
    "rbox.info()"
   ]
  },
  {
   "cell_type": "markdown",
   "id": "8a78ed47",
   "metadata": {},
   "source": [
    "Get rid of the @ character from the column names."
   ]
  },
  {
   "cell_type": "code",
   "execution_count": 31,
   "id": "caa91e5f",
   "metadata": {},
   "outputs": [],
   "source": [
    "rbox.columns = rbox.columns.str.strip(\"@\")"
   ]
  },
  {
   "cell_type": "markdown",
   "id": "006e131e",
   "metadata": {},
   "source": [
    "Filter out songs not located on my harddrive (LaCie) and select a list of columns "
   ]
  },
  {
   "cell_type": "code",
   "execution_count": 33,
   "id": "17eecfd4",
   "metadata": {},
   "outputs": [
    {
     "data": {
      "text/plain": [
       "(3939, 11)"
      ]
     },
     "execution_count": 33,
     "metadata": {},
     "output_type": "execute_result"
    }
   ],
   "source": [
    "rbox = rbox[rbox.Location.str.contains(\"LaCie\")]\n",
    "rekord_cols = ['TrackID', 'Name', 'Artist', \"Genre\", \"Size\", \"TotalTime\", \"AverageBpm\", \"PlayCount\", \n",
    "              \"Location\", \"TEMPO\", \"Tonality\"]\n",
    "\n",
    "rbox = rbox[rekord_cols]\n",
    "rbox.shape"
   ]
  },
  {
   "cell_type": "markdown",
   "id": "7373414e",
   "metadata": {},
   "source": [
    "Since I can't use the song ids from my database for the joins, I'm going to have to connect `rbox` with `tags` using the file paths. However that presents its own challenges.\n",
    "\n",
    "\n",
    "First thing I need to deal with is the rekordbox file paths which all begin with \"file://localhost/.\" I don't know it's doing, so if you do, please let me know."
   ]
  },
  {
   "cell_type": "code",
   "execution_count": 36,
   "id": "933f3d67",
   "metadata": {},
   "outputs": [
    {
     "data": {
      "text/plain": [
       "['file://localhost/Volumes/LaCie/Collection/IORGA%20-%20Romanian%20Edits,%20Vol.%202%20-%2004%20Romanticii%20-%20Soare%20Si%20Foc%20(Iorga%20Edit)_PN.wav',\n",
       " 'file://localhost/Volumes/LaCie/Collection/Dino%20Soccio%20-%20Continental%20Samba%20DS%20Rework_PN.wav',\n",
       " 'file://localhost/Volumes/LaCie/Collection/Andrzej%20Korzy%c5%84ski%20-%20Andrzej%20Korzy%c5%84ski%20-%20Temat%20Monika%20(Pejza%c5%bc%20Edit)_PN.wav',\n",
       " 'file://localhost/Volumes/LaCie/Collection/RAF%20-%20Self%20Control%20(Ziggy%20Phunk%20Spirit%20Of%201984%20Edit)_PN.wav',\n",
       " 'file://localhost/Volumes/LaCie/Collection/Chemise%20-%20She%20Can%27t%20Love%20You%20(Purple%20Disco%20Machine%20Edit)_PN.wav']"
      ]
     },
     "execution_count": 36,
     "metadata": {},
     "output_type": "execute_result"
    }
   ],
   "source": [
    "rbox.Location.tolist()[:5]"
   ]
  },
  {
   "cell_type": "markdown",
   "id": "551ca1c8",
   "metadata": {},
   "source": [
    "Create a new column called `Location_fixed` by left stripping \"file://localhost.\" I also use `parse.unquote` to deal with the %20 spacing issue as well since those characters don't appear in the `tags` dataframe."
   ]
  },
  {
   "cell_type": "code",
   "execution_count": 37,
   "id": "5fe2fdcb",
   "metadata": {},
   "outputs": [],
   "source": [
    "rbox[\"Location_fixed\"] = \"/\"+rbox.Location.str.lstrip(\"file://localhost\").apply(parse.unquote)"
   ]
  },
  {
   "cell_type": "markdown",
   "id": "28baf413",
   "metadata": {},
   "source": [
    "Applying these fixes got me about 80% of the way there in terms cleanly joining data. However, the biggest hurdle to 100% join were the accent characters in the song paths — definitely an issue when working a very global collection of songs."
   ]
  },
  {
   "cell_type": "markdown",
   "id": "0479af0c",
   "metadata": {},
   "source": [
    "To address this issue I normalize the columns containing the file paths using the NFKC unicode normalization algorithm."
   ]
  },
  {
   "cell_type": "code",
   "execution_count": 65,
   "id": "5366ce00",
   "metadata": {},
   "outputs": [],
   "source": [
    "rbox[\"Location_unicode\"] = rbox.Location_fixed.apply(lambda x: unicodedata.normalize(\"NFKC\", x))\n",
    "tags[\"file_path_unicode\"] = tags.file_path.apply(lambda x: unicodedata.normalize(\"NFKC\", x))"
   ]
  },
  {
   "cell_type": "markdown",
   "id": "d7865d64",
   "metadata": {},
   "source": [
    "Now let's see how clean of a join we got here.\n",
    "\n",
    "For reference, the number of rows in `tags` and `rbox`"
   ]
  },
  {
   "cell_type": "code",
   "execution_count": 66,
   "id": "39f7cd45",
   "metadata": {},
   "outputs": [
    {
     "data": {
      "text/plain": [
       "(3899, 3939)"
      ]
     },
     "execution_count": 66,
     "metadata": {},
     "output_type": "execute_result"
    }
   ],
   "source": [
    "tags.shape[0], rbox.shape[0]"
   ]
  },
  {
   "cell_type": "markdown",
   "id": "ebffc48e",
   "metadata": {},
   "source": [
    "Inner join with `tags` and `rbox`"
   ]
  },
  {
   "cell_type": "code",
   "execution_count": 68,
   "id": "f5a3737c",
   "metadata": {},
   "outputs": [
    {
     "data": {
      "text/plain": [
       "(3899, 21)"
      ]
     },
     "execution_count": 68,
     "metadata": {},
     "output_type": "execute_result"
    }
   ],
   "source": [
    "tags_rbox_ij = pd.merge(tags, rbox, how = \"inner\", left_on=\"file_path_unicode\", right_on=\"Location_unicode\")\n",
    "tags_rbox_ij.shape"
   ]
  },
  {
   "cell_type": "markdown",
   "id": "e6401dfc",
   "metadata": {},
   "source": [
    "Clean join! All of the `tags` data is represented in `tags_rbox_ij`."
   ]
  },
  {
   "cell_type": "code",
   "execution_count": 18,
   "id": "dba76c35",
   "metadata": {},
   "outputs": [
    {
     "data": {
      "text/plain": [
       "(3847, 21)"
      ]
     },
     "execution_count": 18,
     "metadata": {},
     "output_type": "execute_result"
    }
   ],
   "source": [
    "joined_outer = pd.merge(tags, df, how = \"outer\", left_on=\"file_path_unicode\", right_on=\"Location_unicode\")\n",
    "joined_inner.shape"
   ]
  },
  {
   "cell_type": "markdown",
   "id": "3d2fe347",
   "metadata": {},
   "source": [
    "#### Replace missing data"
   ]
  },
  {
   "cell_type": "markdown",
   "id": "15e31085",
   "metadata": {},
   "source": [
    "For each column I want to fix in the `tags` table I need to find the rows with missing or incorrect data and replace them with the correct data from their counterpart column in the `rbox` dataframe.\n",
    "\n",
    "\n",
    "Let's demonstrate this first with bpm."
   ]
  },
  {
   "cell_type": "code",
   "execution_count": 72,
   "id": "99f6b44b",
   "metadata": {},
   "outputs": [
    {
     "name": "stdout",
     "output_type": "stream",
     "text": [
      "There are 88 null values under bpm column in the tags table\n"
     ]
    }
   ],
   "source": [
    "print(f\"There are {tags.bpm.isnull().sum()} null values under bpm column in the tags table\")"
   ]
  },
  {
   "cell_type": "markdown",
   "id": "53e3b54e",
   "metadata": {},
   "source": [
    "Select the rows in the `tags_rbox_ij` that are null under the `bpm` column. I set the index to the song id column for reasons I show demonstate after this part."
   ]
  },
  {
   "cell_type": "code",
   "execution_count": 77,
   "id": "cd20815f",
   "metadata": {},
   "outputs": [
    {
     "data": {
      "text/html": [
       "<div>\n",
       "<style scoped>\n",
       "    .dataframe tbody tr th:only-of-type {\n",
       "        vertical-align: middle;\n",
       "    }\n",
       "\n",
       "    .dataframe tbody tr th {\n",
       "        vertical-align: top;\n",
       "    }\n",
       "\n",
       "    .dataframe thead th {\n",
       "        text-align: right;\n",
       "    }\n",
       "</style>\n",
       "<table border=\"1\" class=\"dataframe\">\n",
       "  <thead>\n",
       "    <tr style=\"text-align: right;\">\n",
       "      <th></th>\n",
       "      <th>artist</th>\n",
       "      <th>length</th>\n",
       "      <th>title</th>\n",
       "      <th>bpm</th>\n",
       "      <th>initialkey</th>\n",
       "      <th>file_path</th>\n",
       "      <th>file_path_unicode</th>\n",
       "      <th>TrackID</th>\n",
       "      <th>Name</th>\n",
       "      <th>Artist</th>\n",
       "      <th>Genre</th>\n",
       "      <th>Size</th>\n",
       "      <th>TotalTime</th>\n",
       "      <th>AverageBpm</th>\n",
       "      <th>PlayCount</th>\n",
       "      <th>Location</th>\n",
       "      <th>TEMPO</th>\n",
       "      <th>Tonality</th>\n",
       "      <th>Location_fixed</th>\n",
       "      <th>Location_unicode</th>\n",
       "    </tr>\n",
       "    <tr>\n",
       "      <th>sid</th>\n",
       "      <th></th>\n",
       "      <th></th>\n",
       "      <th></th>\n",
       "      <th></th>\n",
       "      <th></th>\n",
       "      <th></th>\n",
       "      <th></th>\n",
       "      <th></th>\n",
       "      <th></th>\n",
       "      <th></th>\n",
       "      <th></th>\n",
       "      <th></th>\n",
       "      <th></th>\n",
       "      <th></th>\n",
       "      <th></th>\n",
       "      <th></th>\n",
       "      <th></th>\n",
       "      <th></th>\n",
       "      <th></th>\n",
       "      <th></th>\n",
       "    </tr>\n",
       "  </thead>\n",
       "  <tbody>\n",
       "    <tr>\n",
       "      <th>9a10e738a0ce3b630b277647ccb36fa0</th>\n",
       "      <td>Alex Virgo/Jack Priest</td>\n",
       "      <td>445.669128</td>\n",
       "      <td>Here We Go Again</td>\n",
       "      <td>NaN</td>\n",
       "      <td>None</td>\n",
       "      <td>/Volumes/LaCie/Collection/01-Alex_Virgo_Jack_P...</td>\n",
       "      <td>/Volumes/LaCie/Collection/01-Alex_Virgo_Jack_P...</td>\n",
       "      <td>63491102</td>\n",
       "      <td>Here We Go Again</td>\n",
       "      <td>Alex Virgo/Jack Priest</td>\n",
       "      <td>Disco/Nu Disco/Re-Edits</td>\n",
       "      <td>117925428</td>\n",
       "      <td>445</td>\n",
       "      <td>122.00</td>\n",
       "      <td>0</td>\n",
       "      <td>file://localhost/Volumes/LaCie/Collection/01-A...</td>\n",
       "      <td>NaN</td>\n",
       "      <td>8A</td>\n",
       "      <td>/Volumes/LaCie/Collection/01-Alex_Virgo_Jack_P...</td>\n",
       "      <td>/Volumes/LaCie/Collection/01-Alex_Virgo_Jack_P...</td>\n",
       "    </tr>\n",
       "    <tr>\n",
       "      <th>df2754c814418e80f40cfdead0ad3e17</th>\n",
       "      <td>C. Da Afro</td>\n",
       "      <td>332.638184</td>\n",
       "      <td>Collectiva's Jam (original mix)</td>\n",
       "      <td>NaN</td>\n",
       "      <td>None</td>\n",
       "      <td>/Volumes/LaCie/Collection/01-C._Da_Afro_-_Coll...</td>\n",
       "      <td>/Volumes/LaCie/Collection/01-C._Da_Afro_-_Coll...</td>\n",
       "      <td>56825554</td>\n",
       "      <td>Collectiva's Jam (original mix)</td>\n",
       "      <td>C. Da Afro</td>\n",
       "      <td>Disco/Nu Disco/Re-Edits</td>\n",
       "      <td>88017456</td>\n",
       "      <td>332</td>\n",
       "      <td>114.00</td>\n",
       "      <td>0</td>\n",
       "      <td>file://localhost/Volumes/LaCie/Collection/01-C...</td>\n",
       "      <td>NaN</td>\n",
       "      <td>7A</td>\n",
       "      <td>/Volumes/LaCie/Collection/01-C._Da_Afro_-_Coll...</td>\n",
       "      <td>/Volumes/LaCie/Collection/01-C._Da_Afro_-_Coll...</td>\n",
       "    </tr>\n",
       "    <tr>\n",
       "      <th>c98685a900ae4b5f9f1880b19688df53</th>\n",
       "      <td>Dam Swindle</td>\n",
       "      <td>476.049988</td>\n",
       "      <td>The Break Up</td>\n",
       "      <td>NaN</td>\n",
       "      <td>None</td>\n",
       "      <td>/Volumes/LaCie/Collection/01-Dam_Swindle_-_The...</td>\n",
       "      <td>/Volumes/LaCie/Collection/01-Dam_Swindle_-_The...</td>\n",
       "      <td>185624456</td>\n",
       "      <td>The Break Up</td>\n",
       "      <td>Dam Swindle</td>\n",
       "      <td>Deep house</td>\n",
       "      <td>125964170</td>\n",
       "      <td>476</td>\n",
       "      <td>120.00</td>\n",
       "      <td>0</td>\n",
       "      <td>file://localhost/Volumes/LaCie/Collection/01-D...</td>\n",
       "      <td>[{'@Inizio': '0.096', '@Bpm': '120.00', '@Metr...</td>\n",
       "      <td>3A</td>\n",
       "      <td>/Volumes/LaCie/Collection/01-Dam_Swindle_-_The...</td>\n",
       "      <td>/Volumes/LaCie/Collection/01-Dam_Swindle_-_The...</td>\n",
       "    </tr>\n",
       "    <tr>\n",
       "      <th>df67ab199063cc81129ff3ad25164301</th>\n",
       "      <td>Dele Sosimi</td>\n",
       "      <td>273.574615</td>\n",
       "      <td>You No Fit Touch Am (Medlar remix radio)</td>\n",
       "      <td>NaN</td>\n",
       "      <td>None</td>\n",
       "      <td>/Volumes/LaCie/Collection/01-Dele_Sosimi_-_You...</td>\n",
       "      <td>/Volumes/LaCie/Collection/01-Dele_Sosimi_-_You...</td>\n",
       "      <td>182243122</td>\n",
       "      <td>You No Fit Touch Am (Medlar remix radio)</td>\n",
       "      <td>Dele Sosimi</td>\n",
       "      <td>Disco/Nu Disco/Re-Edits</td>\n",
       "      <td>72389300</td>\n",
       "      <td>273</td>\n",
       "      <td>118.00</td>\n",
       "      <td>0</td>\n",
       "      <td>file://localhost/Volumes/LaCie/Collection/01-D...</td>\n",
       "      <td>NaN</td>\n",
       "      <td>7A</td>\n",
       "      <td>/Volumes/LaCie/Collection/01-Dele_Sosimi_-_You...</td>\n",
       "      <td>/Volumes/LaCie/Collection/01-Dele_Sosimi_-_You...</td>\n",
       "    </tr>\n",
       "    <tr>\n",
       "      <th>3c0040df6f4c92d73fa0219670f24a0a</th>\n",
       "      <td>Disco Incorporated</td>\n",
       "      <td>308.522461</td>\n",
       "      <td>Giorgio (Disco Progressive mix)</td>\n",
       "      <td>NaN</td>\n",
       "      <td>None</td>\n",
       "      <td>/Volumes/LaCie/Collection/01-Disco_Incorporate...</td>\n",
       "      <td>/Volumes/LaCie/Collection/01-Disco_Incorporate...</td>\n",
       "      <td>61427023</td>\n",
       "      <td>Giorgio (Disco Progressive mix)</td>\n",
       "      <td>Disco Incorporated</td>\n",
       "      <td>Disco/Nu Disco/Re-Edits</td>\n",
       "      <td>81636444</td>\n",
       "      <td>308</td>\n",
       "      <td>122.00</td>\n",
       "      <td>0</td>\n",
       "      <td>file://localhost/Volumes/LaCie/Collection/01-D...</td>\n",
       "      <td>NaN</td>\n",
       "      <td>4A</td>\n",
       "      <td>/Volumes/LaCie/Collection/01-Disco_Incorporate...</td>\n",
       "      <td>/Volumes/LaCie/Collection/01-Disco_Incorporate...</td>\n",
       "    </tr>\n",
       "  </tbody>\n",
       "</table>\n",
       "</div>"
      ],
      "text/plain": [
       "                                                  artist      length  \\\n",
       "sid                                                                    \n",
       "9a10e738a0ce3b630b277647ccb36fa0  Alex Virgo/Jack Priest  445.669128   \n",
       "df2754c814418e80f40cfdead0ad3e17              C. Da Afro  332.638184   \n",
       "c98685a900ae4b5f9f1880b19688df53             Dam Swindle  476.049988   \n",
       "df67ab199063cc81129ff3ad25164301             Dele Sosimi  273.574615   \n",
       "3c0040df6f4c92d73fa0219670f24a0a      Disco Incorporated  308.522461   \n",
       "\n",
       "                                                                     title  \\\n",
       "sid                                                                          \n",
       "9a10e738a0ce3b630b277647ccb36fa0                          Here We Go Again   \n",
       "df2754c814418e80f40cfdead0ad3e17           Collectiva's Jam (original mix)   \n",
       "c98685a900ae4b5f9f1880b19688df53                              The Break Up   \n",
       "df67ab199063cc81129ff3ad25164301  You No Fit Touch Am (Medlar remix radio)   \n",
       "3c0040df6f4c92d73fa0219670f24a0a           Giorgio (Disco Progressive mix)   \n",
       "\n",
       "                                  bpm initialkey  \\\n",
       "sid                                                \n",
       "9a10e738a0ce3b630b277647ccb36fa0  NaN       None   \n",
       "df2754c814418e80f40cfdead0ad3e17  NaN       None   \n",
       "c98685a900ae4b5f9f1880b19688df53  NaN       None   \n",
       "df67ab199063cc81129ff3ad25164301  NaN       None   \n",
       "3c0040df6f4c92d73fa0219670f24a0a  NaN       None   \n",
       "\n",
       "                                                                          file_path  \\\n",
       "sid                                                                                   \n",
       "9a10e738a0ce3b630b277647ccb36fa0  /Volumes/LaCie/Collection/01-Alex_Virgo_Jack_P...   \n",
       "df2754c814418e80f40cfdead0ad3e17  /Volumes/LaCie/Collection/01-C._Da_Afro_-_Coll...   \n",
       "c98685a900ae4b5f9f1880b19688df53  /Volumes/LaCie/Collection/01-Dam_Swindle_-_The...   \n",
       "df67ab199063cc81129ff3ad25164301  /Volumes/LaCie/Collection/01-Dele_Sosimi_-_You...   \n",
       "3c0040df6f4c92d73fa0219670f24a0a  /Volumes/LaCie/Collection/01-Disco_Incorporate...   \n",
       "\n",
       "                                                                  file_path_unicode  \\\n",
       "sid                                                                                   \n",
       "9a10e738a0ce3b630b277647ccb36fa0  /Volumes/LaCie/Collection/01-Alex_Virgo_Jack_P...   \n",
       "df2754c814418e80f40cfdead0ad3e17  /Volumes/LaCie/Collection/01-C._Da_Afro_-_Coll...   \n",
       "c98685a900ae4b5f9f1880b19688df53  /Volumes/LaCie/Collection/01-Dam_Swindle_-_The...   \n",
       "df67ab199063cc81129ff3ad25164301  /Volumes/LaCie/Collection/01-Dele_Sosimi_-_You...   \n",
       "3c0040df6f4c92d73fa0219670f24a0a  /Volumes/LaCie/Collection/01-Disco_Incorporate...   \n",
       "\n",
       "                                    TrackID  \\\n",
       "sid                                           \n",
       "9a10e738a0ce3b630b277647ccb36fa0   63491102   \n",
       "df2754c814418e80f40cfdead0ad3e17   56825554   \n",
       "c98685a900ae4b5f9f1880b19688df53  185624456   \n",
       "df67ab199063cc81129ff3ad25164301  182243122   \n",
       "3c0040df6f4c92d73fa0219670f24a0a   61427023   \n",
       "\n",
       "                                                                      Name  \\\n",
       "sid                                                                          \n",
       "9a10e738a0ce3b630b277647ccb36fa0                          Here We Go Again   \n",
       "df2754c814418e80f40cfdead0ad3e17           Collectiva's Jam (original mix)   \n",
       "c98685a900ae4b5f9f1880b19688df53                              The Break Up   \n",
       "df67ab199063cc81129ff3ad25164301  You No Fit Touch Am (Medlar remix radio)   \n",
       "3c0040df6f4c92d73fa0219670f24a0a           Giorgio (Disco Progressive mix)   \n",
       "\n",
       "                                                  Artist  \\\n",
       "sid                                                        \n",
       "9a10e738a0ce3b630b277647ccb36fa0  Alex Virgo/Jack Priest   \n",
       "df2754c814418e80f40cfdead0ad3e17              C. Da Afro   \n",
       "c98685a900ae4b5f9f1880b19688df53             Dam Swindle   \n",
       "df67ab199063cc81129ff3ad25164301             Dele Sosimi   \n",
       "3c0040df6f4c92d73fa0219670f24a0a      Disco Incorporated   \n",
       "\n",
       "                                                    Genre       Size  \\\n",
       "sid                                                                    \n",
       "9a10e738a0ce3b630b277647ccb36fa0  Disco/Nu Disco/Re-Edits  117925428   \n",
       "df2754c814418e80f40cfdead0ad3e17  Disco/Nu Disco/Re-Edits   88017456   \n",
       "c98685a900ae4b5f9f1880b19688df53               Deep house  125964170   \n",
       "df67ab199063cc81129ff3ad25164301  Disco/Nu Disco/Re-Edits   72389300   \n",
       "3c0040df6f4c92d73fa0219670f24a0a  Disco/Nu Disco/Re-Edits   81636444   \n",
       "\n",
       "                                 TotalTime AverageBpm PlayCount  \\\n",
       "sid                                                               \n",
       "9a10e738a0ce3b630b277647ccb36fa0       445     122.00         0   \n",
       "df2754c814418e80f40cfdead0ad3e17       332     114.00         0   \n",
       "c98685a900ae4b5f9f1880b19688df53       476     120.00         0   \n",
       "df67ab199063cc81129ff3ad25164301       273     118.00         0   \n",
       "3c0040df6f4c92d73fa0219670f24a0a       308     122.00         0   \n",
       "\n",
       "                                                                           Location  \\\n",
       "sid                                                                                   \n",
       "9a10e738a0ce3b630b277647ccb36fa0  file://localhost/Volumes/LaCie/Collection/01-A...   \n",
       "df2754c814418e80f40cfdead0ad3e17  file://localhost/Volumes/LaCie/Collection/01-C...   \n",
       "c98685a900ae4b5f9f1880b19688df53  file://localhost/Volumes/LaCie/Collection/01-D...   \n",
       "df67ab199063cc81129ff3ad25164301  file://localhost/Volumes/LaCie/Collection/01-D...   \n",
       "3c0040df6f4c92d73fa0219670f24a0a  file://localhost/Volumes/LaCie/Collection/01-D...   \n",
       "\n",
       "                                                                              TEMPO  \\\n",
       "sid                                                                                   \n",
       "9a10e738a0ce3b630b277647ccb36fa0                                                NaN   \n",
       "df2754c814418e80f40cfdead0ad3e17                                                NaN   \n",
       "c98685a900ae4b5f9f1880b19688df53  [{'@Inizio': '0.096', '@Bpm': '120.00', '@Metr...   \n",
       "df67ab199063cc81129ff3ad25164301                                                NaN   \n",
       "3c0040df6f4c92d73fa0219670f24a0a                                                NaN   \n",
       "\n",
       "                                 Tonality  \\\n",
       "sid                                         \n",
       "9a10e738a0ce3b630b277647ccb36fa0       8A   \n",
       "df2754c814418e80f40cfdead0ad3e17       7A   \n",
       "c98685a900ae4b5f9f1880b19688df53       3A   \n",
       "df67ab199063cc81129ff3ad25164301       7A   \n",
       "3c0040df6f4c92d73fa0219670f24a0a       4A   \n",
       "\n",
       "                                                                     Location_fixed  \\\n",
       "sid                                                                                   \n",
       "9a10e738a0ce3b630b277647ccb36fa0  /Volumes/LaCie/Collection/01-Alex_Virgo_Jack_P...   \n",
       "df2754c814418e80f40cfdead0ad3e17  /Volumes/LaCie/Collection/01-C._Da_Afro_-_Coll...   \n",
       "c98685a900ae4b5f9f1880b19688df53  /Volumes/LaCie/Collection/01-Dam_Swindle_-_The...   \n",
       "df67ab199063cc81129ff3ad25164301  /Volumes/LaCie/Collection/01-Dele_Sosimi_-_You...   \n",
       "3c0040df6f4c92d73fa0219670f24a0a  /Volumes/LaCie/Collection/01-Disco_Incorporate...   \n",
       "\n",
       "                                                                   Location_unicode  \n",
       "sid                                                                                  \n",
       "9a10e738a0ce3b630b277647ccb36fa0  /Volumes/LaCie/Collection/01-Alex_Virgo_Jack_P...  \n",
       "df2754c814418e80f40cfdead0ad3e17  /Volumes/LaCie/Collection/01-C._Da_Afro_-_Coll...  \n",
       "c98685a900ae4b5f9f1880b19688df53  /Volumes/LaCie/Collection/01-Dam_Swindle_-_The...  \n",
       "df67ab199063cc81129ff3ad25164301  /Volumes/LaCie/Collection/01-Dele_Sosimi_-_You...  \n",
       "3c0040df6f4c92d73fa0219670f24a0a  /Volumes/LaCie/Collection/01-Disco_Incorporate...  "
      ]
     },
     "execution_count": 77,
     "metadata": {},
     "output_type": "execute_result"
    }
   ],
   "source": [
    "bpm_null = joined_inner[(joined_inner.bpm.isnull()) & (joined_inner.AverageBpm.notnull()) ].set_index(\"sid\")\n",
    "bpm_null.head()"
   ]
  },
  {
   "cell_type": "markdown",
   "id": "08f77655",
   "metadata": {},
   "source": [
    "Create a dictionary where keys are the song ids and the values are the replace bpms which are pulled from rekordBox's `AverageBpm` column"
   ]
  },
  {
   "cell_type": "code",
   "execution_count": 78,
   "id": "7f2b2648",
   "metadata": {},
   "outputs": [],
   "source": [
    "new_bpms = bpm_null.AverageBpm.to_dict()"
   ]
  },
  {
   "cell_type": "markdown",
   "id": "66afebb9",
   "metadata": {},
   "source": [
    "I use this `updator` function to take in a dictionary of ids and new values along with a table name to update my database with the new data."
   ]
  },
  {
   "cell_type": "code",
   "execution_count": 80,
   "id": "c22468cd",
   "metadata": {},
   "outputs": [],
   "source": [
    "def updator(new, tbl):\n",
    "    update_query = '''UPDATE tags SET {}=? WHERE sid = ? '''.format(tbl)\n",
    "    \n",
    "    for ID, val in new.items():\n",
    "        cur.execute(update_query, (val, ID))\n",
    "        conn.commit()"
   ]
  },
  {
   "cell_type": "markdown",
   "id": "ad7f32bf",
   "metadata": {},
   "source": [
    "Use `updator` to fix the bpms in the tags table."
   ]
  },
  {
   "cell_type": "code",
   "execution_count": 81,
   "id": "bee885d2",
   "metadata": {},
   "outputs": [],
   "source": [
    "updator(new_bpms, \"bpm\")"
   ]
  },
  {
   "cell_type": "markdown",
   "id": "fe8f1d1d",
   "metadata": {},
   "source": [
    "Check to see if this worked by counting number of nulls in `tags`"
   ]
  },
  {
   "cell_type": "code",
   "execution_count": 82,
   "id": "177d6322",
   "metadata": {},
   "outputs": [
    {
     "data": {
      "text/html": [
       "<div>\n",
       "<style scoped>\n",
       "    .dataframe tbody tr th:only-of-type {\n",
       "        vertical-align: middle;\n",
       "    }\n",
       "\n",
       "    .dataframe tbody tr th {\n",
       "        vertical-align: top;\n",
       "    }\n",
       "\n",
       "    .dataframe thead th {\n",
       "        text-align: right;\n",
       "    }\n",
       "</style>\n",
       "<table border=\"1\" class=\"dataframe\">\n",
       "  <thead>\n",
       "    <tr style=\"text-align: right;\">\n",
       "      <th></th>\n",
       "      <th>n_nulls</th>\n",
       "    </tr>\n",
       "  </thead>\n",
       "  <tbody>\n",
       "    <tr>\n",
       "      <th>0</th>\n",
       "      <td>0</td>\n",
       "    </tr>\n",
       "  </tbody>\n",
       "</table>\n",
       "</div>"
      ],
      "text/plain": [
       "   n_nulls\n",
       "0        0"
      ]
     },
     "execution_count": 82,
     "metadata": {},
     "output_type": "execute_result"
    }
   ],
   "source": [
    "pd.read_sql_query(\"SELECT COUNT(*) as n_nulls FROM tags WHERE bpm is null\", con = conn)"
   ]
  },
  {
   "cell_type": "markdown",
   "id": "c6f53d74",
   "metadata": {},
   "source": [
    "Yay! It works!!"
   ]
  },
  {
   "cell_type": "markdown",
   "id": "8f7755bf",
   "metadata": {},
   "source": [
    "Time to repeat this for title, artist, and key."
   ]
  },
  {
   "cell_type": "markdown",
   "id": "f5f435b6",
   "metadata": {},
   "source": [
    "Grab the null rows and create replacement dictionaries."
   ]
  },
  {
   "cell_type": "code",
   "execution_count": 87,
   "id": "56b0f79a",
   "metadata": {},
   "outputs": [],
   "source": [
    "key_null = tags_rbox_ij[tags_rbox_ij.initialkey.isnull()].set_index(\"sid\")\n",
    "title_null = tags_rbox_ij[tags_rbox_ij.title.isnull()].set_index(\"sid\")\n",
    "artist_null = tags_rbox_ij[tags_rbox_ij.artist.isnull()].set_index(\"sid\")\n",
    "\n",
    "new_keys = key_null.Tonality.to_dict()\n",
    "new_titles = title_null.Name.to_dict()\n",
    "new_artists = artist_null.Artist.to_dict()\n"
   ]
  },
  {
   "cell_type": "markdown",
   "id": "45265414",
   "metadata": {},
   "source": [
    "Call `updator` for keys, titles, and artists"
   ]
  },
  {
   "cell_type": "code",
   "execution_count": 88,
   "id": "7851d877",
   "metadata": {},
   "outputs": [],
   "source": [
    "updator(new_titles, \"title\")\n",
    "updator(new_artists, \"artist\")\n",
    "updator(new_keys, \"initialkey\")"
   ]
  },
  {
   "cell_type": "markdown",
   "id": "fe2ba7f1",
   "metadata": {},
   "source": [
    "Check the data"
   ]
  },
  {
   "cell_type": "code",
   "execution_count": 89,
   "id": "d74bb3e8",
   "metadata": {},
   "outputs": [
    {
     "data": {
      "text/html": [
       "<div>\n",
       "<style scoped>\n",
       "    .dataframe tbody tr th:only-of-type {\n",
       "        vertical-align: middle;\n",
       "    }\n",
       "\n",
       "    .dataframe tbody tr th {\n",
       "        vertical-align: top;\n",
       "    }\n",
       "\n",
       "    .dataframe thead th {\n",
       "        text-align: right;\n",
       "    }\n",
       "</style>\n",
       "<table border=\"1\" class=\"dataframe\">\n",
       "  <thead>\n",
       "    <tr style=\"text-align: right;\">\n",
       "      <th></th>\n",
       "      <th>n_nulls</th>\n",
       "    </tr>\n",
       "  </thead>\n",
       "  <tbody>\n",
       "    <tr>\n",
       "      <th>0</th>\n",
       "      <td>0</td>\n",
       "    </tr>\n",
       "  </tbody>\n",
       "</table>\n",
       "</div>"
      ],
      "text/plain": [
       "   n_nulls\n",
       "0        0"
      ]
     },
     "execution_count": 89,
     "metadata": {},
     "output_type": "execute_result"
    }
   ],
   "source": [
    "query = \"\"\"\n",
    "SELECT COUNT(*) as n_nulls FROM tags WHERE title is null OR artist is null or initialkey is null\n",
    "\"\"\"\n",
    "pd.read_sql_query(query, con = conn)"
   ]
  },
  {
   "cell_type": "markdown",
   "id": "7411041a",
   "metadata": {},
   "source": [
    "No nulls again!"
   ]
  },
  {
   "cell_type": "markdown",
   "id": "b90f885c",
   "metadata": {},
   "source": [
    "I can't emphasize how much a godsend this functionality is for me. I thought I was going to have to retag all my database data the same way I manually tagged it on rekordbox. \n",
    "\n",
    "There's a data scientist loves more than clean data amirite?!"
   ]
  },
  {
   "cell_type": "markdown",
   "id": "96704f24",
   "metadata": {},
   "source": [
    "### Playlist Data\n",
    "\n",
    "Now let's dive into the playlist data and understand that information is organized"
   ]
  },
  {
   "cell_type": "markdown",
   "id": "336cd463",
   "metadata": {},
   "source": [
    "Grab the playlist data from the rekordbox dictionary data."
   ]
  },
  {
   "cell_type": "code",
   "execution_count": 91,
   "id": "1a5419a4",
   "metadata": {},
   "outputs": [
    {
     "data": {
      "text/plain": [
       "dict_keys(['NODE'])"
      ]
     },
     "execution_count": 91,
     "metadata": {},
     "output_type": "execute_result"
    }
   ],
   "source": [
    "playlists = data_dict[\"DJ_PLAYLISTS\"][\"PLAYLISTS\"]\n",
    "playlists.keys()"
   ]
  },
  {
   "cell_type": "markdown",
   "id": "bb5e24bf",
   "metadata": {},
   "source": [
    "Use `json_normalize` to parse the playlist data from `playlists[\"NODE\"][\"NODE\"]`"
   ]
  },
  {
   "cell_type": "code",
   "execution_count": 95,
   "id": "a8a2ec99",
   "metadata": {},
   "outputs": [
    {
     "name": "stderr",
     "output_type": "stream",
     "text": [
      "/opt/miniconda3/envs/music/lib/python3.7/site-packages/ipykernel_launcher.py:2: FutureWarning: The default value of regex will change from True to False in a future version. In addition, single character regular expressions will *not* be treated as literal strings when regex=True.\n",
      "  \n"
     ]
    }
   ],
   "source": [
    "pl = pd.json_normalize(playlists[\"NODE\"][\"NODE\"])\n",
    "pl.columns = pl.columns.str.replace(\"@\", \"\").str.replace(\".\", \"_\")"
   ]
  },
  {
   "cell_type": "code",
   "execution_count": 96,
   "id": "5084ed68",
   "metadata": {},
   "outputs": [
    {
     "data": {
      "text/html": [
       "<div>\n",
       "<style scoped>\n",
       "    .dataframe tbody tr th:only-of-type {\n",
       "        vertical-align: middle;\n",
       "    }\n",
       "\n",
       "    .dataframe tbody tr th {\n",
       "        vertical-align: top;\n",
       "    }\n",
       "\n",
       "    .dataframe thead th {\n",
       "        text-align: right;\n",
       "    }\n",
       "</style>\n",
       "<table border=\"1\" class=\"dataframe\">\n",
       "  <thead>\n",
       "    <tr style=\"text-align: right;\">\n",
       "      <th></th>\n",
       "      <th>Name</th>\n",
       "      <th>Type</th>\n",
       "      <th>KeyType</th>\n",
       "      <th>Entries</th>\n",
       "      <th>TRACK_Key</th>\n",
       "      <th>TRACK</th>\n",
       "      <th>Count</th>\n",
       "      <th>NODE</th>\n",
       "    </tr>\n",
       "  </thead>\n",
       "  <tbody>\n",
       "    <tr>\n",
       "      <th>0</th>\n",
       "      <td>Gigs</td>\n",
       "      <td>1</td>\n",
       "      <td>0</td>\n",
       "      <td>0</td>\n",
       "      <td>NaN</td>\n",
       "      <td>NaN</td>\n",
       "      <td>NaN</td>\n",
       "      <td>NaN</td>\n",
       "    </tr>\n",
       "    <tr>\n",
       "      <th>1</th>\n",
       "      <td>Stems and Tools</td>\n",
       "      <td>1</td>\n",
       "      <td>0</td>\n",
       "      <td>1</td>\n",
       "      <td>209794866</td>\n",
       "      <td>NaN</td>\n",
       "      <td>NaN</td>\n",
       "      <td>NaN</td>\n",
       "    </tr>\n",
       "    <tr>\n",
       "      <th>2</th>\n",
       "      <td>No artists</td>\n",
       "      <td>1</td>\n",
       "      <td>0</td>\n",
       "      <td>62</td>\n",
       "      <td>NaN</td>\n",
       "      <td>[{'@Key': '268245690'}, {'@Key': '268245719'},...</td>\n",
       "      <td>NaN</td>\n",
       "      <td>NaN</td>\n",
       "    </tr>\n",
       "    <tr>\n",
       "      <th>3</th>\n",
       "      <td>Slate backup</td>\n",
       "      <td>1</td>\n",
       "      <td>0</td>\n",
       "      <td>2</td>\n",
       "      <td>NaN</td>\n",
       "      <td>[{'@Key': '268247559'}, {'@Key': '268247924'}]</td>\n",
       "      <td>NaN</td>\n",
       "      <td>NaN</td>\n",
       "    </tr>\n",
       "    <tr>\n",
       "      <th>4</th>\n",
       "      <td>Give Another Look</td>\n",
       "      <td>1</td>\n",
       "      <td>0</td>\n",
       "      <td>164</td>\n",
       "      <td>NaN</td>\n",
       "      <td>[{'@Key': '268245456'}, {'@Key': '268245440'},...</td>\n",
       "      <td>NaN</td>\n",
       "      <td>NaN</td>\n",
       "    </tr>\n",
       "  </tbody>\n",
       "</table>\n",
       "</div>"
      ],
      "text/plain": [
       "                Name Type KeyType Entries  TRACK_Key  \\\n",
       "0               Gigs    1       0       0        NaN   \n",
       "1    Stems and Tools    1       0       1  209794866   \n",
       "2         No artists    1       0      62        NaN   \n",
       "3       Slate backup    1       0       2        NaN   \n",
       "4  Give Another Look    1       0     164        NaN   \n",
       "\n",
       "                                               TRACK Count NODE  \n",
       "0                                                NaN   NaN  NaN  \n",
       "1                                                NaN   NaN  NaN  \n",
       "2  [{'@Key': '268245690'}, {'@Key': '268245719'},...   NaN  NaN  \n",
       "3     [{'@Key': '268247559'}, {'@Key': '268247924'}]   NaN  NaN  \n",
       "4  [{'@Key': '268245456'}, {'@Key': '268245440'},...   NaN  NaN  "
      ]
     },
     "execution_count": 96,
     "metadata": {},
     "output_type": "execute_result"
    }
   ],
   "source": [
    "pl.head()"
   ]
  },
  {
   "cell_type": "markdown",
   "id": "feea9314",
   "metadata": {},
   "source": [
    "Some playlists are actually playlist directories. For example \"Genres\" in my rekordbox app stores playlists, each other referring a different genre."
   ]
  },
  {
   "cell_type": "markdown",
   "id": "ce62dc7d",
   "metadata": {},
   "source": [
    "Playlist directories such as \"Genres\" don't have null values under the `NODE` column and instead hold nested data for their sub-playlists."
   ]
  },
  {
   "cell_type": "code",
   "execution_count": 100,
   "id": "0b2ef63c",
   "metadata": {},
   "outputs": [
    {
     "data": {
      "text/plain": [
       "5    [{'@Name': 'Reggae', '@Type': '1', '@KeyType':...\n",
       "Name: NODE, dtype: object"
      ]
     },
     "execution_count": 100,
     "metadata": {},
     "output_type": "execute_result"
    }
   ],
   "source": [
    "pl[pl.Name == \"Genres\"][\"NODE\"]"
   ]
  },
  {
   "cell_type": "markdown",
   "id": "130805dd",
   "metadata": {},
   "source": [
    "For the first go, let's focus on genre data and create a clean dataframe of genre data"
   ]
  },
  {
   "cell_type": "markdown",
   "id": "ac6e7403",
   "metadata": {},
   "source": [
    "Grab the data located at intersection of \"GENRES\" and \"NODE\" and convert it to a list."
   ]
  },
  {
   "cell_type": "code",
   "execution_count": 106,
   "id": "7479af69",
   "metadata": {},
   "outputs": [
    {
     "data": {
      "text/plain": [
       "[{'@Name': 'Reggae',\n",
       "  '@Type': '1',\n",
       "  '@KeyType': '0',\n",
       "  '@Entries': '3',\n",
       "  'TRACK': [{'@Key': '268245278'},\n",
       "   {'@Key': '268246423'},\n",
       "   {'@Key': '174798994'}]},\n",
       " {'@Name': 'Jazz',\n",
       "  '@Type': '1',\n",
       "  '@KeyType': '0',\n",
       "  '@Entries': '9',\n",
       "  'TRACK': [{'@Key': '268245352'},\n",
       "   {'@Key': '268245868'},\n",
       "   {'@Key': '268246121'},\n",
       "   {'@Key': '268247765'},\n",
       "   {'@Key': '268246884'},\n",
       "   {'@Key': '268245343'},\n",
       "   {'@Key': '268246441'},\n",
       "   {'@Key': '268246463'},\n",
       "   {'@Key': '268246851'}]}]"
      ]
     },
     "execution_count": 106,
     "metadata": {},
     "output_type": "execute_result"
    }
   ],
   "source": [
    "genre_list = pl[pl.Name == \"Genres\"][\"NODE\"].tolist()[0]\n",
    "genre_list[:2]"
   ]
  },
  {
   "cell_type": "markdown",
   "id": "3daf5685",
   "metadata": {},
   "source": [
    "Pass this list of dictionaries into `json_normalize` and remove @ from column names"
   ]
  },
  {
   "cell_type": "code",
   "execution_count": 124,
   "id": "89363718",
   "metadata": {},
   "outputs": [
    {
     "data": {
      "text/html": [
       "<div>\n",
       "<style scoped>\n",
       "    .dataframe tbody tr th:only-of-type {\n",
       "        vertical-align: middle;\n",
       "    }\n",
       "\n",
       "    .dataframe tbody tr th {\n",
       "        vertical-align: top;\n",
       "    }\n",
       "\n",
       "    .dataframe thead th {\n",
       "        text-align: right;\n",
       "    }\n",
       "</style>\n",
       "<table border=\"1\" class=\"dataframe\">\n",
       "  <thead>\n",
       "    <tr style=\"text-align: right;\">\n",
       "      <th></th>\n",
       "      <th>GenreName</th>\n",
       "      <th>Type</th>\n",
       "      <th>KeyType</th>\n",
       "      <th>Entries</th>\n",
       "      <th>TRACK</th>\n",
       "    </tr>\n",
       "  </thead>\n",
       "  <tbody>\n",
       "    <tr>\n",
       "      <th>0</th>\n",
       "      <td>Reggae</td>\n",
       "      <td>1</td>\n",
       "      <td>0</td>\n",
       "      <td>3</td>\n",
       "      <td>[{'@Key': '268245278'}, {'@Key': '268246423'},...</td>\n",
       "    </tr>\n",
       "    <tr>\n",
       "      <th>1</th>\n",
       "      <td>Jazz</td>\n",
       "      <td>1</td>\n",
       "      <td>0</td>\n",
       "      <td>9</td>\n",
       "      <td>[{'@Key': '268245352'}, {'@Key': '268245868'},...</td>\n",
       "    </tr>\n",
       "    <tr>\n",
       "      <th>2</th>\n",
       "      <td>Disco</td>\n",
       "      <td>1</td>\n",
       "      <td>0</td>\n",
       "      <td>1001</td>\n",
       "      <td>[{'@Key': '268246498'}, {'@Key': '163757037'},...</td>\n",
       "    </tr>\n",
       "    <tr>\n",
       "      <th>3</th>\n",
       "      <td>Funk</td>\n",
       "      <td>1</td>\n",
       "      <td>0</td>\n",
       "      <td>214</td>\n",
       "      <td>[{'@Key': '268246483'}, {'@Key': '268246479'},...</td>\n",
       "    </tr>\n",
       "    <tr>\n",
       "      <th>4</th>\n",
       "      <td>House</td>\n",
       "      <td>1</td>\n",
       "      <td>0</td>\n",
       "      <td>502</td>\n",
       "      <td>[{'@Key': '268246499'}, {'@Key': '268246481'},...</td>\n",
       "    </tr>\n",
       "    <tr>\n",
       "      <th>5</th>\n",
       "      <td>80s</td>\n",
       "      <td>1</td>\n",
       "      <td>0</td>\n",
       "      <td>107</td>\n",
       "      <td>[{'@Key': '268246479'}, {'@Key': '205133736'},...</td>\n",
       "    </tr>\n",
       "    <tr>\n",
       "      <th>6</th>\n",
       "      <td>Electro</td>\n",
       "      <td>1</td>\n",
       "      <td>0</td>\n",
       "      <td>305</td>\n",
       "      <td>[{'@Key': '268246506'}, {'@Key': '268246486'},...</td>\n",
       "    </tr>\n",
       "    <tr>\n",
       "      <th>7</th>\n",
       "      <td>Pop</td>\n",
       "      <td>1</td>\n",
       "      <td>0</td>\n",
       "      <td>109</td>\n",
       "      <td>[{'@Key': '268246508'}, {'@Key': '268246506'},...</td>\n",
       "    </tr>\n",
       "    <tr>\n",
       "      <th>8</th>\n",
       "      <td>Rock</td>\n",
       "      <td>1</td>\n",
       "      <td>0</td>\n",
       "      <td>35</td>\n",
       "      <td>[{'@Key': '268247221'}, {'@Key': '268245892'},...</td>\n",
       "    </tr>\n",
       "    <tr>\n",
       "      <th>9</th>\n",
       "      <td>Boogie</td>\n",
       "      <td>1</td>\n",
       "      <td>0</td>\n",
       "      <td>615</td>\n",
       "      <td>[{'@Key': '163757037'}, {'@Key': '268246486'},...</td>\n",
       "    </tr>\n",
       "  </tbody>\n",
       "</table>\n",
       "</div>"
      ],
      "text/plain": [
       "  GenreName Type KeyType Entries  \\\n",
       "0    Reggae    1       0       3   \n",
       "1      Jazz    1       0       9   \n",
       "2     Disco    1       0    1001   \n",
       "3      Funk    1       0     214   \n",
       "4     House    1       0     502   \n",
       "5       80s    1       0     107   \n",
       "6   Electro    1       0     305   \n",
       "7       Pop    1       0     109   \n",
       "8      Rock    1       0      35   \n",
       "9    Boogie    1       0     615   \n",
       "\n",
       "                                               TRACK  \n",
       "0  [{'@Key': '268245278'}, {'@Key': '268246423'},...  \n",
       "1  [{'@Key': '268245352'}, {'@Key': '268245868'},...  \n",
       "2  [{'@Key': '268246498'}, {'@Key': '163757037'},...  \n",
       "3  [{'@Key': '268246483'}, {'@Key': '268246479'},...  \n",
       "4  [{'@Key': '268246499'}, {'@Key': '268246481'},...  \n",
       "5  [{'@Key': '268246479'}, {'@Key': '205133736'},...  \n",
       "6  [{'@Key': '268246506'}, {'@Key': '268246486'},...  \n",
       "7  [{'@Key': '268246508'}, {'@Key': '268246506'},...  \n",
       "8  [{'@Key': '268247221'}, {'@Key': '268245892'},...  \n",
       "9  [{'@Key': '163757037'}, {'@Key': '268246486'},...  "
      ]
     },
     "execution_count": 124,
     "metadata": {},
     "output_type": "execute_result"
    }
   ],
   "source": [
    "genres = pd.json_normalize(genre_list).rename(columns= lambda x:x.strip(\"@\")).rename(columns = {\"Name\":\"GenreName\"})\n",
    "genres"
   ]
  },
  {
   "cell_type": "markdown",
   "id": "331d5496",
   "metadata": {},
   "source": [
    "Now we have a dataframe that has the names of the playlist, number of songs under each one, and a list rekordbox's track ids of the songs in each genre."
   ]
  },
  {
   "cell_type": "code",
   "execution_count": 121,
   "id": "f4125005",
   "metadata": {},
   "outputs": [],
   "source": [
    "genres = pd.json_normalize(pl[pl.Name == \"Genres\"][\"NODE\"].tolist()[0]).rename(columns= lambda x:x.strip(\"@\"))\n",
    "regions = pd.json_normalize(pl[pl.Name == \"Regions\"][\"NODE\"].tolist()[0]).rename(columns= lambda x:x.strip(\"@\"))\n",
    "energies = pd.json_normalize(pl[pl.Name == \"Energies\"][\"NODE\"].tolist()[0]).rename(columns= lambda x:x.strip(\"@\"))\n",
    "vibes = pd.json_normalize(pl[pl.Name == \"Vibes\"][\"NODE\"].tolist()[0]).rename(columns= lambda x:x.strip(\"@\"))"
   ]
  },
  {
   "cell_type": "markdown",
   "id": "6f80706d",
   "metadata": {},
   "source": [
    "Clean up the `TRACK` column by extracting just the rekordbox track ids."
   ]
  },
  {
   "cell_type": "code",
   "execution_count": 125,
   "id": "d62ca74c",
   "metadata": {},
   "outputs": [
    {
     "data": {
      "text/plain": [
       "0                    [268245278, 268246423, 174798994]\n",
       "1    [268245352, 268245868, 268246121, 268247765, 2...\n",
       "2    [268246498, 163757037, 268246506, 268246505, 2...\n",
       "3    [268246483, 268246479, 268246480, 202953415, 2...\n",
       "4    [268246499, 268246481, 268245279, 268246897, 2...\n",
       "Name: TrackID, dtype: object"
      ]
     },
     "execution_count": 125,
     "metadata": {},
     "output_type": "execute_result"
    }
   ],
   "source": [
    "genres[\"TrackID\"] = genres.TRACK.apply(lambda x: [i[\"@Key\"] for i in x])\n",
    "genres[\"TrackID\"].head()"
   ]
  },
  {
   "cell_type": "markdown",
   "id": "4fdf9b69",
   "metadata": {},
   "source": [
    "My goal here is to create a dataframe with two columns and rows represent a track id of a song that is a member of that genre playlist."
   ]
  },
  {
   "cell_type": "markdown",
   "id": "dc48cad1",
   "metadata": {},
   "source": [
    "Select `GenreName` and `TrackID` columns and set `GenreName` to index."
   ]
  },
  {
   "cell_type": "code",
   "execution_count": 126,
   "id": "4db6e63d",
   "metadata": {},
   "outputs": [
    {
     "data": {
      "text/plain": [
       "GenreName\n",
       "Reggae                    [268245278, 268246423, 174798994]\n",
       "Jazz      [268245352, 268245868, 268246121, 268247765, 2...\n",
       "Name: TrackID, dtype: object"
      ]
     },
     "execution_count": 126,
     "metadata": {},
     "output_type": "execute_result"
    }
   ],
   "source": [
    "genres = genres.set_index(\"GenreName\")[\"TrackID\"]\n",
    "genres.head(2)"
   ]
  },
  {
   "cell_type": "markdown",
   "id": "3bc272ca",
   "metadata": {},
   "source": [
    "`explode` allows us to achieve this goal."
   ]
  },
  {
   "cell_type": "code",
   "execution_count": 127,
   "id": "01a31d6b",
   "metadata": {},
   "outputs": [
    {
     "data": {
      "text/html": [
       "<div>\n",
       "<style scoped>\n",
       "    .dataframe tbody tr th:only-of-type {\n",
       "        vertical-align: middle;\n",
       "    }\n",
       "\n",
       "    .dataframe tbody tr th {\n",
       "        vertical-align: top;\n",
       "    }\n",
       "\n",
       "    .dataframe thead th {\n",
       "        text-align: right;\n",
       "    }\n",
       "</style>\n",
       "<table border=\"1\" class=\"dataframe\">\n",
       "  <thead>\n",
       "    <tr style=\"text-align: right;\">\n",
       "      <th></th>\n",
       "      <th>GenreName</th>\n",
       "      <th>TrackID</th>\n",
       "    </tr>\n",
       "  </thead>\n",
       "  <tbody>\n",
       "    <tr>\n",
       "      <th>0</th>\n",
       "      <td>Reggae</td>\n",
       "      <td>268245278</td>\n",
       "    </tr>\n",
       "    <tr>\n",
       "      <th>1</th>\n",
       "      <td>Reggae</td>\n",
       "      <td>268246423</td>\n",
       "    </tr>\n",
       "    <tr>\n",
       "      <th>2</th>\n",
       "      <td>Reggae</td>\n",
       "      <td>174798994</td>\n",
       "    </tr>\n",
       "    <tr>\n",
       "      <th>3</th>\n",
       "      <td>Jazz</td>\n",
       "      <td>268245352</td>\n",
       "    </tr>\n",
       "    <tr>\n",
       "      <th>4</th>\n",
       "      <td>Jazz</td>\n",
       "      <td>268245868</td>\n",
       "    </tr>\n",
       "  </tbody>\n",
       "</table>\n",
       "</div>"
      ],
      "text/plain": [
       "  GenreName    TrackID\n",
       "0    Reggae  268245278\n",
       "1    Reggae  268246423\n",
       "2    Reggae  174798994\n",
       "3      Jazz  268245352\n",
       "4      Jazz  268245868"
      ]
     },
     "execution_count": 127,
     "metadata": {},
     "output_type": "execute_result"
    }
   ],
   "source": [
    "genres = genres.explode().reset_index()\n",
    "genres.head()"
   ]
  },
  {
   "cell_type": "markdown",
   "id": "ba05bdea",
   "metadata": {},
   "source": [
    "Let's merge `genres` with the metadata in `tags_rbox_ij`"
   ]
  },
  {
   "cell_type": "code",
   "execution_count": 131,
   "id": "47ac42e8",
   "metadata": {},
   "outputs": [
    {
     "data": {
      "text/html": [
       "<div>\n",
       "<style scoped>\n",
       "    .dataframe tbody tr th:only-of-type {\n",
       "        vertical-align: middle;\n",
       "    }\n",
       "\n",
       "    .dataframe tbody tr th {\n",
       "        vertical-align: top;\n",
       "    }\n",
       "\n",
       "    .dataframe thead th {\n",
       "        text-align: right;\n",
       "    }\n",
       "</style>\n",
       "<table border=\"1\" class=\"dataframe\">\n",
       "  <thead>\n",
       "    <tr style=\"text-align: right;\">\n",
       "      <th></th>\n",
       "      <th>GenreName</th>\n",
       "      <th>TrackID</th>\n",
       "      <th>sid</th>\n",
       "      <th>artist</th>\n",
       "      <th>length</th>\n",
       "      <th>title</th>\n",
       "      <th>bpm</th>\n",
       "      <th>initialkey</th>\n",
       "      <th>file_path</th>\n",
       "      <th>file_path_unicode</th>\n",
       "      <th>...</th>\n",
       "      <th>Genre</th>\n",
       "      <th>Size</th>\n",
       "      <th>TotalTime</th>\n",
       "      <th>AverageBpm</th>\n",
       "      <th>PlayCount</th>\n",
       "      <th>Location</th>\n",
       "      <th>TEMPO</th>\n",
       "      <th>Tonality</th>\n",
       "      <th>Location_fixed</th>\n",
       "      <th>Location_unicode</th>\n",
       "    </tr>\n",
       "  </thead>\n",
       "  <tbody>\n",
       "    <tr>\n",
       "      <th>0</th>\n",
       "      <td>Reggae</td>\n",
       "      <td>268245278</td>\n",
       "      <td>329f6da0c9fac17c90922e0db818eff1</td>\n",
       "      <td>Lord Echo</td>\n",
       "      <td>288.031921</td>\n",
       "      <td>Bohemian Idol (DJ Day's Chair-Bro Remix)</td>\n",
       "      <td>90.0</td>\n",
       "      <td>1A</td>\n",
       "      <td>/Volumes/LaCie/Collection/Lord Echo - Bohemian...</td>\n",
       "      <td>/Volumes/LaCie/Collection/Lord Echo - Bohemian...</td>\n",
       "      <td>...</td>\n",
       "      <td>Dub</td>\n",
       "      <td>11621046</td>\n",
       "      <td>288</td>\n",
       "      <td>90.00</td>\n",
       "      <td>2</td>\n",
       "      <td>file://localhost/Volumes/LaCie/Collection/Lord...</td>\n",
       "      <td>NaN</td>\n",
       "      <td>1A</td>\n",
       "      <td>/Volumes/LaCie/Collection/Lord Echo - Bohemian...</td>\n",
       "      <td>/Volumes/LaCie/Collection/Lord Echo - Bohemian...</td>\n",
       "    </tr>\n",
       "    <tr>\n",
       "      <th>1</th>\n",
       "      <td>Reggae</td>\n",
       "      <td>268246423</td>\n",
       "      <td>1275803e809e655d2771131b34e5305b</td>\n",
       "      <td>Capital Letters</td>\n",
       "      <td>350.389130</td>\n",
       "      <td>Smoking My Ganja (Peter Croce Rework)</td>\n",
       "      <td>123.0</td>\n",
       "      <td>11A</td>\n",
       "      <td>/Volumes/LaCie/Collection/Capital Letters - RS...</td>\n",
       "      <td>/Volumes/LaCie/Collection/Capital Letters - RS...</td>\n",
       "      <td>...</td>\n",
       "      <td></td>\n",
       "      <td>61824532</td>\n",
       "      <td>350</td>\n",
       "      <td>123.00</td>\n",
       "      <td>4</td>\n",
       "      <td>file://localhost/Volumes/LaCie/Collection/Capi...</td>\n",
       "      <td>NaN</td>\n",
       "      <td>12A</td>\n",
       "      <td>/Volumes/LaCie/Collection/Capital Letters - RS...</td>\n",
       "      <td>/Volumes/LaCie/Collection/Capital Letters - RS...</td>\n",
       "    </tr>\n",
       "    <tr>\n",
       "      <th>2</th>\n",
       "      <td>Boogie</td>\n",
       "      <td>268246423</td>\n",
       "      <td>1275803e809e655d2771131b34e5305b</td>\n",
       "      <td>Capital Letters</td>\n",
       "      <td>350.389130</td>\n",
       "      <td>Smoking My Ganja (Peter Croce Rework)</td>\n",
       "      <td>123.0</td>\n",
       "      <td>11A</td>\n",
       "      <td>/Volumes/LaCie/Collection/Capital Letters - RS...</td>\n",
       "      <td>/Volumes/LaCie/Collection/Capital Letters - RS...</td>\n",
       "      <td>...</td>\n",
       "      <td></td>\n",
       "      <td>61824532</td>\n",
       "      <td>350</td>\n",
       "      <td>123.00</td>\n",
       "      <td>4</td>\n",
       "      <td>file://localhost/Volumes/LaCie/Collection/Capi...</td>\n",
       "      <td>NaN</td>\n",
       "      <td>12A</td>\n",
       "      <td>/Volumes/LaCie/Collection/Capital Letters - RS...</td>\n",
       "      <td>/Volumes/LaCie/Collection/Capital Letters - RS...</td>\n",
       "    </tr>\n",
       "    <tr>\n",
       "      <th>3</th>\n",
       "      <td>Reggae</td>\n",
       "      <td>174798994</td>\n",
       "      <td>91728be38c6c97b87bfd7a4e73260e50</td>\n",
       "      <td>Michael Paul</td>\n",
       "      <td>292.000000</td>\n",
       "      <td>Reggae Music</td>\n",
       "      <td>102.5</td>\n",
       "      <td>8A</td>\n",
       "      <td>/Volumes/LaCie/Collection/Michael Paul - Regga...</td>\n",
       "      <td>/Volumes/LaCie/Collection/Michael Paul - Regga...</td>\n",
       "      <td>...</td>\n",
       "      <td></td>\n",
       "      <td>77263244</td>\n",
       "      <td>291</td>\n",
       "      <td>102.50</td>\n",
       "      <td>0</td>\n",
       "      <td>file://localhost/Volumes/LaCie/Collection/Mich...</td>\n",
       "      <td>[{'@Inizio': '0.107', '@Bpm': '102.50', '@Metr...</td>\n",
       "      <td>8A</td>\n",
       "      <td>/Volumes/LaCie/Collection/Michael Paul - Regga...</td>\n",
       "      <td>/Volumes/LaCie/Collection/Michael Paul - Regga...</td>\n",
       "    </tr>\n",
       "    <tr>\n",
       "      <th>4</th>\n",
       "      <td>Jazz</td>\n",
       "      <td>268245352</td>\n",
       "      <td>ef20c3f26b08ac309f04ee0dd4ef8a2d</td>\n",
       "      <td>Fire_Flight</td>\n",
       "      <td>271.487701</td>\n",
       "      <td>Wantin'_U_PN</td>\n",
       "      <td>121.0</td>\n",
       "      <td>5A</td>\n",
       "      <td>/Volumes/LaCie/Collection/4-Fire_Flight_-_Want...</td>\n",
       "      <td>/Volumes/LaCie/Collection/4-Fire_Flight_-_Want...</td>\n",
       "      <td>...</td>\n",
       "      <td></td>\n",
       "      <td>47901316</td>\n",
       "      <td>271</td>\n",
       "      <td>121.15</td>\n",
       "      <td>0</td>\n",
       "      <td>file://localhost/Volumes/LaCie/Collection/4-Fi...</td>\n",
       "      <td>[{'@Inizio': '0.375', '@Bpm': '121.15', '@Metr...</td>\n",
       "      <td>5A</td>\n",
       "      <td>/Volumes/LaCie/Collection/4-Fire_Flight_-_Want...</td>\n",
       "      <td>/Volumes/LaCie/Collection/4-Fire_Flight_-_Want...</td>\n",
       "    </tr>\n",
       "  </tbody>\n",
       "</table>\n",
       "<p>5 rows × 22 columns</p>\n",
       "</div>"
      ],
      "text/plain": [
       "  GenreName    TrackID                               sid           artist  \\\n",
       "0    Reggae  268245278  329f6da0c9fac17c90922e0db818eff1        Lord Echo   \n",
       "1    Reggae  268246423  1275803e809e655d2771131b34e5305b  Capital Letters   \n",
       "2    Boogie  268246423  1275803e809e655d2771131b34e5305b  Capital Letters   \n",
       "3    Reggae  174798994  91728be38c6c97b87bfd7a4e73260e50     Michael Paul   \n",
       "4      Jazz  268245352  ef20c3f26b08ac309f04ee0dd4ef8a2d      Fire_Flight   \n",
       "\n",
       "       length                                     title    bpm initialkey  \\\n",
       "0  288.031921  Bohemian Idol (DJ Day's Chair-Bro Remix)   90.0         1A   \n",
       "1  350.389130     Smoking My Ganja (Peter Croce Rework)  123.0        11A   \n",
       "2  350.389130     Smoking My Ganja (Peter Croce Rework)  123.0        11A   \n",
       "3  292.000000                              Reggae Music  102.5         8A   \n",
       "4  271.487701                              Wantin'_U_PN  121.0         5A   \n",
       "\n",
       "                                           file_path  \\\n",
       "0  /Volumes/LaCie/Collection/Lord Echo - Bohemian...   \n",
       "1  /Volumes/LaCie/Collection/Capital Letters - RS...   \n",
       "2  /Volumes/LaCie/Collection/Capital Letters - RS...   \n",
       "3  /Volumes/LaCie/Collection/Michael Paul - Regga...   \n",
       "4  /Volumes/LaCie/Collection/4-Fire_Flight_-_Want...   \n",
       "\n",
       "                                   file_path_unicode  ... Genre      Size  \\\n",
       "0  /Volumes/LaCie/Collection/Lord Echo - Bohemian...  ...   Dub  11621046   \n",
       "1  /Volumes/LaCie/Collection/Capital Letters - RS...  ...        61824532   \n",
       "2  /Volumes/LaCie/Collection/Capital Letters - RS...  ...        61824532   \n",
       "3  /Volumes/LaCie/Collection/Michael Paul - Regga...  ...        77263244   \n",
       "4  /Volumes/LaCie/Collection/4-Fire_Flight_-_Want...  ...        47901316   \n",
       "\n",
       "  TotalTime AverageBpm PlayCount  \\\n",
       "0       288      90.00         2   \n",
       "1       350     123.00         4   \n",
       "2       350     123.00         4   \n",
       "3       291     102.50         0   \n",
       "4       271     121.15         0   \n",
       "\n",
       "                                            Location  \\\n",
       "0  file://localhost/Volumes/LaCie/Collection/Lord...   \n",
       "1  file://localhost/Volumes/LaCie/Collection/Capi...   \n",
       "2  file://localhost/Volumes/LaCie/Collection/Capi...   \n",
       "3  file://localhost/Volumes/LaCie/Collection/Mich...   \n",
       "4  file://localhost/Volumes/LaCie/Collection/4-Fi...   \n",
       "\n",
       "                                               TEMPO Tonality  \\\n",
       "0                                                NaN       1A   \n",
       "1                                                NaN      12A   \n",
       "2                                                NaN      12A   \n",
       "3  [{'@Inizio': '0.107', '@Bpm': '102.50', '@Metr...       8A   \n",
       "4  [{'@Inizio': '0.375', '@Bpm': '121.15', '@Metr...       5A   \n",
       "\n",
       "                                      Location_fixed  \\\n",
       "0  /Volumes/LaCie/Collection/Lord Echo - Bohemian...   \n",
       "1  /Volumes/LaCie/Collection/Capital Letters - RS...   \n",
       "2  /Volumes/LaCie/Collection/Capital Letters - RS...   \n",
       "3  /Volumes/LaCie/Collection/Michael Paul - Regga...   \n",
       "4  /Volumes/LaCie/Collection/4-Fire_Flight_-_Want...   \n",
       "\n",
       "                                    Location_unicode  \n",
       "0  /Volumes/LaCie/Collection/Lord Echo - Bohemian...  \n",
       "1  /Volumes/LaCie/Collection/Capital Letters - RS...  \n",
       "2  /Volumes/LaCie/Collection/Capital Letters - RS...  \n",
       "3  /Volumes/LaCie/Collection/Michael Paul - Regga...  \n",
       "4  /Volumes/LaCie/Collection/4-Fire_Flight_-_Want...  \n",
       "\n",
       "[5 rows x 22 columns]"
      ]
     },
     "execution_count": 131,
     "metadata": {},
     "output_type": "execute_result"
    }
   ],
   "source": [
    "tags_and_genres = pd.merge(genres, tags_rbox_ij, on ='TrackID')\n",
    "tags_and_genres.head()"
   ]
  },
  {
   "cell_type": "markdown",
   "id": "a19ac946",
   "metadata": {},
   "source": [
    "I've successfully managed to connect the rekordbox playlist data with my database data."
   ]
  },
  {
   "cell_type": "code",
   "execution_count": null,
   "id": "a5a0ce10",
   "metadata": {},
   "outputs": [],
   "source": []
  },
  {
   "cell_type": "code",
   "execution_count": 84,
   "id": "8cde49ac",
   "metadata": {},
   "outputs": [],
   "source": [
    "genres[\"TRACK_ID\"] = genres.TRACK.apply(lambda x: [i[\"@Key\"] for i in x])\n",
    "regions[\"TRACK_ID\"] = regions.TRACK.apply(lambda x: [i[\"@Key\"] for i in x])\n",
    "energies[\"TRACK_ID\"] = energies.TRACK.apply(lambda x: [i[\"@Key\"] for i in x])\n",
    "vibes[\"TRACK_ID\"] = vibes.TRACK.apply(lambda x: [i[\"@Key\"] for i in x])"
   ]
  },
  {
   "cell_type": "code",
   "execution_count": 85,
   "id": "b3c544a4",
   "metadata": {},
   "outputs": [],
   "source": [
    "genres = genres[[\"Name\", \"TRACK_ID\"]].set_index(\"Name\")\n",
    "regions = regions[[\"Name\", \"TRACK_ID\"]].set_index(\"Name\")\n",
    "energies = energies[[\"Name\", \"TRACK_ID\"]].set_index(\"Name\")\n",
    "vibes = vibes[[\"Name\", \"TRACK_ID\"]].set_index(\"Name\")"
   ]
  },
  {
   "cell_type": "code",
   "execution_count": 86,
   "id": "70d83ada",
   "metadata": {},
   "outputs": [],
   "source": [
    "genres = genres.TRACK_ID.explode().reset_index()\n",
    "regions = regions.TRACK_ID.explode().reset_index()\n",
    "energies = energies.TRACK_ID.explode().reset_index()\n",
    "vibes = vibes.TRACK_ID.explode().reset_index()"
   ]
  },
  {
   "cell_type": "code",
   "execution_count": 87,
   "id": "f9d77199",
   "metadata": {},
   "outputs": [],
   "source": [
    "genres = pd.merge(genres, joined_inner[[\"TrackID\", \"sid\"]] ,left_on=\"TRACK_ID\", right_on=\"TrackID\")\n",
    "regions = pd.merge(regions, joined_inner[[\"TrackID\", \"sid\"]] ,left_on=\"TRACK_ID\", right_on=\"TrackID\")\n",
    "energies = pd.merge(energies, joined_inner[[\"TrackID\", \"sid\"]] ,left_on=\"TRACK_ID\", right_on=\"TrackID\")\n",
    "vibes = pd.merge(vibes, joined_inner[[\"TrackID\", \"sid\"]] ,left_on=\"TRACK_ID\", right_on=\"TrackID\")"
   ]
  },
  {
   "cell_type": "code",
   "execution_count": null,
   "id": "25ac428d",
   "metadata": {},
   "outputs": [],
   "source": []
  }
 ],
 "metadata": {
  "kernelspec": {
   "display_name": "music",
   "language": "python",
   "name": "music"
  },
  "language_info": {
   "codemirror_mode": {
    "name": "ipython",
    "version": 3
   },
   "file_extension": ".py",
   "mimetype": "text/x-python",
   "name": "python",
   "nbconvert_exporter": "python",
   "pygments_lexer": "ipython3",
   "version": "3.7.13"
  }
 },
 "nbformat": 4,
 "nbformat_minor": 5
}
