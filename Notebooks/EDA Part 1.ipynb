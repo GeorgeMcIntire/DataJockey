{
 "cells": [
  {
   "cell_type": "markdown",
   "id": "841355a6",
   "metadata": {},
   "source": [
    "# Exploratory Data Analysis Pt 1\n",
    "\n",
    "## Music Extraction Features\n",
    "\n",
    "At this point I've completed constructing my db and now I want to get to know the data provided to me by Essentia and its models"
   ]
  },
  {
   "cell_type": "markdown",
   "id": "0016dcb7",
   "metadata": {},
   "source": [
    "In this first part of the EDA, I'm looking at the data produced by essentia's [Music Extractor tool](https://essentia.upf.edu/streaming_extractor_music.html)"
   ]
  },
  {
   "cell_type": "code",
   "execution_count": 12,
   "id": "97e15b95",
   "metadata": {},
   "outputs": [],
   "source": [
    "#Imports\n",
    "import os\n",
    "import sqlite3\n",
    "import json\n",
    "import pandas as pd\n",
    "import numpy as np\n",
    "import matplotlib.pyplot as plt\n",
    "import seaborn as sb\n",
    "from glob import glob\n",
    "from tqdm import tqdm\n",
    "import pathlib\n",
    "import librosa\n",
    "import taglib\n",
    "import warnings\n",
    "warnings.filterwarnings('ignore')\n",
    "plt.style.use(\"ggplot\")"
   ]
  },
  {
   "cell_type": "code",
   "execution_count": 2,
   "id": "2398c99f",
   "metadata": {},
   "outputs": [],
   "source": [
    "#Imports from project package called project_tools\n",
    "from project_tools.utils import adapt_array, convert_array, tag_cleaner, json_opener"
   ]
  },
  {
   "cell_type": "code",
   "execution_count": 3,
   "id": "de3a64cf",
   "metadata": {},
   "outputs": [],
   "source": [
    "#Register these functions with sqlite3 so that we I can work with \n",
    "sqlite3.register_adapter(np.ndarray, adapt_array)\n",
    "sqlite3.register_converter(\"array\", convert_array)"
   ]
  },
  {
   "cell_type": "code",
   "execution_count": 4,
   "id": "fc1caa61",
   "metadata": {},
   "outputs": [],
   "source": [
    "#Connect to db\n",
    "conn = sqlite3.connect(\"../jaage.db\", detect_types= sqlite3.PARSE_DECLTYPES)\n",
    "cur = conn.cursor()"
   ]
  },
  {
   "cell_type": "markdown",
   "id": "4d186b13",
   "metadata": {},
   "source": [
    "Here are the tables in my database"
   ]
  },
  {
   "cell_type": "code",
   "execution_count": 5,
   "id": "8a7fa2ec",
   "metadata": {},
   "outputs": [
    {
     "data": {
      "text/plain": [
       "[('effnet_embeddings',),\n",
       " ('tonal_features',),\n",
       " ('lowlevel_features',),\n",
       " ('rhythm_features',),\n",
       " ('approachability_2c_effnet_discogs_1_activations',),\n",
       " ('danceability_effnet_discogs_1_activations',),\n",
       " ('engagement_2c_effnet_discogs_1_activations',),\n",
       " ('genre_electronic_effnet_discogs_1_activations',),\n",
       " ('mood_acoustic_effnet_discogs_1_activations',),\n",
       " ('mood_aggressive_effnet_discogs_1_activations',),\n",
       " ('mood_happy_effnet_discogs_1_activations',),\n",
       " ('mood_party_effnet_discogs_1_activations',),\n",
       " ('mood_sad_effnet_discogs_1_activations',),\n",
       " ('mtg_jamendo_genre_effnet_discogs_1_activations',),\n",
       " ('mtg_jamendo_moodtheme_effnet_discogs_1_activations',),\n",
       " ('mtg_jamendo_top50tags_effnet_discogs_1_activations',),\n",
       " ('timbre_effnet_discogs_1_activations',),\n",
       " ('lowlevel_barkbands_mean_tbl',),\n",
       " ('lowlevel_barkbands_stdev_tbl',),\n",
       " ('lowlevel_erbbands_mean_tbl',),\n",
       " ('lowlevel_erbbands_stdev_tbl',),\n",
       " ('lowlevel_gfcc_mean_tbl',),\n",
       " ('lowlevel_melbands_mean_tbl',),\n",
       " ('lowlevel_melbands_stdev_tbl',),\n",
       " ('lowlevel_melbands128_mean_tbl',),\n",
       " ('lowlevel_melbands128_stdev_tbl',),\n",
       " ('lowlevel_mfcc_mean_tbl',),\n",
       " ('lowlevel_spectral_contrast_coeffs_mean_tbl',),\n",
       " ('lowlevel_spectral_contrast_coeffs_stdev_tbl',),\n",
       " ('lowlevel_spectral_contrast_valleys_mean_tbl',),\n",
       " ('lowlevel_spectral_contrast_valleys_stdev_tbl',),\n",
       " ('rhythm_beats_loudness_band_ratio_max_tbl',),\n",
       " ('rhythm_beats_loudness_band_ratio_mean_tbl',),\n",
       " ('rhythm_beats_loudness_band_ratio_median_tbl',),\n",
       " ('rhythm_beats_loudness_band_ratio_min_tbl',),\n",
       " ('rhythm_beats_loudness_band_ratio_stdev_tbl',),\n",
       " ('rhythm_bpm_histogram_tbl',),\n",
       " ('tonal_hpcp_mean_tbl',),\n",
       " ('tonal_hpcp_stdev_tbl',),\n",
       " ('tonal_chords_histogram_tbl',),\n",
       " ('tonal_thpcp_tbl',),\n",
       " ('tags',),\n",
       " ('effnet_genres',),\n",
       " ('files',)]"
      ]
     },
     "execution_count": 5,
     "metadata": {},
     "output_type": "execute_result"
    }
   ],
   "source": [
    "cur.execute(\"SELECT name FROM sqlite_master WHERE type='table';\")\n",
    "tables = cur.fetchall()\n",
    "tables"
   ]
  },
  {
   "cell_type": "markdown",
   "id": "eb0c1a58",
   "metadata": {},
   "source": [
    "The point of this notebook is essentially kick the tires on this dataset, basically audit what's available."
   ]
  },
  {
   "cell_type": "markdown",
   "id": "1bc67f0a",
   "metadata": {},
   "source": [
    "**Files**"
   ]
  },
  {
   "cell_type": "code",
   "execution_count": 6,
   "id": "35611723",
   "metadata": {},
   "outputs": [
    {
     "data": {
      "text/html": [
       "<div>\n",
       "<style scoped>\n",
       "    .dataframe tbody tr th:only-of-type {\n",
       "        vertical-align: middle;\n",
       "    }\n",
       "\n",
       "    .dataframe tbody tr th {\n",
       "        vertical-align: top;\n",
       "    }\n",
       "\n",
       "    .dataframe thead th {\n",
       "        text-align: right;\n",
       "    }\n",
       "</style>\n",
       "<table border=\"1\" class=\"dataframe\">\n",
       "  <thead>\n",
       "    <tr style=\"text-align: right;\">\n",
       "      <th></th>\n",
       "      <th>sid</th>\n",
       "      <th>file_path</th>\n",
       "    </tr>\n",
       "  </thead>\n",
       "  <tbody>\n",
       "    <tr>\n",
       "      <th>0</th>\n",
       "      <td>b806881a54bdbf9dd93a290716adf191</td>\n",
       "      <td>/Volumes/LaCie/Collection/04 House Of Love_PN.wav</td>\n",
       "    </tr>\n",
       "    <tr>\n",
       "      <th>1</th>\n",
       "      <td>46e54d2ab920a088b77382e04877141b</td>\n",
       "      <td>/Volumes/LaCie/Collection/Alex Virgo - Rough N...</td>\n",
       "    </tr>\n",
       "    <tr>\n",
       "      <th>2</th>\n",
       "      <td>a204ddef5763df6d8f7677701fe9d96f</td>\n",
       "      <td>/Volumes/LaCie/Collection/01 Protostar_PN.wav</td>\n",
       "    </tr>\n",
       "    <tr>\n",
       "      <th>3</th>\n",
       "      <td>960097894e83c5810a9c649f17a4e551</td>\n",
       "      <td>/Volumes/LaCie/Collection/Cristal - Drink My S...</td>\n",
       "    </tr>\n",
       "    <tr>\n",
       "      <th>4</th>\n",
       "      <td>a3c1f277aa0110ffc418bf5fa3aa16aa</td>\n",
       "      <td>/Volumes/LaCie/Collection/Maya - Lait De Coco ...</td>\n",
       "    </tr>\n",
       "  </tbody>\n",
       "</table>\n",
       "</div>"
      ],
      "text/plain": [
       "                                sid  \\\n",
       "0  b806881a54bdbf9dd93a290716adf191   \n",
       "1  46e54d2ab920a088b77382e04877141b   \n",
       "2  a204ddef5763df6d8f7677701fe9d96f   \n",
       "3  960097894e83c5810a9c649f17a4e551   \n",
       "4  a3c1f277aa0110ffc418bf5fa3aa16aa   \n",
       "\n",
       "                                           file_path  \n",
       "0  /Volumes/LaCie/Collection/04 House Of Love_PN.wav  \n",
       "1  /Volumes/LaCie/Collection/Alex Virgo - Rough N...  \n",
       "2      /Volumes/LaCie/Collection/01 Protostar_PN.wav  \n",
       "3  /Volumes/LaCie/Collection/Cristal - Drink My S...  \n",
       "4  /Volumes/LaCie/Collection/Maya - Lait De Coco ...  "
      ]
     },
     "execution_count": 6,
     "metadata": {},
     "output_type": "execute_result"
    }
   ],
   "source": [
    "files = pd.read_sql_query(\"SELECT * FROM files\", con = conn)\n",
    "files.head()"
   ]
  },
  {
   "cell_type": "markdown",
   "id": "a93697ee",
   "metadata": {},
   "source": [
    "This table links the file paths of my music collection with the unique IDs generated by essentia's music features extraction tool"
   ]
  },
  {
   "cell_type": "markdown",
   "id": "ff2fab56",
   "metadata": {},
   "source": [
    "`sid` short for song id is the name unique id column for every table"
   ]
  },
  {
   "cell_type": "markdown",
   "id": "ebcaaf29",
   "metadata": {},
   "source": [
    "### Music Extraction Features"
   ]
  },
  {
   "cell_type": "markdown",
   "id": "d62dfbe3",
   "metadata": {},
   "source": [
    "**Tags**"
   ]
  },
  {
   "cell_type": "code",
   "execution_count": 7,
   "id": "dae60e86",
   "metadata": {},
   "outputs": [
    {
     "data": {
      "text/html": [
       "<div>\n",
       "<style scoped>\n",
       "    .dataframe tbody tr th:only-of-type {\n",
       "        vertical-align: middle;\n",
       "    }\n",
       "\n",
       "    .dataframe tbody tr th {\n",
       "        vertical-align: top;\n",
       "    }\n",
       "\n",
       "    .dataframe thead th {\n",
       "        text-align: right;\n",
       "    }\n",
       "</style>\n",
       "<table border=\"1\" class=\"dataframe\">\n",
       "  <thead>\n",
       "    <tr style=\"text-align: right;\">\n",
       "      <th></th>\n",
       "      <th>length</th>\n",
       "      <th>gain</th>\n",
       "      <th>codec</th>\n",
       "      <th>file_name</th>\n",
       "      <th>bpm</th>\n",
       "      <th>initialkey</th>\n",
       "      <th>title</th>\n",
       "      <th>album</th>\n",
       "      <th>artist</th>\n",
       "      <th>date</th>\n",
       "      <th>genre</th>\n",
       "      <th>label</th>\n",
       "    </tr>\n",
       "    <tr>\n",
       "      <th>sid</th>\n",
       "      <th></th>\n",
       "      <th></th>\n",
       "      <th></th>\n",
       "      <th></th>\n",
       "      <th></th>\n",
       "      <th></th>\n",
       "      <th></th>\n",
       "      <th></th>\n",
       "      <th></th>\n",
       "      <th></th>\n",
       "      <th></th>\n",
       "      <th></th>\n",
       "    </tr>\n",
       "  </thead>\n",
       "  <tbody>\n",
       "    <tr>\n",
       "      <th>b806881a54bdbf9dd93a290716adf191</th>\n",
       "      <td>287.393372</td>\n",
       "      <td>-9.895140</td>\n",
       "      <td>pcm_s16le</td>\n",
       "      <td>04 House Of Love_PN.wav</td>\n",
       "      <td>119.0</td>\n",
       "      <td>6A</td>\n",
       "      <td>04 House Of Love_PN</td>\n",
       "      <td>None</td>\n",
       "      <td>None</td>\n",
       "      <td>None</td>\n",
       "      <td>None</td>\n",
       "      <td>None</td>\n",
       "    </tr>\n",
       "    <tr>\n",
       "      <th>46e54d2ab920a088b77382e04877141b</th>\n",
       "      <td>311.251892</td>\n",
       "      <td>-11.281836</td>\n",
       "      <td>pcm_s16le</td>\n",
       "      <td>Alex Virgo - Rough N' Ready Edits - 06 A.T.S -...</td>\n",
       "      <td>128.0</td>\n",
       "      <td>1A</td>\n",
       "      <td>A.T.S - Baa Daa Laa (Alex Virgo's Rough n Read...</td>\n",
       "      <td>Rough N' Ready Edits</td>\n",
       "      <td>Alex Virgo</td>\n",
       "      <td>2020</td>\n",
       "      <td>None</td>\n",
       "      <td>None</td>\n",
       "    </tr>\n",
       "    <tr>\n",
       "      <th>a204ddef5763df6d8f7677701fe9d96f</th>\n",
       "      <td>415.114746</td>\n",
       "      <td>-9.958479</td>\n",
       "      <td>pcm_s16le</td>\n",
       "      <td>01 Protostar_PN.wav</td>\n",
       "      <td>117.0</td>\n",
       "      <td>5A</td>\n",
       "      <td>Protostar</td>\n",
       "      <td>Planetary Groove</td>\n",
       "      <td>FROM BEYOND</td>\n",
       "      <td>2020</td>\n",
       "      <td>None</td>\n",
       "      <td>None</td>\n",
       "    </tr>\n",
       "    <tr>\n",
       "      <th>960097894e83c5810a9c649f17a4e551</th>\n",
       "      <td>321.108765</td>\n",
       "      <td>-12.223524</td>\n",
       "      <td>pcm_s16le</td>\n",
       "      <td>Cristal - Drink My Soul (Running Hot Edit)_PN.wav</td>\n",
       "      <td>0.0</td>\n",
       "      <td>None</td>\n",
       "      <td>None</td>\n",
       "      <td>None</td>\n",
       "      <td>None</td>\n",
       "      <td>None</td>\n",
       "      <td>None</td>\n",
       "      <td>None</td>\n",
       "    </tr>\n",
       "    <tr>\n",
       "      <th>a3c1f277aa0110ffc418bf5fa3aa16aa</th>\n",
       "      <td>378.276276</td>\n",
       "      <td>-12.410757</td>\n",
       "      <td>pcm_s16le</td>\n",
       "      <td>Maya - Lait De Coco ( Les Yeux Orange Edit)_PN...</td>\n",
       "      <td>109.0</td>\n",
       "      <td>6A</td>\n",
       "      <td>Maya - Lait De Coco ( Les Yeux Orange Edit)_PN</td>\n",
       "      <td>None</td>\n",
       "      <td>None</td>\n",
       "      <td>2016</td>\n",
       "      <td>None</td>\n",
       "      <td>None</td>\n",
       "    </tr>\n",
       "  </tbody>\n",
       "</table>\n",
       "</div>"
      ],
      "text/plain": [
       "                                      length       gain      codec  \\\n",
       "sid                                                                  \n",
       "b806881a54bdbf9dd93a290716adf191  287.393372  -9.895140  pcm_s16le   \n",
       "46e54d2ab920a088b77382e04877141b  311.251892 -11.281836  pcm_s16le   \n",
       "a204ddef5763df6d8f7677701fe9d96f  415.114746  -9.958479  pcm_s16le   \n",
       "960097894e83c5810a9c649f17a4e551  321.108765 -12.223524  pcm_s16le   \n",
       "a3c1f277aa0110ffc418bf5fa3aa16aa  378.276276 -12.410757  pcm_s16le   \n",
       "\n",
       "                                                                          file_name  \\\n",
       "sid                                                                                   \n",
       "b806881a54bdbf9dd93a290716adf191                            04 House Of Love_PN.wav   \n",
       "46e54d2ab920a088b77382e04877141b  Alex Virgo - Rough N' Ready Edits - 06 A.T.S -...   \n",
       "a204ddef5763df6d8f7677701fe9d96f                                01 Protostar_PN.wav   \n",
       "960097894e83c5810a9c649f17a4e551  Cristal - Drink My Soul (Running Hot Edit)_PN.wav   \n",
       "a3c1f277aa0110ffc418bf5fa3aa16aa  Maya - Lait De Coco ( Les Yeux Orange Edit)_PN...   \n",
       "\n",
       "                                    bpm initialkey  \\\n",
       "sid                                                  \n",
       "b806881a54bdbf9dd93a290716adf191  119.0         6A   \n",
       "46e54d2ab920a088b77382e04877141b  128.0         1A   \n",
       "a204ddef5763df6d8f7677701fe9d96f  117.0         5A   \n",
       "960097894e83c5810a9c649f17a4e551    0.0       None   \n",
       "a3c1f277aa0110ffc418bf5fa3aa16aa  109.0         6A   \n",
       "\n",
       "                                                                              title  \\\n",
       "sid                                                                                   \n",
       "b806881a54bdbf9dd93a290716adf191                                04 House Of Love_PN   \n",
       "46e54d2ab920a088b77382e04877141b  A.T.S - Baa Daa Laa (Alex Virgo's Rough n Read...   \n",
       "a204ddef5763df6d8f7677701fe9d96f                                          Protostar   \n",
       "960097894e83c5810a9c649f17a4e551                                               None   \n",
       "a3c1f277aa0110ffc418bf5fa3aa16aa     Maya - Lait De Coco ( Les Yeux Orange Edit)_PN   \n",
       "\n",
       "                                                 album       artist  date  \\\n",
       "sid                                                                         \n",
       "b806881a54bdbf9dd93a290716adf191                  None         None  None   \n",
       "46e54d2ab920a088b77382e04877141b  Rough N' Ready Edits   Alex Virgo  2020   \n",
       "a204ddef5763df6d8f7677701fe9d96f      Planetary Groove  FROM BEYOND  2020   \n",
       "960097894e83c5810a9c649f17a4e551                  None         None  None   \n",
       "a3c1f277aa0110ffc418bf5fa3aa16aa                  None         None  2016   \n",
       "\n",
       "                                 genre label  \n",
       "sid                                           \n",
       "b806881a54bdbf9dd93a290716adf191  None  None  \n",
       "46e54d2ab920a088b77382e04877141b  None  None  \n",
       "a204ddef5763df6d8f7677701fe9d96f  None  None  \n",
       "960097894e83c5810a9c649f17a4e551  None  None  \n",
       "a3c1f277aa0110ffc418bf5fa3aa16aa  None  None  "
      ]
     },
     "execution_count": 7,
     "metadata": {},
     "output_type": "execute_result"
    }
   ],
   "source": [
    "tags = pd.read_sql_query(\"SELECT * FROM tags\", con = conn).set_index(\"sid\")\n",
    "tags.head()"
   ]
  },
  {
   "cell_type": "code",
   "execution_count": 8,
   "id": "1a458365",
   "metadata": {},
   "outputs": [
    {
     "name": "stdout",
     "output_type": "stream",
     "text": [
      "<class 'pandas.core.frame.DataFrame'>\n",
      "Index: 3673 entries, b806881a54bdbf9dd93a290716adf191 to af51f580e59fa2d873d42e043e981ef0\n",
      "Data columns (total 12 columns):\n",
      " #   Column      Non-Null Count  Dtype  \n",
      "---  ------      --------------  -----  \n",
      " 0   length      3673 non-null   float64\n",
      " 1   gain        3673 non-null   float64\n",
      " 2   codec       3673 non-null   object \n",
      " 3   file_name   3673 non-null   object \n",
      " 4   bpm         3329 non-null   float64\n",
      " 5   initialkey  2790 non-null   object \n",
      " 6   title       3598 non-null   object \n",
      " 7   album       1567 non-null   object \n",
      " 8   artist      2679 non-null   object \n",
      " 9   date        1114 non-null   object \n",
      " 10  genre       330 non-null    object \n",
      " 11  label       187 non-null    object \n",
      "dtypes: float64(3), object(9)\n",
      "memory usage: 373.0+ KB\n"
     ]
    }
   ],
   "source": [
    "tags.info()"
   ]
  },
  {
   "cell_type": "markdown",
   "id": "bd2b1889",
   "metadata": {},
   "source": [
    "This table contains the metadata for the song collection such as important info like title, artist, bpm, and key\n",
    "\n",
    "This data was collected using the music features extraction tool, but not generated by it. The metadata is already attached to the song file."
   ]
  },
  {
   "cell_type": "markdown",
   "id": "5eddeef8",
   "metadata": {},
   "source": [
    "BPM Distribution"
   ]
  },
  {
   "cell_type": "code",
   "execution_count": 9,
   "id": "a1fabfae",
   "metadata": {},
   "outputs": [],
   "source": [
    "#Filter out 0 bpm\n",
    "bpm = tags.query(\"bpm > 0\").bpm"
   ]
  },
  {
   "cell_type": "code",
   "execution_count": 10,
   "id": "fa5e37d3",
   "metadata": {},
   "outputs": [
    {
     "data": {
      "text/plain": [
       "count    2747.000000\n",
       "mean      117.555165\n",
       "std         9.526149\n",
       "min        70.000000\n",
       "25%       114.000000\n",
       "50%       120.000000\n",
       "75%       124.000000\n",
       "max       165.000000\n",
       "Name: bpm, dtype: float64"
      ]
     },
     "execution_count": 10,
     "metadata": {},
     "output_type": "execute_result"
    }
   ],
   "source": [
    "bpm.describe()"
   ]
  },
  {
   "cell_type": "markdown",
   "id": "01654e65",
   "metadata": {},
   "source": [
    "This is pretty much to be expected for a DJ such as myself who plays house, funk, disco, and boogie"
   ]
  },
  {
   "cell_type": "markdown",
   "id": "47ee7fe8",
   "metadata": {},
   "source": [
    "Visualize distribution"
   ]
  },
  {
   "cell_type": "code",
   "execution_count": 15,
   "id": "7e19c58d",
   "metadata": {},
   "outputs": [
    {
     "data": {
      "image/png": "[encoded data removed]",
      "text/plain": [
       "<Figure size 648x360 with 1 Axes>"
      ]
     },
     "metadata": {
      "needs_background": "light"
     },
     "output_type": "display_data"
    }
   ],
   "source": [
    "bpm.hist(bins = 50, figsize=(9, 5),grid = False)\n",
    "plt.xlabel(\"BPM values\")\n",
    "plt.ylabel(\"Frequency\");"
   ]
  },
  {
   "cell_type": "markdown",
   "id": "3f0aaf46",
   "metadata": {},
   "source": [
    "Most common keys"
   ]
  },
  {
   "cell_type": "code",
   "execution_count": 16,
   "id": "b81d5827",
   "metadata": {},
   "outputs": [],
   "source": [
    "keys = tags.initialkey.dropna()"
   ]
  },
  {
   "cell_type": "code",
   "execution_count": 17,
   "id": "b6aa4fd5",
   "metadata": {},
   "outputs": [
    {
     "data": {
      "text/plain": [
       "9A     372\n",
       "8A     368\n",
       "5A     297\n",
       "4A     240\n",
       "7A     238\n",
       "6A     228\n",
       "1A     151\n",
       "2A     148\n",
       "10A    140\n",
       "11A    120\n",
       "12A    105\n",
       "3A      94\n",
       "12B     25\n",
       "8B      24\n",
       "Fm      20\n",
       "6B      20\n",
       "9B      16\n",
       "4B      16\n",
       "7B      16\n",
       "10B     14\n",
       "3B      12\n",
       "Em      12\n",
       "11B     11\n",
       "1B      11\n",
       "Ebm      9\n",
       "F#m      9\n",
       "5B       9\n",
       "Gm       8\n",
       "Am       8\n",
       "Bm       7\n",
       "G#m      7\n",
       "5b       7\n",
       "Dm       6\n",
       "Cm       6\n",
       "Bbm      4\n",
       "2B       4\n",
       "7m       3\n",
       "11m      1\n",
       "7d       1\n",
       "B        1\n",
       "5m       1\n",
       "C#m      1\n",
       "Name: initialkey, dtype: int64"
      ]
     },
     "execution_count": 17,
     "metadata": {},
     "output_type": "execute_result"
    }
   ],
   "source": [
    "keys.value_counts()"
   ]
  },
  {
   "cell_type": "markdown",
   "id": "2e0d5062",
   "metadata": {},
   "source": [
    "I use the camelot scale instead of the typical notation, which encodes song key and scale as numbers.\n",
    "\n",
    "![](https://c.neevacdn.net/image/fetch/s--HF6z9snx--/https%3A//pyramind.com/wp-content/uploads/2020/05/preview-lightbox-CamelotWheel-1.jpg?savepath=preview-lightbox-CamelotWheel-1.jpg)"
   ]
  },
  {
   "cell_type": "markdown",
   "id": "e03de908",
   "metadata": {},
   "source": [
    "### Tonal features"
   ]
  },
  {
   "cell_type": "code",
   "execution_count": 18,
   "id": "11ae2256",
   "metadata": {},
   "outputs": [
    {
     "data": {
      "text/html": [
       "<div>\n",
       "<style scoped>\n",
       "    .dataframe tbody tr th:only-of-type {\n",
       "        vertical-align: middle;\n",
       "    }\n",
       "\n",
       "    .dataframe tbody tr th {\n",
       "        vertical-align: top;\n",
       "    }\n",
       "\n",
       "    .dataframe thead th {\n",
       "        text-align: right;\n",
       "    }\n",
       "</style>\n",
       "<table border=\"1\" class=\"dataframe\">\n",
       "  <thead>\n",
       "    <tr style=\"text-align: right;\">\n",
       "      <th></th>\n",
       "      <th>tonal_chords_changes_rate</th>\n",
       "      <th>tonal_chords_number_rate</th>\n",
       "      <th>tonal_chords_strength_mean</th>\n",
       "      <th>tonal_chords_strength_stdev</th>\n",
       "      <th>tonal_hpcp_crest_mean</th>\n",
       "      <th>tonal_hpcp_crest_stdev</th>\n",
       "      <th>tonal_hpcp_entropy_mean</th>\n",
       "      <th>tonal_hpcp_entropy_stdev</th>\n",
       "      <th>tonal_key_edma_strength</th>\n",
       "      <th>tonal_key_edma_key</th>\n",
       "      <th>...</th>\n",
       "      <th>tonal_key_krumhansl_scale</th>\n",
       "      <th>tonal_key_temperley_strength</th>\n",
       "      <th>tonal_key_temperley_key</th>\n",
       "      <th>tonal_key_temperley_scale</th>\n",
       "      <th>tonal_tuning_diatonic_strength</th>\n",
       "      <th>tonal_tuning_equal_tempered_deviation</th>\n",
       "      <th>tonal_tuning_frequency</th>\n",
       "      <th>tonal_tuning_nontempered_energy_ratio</th>\n",
       "      <th>tonal_chords_key</th>\n",
       "      <th>tonal_chords_scale</th>\n",
       "    </tr>\n",
       "    <tr>\n",
       "      <th>sid</th>\n",
       "      <th></th>\n",
       "      <th></th>\n",
       "      <th></th>\n",
       "      <th></th>\n",
       "      <th></th>\n",
       "      <th></th>\n",
       "      <th></th>\n",
       "      <th></th>\n",
       "      <th></th>\n",
       "      <th></th>\n",
       "      <th></th>\n",
       "      <th></th>\n",
       "      <th></th>\n",
       "      <th></th>\n",
       "      <th></th>\n",
       "      <th></th>\n",
       "      <th></th>\n",
       "      <th></th>\n",
       "      <th></th>\n",
       "      <th></th>\n",
       "      <th></th>\n",
       "    </tr>\n",
       "  </thead>\n",
       "  <tbody>\n",
       "    <tr>\n",
       "      <th>b806881a54bdbf9dd93a290716adf191</th>\n",
       "      <td>0.125525</td>\n",
       "      <td>0.001616</td>\n",
       "      <td>0.470475</td>\n",
       "      <td>0.069027</td>\n",
       "      <td>12.581001</td>\n",
       "      <td>5.755760</td>\n",
       "      <td>2.164732</td>\n",
       "      <td>0.779386</td>\n",
       "      <td>0.502125</td>\n",
       "      <td>C</td>\n",
       "      <td>...</td>\n",
       "      <td>major</td>\n",
       "      <td>0.520859</td>\n",
       "      <td>C</td>\n",
       "      <td>major</td>\n",
       "      <td>0.587632</td>\n",
       "      <td>0.150275</td>\n",
       "      <td>434.193115</td>\n",
       "      <td>0.881876</td>\n",
       "      <td>G</td>\n",
       "      <td>minor</td>\n",
       "    </tr>\n",
       "    <tr>\n",
       "      <th>46e54d2ab920a088b77382e04877141b</th>\n",
       "      <td>0.104863</td>\n",
       "      <td>0.002387</td>\n",
       "      <td>0.524884</td>\n",
       "      <td>0.118924</td>\n",
       "      <td>11.273207</td>\n",
       "      <td>5.629401</td>\n",
       "      <td>2.379997</td>\n",
       "      <td>0.772079</td>\n",
       "      <td>0.408560</td>\n",
       "      <td>D</td>\n",
       "      <td>...</td>\n",
       "      <td>major</td>\n",
       "      <td>0.424187</td>\n",
       "      <td>A</td>\n",
       "      <td>major</td>\n",
       "      <td>0.291458</td>\n",
       "      <td>0.197115</td>\n",
       "      <td>438.224518</td>\n",
       "      <td>0.868446</td>\n",
       "      <td>B</td>\n",
       "      <td>major</td>\n",
       "    </tr>\n",
       "    <tr>\n",
       "      <th>a204ddef5763df6d8f7677701fe9d96f</th>\n",
       "      <td>0.122595</td>\n",
       "      <td>0.001230</td>\n",
       "      <td>0.406664</td>\n",
       "      <td>0.095949</td>\n",
       "      <td>11.530407</td>\n",
       "      <td>7.164842</td>\n",
       "      <td>2.532152</td>\n",
       "      <td>0.983758</td>\n",
       "      <td>0.766319</td>\n",
       "      <td>E</td>\n",
       "      <td>...</td>\n",
       "      <td>major</td>\n",
       "      <td>0.760266</td>\n",
       "      <td>E</td>\n",
       "      <td>major</td>\n",
       "      <td>0.644248</td>\n",
       "      <td>0.140634</td>\n",
       "      <td>434.193115</td>\n",
       "      <td>0.818142</td>\n",
       "      <td>C</td>\n",
       "      <td>major</td>\n",
       "    </tr>\n",
       "    <tr>\n",
       "      <th>960097894e83c5810a9c649f17a4e551</th>\n",
       "      <td>0.043667</td>\n",
       "      <td>0.000868</td>\n",
       "      <td>0.559635</td>\n",
       "      <td>0.097361</td>\n",
       "      <td>12.221793</td>\n",
       "      <td>5.350279</td>\n",
       "      <td>2.142329</td>\n",
       "      <td>0.678882</td>\n",
       "      <td>0.653490</td>\n",
       "      <td>F</td>\n",
       "      <td>...</td>\n",
       "      <td>major</td>\n",
       "      <td>0.620772</td>\n",
       "      <td>F</td>\n",
       "      <td>major</td>\n",
       "      <td>0.530602</td>\n",
       "      <td>0.181902</td>\n",
       "      <td>434.193115</td>\n",
       "      <td>0.900062</td>\n",
       "      <td>C</td>\n",
       "      <td>minor</td>\n",
       "    </tr>\n",
       "    <tr>\n",
       "      <th>a3c1f277aa0110ffc418bf5fa3aa16aa</th>\n",
       "      <td>0.050448</td>\n",
       "      <td>0.001227</td>\n",
       "      <td>0.525044</td>\n",
       "      <td>0.089814</td>\n",
       "      <td>13.811895</td>\n",
       "      <td>5.832396</td>\n",
       "      <td>1.891747</td>\n",
       "      <td>0.636924</td>\n",
       "      <td>0.613022</td>\n",
       "      <td>G</td>\n",
       "      <td>...</td>\n",
       "      <td>minor</td>\n",
       "      <td>0.643362</td>\n",
       "      <td>G</td>\n",
       "      <td>minor</td>\n",
       "      <td>0.551057</td>\n",
       "      <td>0.006728</td>\n",
       "      <td>440.000000</td>\n",
       "      <td>0.687000</td>\n",
       "      <td>G</td>\n",
       "      <td>minor</td>\n",
       "    </tr>\n",
       "  </tbody>\n",
       "</table>\n",
       "<p>5 rows × 23 columns</p>\n",
       "</div>"
      ],
      "text/plain": [
       "                                  tonal_chords_changes_rate  \\\n",
       "sid                                                           \n",
       "b806881a54bdbf9dd93a290716adf191                   0.125525   \n",
       "46e54d2ab920a088b77382e04877141b                   0.104863   \n",
       "a204ddef5763df6d8f7677701fe9d96f                   0.122595   \n",
       "960097894e83c5810a9c649f17a4e551                   0.043667   \n",
       "a3c1f277aa0110ffc418bf5fa3aa16aa                   0.050448   \n",
       "\n",
       "                                  tonal_chords_number_rate  \\\n",
       "sid                                                          \n",
       "b806881a54bdbf9dd93a290716adf191                  0.001616   \n",
       "46e54d2ab920a088b77382e04877141b                  0.002387   \n",
       "a204ddef5763df6d8f7677701fe9d96f                  0.001230   \n",
       "960097894e83c5810a9c649f17a4e551                  0.000868   \n",
       "a3c1f277aa0110ffc418bf5fa3aa16aa                  0.001227   \n",
       "\n",
       "                                  tonal_chords_strength_mean  \\\n",
       "sid                                                            \n",
       "b806881a54bdbf9dd93a290716adf191                    0.470475   \n",
       "46e54d2ab920a088b77382e04877141b                    0.524884   \n",
       "a204ddef5763df6d8f7677701fe9d96f                    0.406664   \n",
       "960097894e83c5810a9c649f17a4e551                    0.559635   \n",
       "a3c1f277aa0110ffc418bf5fa3aa16aa                    0.525044   \n",
       "\n",
       "                                  tonal_chords_strength_stdev  \\\n",
       "sid                                                             \n",
       "b806881a54bdbf9dd93a290716adf191                     0.069027   \n",
       "46e54d2ab920a088b77382e04877141b                     0.118924   \n",
       "a204ddef5763df6d8f7677701fe9d96f                     0.095949   \n",
       "960097894e83c5810a9c649f17a4e551                     0.097361   \n",
       "a3c1f277aa0110ffc418bf5fa3aa16aa                     0.089814   \n",
       "\n",
       "                                  tonal_hpcp_crest_mean  \\\n",
       "sid                                                       \n",
       "b806881a54bdbf9dd93a290716adf191              12.581001   \n",
       "46e54d2ab920a088b77382e04877141b              11.273207   \n",
       "a204ddef5763df6d8f7677701fe9d96f              11.530407   \n",
       "960097894e83c5810a9c649f17a4e551              12.221793   \n",
       "a3c1f277aa0110ffc418bf5fa3aa16aa              13.811895   \n",
       "\n",
       "                                  tonal_hpcp_crest_stdev  \\\n",
       "sid                                                        \n",
       "b806881a54bdbf9dd93a290716adf191                5.755760   \n",
       "46e54d2ab920a088b77382e04877141b                5.629401   \n",
       "a204ddef5763df6d8f7677701fe9d96f                7.164842   \n",
       "960097894e83c5810a9c649f17a4e551                5.350279   \n",
       "a3c1f277aa0110ffc418bf5fa3aa16aa                5.832396   \n",
       "\n",
       "                                  tonal_hpcp_entropy_mean  \\\n",
       "sid                                                         \n",
       "b806881a54bdbf9dd93a290716adf191                 2.164732   \n",
       "46e54d2ab920a088b77382e04877141b                 2.379997   \n",
       "a204ddef5763df6d8f7677701fe9d96f                 2.532152   \n",
       "960097894e83c5810a9c649f17a4e551                 2.142329   \n",
       "a3c1f277aa0110ffc418bf5fa3aa16aa                 1.891747   \n",
       "\n",
       "                                  tonal_hpcp_entropy_stdev  \\\n",
       "sid                                                          \n",
       "b806881a54bdbf9dd93a290716adf191                  0.779386   \n",
       "46e54d2ab920a088b77382e04877141b                  0.772079   \n",
       "a204ddef5763df6d8f7677701fe9d96f                  0.983758   \n",
       "960097894e83c5810a9c649f17a4e551                  0.678882   \n",
       "a3c1f277aa0110ffc418bf5fa3aa16aa                  0.636924   \n",
       "\n",
       "                                  tonal_key_edma_strength tonal_key_edma_key  \\\n",
       "sid                                                                            \n",
       "b806881a54bdbf9dd93a290716adf191                 0.502125                  C   \n",
       "46e54d2ab920a088b77382e04877141b                 0.408560                  D   \n",
       "a204ddef5763df6d8f7677701fe9d96f                 0.766319                  E   \n",
       "960097894e83c5810a9c649f17a4e551                 0.653490                  F   \n",
       "a3c1f277aa0110ffc418bf5fa3aa16aa                 0.613022                  G   \n",
       "\n",
       "                                  ... tonal_key_krumhansl_scale  \\\n",
       "sid                               ...                             \n",
       "b806881a54bdbf9dd93a290716adf191  ...                     major   \n",
       "46e54d2ab920a088b77382e04877141b  ...                     major   \n",
       "a204ddef5763df6d8f7677701fe9d96f  ...                     major   \n",
       "960097894e83c5810a9c649f17a4e551  ...                     major   \n",
       "a3c1f277aa0110ffc418bf5fa3aa16aa  ...                     minor   \n",
       "\n",
       "                                  tonal_key_temperley_strength  \\\n",
       "sid                                                              \n",
       "b806881a54bdbf9dd93a290716adf191                      0.520859   \n",
       "46e54d2ab920a088b77382e04877141b                      0.424187   \n",
       "a204ddef5763df6d8f7677701fe9d96f                      0.760266   \n",
       "960097894e83c5810a9c649f17a4e551                      0.620772   \n",
       "a3c1f277aa0110ffc418bf5fa3aa16aa                      0.643362   \n",
       "\n",
       "                                 tonal_key_temperley_key  \\\n",
       "sid                                                        \n",
       "b806881a54bdbf9dd93a290716adf191                       C   \n",
       "46e54d2ab920a088b77382e04877141b                       A   \n",
       "a204ddef5763df6d8f7677701fe9d96f                       E   \n",
       "960097894e83c5810a9c649f17a4e551                       F   \n",
       "a3c1f277aa0110ffc418bf5fa3aa16aa                       G   \n",
       "\n",
       "                                 tonal_key_temperley_scale  \\\n",
       "sid                                                          \n",
       "b806881a54bdbf9dd93a290716adf191                     major   \n",
       "46e54d2ab920a088b77382e04877141b                     major   \n",
       "a204ddef5763df6d8f7677701fe9d96f                     major   \n",
       "960097894e83c5810a9c649f17a4e551                     major   \n",
       "a3c1f277aa0110ffc418bf5fa3aa16aa                     minor   \n",
       "\n",
       "                                  tonal_tuning_diatonic_strength  \\\n",
       "sid                                                                \n",
       "b806881a54bdbf9dd93a290716adf191                        0.587632   \n",
       "46e54d2ab920a088b77382e04877141b                        0.291458   \n",
       "a204ddef5763df6d8f7677701fe9d96f                        0.644248   \n",
       "960097894e83c5810a9c649f17a4e551                        0.530602   \n",
       "a3c1f277aa0110ffc418bf5fa3aa16aa                        0.551057   \n",
       "\n",
       "                                 tonal_tuning_equal_tempered_deviation  \\\n",
       "sid                                                                      \n",
       "b806881a54bdbf9dd93a290716adf191                              0.150275   \n",
       "46e54d2ab920a088b77382e04877141b                              0.197115   \n",
       "a204ddef5763df6d8f7677701fe9d96f                              0.140634   \n",
       "960097894e83c5810a9c649f17a4e551                              0.181902   \n",
       "a3c1f277aa0110ffc418bf5fa3aa16aa                              0.006728   \n",
       "\n",
       "                                 tonal_tuning_frequency  \\\n",
       "sid                                                       \n",
       "b806881a54bdbf9dd93a290716adf191             434.193115   \n",
       "46e54d2ab920a088b77382e04877141b             438.224518   \n",
       "a204ddef5763df6d8f7677701fe9d96f             434.193115   \n",
       "960097894e83c5810a9c649f17a4e551             434.193115   \n",
       "a3c1f277aa0110ffc418bf5fa3aa16aa             440.000000   \n",
       "\n",
       "                                  tonal_tuning_nontempered_energy_ratio  \\\n",
       "sid                                                                       \n",
       "b806881a54bdbf9dd93a290716adf191                               0.881876   \n",
       "46e54d2ab920a088b77382e04877141b                               0.868446   \n",
       "a204ddef5763df6d8f7677701fe9d96f                               0.818142   \n",
       "960097894e83c5810a9c649f17a4e551                               0.900062   \n",
       "a3c1f277aa0110ffc418bf5fa3aa16aa                               0.687000   \n",
       "\n",
       "                                  tonal_chords_key  tonal_chords_scale  \n",
       "sid                                                                     \n",
       "b806881a54bdbf9dd93a290716adf191                 G               minor  \n",
       "46e54d2ab920a088b77382e04877141b                 B               major  \n",
       "a204ddef5763df6d8f7677701fe9d96f                 C               major  \n",
       "960097894e83c5810a9c649f17a4e551                 C               minor  \n",
       "a3c1f277aa0110ffc418bf5fa3aa16aa                 G               minor  \n",
       "\n",
       "[5 rows x 23 columns]"
      ]
     },
     "execution_count": 18,
     "metadata": {},
     "output_type": "execute_result"
    }
   ],
   "source": [
    "tonal = pd.read_sql_query(\"SELECT * FROM tonal_features\", index_col=['sid'], con = conn)\n",
    "tonal.head()"
   ]
  },
  {
   "cell_type": "code",
   "execution_count": 19,
   "id": "28e0051d",
   "metadata": {},
   "outputs": [
    {
     "name": "stdout",
     "output_type": "stream",
     "text": [
      "<class 'pandas.core.frame.DataFrame'>\n",
      "Index: 3673 entries, b806881a54bdbf9dd93a290716adf191 to af51f580e59fa2d873d42e043e981ef0\n",
      "Data columns (total 23 columns):\n",
      " #   Column                                 Non-Null Count  Dtype  \n",
      "---  ------                                 --------------  -----  \n",
      " 0   tonal_chords_changes_rate              3673 non-null   float64\n",
      " 1   tonal_chords_number_rate               3673 non-null   float64\n",
      " 2   tonal_chords_strength_mean             3673 non-null   float64\n",
      " 3   tonal_chords_strength_stdev            3673 non-null   float64\n",
      " 4   tonal_hpcp_crest_mean                  3673 non-null   float64\n",
      " 5   tonal_hpcp_crest_stdev                 3673 non-null   float64\n",
      " 6   tonal_hpcp_entropy_mean                3673 non-null   float64\n",
      " 7   tonal_hpcp_entropy_stdev               3673 non-null   float64\n",
      " 8   tonal_key_edma_strength                3673 non-null   float64\n",
      " 9   tonal_key_edma_key                     3673 non-null   object \n",
      " 10  tonal_key_edma_scale                   3673 non-null   object \n",
      " 11  tonal_key_krumhansl_strength           3673 non-null   float64\n",
      " 12  tonal_key_krumhansl_key                3673 non-null   object \n",
      " 13  tonal_key_krumhansl_scale              3673 non-null   object \n",
      " 14  tonal_key_temperley_strength           3673 non-null   float64\n",
      " 15  tonal_key_temperley_key                3673 non-null   object \n",
      " 16  tonal_key_temperley_scale              3673 non-null   object \n",
      " 17  tonal_tuning_diatonic_strength         3673 non-null   float64\n",
      " 18  tonal_tuning_equal_tempered_deviation  3673 non-null   float64\n",
      " 19  tonal_tuning_frequency                 3673 non-null   float64\n",
      " 20  tonal_tuning_nontempered_energy_ratio  3673 non-null   float64\n",
      " 21  tonal_chords_key                       3673 non-null   object \n",
      " 22  tonal_chords_scale                     3673 non-null   object \n",
      "dtypes: float64(15), object(8)\n",
      "memory usage: 688.7+ KB\n"
     ]
    }
   ],
   "source": [
    "tonal.info()"
   ]
  },
  {
   "cell_type": "markdown",
   "id": "12581702",
   "metadata": {},
   "source": [
    "This description explains some of the features shown above:\n",
    "\n",
    "**tuning_frequency**: estimated tuning frequency Hz\n",
    "\n",
    "**hpcp**: 32-dimensional harmonic pitch class profile (HPCP) \n",
    "\n",
    "**hpcp_entropy**: Shannon entropy of a HPCP vector\n",
    "\n",
    "**hpcp_crest**: crest of the HPCP vector.\n",
    "\n",
    "**key_temperley, key_krumhansl, key_edma**; key estimation, its scale and strength using three different HPCP key profiles\n",
    "\n",
    "**tuning_diatonic_strength**: key strength estimated from high-resolution HPCP (120 dimensions) using diatonic profile. "
   ]
  },
  {
   "cell_type": "markdown",
   "id": "71c2f05a",
   "metadata": {},
   "source": [
    "At this point in my project, I'm not too familiar with this data nor do I have any immediate need to use. However I do believe that some time in the future it could yield benefits.\n",
    "\n",
    "For now I am interested in key and scale features as potential alternatives to the metadata key and scale."
   ]
  },
  {
   "cell_type": "code",
   "execution_count": 20,
   "id": "fec594ec",
   "metadata": {},
   "outputs": [
    {
     "data": {
      "text/plain": [
       "sid\n",
       "b806881a54bdbf9dd93a290716adf191    G\n",
       "46e54d2ab920a088b77382e04877141b    B\n",
       "a204ddef5763df6d8f7677701fe9d96f    C\n",
       "960097894e83c5810a9c649f17a4e551    C\n",
       "a3c1f277aa0110ffc418bf5fa3aa16aa    G\n",
       "                                   ..\n",
       "99947a8643fe30508a39f09e795987a4    D\n",
       "e337099495c45df59ceeae9a7cc49898    G\n",
       "ff6e2972649b5e1cc81d165eee63aa49    E\n",
       "485262d4b786d50bd1a8866457141455    B\n",
       "af51f580e59fa2d873d42e043e981ef0    B\n",
       "Name: tonal_chords_key, Length: 3673, dtype: object"
      ]
     },
     "execution_count": 20,
     "metadata": {},
     "output_type": "execute_result"
    }
   ],
   "source": [
    "tonal.tonal_chords_key"
   ]
  },
  {
   "cell_type": "code",
   "execution_count": 21,
   "id": "2889b900",
   "metadata": {},
   "outputs": [
    {
     "data": {
      "text/plain": [
       "sid\n",
       "b806881a54bdbf9dd93a290716adf191    minor\n",
       "46e54d2ab920a088b77382e04877141b    major\n",
       "a204ddef5763df6d8f7677701fe9d96f    major\n",
       "960097894e83c5810a9c649f17a4e551    minor\n",
       "a3c1f277aa0110ffc418bf5fa3aa16aa    minor\n",
       "                                    ...  \n",
       "99947a8643fe30508a39f09e795987a4    minor\n",
       "e337099495c45df59ceeae9a7cc49898    major\n",
       "ff6e2972649b5e1cc81d165eee63aa49    major\n",
       "485262d4b786d50bd1a8866457141455    minor\n",
       "af51f580e59fa2d873d42e043e981ef0    minor\n",
       "Name: tonal_chords_scale, Length: 3673, dtype: object"
      ]
     },
     "execution_count": 21,
     "metadata": {},
     "output_type": "execute_result"
    }
   ],
   "source": [
    "tonal.tonal_chords_scale"
   ]
  },
  {
   "cell_type": "markdown",
   "id": "da871cd0",
   "metadata": {},
   "source": [
    "Let's convert these to camelot scale"
   ]
  },
  {
   "cell_type": "code",
   "execution_count": 22,
   "id": "242efb83",
   "metadata": {},
   "outputs": [],
   "source": [
    "key_dict = json_opener(\"../tonal_keys_dict.json\")\n",
    "keys = tonal.tonal_chords_key + tonal.tonal_chords_scale\n",
    "keys = keys.map(key_dict)\n",
    "tonal[\"camelot_scale_keys\"] = keys"
   ]
  }
 ],
 "metadata": {
  "kernelspec": {
   "display_name": "music",
   "language": "python",
   "name": "music"
  },
  "language_info": {
   "codemirror_mode": {
    "name": "ipython",
    "version": 3
   },
   "file_extension": ".py",
   "mimetype": "text/x-python",
   "name": "python",
   "nbconvert_exporter": "python",
   "pygments_lexer": "ipython3",
   "version": "3.7.13"
  }
 },
 "nbformat": 4,
 "nbformat_minor": 5
}
